{
  "cells": [
    {
      "cell_type": "markdown",
      "metadata": {
        "id": "view-in-github",
        "colab_type": "text"
      },
      "source": [
        "<a href=\"https://colab.research.google.com/github/MarcosVCS/Projeto-Final---Engenharia-de-Dados---SoulCode/blob/main/COEXP_pyspark.ipynb\" target=\"_parent\"><img src=\"https://colab.research.google.com/assets/colab-badge.svg\" alt=\"Open In Colab\"/></a>"
      ]
    },
    {
      "cell_type": "markdown",
      "metadata": {
        "id": "aBCDkQYXfeqm"
      },
      "source": [
        "#1 - instalar e importar"
      ]
    },
    {
      "cell_type": "code",
      "execution_count": null,
      "metadata": {
        "id": "DCbwlrbXxJcG"
      },
      "outputs": [],
      "source": [
        "import pandas as pd"
      ]
    },
    {
      "cell_type": "code",
      "execution_count": null,
      "metadata": {
        "id": "ocq3EGIj4OSw"
      },
      "outputs": [],
      "source": [
        "#Configurações de numero maximo de colunas em exibição\n",
        "pd.set_option('display.max_columns',30)"
      ]
    },
    {
      "cell_type": "code",
      "execution_count": null,
      "metadata": {
        "id": "52_vLcDnRy3N"
      },
      "outputs": [],
      "source": [
        "import numpy as np"
      ]
    },
    {
      "cell_type": "markdown",
      "metadata": {
        "id": "Y1votBGPRvfu"
      },
      "source": [
        "google"
      ]
    },
    {
      "cell_type": "code",
      "execution_count": null,
      "metadata": {
        "id": "kPuP-qIcGxM_",
        "colab": {
          "base_uri": "https://localhost:8080/"
        },
        "outputId": "aff5ce6b-0946-47f3-90d8-cac6216e7d10"
      },
      "outputs": [
        {
          "output_type": "stream",
          "name": "stdout",
          "text": [
            "Looking in indexes: https://pypi.org/simple, https://us-python.pkg.dev/colab-wheels/public/simple/\n",
            "Collecting gcsfs\n",
            "  Downloading gcsfs-2022.11.0-py2.py3-none-any.whl (26 kB)\n",
            "Requirement already satisfied: google-cloud-storage in /usr/local/lib/python3.8/dist-packages (from gcsfs) (2.7.0)\n",
            "Requirement already satisfied: fsspec==2022.11.0 in /usr/local/lib/python3.8/dist-packages (from gcsfs) (2022.11.0)\n",
            "Requirement already satisfied: requests in /usr/local/lib/python3.8/dist-packages (from gcsfs) (2.25.1)\n",
            "Requirement already satisfied: google-auth>=1.2 in /usr/local/lib/python3.8/dist-packages (from gcsfs) (2.15.0)\n",
            "Requirement already satisfied: aiohttp!=4.0.0a0,!=4.0.0a1 in /usr/local/lib/python3.8/dist-packages (from gcsfs) (3.8.3)\n",
            "Requirement already satisfied: google-auth-oauthlib in /usr/local/lib/python3.8/dist-packages (from gcsfs) (0.4.6)\n",
            "Requirement already satisfied: decorator>4.1.2 in /usr/local/lib/python3.8/dist-packages (from gcsfs) (4.4.2)\n",
            "Requirement already satisfied: charset-normalizer<3.0,>=2.0 in /usr/local/lib/python3.8/dist-packages (from aiohttp!=4.0.0a0,!=4.0.0a1->gcsfs) (2.1.1)\n",
            "Requirement already satisfied: attrs>=17.3.0 in /usr/local/lib/python3.8/dist-packages (from aiohttp!=4.0.0a0,!=4.0.0a1->gcsfs) (22.2.0)\n",
            "Requirement already satisfied: aiosignal>=1.1.2 in /usr/local/lib/python3.8/dist-packages (from aiohttp!=4.0.0a0,!=4.0.0a1->gcsfs) (1.3.1)\n",
            "Requirement already satisfied: yarl<2.0,>=1.0 in /usr/local/lib/python3.8/dist-packages (from aiohttp!=4.0.0a0,!=4.0.0a1->gcsfs) (1.8.2)\n",
            "Requirement already satisfied: async-timeout<5.0,>=4.0.0a3 in /usr/local/lib/python3.8/dist-packages (from aiohttp!=4.0.0a0,!=4.0.0a1->gcsfs) (4.0.2)\n",
            "Requirement already satisfied: frozenlist>=1.1.1 in /usr/local/lib/python3.8/dist-packages (from aiohttp!=4.0.0a0,!=4.0.0a1->gcsfs) (1.3.3)\n",
            "Requirement already satisfied: multidict<7.0,>=4.5 in /usr/local/lib/python3.8/dist-packages (from aiohttp!=4.0.0a0,!=4.0.0a1->gcsfs) (6.0.4)\n",
            "Requirement already satisfied: cachetools<6.0,>=2.0.0 in /usr/local/lib/python3.8/dist-packages (from google-auth>=1.2->gcsfs) (5.2.0)\n",
            "Requirement already satisfied: pyasn1-modules>=0.2.1 in /usr/local/lib/python3.8/dist-packages (from google-auth>=1.2->gcsfs) (0.2.8)\n",
            "Requirement already satisfied: rsa<5,>=3.1.4 in /usr/local/lib/python3.8/dist-packages (from google-auth>=1.2->gcsfs) (4.9)\n",
            "Requirement already satisfied: six>=1.9.0 in /usr/local/lib/python3.8/dist-packages (from google-auth>=1.2->gcsfs) (1.15.0)\n",
            "Requirement already satisfied: requests-oauthlib>=0.7.0 in /usr/local/lib/python3.8/dist-packages (from google-auth-oauthlib->gcsfs) (1.3.1)\n",
            "Requirement already satisfied: google-resumable-media>=2.3.2 in /usr/local/lib/python3.8/dist-packages (from google-cloud-storage->gcsfs) (2.4.0)\n",
            "Requirement already satisfied: google-api-core!=2.0.*,!=2.1.*,!=2.2.*,!=2.3.0,<3.0.0dev,>=1.31.5 in /usr/local/lib/python3.8/dist-packages (from google-cloud-storage->gcsfs) (2.11.0)\n",
            "Requirement already satisfied: google-cloud-core<3.0dev,>=2.3.0 in /usr/local/lib/python3.8/dist-packages (from google-cloud-storage->gcsfs) (2.3.2)\n",
            "Requirement already satisfied: chardet<5,>=3.0.2 in /usr/local/lib/python3.8/dist-packages (from requests->gcsfs) (4.0.0)\n",
            "Requirement already satisfied: idna<3,>=2.5 in /usr/local/lib/python3.8/dist-packages (from requests->gcsfs) (2.10)\n",
            "Requirement already satisfied: urllib3<1.27,>=1.21.1 in /usr/local/lib/python3.8/dist-packages (from requests->gcsfs) (1.24.3)\n",
            "Requirement already satisfied: certifi>=2017.4.17 in /usr/local/lib/python3.8/dist-packages (from requests->gcsfs) (2022.12.7)\n",
            "Requirement already satisfied: protobuf!=3.20.0,!=3.20.1,!=4.21.0,!=4.21.1,!=4.21.2,!=4.21.3,!=4.21.4,!=4.21.5,<5.0.0dev,>=3.19.5 in /usr/local/lib/python3.8/dist-packages (from google-api-core!=2.0.*,!=2.1.*,!=2.2.*,!=2.3.0,<3.0.0dev,>=1.31.5->google-cloud-storage->gcsfs) (3.19.6)\n",
            "Requirement already satisfied: googleapis-common-protos<2.0dev,>=1.56.2 in /usr/local/lib/python3.8/dist-packages (from google-api-core!=2.0.*,!=2.1.*,!=2.2.*,!=2.3.0,<3.0.0dev,>=1.31.5->google-cloud-storage->gcsfs) (1.57.1)\n",
            "Requirement already satisfied: google-crc32c<2.0dev,>=1.0 in /usr/local/lib/python3.8/dist-packages (from google-resumable-media>=2.3.2->google-cloud-storage->gcsfs) (1.5.0)\n",
            "Requirement already satisfied: pyasn1<0.5.0,>=0.4.6 in /usr/local/lib/python3.8/dist-packages (from pyasn1-modules>=0.2.1->google-auth>=1.2->gcsfs) (0.4.8)\n",
            "Requirement already satisfied: oauthlib>=3.0.0 in /usr/local/lib/python3.8/dist-packages (from requests-oauthlib>=0.7.0->google-auth-oauthlib->gcsfs) (3.2.2)\n",
            "Installing collected packages: gcsfs\n",
            "Successfully installed gcsfs-2022.11.0\n"
          ]
        }
      ],
      "source": [
        "#instalar o gc file system\n",
        "!pip install gcsfs"
      ]
    },
    {
      "cell_type": "code",
      "source": [
        "#importar o cloud storage\n",
        "from google.cloud import storage\n",
        "import os"
      ],
      "metadata": {
        "id": "GYAWJNgt0w3U"
      },
      "execution_count": null,
      "outputs": []
    },
    {
      "cell_type": "code",
      "execution_count": null,
      "metadata": {
        "id": "6PTE5lb81Swm"
      },
      "outputs": [],
      "source": [
        "# FAZER O ACESSO A BUCKET\n",
        "serviceAccount = '/content/chave_bucket_JSON.json' # Chave de acesso à Bucket no Cloud Storage\n",
        "os.environ['GOOGLE_APPLICATION_CREDENTIALS'] = serviceAccount\n",
        "\n",
        "client = storage.Client()             \n",
        "\n",
        "# indicar a bucket\n",
        "bucket = client.get_bucket('bc26-datasets-comex')"
      ]
    },
    {
      "cell_type": "code",
      "execution_count": null,
      "metadata": {
        "id": "mIgEHWtKlTKc"
      },
      "outputs": [],
      "source": [
        "# # Para acessar o arquivo que está na bucket\n",
        "# bucket.blob('bc26-datasets-comex/EXP_COMPLETA (NCM).csv')\n",
        "# #para enviar\n",
        "# blob = bucket.blob('preco-combustiveis-2013-2022')\n",
        "# blob.upload_from_filename('/content/preco-combustiveis-2013-2022')"
      ]
    },
    {
      "cell_type": "code",
      "execution_count": null,
      "metadata": {
        "id": "S3QujAyEF6tm"
      },
      "outputs": [],
      "source": [
        "from google.cloud.storage.blob import Blob \n",
        "import requests"
      ]
    },
    {
      "cell_type": "code",
      "execution_count": null,
      "metadata": {
        "id": "GwLgLC8dqlIn"
      },
      "outputs": [],
      "source": [
        "from google.oauth2 import service_account \n",
        "import os\n",
        "import pandas_gbq \n",
        "\n",
        "from IPython.display import clear_output"
      ]
    },
    {
      "cell_type": "markdown",
      "metadata": {
        "id": "sDHpwu8ORsX2"
      },
      "source": [
        "##spark"
      ]
    },
    {
      "cell_type": "code",
      "execution_count": null,
      "metadata": {
        "colab": {
          "base_uri": "https://localhost:8080/"
        },
        "id": "ocl4xzOuuRsL",
        "outputId": "8e5abc50-054e-4b09-d4ab-7b438b8b19a2"
      },
      "outputs": [
        {
          "output_type": "stream",
          "name": "stdout",
          "text": [
            "Looking in indexes: https://pypi.org/simple, https://us-python.pkg.dev/colab-wheels/public/simple/\n",
            "Collecting pyspark\n",
            "  Downloading pyspark-3.3.1.tar.gz (281.4 MB)\n",
            "\u001b[2K     \u001b[90m━━━━━━━━━━━━━━━━━━━━━━━━━━━━━━━━━━━━━━━\u001b[0m \u001b[32m281.4/281.4 MB\u001b[0m \u001b[31m4.3 MB/s\u001b[0m eta \u001b[36m0:00:00\u001b[0m\n",
            "\u001b[?25h  Preparing metadata (setup.py) ... \u001b[?25l\u001b[?25hdone\n",
            "Collecting py4j==0.10.9.5\n",
            "  Downloading py4j-0.10.9.5-py2.py3-none-any.whl (199 kB)\n",
            "\u001b[2K     \u001b[90m━━━━━━━━━━━━━━━━━━━━━━━━━━━━━━━━━━━━━━\u001b[0m \u001b[32m199.7/199.7 KB\u001b[0m \u001b[31m14.8 MB/s\u001b[0m eta \u001b[36m0:00:00\u001b[0m\n",
            "\u001b[?25hBuilding wheels for collected packages: pyspark\n",
            "  Building wheel for pyspark (setup.py) ... \u001b[?25l\u001b[?25hdone\n",
            "  Created wheel for pyspark: filename=pyspark-3.3.1-py2.py3-none-any.whl size=281845512 sha256=fd100f46989c3c9463656e2d62a28123aad95a7587bf474da30f97e2e16205ad\n",
            "  Stored in directory: /root/.cache/pip/wheels/43/dc/11/ec201cd671da62fa9c5cc77078235e40722170ceba231d7598\n",
            "Successfully built pyspark\n",
            "Installing collected packages: py4j, pyspark\n",
            "Successfully installed py4j-0.10.9.5 pyspark-3.3.1\n"
          ]
        }
      ],
      "source": [
        "!pip install pyspark"
      ]
    },
    {
      "cell_type": "code",
      "execution_count": null,
      "metadata": {
        "id": "RUu-Wae2uXZP"
      },
      "outputs": [],
      "source": [
        "#importa o pysaprk\n",
        "from pyspark.sql import SparkSession\n",
        "import pyspark.sql.functions as F\n",
        "from pyspark.sql.types import *"
      ]
    },
    {
      "cell_type": "code",
      "source": [
        "from pyspark.sql.window import Window"
      ],
      "metadata": {
        "id": "4Z3L1iziQFXN"
      },
      "execution_count": null,
      "outputs": []
    },
    {
      "cell_type": "code",
      "source": [
        "spark = (\n",
        "    SparkSession.builder\n",
        "    .master('local')\n",
        "    .appName('data-frames')\n",
        "    .config('spark.ui.port','4050')\n",
        "    .config('spark.jars', 'https://storage.googleapis.com/hadoop-lib/gcs/gcs-connector-hadoop2-latest.jar')\n",
        "    .getOrCreate()\n",
        ")"
      ],
      "metadata": {
        "id": "jBtFFbTjpMD0"
      },
      "execution_count": null,
      "outputs": []
    },
    {
      "cell_type": "code",
      "execution_count": null,
      "metadata": {
        "colab": {
          "base_uri": "https://localhost:8080/"
        },
        "id": "pl6dY8TSu28N",
        "outputId": "1a9f501c-0b3c-4be4-dca2-08934d78177d"
      },
      "outputs": [
        {
          "output_type": "execute_result",
          "data": {
            "text/plain": [
              "<pyspark.sql.session.SparkSession at 0x7f29814b10d0>"
            ],
            "text/html": [
              "\n",
              "            <div>\n",
              "                <p><b>SparkSession - in-memory</b></p>\n",
              "                \n",
              "        <div>\n",
              "            <p><b>SparkContext</b></p>\n",
              "\n",
              "            <p><a href=\"http://569fd93ab10a:4050\">Spark UI</a></p>\n",
              "\n",
              "            <dl>\n",
              "              <dt>Version</dt>\n",
              "                <dd><code>v3.3.1</code></dd>\n",
              "              <dt>Master</dt>\n",
              "                <dd><code>local</code></dd>\n",
              "              <dt>AppName</dt>\n",
              "                <dd><code>data-frames</code></dd>\n",
              "            </dl>\n",
              "        </div>\n",
              "        \n",
              "            </div>\n",
              "        "
            ]
          },
          "metadata": {},
          "execution_count": 14
        }
      ],
      "source": [
        "spark"
      ]
    },
    {
      "cell_type": "markdown",
      "metadata": {
        "id": "nystEv4Jbxa0"
      },
      "source": [
        "#2 - caminho das bases"
      ]
    },
    {
      "cell_type": "code",
      "source": [
        "#Caminho das base no bucket - versão 1\n",
        "# #tratada\n",
        "# path_im = 'gs://bc26-datasets-comex/comex-tratado/IMP_2012-2022_tratada (MUN).parquet'\n",
        "# path_ip = 'gs://bc26-datasets-comex/comex-tratado/IMP_2012-2022_tratada (NCM).parquet'\n",
        "# #original\n",
        "# path_em = 'gs://bc26-datasets-comex/EXP_COMPLETA (MUN).csv'\n",
        "# path_ep = 'gs://bc26-datasets-comex/EXP_COMPLETA (NCM).csv'\n",
        "# #tradato - checar o link\n",
        "# path_comb = 'gs://bc26-datasets-comex/preco-combustiveis-2013-2022-TRATADO'\n",
        "\n",
        "# #base de categorias\n",
        "# path_cat = 'gs://bc26-datasets-comex/comex-tratado/imp-exp-classificacoes'"
      ],
      "metadata": {
        "id": "yjLWv4bvpQst"
      },
      "execution_count": null,
      "outputs": []
    },
    {
      "cell_type": "code",
      "execution_count": null,
      "metadata": {
        "id": "cVLYpHAsmx4b"
      },
      "outputs": [],
      "source": [
        "#versão arrumada por Erika\n",
        "#Caminho das base no bucket\n",
        "#tratada\n",
        "path_im = 'gs://bc26-datasets-comex/comex-tratado/IMP_2012-2022_tratada (MUN).parquet'\n",
        "path_ip = 'gs://bc26-datasets-comex/comex-tratado/IMP_2012-2022_tratada (NCM).parquet'\n",
        "#tratado - dar erro\n",
        "path_em = 'gs://bc26-datasets-comex/comex-tratado/EXP_2012_2022_tratado(MUN)'\n",
        "path_ep = 'gs://bc26-datasets-comex/comex-tratado/EXP_2012_2022_tratado(NCM)'\n",
        "#tratado - checar o link\n",
        "path_comb = 'gs://bc26-datasets-comex/preco-combustiveis-2013-2022-TRATADO'\n",
        "\n",
        "#base de categorias\n",
        "path_cat = 'gs://bc26-datasets-comex/comex-tratado/imp-exp-classificacoes'"
      ]
    },
    {
      "cell_type": "code",
      "execution_count": null,
      "metadata": {
        "id": "5mmP-SnQPO5V"
      },
      "outputs": [],
      "source": [
        "#Caminho das base no bucket - minha nova versão\n",
        "\n",
        "#tratada importação\n",
        "path_imp_mun = 'gs://bc26-datasets-comex/comex-tratado/IMP_2012-2022_tratada (MUN).parquet'\n",
        "path_imp_prod = 'gs://bc26-datasets-comex/comex-tratado/IMP_2012-2022_tratada (NCM).parquet'\n",
        "\n",
        "#tratada exportação \n",
        "path_exp_mun = 'gs://bc26-datasets-comex/comex-tratado/IMP_2012-2022_tratada (MUN).parquet'\n",
        "\n",
        "path_exp_prod = 'gs://bc26-datasets-comex/comex-tratado/EXP_2013-2022_tratado(NCM).csv'\n",
        "\n",
        "#tratada combustíveis\n",
        "path_comb = 'gs://bc26-datasets-comex/preco-combustiveis-2013-2022-TRATAMENTO-OK'\n",
        "#tratasa combustívies com volume\n",
        "path_comb_vol = 'gs://bc26-datasets-comex/combustivel-tratado/volume_preco_combustiveis_mensal_2013_2022' \n"
      ]
    },
    {
      "cell_type": "code",
      "source": [
        "# que base é essa - é uma versão de exportação-municipio\n",
        "# path_comex = 'gs://bc26-datasets-comex/bc26-datasets-comex/comex-tratado'"
      ],
      "metadata": {
        "id": "y8YbDJv6LXIe"
      },
      "execution_count": null,
      "outputs": []
    },
    {
      "cell_type": "code",
      "source": [
        "#base de categorias\n",
        "path_cat = 'gs://bc26-datasets-comex/comex-tratado/imp-exp-classificacoes'\n",
        "\n",
        "#base de auxilio\n",
        "path_pais = 'gs://bc26-datasets-comex/comex-tratado/nome-pais'\n",
        "path_bloco = 'gs://bc26-datasets-comex/comex-tratado/bloco-economico'\n",
        "path_ecom = 'gs://bc26-datasets-comex/comex-tratado/bloco-geografico'"
      ],
      "metadata": {
        "id": "G4cDCDeHpWvr"
      },
      "execution_count": null,
      "outputs": []
    },
    {
      "cell_type": "markdown",
      "source": [
        "# 3 - base"
      ],
      "metadata": {
        "id": "MQoQJ15DPso2"
      }
    },
    {
      "cell_type": "markdown",
      "source": [
        "##3a - importação municipio"
      ],
      "metadata": {
        "id": "J63vd__dywI8"
      }
    },
    {
      "cell_type": "code",
      "source": [
        "#criar um dataframe pelo pyspark\n",
        "dfimp_mun = ( spark.read.format('parquet')\n",
        "                 .option('header', 'true')\n",
        "                 .option('inferschema', 'true')\n",
        "                 .option('delimiter', ',')\n",
        "                 .load(path_imp_mun))"
      ],
      "metadata": {
        "id": "VJ5xGJbJMysc"
      },
      "execution_count": null,
      "outputs": []
    },
    {
      "cell_type": "code",
      "execution_count": null,
      "metadata": {
        "colab": {
          "background_save": true
        },
        "id": "4Kifwu35oQCU"
      },
      "outputs": [],
      "source": [
        "#caso o comando falhe, carregar a base por pandas e tranformar\n",
        "#criar dataframe com as importações por município\n",
        "# df_im = pd.read_parquet(path_imp_mun)\n",
        "#olar a base\n",
        "# df_im.head(2)"
      ]
    },
    {
      "cell_type": "code",
      "execution_count": null,
      "metadata": {
        "id": "R2vbBTAwdIjZ"
      },
      "outputs": [],
      "source": [
        "#transforma para spark\n",
        "# dfimp_mun = spark.createDataFrame(df_im)"
      ]
    },
    {
      "cell_type": "code",
      "execution_count": null,
      "metadata": {
        "id": "5rtHD2XydOey",
        "colab": {
          "base_uri": "https://localhost:8080/"
        },
        "outputId": "becfe3f9-67b7-4d95-aaae-45e1321d0193"
      },
      "outputs": [
        {
          "output_type": "stream",
          "name": "stdout",
          "text": [
            "+--------+----+--------+------+-------------+------------+-----------+-------------------------------+------------+----+\n",
            "|     mes| SH4|cod_pais|estado|cod_municipio|peso_liquido|valor_dolar|descricoes__sistema_harmonizado|   municipio| ano|\n",
            "+--------+----+--------+------+-------------+------------+-----------+-------------------------------+------------+----+\n",
            "|    maio|4016|     160|    RS|      4314902|         826|       4341|           Compostos heteroc...|Porto Alegre|2021|\n",
            "|dezembro|8477|     245|    RS|      4314902|           1|        512|           Fatos de saia-cas...|Porto Alegre|2021|\n",
            "| outubro|7326|     245|    RS|      4314902|       16152|     112832|           Outros papéis, ca...|Porto Alegre|2021|\n",
            "|   março|8708|     160|    RS|      4314902|      199184|     762402|           Chapéus e outros ...|Porto Alegre|2021|\n",
            "|novembro|8542|     493|    RS|      4314902|           1|       2864|           Lenços de assoar ...|Porto Alegre|2021|\n",
            "|novembro|7013|     160|    RS|      4314902|       47162|     136056|           Obras de carpinta...|Porto Alegre|2021|\n",
            "|    maio|4803|     845|    RS|      4314902|       15720|      15720|           Sangue humano; sa...|Porto Alegre|2021|\n",
            "|setembro|8542|     776|    RS|      4314902|          28|      41670|           Lenços de assoar ...|Porto Alegre|2021|\n",
            "| outubro|9003|     275|    RS|      4314902|           2|       3138|           Fibras de vidro (...|Porto Alegre|2021|\n",
            "|novembro|8532|     249|    RS|      4314902|         217|      17514|           Fatos de treino p...|Porto Alegre|2021|\n",
            "|novembro|6115|     386|    RS|      4314902|         214|      10767|           Polímeros de etil...|Porto Alegre|2021|\n",
            "|   abril|8544|     249|    RS|      4314902|          29|      13719|           Lenços de assoar ...|Porto Alegre|2021|\n",
            "|setembro|8301|      23|    RS|      4314902|          18|       1040|           Fatos de saia-cas...|Porto Alegre|2021|\n",
            "| janeiro|8542|     249|    RS|      4314902|           2|      10263|           Lenços de assoar ...|Porto Alegre|2021|\n",
            "| janeiro|8483|      23|    RS|      4314902|        3651|      68272|           Camisas de uso ma...|Porto Alegre|2021|\n",
            "|novembro|7326|      23|    RS|      4314902|          20|       2585|           Outros papéis, ca...|Porto Alegre|2021|\n",
            "|setembro|8541|     267|    RS|      4314902|           0|        112|           Lenços de assoar ...|Porto Alegre|2021|\n",
            "|   junho|8538|     399|    RS|      4314902|           3|       1502|           Soutiens, cintas,...|Porto Alegre|2021|\n",
            "|setembro|8708|     628|    RS|      4314902|        5440|      56734|           Chapéus e outros ...|Porto Alegre|2021|\n",
            "|    maio|6805|     831|    RS|      4314902|          37|        725|           Peles com pêlo cu...|Porto Alegre|2021|\n",
            "+--------+----+--------+------+-------------+------------+-----------+-------------------------------+------------+----+\n",
            "only showing top 20 rows\n",
            "\n"
          ]
        }
      ],
      "source": [
        "#ver a base\n",
        "dfimp_mun.show()"
      ]
    },
    {
      "cell_type": "code",
      "source": [
        "#se usou a transformação\n",
        "# del df_im"
      ],
      "metadata": {
        "id": "aTyWFLm43ZMk"
      },
      "execution_count": null,
      "outputs": []
    },
    {
      "cell_type": "code",
      "execution_count": null,
      "metadata": {
        "colab": {
          "base_uri": "https://localhost:8080/"
        },
        "id": "QbrIHsU92WhE",
        "outputId": "0377bdae-08a6-453e-9cf6-cdf336eb33fc"
      },
      "outputs": [
        {
          "output_type": "stream",
          "name": "stdout",
          "text": [
            "root\n",
            " |-- mes: string (nullable = true)\n",
            " |-- SH4: long (nullable = true)\n",
            " |-- cod_pais: long (nullable = true)\n",
            " |-- estado: string (nullable = true)\n",
            " |-- cod_municipio: long (nullable = true)\n",
            " |-- peso_liquido: long (nullable = true)\n",
            " |-- valor_dolar: long (nullable = true)\n",
            " |-- descricoes__sistema_harmonizado: string (nullable = true)\n",
            " |-- municipio: string (nullable = true)\n",
            " |-- ano: integer (nullable = true)\n",
            "\n"
          ]
        }
      ],
      "source": [
        "#ver o esquema\n",
        "dfimp_mun.printSchema()"
      ]
    },
    {
      "cell_type": "code",
      "execution_count": null,
      "metadata": {
        "id": "5N0QG_5a2WhF"
      },
      "outputs": [],
      "source": [
        "dfimp_mun.describe().show()\n",
        "#desisti depois de 30 min"
      ]
    },
    {
      "cell_type": "code",
      "execution_count": null,
      "metadata": {
        "id": "FTx9gpcF2WhG"
      },
      "outputs": [],
      "source": [
        "#resumir os dados - comando demorado!\n",
        "dfimp_mun.select(F.col('ano'), F.col('mes'), F.col('valor_dolar'), F.col('peso_liquido')).summary().show()"
      ]
    },
    {
      "cell_type": "code",
      "source": [
        "#criar windons sobre os estado ordenados pelo valor e pelo volume\n",
        "w1 = Window.partitionBy(F.col('estado')).orderBy(F.col('valor_dolar').desc())\n",
        "w2 = Window.partitionBy(F.col('estado')).orderBy(F.col('peso_liquido').desc())"
      ],
      "metadata": {
        "id": "hU223bJb2R8m"
      },
      "execution_count": null,
      "outputs": []
    },
    {
      "cell_type": "code",
      "source": [
        "#rankear os produtos dentro de cada estado pelo valor\n",
        "dfimp_mun.withColumn('rank', F.rank().over(w1)).show()\n",
        "\n",
        "#cada produto é importado de um mesmo pais?"
      ],
      "metadata": {
        "colab": {
          "base_uri": "https://localhost:8080/"
        },
        "id": "cyB5cy91L1FM",
        "outputId": "e71af2e4-39ab-4559-ba3c-35c09a5c1d25"
      },
      "execution_count": null,
      "outputs": [
        {
          "output_type": "stream",
          "name": "stdout",
          "text": [
            "+---------+----+--------+------+-------------+------------+-----------+-------------------------------+--------------------+----+----+\n",
            "|      mes| SH4|cod_pais|estado|cod_municipio|peso_liquido|valor_dolar|descricoes__sistema_harmonizado|           municipio| ano|rank|\n",
            "+---------+----+--------+------+-------------+------------+-----------+-------------------------------+--------------------+----+----+\n",
            "| novembro|3102|     556|    SC|      4216206|   235755435|  102546437|           Ácidos monocarbox...|São Francisco do Sul|2021|   1|\n",
            "|     maio|3102|     556|    SC|      4216206|   110155938|   96113699|           Ácidos monocarbox...|São Francisco do Sul|2022|   2|\n",
            "|  outubro|8703|     493|    SC|      4209102|     9021499|   84679167|           Chapéus e outros ...|           Joinville|2018|   3|\n",
            "|fevereiro|3102|     556|    SC|      4216206|   156521310|   80203394|           Ácidos monocarbox...|São Francisco do Sul|2022|   4|\n",
            "|    julho|8703|      63|    SC|      4209102|     4574089|   74502487|           Chapéus e outros ...|           Joinville|2018|   5|\n",
            "|fevereiro|8541|     160|    SC|      4208203|    14473034|   73946904|           Lenços de assoar ...|              Itajaí|2022|   6|\n",
            "|     maio|8703|     493|    SC|      4209102|     7450388|   70683682|           Chapéus e outros ...|           Joinville|2019|   7|\n",
            "|  janeiro|8541|     160|    SC|      4208203|    13977666|   70535231|           Lenços de assoar ...|              Itajaí|2022|   8|\n",
            "|    junho|7403|     158|    SC|      4208203|     7490787|   67448797|           Fios de lã pentea...|              Itajaí|2022|   9|\n",
            "| novembro|7403|     158|    SC|      4208203|     8475681|   67448383|           Fios de lã pentea...|              Itajaí|2012|  10|\n",
            "| dezembro|8703|      63|    SC|      4209102|     4135715|   65567405|           Chapéus e outros ...|           Joinville|2019|  11|\n",
            "|   agosto|8541|     160|    SC|      4208203|    13288808|   64446191|           Lenços de assoar ...|              Itajaí|2022|  12|\n",
            "|    abril|7403|     158|    SC|      4208203|     6796404|   63169160|           Fios de lã pentea...|              Itajaí|2021|  13|\n",
            "|    março|8541|     160|    SC|      4208203|    11596628|   60386300|           Lenços de assoar ...|              Itajaí|2022|  14|\n",
            "|    junho|7403|     158|    SC|      4208203|     6123575|   59993049|           Fios de lã pentea...|              Itajaí|2021|  15|\n",
            "|   agosto|8703|      63|    SC|      4209102|     3641086|   59202114|           Chapéus e outros ...|           Joinville|2018|  16|\n",
            "| setembro|7403|     158|    SC|      4209102|     6169488|   58015603|           Fios de lã pentea...|           Joinville|2021|  17|\n",
            "| dezembro|7403|     158|    SC|      4209102|     7935391|   57012909|           Fios de lã pentea...|           Joinville|2020|  18|\n",
            "| novembro|7403|     158|    SC|      4208203|     8150871|   56904145|           Fios de lã pentea...|              Itajaí|2020|  19|\n",
            "|  outubro|7403|     158|    SC|      4208203|     5876582|   56219382|           Fios de lã pentea...|              Itajaí|2021|  20|\n",
            "+---------+----+--------+------+-------------+------------+-----------+-------------------------------+--------------------+----+----+\n",
            "only showing top 20 rows\n",
            "\n"
          ]
        }
      ]
    },
    {
      "cell_type": "code",
      "source": [
        "#rankear os produtos dentro de cada estado pelo volume\n",
        "dfimp_mun.withColumn('rank', F.rank().over(w2)).show()"
      ],
      "metadata": {
        "colab": {
          "base_uri": "https://localhost:8080/"
        },
        "id": "CG4FH5NZMGi6",
        "outputId": "ed8cb41f-0bf6-4b10-c72c-bef7c431ea59"
      },
      "execution_count": null,
      "outputs": [
        {
          "output_type": "stream",
          "name": "stdout",
          "text": [
            "+---------+----+--------+------+-------------+------------+-----------+-------------------------------+--------------------+----+----+\n",
            "|      mes| SH4|cod_pais|estado|cod_municipio|peso_liquido|valor_dolar|descricoes__sistema_harmonizado|           municipio| ano|rank|\n",
            "+---------+----+--------+------+-------------+------------+-----------+-------------------------------+--------------------+----+----+\n",
            "| novembro|3102|     556|    SC|      4216206|   235755435|  102546437|           Ácidos monocarbox...|São Francisco do Sul|2021|   1|\n",
            "|     maio|2713|     249|    SC|      4208203|   200589931|   39185289|           Derivados sulfona...|              Itajaí|2022|   2|\n",
            "|    julho|2713|     249|    SC|      4208203|   193573465|   38781592|           Derivados sulfona...|              Itajaí|2022|   3|\n",
            "|fevereiro|3102|     556|    SC|      4216206|   156521310|   80203394|           Ácidos monocarbox...|São Francisco do Sul|2022|   4|\n",
            "| novembro|2713|     249|    SC|      4208203|   137068800|    7805527|           Derivados sulfona...|              Itajaí|2020|   5|\n",
            "|    abril|2713|     249|    SC|      4208203|   135624100|   21768363|           Derivados sulfona...|              Itajaí|2022|   6|\n",
            "|    julho|3102|     372|    SC|      4207502|   131915887|   29621945|           Ácidos monocarbox...|             Indaial|2019|   7|\n",
            "|    abril|2501|     158|    SC|      4207304|   128766168|    2760021|           Outros compostos ...|            Imbituba|2020|   8|\n",
            "|    julho|3102|     556|    SC|      4216206|   124522195|   42365139|           Ácidos monocarbox...|São Francisco do Sul|2021|   9|\n",
            "| dezembro|3102|     372|    SC|      4207502|   121980995|   27205581|           Ácidos monocarbox...|             Indaial|2019|  10|\n",
            "|    abril|2501|     158|    SC|      4207304|   118455000|    2558651|           Outros compostos ...|            Imbituba|2022|  11|\n",
            "|     maio|3102|     556|    SC|      4216206|   110155938|   96113699|           Ácidos monocarbox...|São Francisco do Sul|2022|  12|\n",
            "| dezembro|2501|     158|    SC|      4207304|   108490000|    2101478|           Outros compostos ...|            Imbituba|2019|  13|\n",
            "|    abril|2501|     158|    SC|      4207304|   105220808|    2073826|           Outros compostos ...|            Imbituba|2021|  14|\n",
            "|fevereiro|2501|     158|    SC|      4207304|   102972000|    2207927|           Outros compostos ...|            Imbituba|2022|  15|\n",
            "|    julho|3102|     372|    SC|      4207502|   101007288|   22653117|           Ácidos monocarbox...|             Indaial|2020|  16|\n",
            "|    março|2713|     249|    SC|      4208203|   100393321|    8631279|           Derivados sulfona...|              Itajaí|2021|  17|\n",
            "|   agosto|2713|     249|    SC|      4208203|   100376231|   11362236|           Derivados sulfona...|              Itajaí|2021|  18|\n",
            "|   agosto|2713|     249|    SC|      4208203|    98972658|    5748773|           Derivados sulfona...|              Itajaí|2019|  19|\n",
            "|fevereiro|2713|     249|    SC|      4208203|    98963160|    7626162|           Derivados sulfona...|              Itajaí|2018|  20|\n",
            "+---------+----+--------+------+-------------+------------+-----------+-------------------------------+--------------------+----+----+\n",
            "only showing top 20 rows\n",
            "\n"
          ]
        }
      ]
    },
    {
      "cell_type": "code",
      "source": [
        "#criar windons sobre os paises ordenados pelo valor e pelo volume\n",
        "w3 = Window.partitionBy(F.col('cod_pais')).orderBy(F.col('valor_dolar').desc())\n",
        "w4 = Window.partitionBy(F.col('cod_pais')).orderBy(F.col('peso_liquido').desc())"
      ],
      "metadata": {
        "id": "uT3efWNvZbOn"
      },
      "execution_count": null,
      "outputs": []
    },
    {
      "cell_type": "code",
      "source": [
        "#rankear os produtos dentro de cada pais pelo valor\n",
        "dfimp_mun.withColumn('rank', F.rank().over(w3)).show()"
      ],
      "metadata": {
        "colab": {
          "base_uri": "https://localhost:8080/"
        },
        "id": "8XZTWgVIZiFV",
        "outputId": "9b7021a0-337e-435c-b368-7d7c3cac7148"
      },
      "execution_count": null,
      "outputs": [
        {
          "output_type": "stream",
          "name": "stdout",
          "text": [
            "+--------+----+--------+------+-------------+------------+-----------+-------------------------------+----------------+----+----+\n",
            "|     mes| SH4|cod_pais|estado|cod_municipio|peso_liquido|valor_dolar|descricoes__sistema_harmonizado|       municipio| ano|rank|\n",
            "+--------+----+--------+------+-------------+------------+-----------+-------------------------------+----------------+----+----+\n",
            "|   julho|8703|       0|    PR|      4106902|        2812|      22294|           Chapéus e outros ...|        Curitiba|2014|   1|\n",
            "|  agosto|9401|       0|    RS|      4314902|        2560|       7083|           Reservatórios, to...|    Porto Alegre|2012|   2|\n",
            "|   junho|8537|       0|    SP|      3440606|           8|       1021|           Soutiens, cintas,...|     Porto Feliz|2014|   3|\n",
            "|   março|2710|      65|    PE|      2607208|    40327043|   42241190|           Derivados sulfona...|         Ipojuca|2012|   1|\n",
            "| janeiro|2710|      65|    MA|      2111300|    39379796|   36473309|           Derivados sulfona...|        São Luís|2012|   2|\n",
            "| janeiro|2713|      65|    AM|      1302603|     8500000|    1424175|           Derivados sulfona...|          Manaus|2012|   3|\n",
            "| janeiro|2713|      65|    PA|      1502202|     3621101|     621876|           Derivados sulfona...|        Capanema|2012|   4|\n",
            "| janeiro|7602|      65|    ES|      3205309|       55364|      56124|           Sisal e outras fi...|         Vitória|2021|   5|\n",
            "| outubro|7602|      65|    SP|      3438006|       18617|      36256|           Sisal e outras fi...| Pindamonhangaba|2014|   6|\n",
            "|dezembro|7602|      65|    RS|      4301107|       19837|      35002|           Sisal e outras fi...|Arroio dos Ratos|2018|   7|\n",
            "|   abril|9018|      65|    SC|      4205407|          55|      19500|           Pérolas naturais ...|   Florianópolis|2018|   8|\n",
            "|   março|9703|      65|    SP|      3450308|          13|       6438|           Desperdícios e re...|       São Paulo|2014|   9|\n",
            "|   julho|8542|      65|    SP|      3450308|          11|       2029|           Lenços de assoar ...|       São Paulo|2022|  10|\n",
            "|dezembro|4203|      65|    PR|      4106902|           7|       1928|           Compostos heteroc...|        Curitiba|2018|  11|\n",
            "|    maio|8536|      65|    SP|      3405708|           1|       1612|           Soutiens, cintas,...|         Barueri|2015|  12|\n",
            "|   julho|8409|      65|    SP|      3452205|           5|        733|           Luvas, mitenes e ...|        Sorocaba|2021|  13|\n",
            "|dezembro|7318|      65|    SP|      3420509|         101|        555|           Outros papéis, ca...|      Indaiatuba|2012|  14|\n",
            "|  agosto|7318|      65|    SP|      3452205|          78|        400|           Outros papéis, ca...|        Sorocaba|2012|  15|\n",
            "|   julho|7318|      65|    SP|      3420509|          57|        396|           Outros papéis, ca...|      Indaiatuba|2013|  16|\n",
            "|setembro|8532|      65|    SP|      3450308|           1|        326|           Fatos de treino p...|       São Paulo|2022|  17|\n",
            "+--------+----+--------+------+-------------+------------+-----------+-------------------------------+----------------+----+----+\n",
            "only showing top 20 rows\n",
            "\n"
          ]
        }
      ]
    },
    {
      "cell_type": "code",
      "source": [
        "#rankear os produtos dentro de cada pais pelo volume\n",
        "dfimp_mun.withColumn('rank', F.rank().over(w4)).show()"
      ],
      "metadata": {
        "colab": {
          "base_uri": "https://localhost:8080/"
        },
        "id": "k8mMRQvEZh6d",
        "outputId": "141ba184-b264-4ec7-eded-65f1ecb2b2f0"
      },
      "execution_count": null,
      "outputs": [
        {
          "output_type": "stream",
          "name": "stdout",
          "text": [
            "+--------+----+--------+------+-------------+------------+-----------+-------------------------------+----------------+----+----+\n",
            "|     mes| SH4|cod_pais|estado|cod_municipio|peso_liquido|valor_dolar|descricoes__sistema_harmonizado|       municipio| ano|rank|\n",
            "+--------+----+--------+------+-------------+------------+-----------+-------------------------------+----------------+----+----+\n",
            "|   julho|8703|       0|    PR|      4106902|        2812|      22294|           Chapéus e outros ...|        Curitiba|2014|   1|\n",
            "|  agosto|9401|       0|    RS|      4314902|        2560|       7083|           Reservatórios, to...|    Porto Alegre|2012|   2|\n",
            "|   junho|8537|       0|    SP|      3440606|           8|       1021|           Soutiens, cintas,...|     Porto Feliz|2014|   3|\n",
            "|   março|2710|      65|    PE|      2607208|    40327043|   42241190|           Derivados sulfona...|         Ipojuca|2012|   1|\n",
            "| janeiro|2710|      65|    MA|      2111300|    39379796|   36473309|           Derivados sulfona...|        São Luís|2012|   2|\n",
            "| janeiro|2713|      65|    AM|      1302603|     8500000|    1424175|           Derivados sulfona...|          Manaus|2012|   3|\n",
            "| janeiro|2713|      65|    PA|      1502202|     3621101|     621876|           Derivados sulfona...|        Capanema|2012|   4|\n",
            "| janeiro|7602|      65|    ES|      3205309|       55364|      56124|           Sisal e outras fi...|         Vitória|2021|   5|\n",
            "|dezembro|7602|      65|    RS|      4301107|       19837|      35002|           Sisal e outras fi...|Arroio dos Ratos|2018|   6|\n",
            "| outubro|7602|      65|    SP|      3438006|       18617|      36256|           Sisal e outras fi...| Pindamonhangaba|2014|   7|\n",
            "|dezembro|7318|      65|    SP|      3420509|         101|        555|           Outros papéis, ca...|      Indaiatuba|2012|   8|\n",
            "|  agosto|7318|      65|    SP|      3452205|          78|        400|           Outros papéis, ca...|        Sorocaba|2012|   9|\n",
            "|   julho|7318|      65|    SP|      3420509|          57|        396|           Outros papéis, ca...|      Indaiatuba|2013|  10|\n",
            "|   abril|9018|      65|    SC|      4205407|          55|      19500|           Pérolas naturais ...|   Florianópolis|2018|  11|\n",
            "|novembro|7318|      65|    SP|      3420509|          44|        290|           Outros papéis, ca...|      Indaiatuba|2012|  12|\n",
            "|   março|9703|      65|    SP|      3450308|          13|       6438|           Desperdícios e re...|       São Paulo|2014|  13|\n",
            "|   julho|8542|      65|    SP|      3450308|          11|       2029|           Lenços de assoar ...|       São Paulo|2022|  14|\n",
            "|   abril|7318|      65|    SC|      4202305|          10|        276|           Outros papéis, ca...|         Biguaçu|2013|  15|\n",
            "|dezembro|4203|      65|    PR|      4106902|           7|       1928|           Compostos heteroc...|        Curitiba|2018|  16|\n",
            "|   julho|8409|      65|    SP|      3452205|           5|        733|           Luvas, mitenes e ...|        Sorocaba|2021|  17|\n",
            "+--------+----+--------+------+-------------+------------+-----------+-------------------------------+----------------+----+----+\n",
            "only showing top 20 rows\n",
            "\n"
          ]
        }
      ]
    },
    {
      "cell_type": "markdown",
      "source": [
        "Fazer esses rankes em um tabela nova agrupada com pelo produto"
      ],
      "metadata": {
        "id": "_tGoQuUvaaEs"
      }
    },
    {
      "cell_type": "code",
      "source": [
        "#deletar a base por espaço\n",
        "# del dfimp_mun"
      ],
      "metadata": {
        "id": "o2XPMvX83R1c"
      },
      "execution_count": null,
      "outputs": []
    },
    {
      "cell_type": "markdown",
      "metadata": {
        "id": "0UkJZErveGHx"
      },
      "source": [
        "## 3b - base importação produto"
      ]
    },
    {
      "cell_type": "code",
      "execution_count": null,
      "metadata": {
        "id": "RqfznOEFpcDC"
      },
      "outputs": [],
      "source": [
        "dfimp_prod = ( spark.read.format('parquet')\n",
        "                 .option('header', 'true')\n",
        "                 .option('inferschema', 'true')\n",
        "                 .option('delimiter', ',')\n",
        "                 .load(path_imp_prod))"
      ]
    },
    {
      "cell_type": "code",
      "execution_count": null,
      "metadata": {
        "colab": {
          "background_save": true
        },
        "id": "pXZ8aVkFCONQ"
      },
      "outputs": [],
      "source": [
        "#caso o comando falhe, carregar a base por pandas e tranformar\n",
        "#criar dataframe com as importações por município\n",
        "# df_ip = pd.read_parquet(path_imp_prod)\n",
        "#olhar a base\n",
        "# df_ip.head(2)"
      ]
    },
    {
      "cell_type": "code",
      "execution_count": null,
      "metadata": {
        "id": "yW60-5kRCONm"
      },
      "outputs": [],
      "source": [
        "#transforma para spark\n",
        "# dfimp_prod = spark.createDataFrame(df_ip)"
      ]
    },
    {
      "cell_type": "code",
      "execution_count": null,
      "metadata": {
        "colab": {
          "base_uri": "https://localhost:8080/"
        },
        "id": "YJqiCLh9CONn",
        "outputId": "2900f2a6-8f6e-419f-96a6-35c80123d539"
      },
      "outputs": [
        {
          "output_type": "stream",
          "name": "stdout",
          "text": [
            "+--------+----------+-----------+--------+------+-------+---------------+------------+-----------+--------------------+----------------+---------------+----+\n",
            "|     mes|mercadoria|cod_unidade|cod_pais|estado|cod_urf|qnt_estatistica|peso_liquido|valor_dolar|             produto|  unidade_medida|meio_transporte| ano|\n",
            "+--------+----------+-----------+--------+------+-------+---------------+------------+-----------+--------------------+----------------+---------------+----+\n",
            "|novembro|  73269090|         10|     493|    SP| 817700|           1409|        1409|      10031|Outras obras de f...|NUMERO (UNIDADE)|          AEREA|2021|\n",
            "|   março|  73269090|         10|     249|    RJ| 817700|           2859|        2859|     459689|Outras obras de f...|NUMERO (UNIDADE)|          AEREA|2021|\n",
            "|dezembro|  73269090|         10|     160|    RJ| 717700|            315|         315|      49945|Outras obras de f...|NUMERO (UNIDADE)|          AEREA|2021|\n",
            "|dezembro|  73269090|         10|     275|    SP| 817600|            849|         849|     543942|Outras obras de f...|NUMERO (UNIDADE)|          AEREA|2021|\n",
            "|   abril|  73269090|         10|     399|    ES| 727600|             10|          10|       1969|Outras obras de f...|NUMERO (UNIDADE)|          AEREA|2021|\n",
            "|   julho|  73269090|         10|     245|    SP| 817700|            112|         112|       9842|Outras obras de f...|NUMERO (UNIDADE)|          AEREA|2021|\n",
            "|setembro|  73269090|         10|      87|    SP| 817700|            349|         349|      84126|Outras obras de f...|NUMERO (UNIDADE)|          AEREA|2021|\n",
            "|novembro|  73269090|         10|     160|    SP| 817700|           8372|        8372|     116701|Outras obras de f...|NUMERO (UNIDADE)|          AEREA|2021|\n",
            "|  agosto|  73269090|         10|     249|    MG| 717700|             11|          11|       1204|Outras obras de f...|NUMERO (UNIDADE)|          AEREA|2021|\n",
            "|setembro|  73269090|         10|     249|    RS| 817600|            192|         192|       3824|Outras obras de f...|NUMERO (UNIDADE)|          AEREA|2021|\n",
            "|setembro|  73269090|         10|     149|    MG| 617700|              3|           3|       7764|Outras obras de f...|NUMERO (UNIDADE)|          AEREA|2021|\n",
            "|   março|  73269090|         10|     603|    RJ| 717700|            614|         614|      14334|Outras obras de f...|NUMERO (UNIDADE)|          AEREA|2021|\n",
            "| janeiro|  73269090|         10|     232|    SP| 817600|            178|         178|       1446|Outras obras de f...|NUMERO (UNIDADE)|          AEREA|2021|\n",
            "|dezembro|  73269090|         10|     271|    SC| 927800|              6|           6|        202|Outras obras de f...|NUMERO (UNIDADE)|          AEREA|2021|\n",
            "|  agosto|  73269090|         10|     386|    SP| 227700|              3|           3|        456|Outras obras de f...|NUMERO (UNIDADE)|          AEREA|2021|\n",
            "|setembro|  73269090|         10|     603|    RJ| 717700|            935|         935|      29285|Outras obras de f...|NUMERO (UNIDADE)|          AEREA|2021|\n",
            "|    maio|  73269090|         10|     764|    PR| 917900|            156|         156|       8119|Outras obras de f...|NUMERO (UNIDADE)|          AEREA|2021|\n",
            "|setembro|  73269090|         10|     160|    BA| 517801|             27|          27|        641|Outras obras de f...|NUMERO (UNIDADE)|          AEREA|2021|\n",
            "|  agosto|  73269090|         10|     232|    PE| 417901|            193|         193|      92544|Outras obras de f...|NUMERO (UNIDADE)|          AEREA|2021|\n",
            "|   julho|  73269090|         10|     249|    SC| 817600|             46|          46|       6376|Outras obras de f...|NUMERO (UNIDADE)|          AEREA|2021|\n",
            "+--------+----------+-----------+--------+------+-------+---------------+------------+-----------+--------------------+----------------+---------------+----+\n",
            "only showing top 20 rows\n",
            "\n"
          ]
        }
      ],
      "source": [
        "#ver a base\n",
        "dfimp_prod.show()"
      ]
    },
    {
      "cell_type": "code",
      "source": [
        "#se usou a transformação\n",
        "# del df_ip"
      ],
      "metadata": {
        "id": "IRIs3kvECONn"
      },
      "execution_count": null,
      "outputs": []
    },
    {
      "cell_type": "code",
      "execution_count": null,
      "metadata": {
        "colab": {
          "base_uri": "https://localhost:8080/"
        },
        "id": "3sBFdlzKCONo",
        "outputId": "569a03f4-863e-4d3f-ec78-be573680eb04"
      },
      "outputs": [
        {
          "output_type": "stream",
          "name": "stdout",
          "text": [
            "root\n",
            " |-- mes: string (nullable = true)\n",
            " |-- mercadoria: long (nullable = true)\n",
            " |-- cod_unidade: long (nullable = true)\n",
            " |-- cod_pais: long (nullable = true)\n",
            " |-- estado: string (nullable = true)\n",
            " |-- cod_urf: long (nullable = true)\n",
            " |-- qnt_estatistica: long (nullable = true)\n",
            " |-- peso_liquido: long (nullable = true)\n",
            " |-- valor_dolar: long (nullable = true)\n",
            " |-- produto: string (nullable = true)\n",
            " |-- unidade_medida: string (nullable = true)\n",
            " |-- meio_transporte: string (nullable = true)\n",
            " |-- ano: integer (nullable = true)\n",
            "\n"
          ]
        }
      ],
      "source": [
        "#ver o esquema\n",
        "dfimp_prod.printSchema()"
      ]
    },
    {
      "cell_type": "code",
      "execution_count": null,
      "metadata": {
        "id": "9Yuot7t7CONo"
      },
      "outputs": [],
      "source": [
        "dfimp_prod.describe().show()"
      ]
    },
    {
      "cell_type": "code",
      "execution_count": null,
      "metadata": {
        "id": "sHegYFy-CONo"
      },
      "outputs": [],
      "source": [
        "#resumir os dados - comando demorado!\n",
        "dfimp_prod.select(F.col('valor_dolar'), F.col('peso_liquido')).summary().show()"
      ]
    },
    {
      "cell_type": "code",
      "source": [
        "#rankear os produtos dentro de cada estado pelo valor\n",
        "dfimp_prod.withColumn('rank', F.rank().over(w1)).show()"
      ],
      "metadata": {
        "colab": {
          "base_uri": "https://localhost:8080/"
        },
        "id": "ChE6ew3apQLx",
        "outputId": "8f3dfb14-06ac-490d-ac94-f682e59c39e5"
      },
      "execution_count": null,
      "outputs": [
        {
          "output_type": "stream",
          "name": "stdout",
          "text": [
            "+---------+----------+-----------+--------+------+-------+---------------+------------+-----------+--------------------+----------------+---------------+----+----+\n",
            "|      mes|mercadoria|cod_unidade|cod_pais|estado|cod_urf|qnt_estatistica|peso_liquido|valor_dolar|             produto|  unidade_medida|meio_transporte| ano|rank|\n",
            "+---------+----------+-----------+--------+------+-------+---------------+------------+-----------+--------------------+----------------+---------------+----+----+\n",
            "|    abril|  74031100|         21|     158|    SC| 927700|          13644|    13643839|  125574572|Cátodos e seus el...|NUMERO (UNIDADE)|       MARITIMA|2021|   1|\n",
            "|  outubro|  74031100|         21|     158|    SC| 927700|          13264|    13261941|  125239077|Cátodos e seus el...|NUMERO (UNIDADE)|       MARITIMA|2021|   2|\n",
            "|   agosto|  74031100|         21|     158|    SC| 927700|          13043|    13040993|  124482248|Cátodos e seus el...|NUMERO (UNIDADE)|       MARITIMA|2021|   3|\n",
            "|    março|  74031100|         21|     158|    SC| 927700|          13943|    13942304|  121015966|Cátodos e seus el...|NUMERO (UNIDADE)|       MARITIMA|2021|   4|\n",
            "|    junho|  74031100|         21|     158|    SC| 927700|          11035|    11036622|  108751701|Cátodos e seus el...|NUMERO (UNIDADE)|       MARITIMA|2021|   5|\n",
            "| setembro|  74031100|         21|     158|    SC| 927700|          10980|    10981407|  103672360|Cátodos e seus el...|NUMERO (UNIDADE)|       MARITIMA|2021|   6|\n",
            "| novembro|  74031100|         21|     158|    SC| 927700|          15004|    15002253|  103079283|Cátodos e seus el...|NUMERO (UNIDADE)|       MARITIMA|2020|   7|\n",
            "| dezembro|  74031100|         21|     158|    SC| 927700|          14259|    14259521|  102675198|Cátodos e seus el...|NUMERO (UNIDADE)|       MARITIMA|2020|   8|\n",
            "|    junho|  74031100|         21|     158|    SC| 927700|          11015|    11014171|  100429605|Cátodos e seus el...|NUMERO (UNIDADE)|       MARITIMA|2022|   9|\n",
            "| setembro|  74031100|         21|     158|    SC| 927700|         611212|    12626343|   98766255|Cátodos e seus el...|NUMERO (UNIDADE)|       MARITIMA|2022|  10|\n",
            "|fevereiro|  74031100|         21|     158|    SC| 927700|         910879|    11974269|   98065516|Cátodos e seus el...|NUMERO (UNIDADE)|       MARITIMA|2021|  11|\n",
            "| novembro|  74031100|         21|     158|    SC| 927700|           9488|     9488763|   93544540|Cátodos e seus el...|NUMERO (UNIDADE)|       MARITIMA|2021|  12|\n",
            "|     maio|  74031100|         21|     158|    SC| 927700|           9106|     9106166|   88992470|Cátodos e seus el...|NUMERO (UNIDADE)|       MARITIMA|2021|  13|\n",
            "|  janeiro|  74031100|         21|     158|    SC| 927700|           8993|     9093574|   88617754|Cátodos e seus el...|NUMERO (UNIDADE)|       MARITIMA|2022|  14|\n",
            "|   agosto|  74031100|         21|     158|    SC| 927700|          11249|    11248652|   86732258|Cátodos e seus el...|NUMERO (UNIDADE)|       MARITIMA|2022|  15|\n",
            "|  outubro|  74031100|         21|     158|    SC| 927700|         213524|    12708882|   86272636|Cátodos e seus el...|NUMERO (UNIDADE)|       MARITIMA|2020|  16|\n",
            "|  janeiro|  85414032|         11|     160|    SC| 927800|         650607|    16883961|   84644776|Células solares e...|NUMERO (UNIDADE)|       MARITIMA|2022|  17|\n",
            "|     maio|  31021010|         10|     556|    SC| 927700|       95153609|    95153609|   83189388|Ureia, mesmo em s...|NUMERO (UNIDADE)|       MARITIMA|2022|  18|\n",
            "|  outubro|  74031100|         21|     158|    SC| 927700|         359779|    10815917|   82481504|Cátodos e seus el...|NUMERO (UNIDADE)|       MARITIMA|2022|  19|\n",
            "| novembro|  74031100|         21|     158|    SC| 927700|         135270|    10458795|   82005522|Cátodos e seus el...|NUMERO (UNIDADE)|       MARITIMA|2022|  20|\n",
            "+---------+----------+-----------+--------+------+-------+---------------+------------+-----------+--------------------+----------------+---------------+----+----+\n",
            "only showing top 20 rows\n",
            "\n"
          ]
        }
      ]
    },
    {
      "cell_type": "code",
      "source": [
        "#rankear os produtos dentro de cada estado pelo volume\n",
        "dfimp_prod.withColumn('rank', F.rank().over(w2)).show()"
      ],
      "metadata": {
        "colab": {
          "base_uri": "https://localhost:8080/"
        },
        "id": "X9poX_x5pQ2o",
        "outputId": "83e9436e-162a-4112-a9dd-4b21ec0e1e32"
      },
      "execution_count": null,
      "outputs": [
        {
          "output_type": "stream",
          "name": "stdout",
          "text": [
            "+---------+----------+-----------+--------+------+-------+---------------+------------+-----------+--------------------+----------------+---------------+----+----+\n",
            "|      mes|mercadoria|cod_unidade|cod_pais|estado|cod_urf|qnt_estatistica|peso_liquido|valor_dolar|             produto|  unidade_medida|meio_transporte| ano|rank|\n",
            "+---------+----------+-----------+--------+------+-------+---------------+------------+-----------+--------------------+----------------+---------------+----+----+\n",
            "|     maio|  27131100|         10|     249|    SC| 927502|      210307698|   210307698|   40948522|Coque de petróleo...|NUMERO (UNIDADE)|       MARITIMA|2022|   1|\n",
            "|    julho|  27131100|         10|     249|    SC| 927502|      193573465|   193573465|   38781592|Coque de petróleo...|NUMERO (UNIDADE)|       MARITIMA|2022|   2|\n",
            "| novembro|  31021010|         10|     556|    SC| 927700|      163506605|   163506605|   69696391|Ureia, mesmo em s...|NUMERO (UNIDADE)|       MARITIMA|2021|   3|\n",
            "|  outubro|  27131100|         10|     249|    SC| 927502|      148578504|   148578504|   19258383|Coque de petróleo...|NUMERO (UNIDADE)|       MARITIMA|2021|   4|\n",
            "|    julho|  27131100|         10|     249|    SC| 927502|      144406816|   144406816|   10030013|Coque de petróleo...|NUMERO (UNIDADE)|       MARITIMA|2019|   5|\n",
            "| dezembro|  27131100|         10|     249|    SC| 927502|      139552980|   139552980|    6172595|Coque de petróleo...|NUMERO (UNIDADE)|       MARITIMA|2019|   6|\n",
            "| novembro|  27131100|         10|     249|    SC| 927502|      137068800|   137068800|    7805527|Coque de petróleo...|NUMERO (UNIDADE)|       MARITIMA|2020|   7|\n",
            "|    abril|  27131100|         10|     249|    SC| 927502|      135624100|   135624100|   21768363|Coque de petróleo...|NUMERO (UNIDADE)|       MARITIMA|2022|   8|\n",
            "|   agosto|  27131100|         10|     249|    SC| 925251|      133960608|   133960608|    7156753|Coque de petróleo...|NUMERO (UNIDADE)|       MARITIMA|2016|   9|\n",
            "|fevereiro|  27131100|         10|     249|    SC| 927502|      128795169|   128795169|    9717074|Coque de petróleo...|NUMERO (UNIDADE)|       MARITIMA|2021|  10|\n",
            "|    abril|  25010019|         10|     158|    SC| 927502|      128766168|   128766168|    2760021|Outros tipos de s...|NUMERO (UNIDADE)|       MARITIMA|2020|  11|\n",
            "|  outubro|  27131100|         10|     249|    SC| 927502|      125513843|   125513843|   11677618|Coque de petróleo...|NUMERO (UNIDADE)|       MARITIMA|2018|  12|\n",
            "| setembro|  27131100|         10|     249|    SC| 927502|      122341356|   122341356|   19586065|Coque de petróleo...|NUMERO (UNIDADE)|       MARITIMA|2022|  13|\n",
            "| dezembro|  31021010|         10|     372|    SC| 927502|      121980995|   121980995|   27205581|Ureia, mesmo em s...|NUMERO (UNIDADE)|       MARITIMA|2019|  14|\n",
            "|    março|  27131100|         10|     249|    SC| 927502|      121916550|   121916550|   18774459|Coque de petróleo...|NUMERO (UNIDADE)|       MARITIMA|2022|  15|\n",
            "|    abril|  25010019|         10|     158|    SC| 927502|      118455000|   118455000|    2558651|Outros tipos de s...|NUMERO (UNIDADE)|       MARITIMA|2022|  16|\n",
            "|  outubro|  25010019|         10|     158|    SC| 927502|      110034010|   110034010|    2186772|Outros tipos de s...|NUMERO (UNIDADE)|       MARITIMA|2022|  17|\n",
            "|fevereiro|  31021010|         10|     556|    SC| 927502|      110006994|   110006994|   60549115|Ureia, mesmo em s...|NUMERO (UNIDADE)|       MARITIMA|2022|  18|\n",
            "| dezembro|  25010019|         10|     158|    SC| 927502|      108490000|   108490000|    2101478|Outros tipos de s...|NUMERO (UNIDADE)|       MARITIMA|2019|  19|\n",
            "| setembro|  25010019|         10|     158|    SC| 927502|      107388408|   107388408|    2139779|Outros tipos de s...|NUMERO (UNIDADE)|       MARITIMA|2019|  20|\n",
            "+---------+----------+-----------+--------+------+-------+---------------+------------+-----------+--------------------+----------------+---------------+----+----+\n",
            "only showing top 20 rows\n",
            "\n"
          ]
        }
      ]
    },
    {
      "cell_type": "code",
      "source": [
        "#rankear os produtos dentro de cada pais pelo valor\n",
        "dfimp_prod.withColumn('rank', F.rank().over(w3)).show()"
      ],
      "metadata": {
        "colab": {
          "base_uri": "https://localhost:8080/"
        },
        "id": "zeQZLyw3a21v",
        "outputId": "076ac405-ef8a-45a8-c943-817f413c1c93"
      },
      "execution_count": null,
      "outputs": [
        {
          "output_type": "stream",
          "name": "stdout",
          "text": [
            "+--------+----------+-----------+--------+------+-------+---------------+------------+-----------+--------------------+----------------+---------------+----+----+\n",
            "|     mes|mercadoria|cod_unidade|cod_pais|estado|cod_urf|qnt_estatistica|peso_liquido|valor_dolar|             produto|  unidade_medida|meio_transporte| ano|rank|\n",
            "+--------+----------+-----------+--------+------+-------+---------------+------------+-----------+--------------------+----------------+---------------+----+----+\n",
            "|   julho|  87032410|         11|       0|    PR| 927700|              1|        2812|      22294|Automóveis com mo...|NUMERO (UNIDADE)|       MARITIMA|2014|   1|\n",
            "|  agosto|  94017900|         11|       0|    RS|1017700|            512|        2560|       7083|Outros assentos c...|NUMERO (UNIDADE)|       MARITIMA|2012|   2|\n",
            "|   junho|  85371090|         10|       0|    SP| 817700|              8|           8|       1021|Outros quadros, e...|NUMERO (UNIDADE)|          AEREA|2014|   3|\n",
            "|   março|  27101911|         16|      65|    PE| 417800|          49324|    40327043|   42241190|Querosenes de avi...|NUMERO (UNIDADE)|       MARITIMA|2012|   1|\n",
            "| janeiro|  27101911|         16|      65|    MA| 327600|          48194|    39379796|   36473309|Querosenes de avi...|NUMERO (UNIDADE)|       MARITIMA|2012|   2|\n",
            "| janeiro|  27131100|         10|      65|    AM| 227600|        8500000|     8500000|    1424175|Coque de petróleo...|NUMERO (UNIDADE)|       MARITIMA|2012|   3|\n",
            "| janeiro|  27131100|         10|      65|    PA| 217602|        3621101|     3621101|     621876|Coque de petróleo...|NUMERO (UNIDADE)|       MARITIMA|2012|   4|\n",
            "| janeiro|  76020000|         10|      65|    ES| 817800|          55364|       55364|      56124|Desperdícios e re...|NUMERO (UNIDADE)|       MARITIMA|2021|   5|\n",
            "| outubro|  76020000|         10|      65|    SP| 817800|          18617|       18617|      36256|Desperdícios e re...|NUMERO (UNIDADE)|       MARITIMA|2014|   6|\n",
            "|dezembro|  76020000|         10|      65|    RS| 927800|          19837|       19837|      35002|Desperdícios e re...|NUMERO (UNIDADE)|       MARITIMA|2018|   7|\n",
            "|   abril|  90183929|         11|      65|    SC| 817600|            550|          55|      19500|Outras sondas, ca...|NUMERO (UNIDADE)|          AEREA|2018|   8|\n",
            "|   março|  97030000|         11|      65|    SP| 817700|              4|          13|       6438|Produções origina...|NUMERO (UNIDADE)|          AEREA|2014|   9|\n",
            "|   julho|  85423120|         11|      65|    SP| 817600|          10972|          11|       2029|Processadores e c...|NUMERO (UNIDADE)|          AEREA|2022|  10|\n",
            "|dezembro|  42032100|         13|      65|    PR| 917900|             51|           7|       1928|Luvas, mitenes e ...|NUMERO (UNIDADE)|          AEREA|2018|  11|\n",
            "|    maio|  85365090|         11|      65|    SP| 817600|              1|           1|       1612|Outros interrupto...|NUMERO (UNIDADE)|          AEREA|2015|  12|\n",
            "|   julho|  84099979|         11|      65|    SP| 817800|             30|           5|        733|Outros anéis de s...|NUMERO (UNIDADE)|       MARITIMA|2021|  13|\n",
            "|dezembro|  73181500|         10|      65|    SP| 817800|            101|         101|        555|Outros parafusos ...|NUMERO (UNIDADE)|       MARITIMA|2012|  14|\n",
            "|  agosto|  73181500|         10|      65|    SP| 817800|             78|          78|        400|Outros parafusos ...|NUMERO (UNIDADE)|       MARITIMA|2012|  15|\n",
            "|   julho|  73181500|         10|      65|    SP| 817800|             57|          57|        396|Outros parafusos ...|NUMERO (UNIDADE)|       MARITIMA|2013|  16|\n",
            "|setembro|  85322111|         11|      65|    SP| 817600|          16000|           1|        320|Condensador fixo ...|NUMERO (UNIDADE)|          AEREA|2022|  17|\n",
            "+--------+----------+-----------+--------+------+-------+---------------+------------+-----------+--------------------+----------------+---------------+----+----+\n",
            "only showing top 20 rows\n",
            "\n"
          ]
        }
      ]
    },
    {
      "cell_type": "code",
      "source": [
        "#rankear os produtos dentro de cada pais pelo volume\n",
        "dfimp_prod.withColumn('rank', F.rank().over(w4)).show()"
      ],
      "metadata": {
        "colab": {
          "base_uri": "https://localhost:8080/"
        },
        "id": "F16PM6HHbMbz",
        "outputId": "5a478f2c-977d-408f-e380-fd89a112fc6f"
      },
      "execution_count": null,
      "outputs": [
        {
          "output_type": "stream",
          "name": "stdout",
          "text": [
            "+--------+----------+-----------+--------+------+-------+---------------+------------+-----------+--------------------+----------------+---------------+----+----+\n",
            "|     mes|mercadoria|cod_unidade|cod_pais|estado|cod_urf|qnt_estatistica|peso_liquido|valor_dolar|             produto|  unidade_medida|meio_transporte| ano|rank|\n",
            "+--------+----------+-----------+--------+------+-------+---------------+------------+-----------+--------------------+----------------+---------------+----+----+\n",
            "|   julho|  87032410|         11|       0|    PR| 927700|              1|        2812|      22294|Automóveis com mo...|NUMERO (UNIDADE)|       MARITIMA|2014|   1|\n",
            "|  agosto|  94017900|         11|       0|    RS|1017700|            512|        2560|       7083|Outros assentos c...|NUMERO (UNIDADE)|       MARITIMA|2012|   2|\n",
            "|   junho|  85371090|         10|       0|    SP| 817700|              8|           8|       1021|Outros quadros, e...|NUMERO (UNIDADE)|          AEREA|2014|   3|\n",
            "|   março|  27101911|         16|      65|    PE| 417800|          49324|    40327043|   42241190|Querosenes de avi...|NUMERO (UNIDADE)|       MARITIMA|2012|   1|\n",
            "| janeiro|  27101911|         16|      65|    MA| 327600|          48194|    39379796|   36473309|Querosenes de avi...|NUMERO (UNIDADE)|       MARITIMA|2012|   2|\n",
            "| janeiro|  27131100|         10|      65|    AM| 227600|        8500000|     8500000|    1424175|Coque de petróleo...|NUMERO (UNIDADE)|       MARITIMA|2012|   3|\n",
            "| janeiro|  27131100|         10|      65|    PA| 217602|        3621101|     3621101|     621876|Coque de petróleo...|NUMERO (UNIDADE)|       MARITIMA|2012|   4|\n",
            "| janeiro|  76020000|         10|      65|    ES| 817800|          55364|       55364|      56124|Desperdícios e re...|NUMERO (UNIDADE)|       MARITIMA|2021|   5|\n",
            "|dezembro|  76020000|         10|      65|    RS| 927800|          19837|       19837|      35002|Desperdícios e re...|NUMERO (UNIDADE)|       MARITIMA|2018|   6|\n",
            "| outubro|  76020000|         10|      65|    SP| 817800|          18617|       18617|      36256|Desperdícios e re...|NUMERO (UNIDADE)|       MARITIMA|2014|   7|\n",
            "|dezembro|  73181500|         10|      65|    SP| 817800|            101|         101|        555|Outros parafusos ...|NUMERO (UNIDADE)|       MARITIMA|2012|   8|\n",
            "|  agosto|  73181500|         10|      65|    SP| 817800|             78|          78|        400|Outros parafusos ...|NUMERO (UNIDADE)|       MARITIMA|2012|   9|\n",
            "|   julho|  73181500|         10|      65|    SP| 817800|             57|          57|        396|Outros parafusos ...|NUMERO (UNIDADE)|       MARITIMA|2013|  10|\n",
            "|   abril|  90183929|         11|      65|    SC| 817600|            550|          55|      19500|Outras sondas, ca...|NUMERO (UNIDADE)|          AEREA|2018|  11|\n",
            "|novembro|  73181500|         10|      65|    SP| 817800|             44|          44|        290|Outros parafusos ...|NUMERO (UNIDADE)|       MARITIMA|2012|  12|\n",
            "|   março|  97030000|         11|      65|    SP| 817700|              4|          13|       6438|Produções origina...|NUMERO (UNIDADE)|          AEREA|2014|  13|\n",
            "|   julho|  85423120|         11|      65|    SP| 817600|          10972|          11|       2029|Processadores e c...|NUMERO (UNIDADE)|          AEREA|2022|  14|\n",
            "|   abril|  73182900|         10|      65|    SC| 817600|             10|          10|        276|Outros artefatos ...|NUMERO (UNIDADE)|          AEREA|2013|  15|\n",
            "|dezembro|  42032100|         13|      65|    PR| 917900|             51|           7|       1928|Luvas, mitenes e ...|NUMERO (UNIDADE)|          AEREA|2018|  16|\n",
            "|   julho|  84099979|         11|      65|    SP| 817800|             30|           5|        733|Outros anéis de s...|NUMERO (UNIDADE)|       MARITIMA|2021|  17|\n",
            "+--------+----------+-----------+--------+------+-------+---------------+------------+-----------+--------------------+----------------+---------------+----+----+\n",
            "only showing top 20 rows\n",
            "\n"
          ]
        }
      ]
    },
    {
      "cell_type": "code",
      "source": [
        "#criar windons sobre os meios de transporte ordenados pelo valor e pelo volume\n",
        "w5 = Window.partitionBy(F.col('meio_transporte')).orderBy(F.col('valor_dolar').desc())\n",
        "w6 = Window.partitionBy(F.col('meio_transporte')).orderBy(F.col('peso_liquido').desc())"
      ],
      "metadata": {
        "id": "hs85oxKHphOi"
      },
      "execution_count": null,
      "outputs": []
    },
    {
      "cell_type": "code",
      "source": [
        "#rankear os produtos dentro de cada meio de transporte pelo valor\n",
        "dfimp_prod.withColumn('rank', F.rank().over(w5)).show()"
      ],
      "metadata": {
        "colab": {
          "base_uri": "https://localhost:8080/"
        },
        "id": "iN8Ix8HvqDb6",
        "outputId": "fdda7637-c03e-4eb1-e8ba-af612cdf250b"
      },
      "execution_count": null,
      "outputs": [
        {
          "output_type": "stream",
          "name": "stdout",
          "text": [
            "+---------+----------+-----------+--------+------+-------+---------------+------------+-----------+--------------------+----------------+--------------------+----+----+\n",
            "|      mes|mercadoria|cod_unidade|cod_pais|estado|cod_urf|qnt_estatistica|peso_liquido|valor_dolar|             produto|  unidade_medida|     meio_transporte| ano|rank|\n",
            "+---------+----------+-----------+--------+------+-------+---------------+------------+-----------+--------------------+----------------+--------------------+----+----+\n",
            "|    abril|  27112100|         10|      97|    MS| 145200|      733060583|   733060583|  333017602|Gás natural no es...|NUMERO (UNIDADE)|CONDUTO/REDE DE T...|2012|   1|\n",
            "|  janeiro|  27112100|         10|      97|    MS| 145200|      747441654|   747441654|  330730259|Gás natural no es...|NUMERO (UNIDADE)|CONDUTO/REDE DE T...|2014|   2|\n",
            "| novembro|  27112100|         10|      97|    MS| 145200|      745762906|   745762906|  330685879|Gás natural no es...|NUMERO (UNIDADE)|CONDUTO/REDE DE T...|2013|   3|\n",
            "|    junho|  27112100|         10|      97|    MS| 145200|      700612087|   700612087|  329565138|Gás natural no es...|NUMERO (UNIDADE)|CONDUTO/REDE DE T...|2012|   4|\n",
            "|    julho|  27112100|         10|      97|    MS| 145200|      720762663|   720762663|  326615280|Gás natural no es...|NUMERO (UNIDADE)|CONDUTO/REDE DE T...|2013|   5|\n",
            "| novembro|  27112100|         10|      97|    MS| 145200|      703194788|   703194788|  326248157|Gás natural no es...|NUMERO (UNIDADE)|CONDUTO/REDE DE T...|2012|   6|\n",
            "|  janeiro|  27112100|         10|      97|    MS| 145200|      697244883|   697244883|  322262524|Gás natural no es...|NUMERO (UNIDADE)|CONDUTO/REDE DE T...|2013|   7|\n",
            "| dezembro|  27112100|         10|      97|    MS| 145200|      691744836|   691744836|  320832910|Gás natural no es...|NUMERO (UNIDADE)|CONDUTO/REDE DE T...|2012|   8|\n",
            "| dezembro|  27112100|         10|      97|    MS| 145200|      723099670|   723099670|  319601636|Gás natural no es...|NUMERO (UNIDADE)|CONDUTO/REDE DE T...|2013|   9|\n",
            "|fevereiro|  27112100|         10|      97|    MS| 145200|      748755022|   748755022|  318572299|Gás natural no es...|NUMERO (UNIDADE)|CONDUTO/REDE DE T...|2014|  10|\n",
            "|    junho|  27112100|         10|      97|    MS| 145200|      704226961|   704226961|  317884738|Gás natural no es...|NUMERO (UNIDADE)|CONDUTO/REDE DE T...|2013|  11|\n",
            "|fevereiro|  27112100|         10|      97|    MS| 145200|      706638009|   706638009|  317725816|Gás natural no es...|NUMERO (UNIDADE)|CONDUTO/REDE DE T...|2013|  12|\n",
            "|    abril|  27112100|         10|      97|    MS| 145200|      705140132|   705140132|  317539565|Gás natural no es...|NUMERO (UNIDADE)|CONDUTO/REDE DE T...|2013|  13|\n",
            "| setembro|  27112100|         10|      97|    MS| 145200|      743686378|   743686378|  316103600|Gás natural no es...|NUMERO (UNIDADE)|CONDUTO/REDE DE T...|2014|  14|\n",
            "|    junho|  27112100|         10|      97|    MS| 145200|      743295688|   743295688|  315682466|Gás natural no es...|NUMERO (UNIDADE)|CONDUTO/REDE DE T...|2014|  15|\n",
            "|    abril|  27112100|         10|      97|    MS| 145200|      738884930|   738884930|  314210597|Gás natural no es...|NUMERO (UNIDADE)|CONDUTO/REDE DE T...|2014|  16|\n",
            "|   agosto|  27112100|         10|      97|    MS| 145200|      737496571|   737496571|  313504266|Gás natural no es...|NUMERO (UNIDADE)|CONDUTO/REDE DE T...|2014|  17|\n",
            "| setembro|  27112100|         10|      97|    MS| 145200|      696219831|   696219831|  308900819|Gás natural no es...|NUMERO (UNIDADE)|CONDUTO/REDE DE T...|2013|  18|\n",
            "|   agosto|  27112100|         10|      97|    MS| 145200|      700638639|   700638639|  307933296|Gás natural no es...|NUMERO (UNIDADE)|CONDUTO/REDE DE T...|2013|  19|\n",
            "|     maio|  27112100|         10|      97|    MS| 145200|      719072158|   719072158|  305152937|Gás natural no es...|NUMERO (UNIDADE)|CONDUTO/REDE DE T...|2014|  20|\n",
            "+---------+----------+-----------+--------+------+-------+---------------+------------+-----------+--------------------+----------------+--------------------+----+----+\n",
            "only showing top 20 rows\n",
            "\n"
          ]
        }
      ]
    },
    {
      "cell_type": "code",
      "source": [
        "#rankear os produtos dentro de cada meio de transporte pelo volume\n",
        "dfimp_prod.withColumn('rank', F.rank().over(w6)).show()"
      ],
      "metadata": {
        "colab": {
          "base_uri": "https://localhost:8080/"
        },
        "id": "0ObJ8cNJqDMK",
        "outputId": "fac0debe-65d6-4ff9-ad47-0b1b0889de81"
      },
      "execution_count": null,
      "outputs": [
        {
          "output_type": "stream",
          "name": "stdout",
          "text": [
            "+---------+----------+-----------+--------+------+-------+---------------+------------+-----------+--------------------+----------------+--------------------+----+----+\n",
            "|      mes|mercadoria|cod_unidade|cod_pais|estado|cod_urf|qnt_estatistica|peso_liquido|valor_dolar|             produto|  unidade_medida|     meio_transporte| ano|rank|\n",
            "+---------+----------+-----------+--------+------+-------+---------------+------------+-----------+--------------------+----------------+--------------------+----+----+\n",
            "|fevereiro|  27112100|         10|      97|    MS| 145200|      748755022|   748755022|  318572299|Gás natural no es...|NUMERO (UNIDADE)|CONDUTO/REDE DE T...|2014|   1|\n",
            "|  janeiro|  27112100|         10|      97|    MS| 145200|      747441654|   747441654|  330730259|Gás natural no es...|NUMERO (UNIDADE)|CONDUTO/REDE DE T...|2014|   2|\n",
            "| novembro|  27112100|         10|      97|    MS| 145200|      745762906|   745762906|  330685879|Gás natural no es...|NUMERO (UNIDADE)|CONDUTO/REDE DE T...|2013|   3|\n",
            "| setembro|  27112100|         10|      97|    MS| 145200|      743686378|   743686378|  316103600|Gás natural no es...|NUMERO (UNIDADE)|CONDUTO/REDE DE T...|2014|   4|\n",
            "|    junho|  27112100|         10|      97|    MS| 145200|      743295688|   743295688|  315682466|Gás natural no es...|NUMERO (UNIDADE)|CONDUTO/REDE DE T...|2014|   5|\n",
            "|    julho|  27112100|         10|      97|    MT| 130151|      742488503|   742488503|    2001625|Gás natural no es...|NUMERO (UNIDADE)|CONDUTO/REDE DE T...|2022|   6|\n",
            "|    abril|  27112100|         10|      97|    MS| 145200|      738884930|   738884930|  314210597|Gás natural no es...|NUMERO (UNIDADE)|CONDUTO/REDE DE T...|2014|   7|\n",
            "|   agosto|  27112100|         10|      97|    MS| 145200|      737496571|   737496571|  313504266|Gás natural no es...|NUMERO (UNIDADE)|CONDUTO/REDE DE T...|2014|   8|\n",
            "|fevereiro|  27112100|         10|      97|    MS| 145200|      736672810|   736672810|  224900619|Gás natural no es...|NUMERO (UNIDADE)|CONDUTO/REDE DE T...|2015|   9|\n",
            "|    abril|  27112100|         10|      97|    MS| 145200|      733060583|   733060583|  333017602|Gás natural no es...|NUMERO (UNIDADE)|CONDUTO/REDE DE T...|2012|  10|\n",
            "|    abril|  27112100|         10|      97|    MS| 145200|      732086808|   732086808|  223280472|Gás natural no es...|NUMERO (UNIDADE)|CONDUTO/REDE DE T...|2015|  11|\n",
            "| novembro|  27112100|         10|      97|    MS| 147600|      727362485|   727362485|  164080351|Gás natural no es...|NUMERO (UNIDADE)|CONDUTO/REDE DE T...|2019|  12|\n",
            "|    abril|  27112100|         10|      97|    MS| 145200|      726956497|   726956497|  127004664|Gás natural no es...|NUMERO (UNIDADE)|CONDUTO/REDE DE T...|2016|  13|\n",
            "| dezembro|  27112100|         10|      97|    MS| 145200|      723099670|   723099670|  319601636|Gás natural no es...|NUMERO (UNIDADE)|CONDUTO/REDE DE T...|2013|  14|\n",
            "|fevereiro|  27112100|         10|      97|    MS| 145200|      721517588|   721517588|  126101820|Gás natural no es...|NUMERO (UNIDADE)|CONDUTO/REDE DE T...|2016|  15|\n",
            "|    julho|  27112100|         10|      97|    MS| 145200|      720762663|   720762663|  326615280|Gás natural no es...|NUMERO (UNIDADE)|CONDUTO/REDE DE T...|2013|  16|\n",
            "|     maio|  27112100|         10|      97|    MS| 145200|      719072158|   719072158|  305152937|Gás natural no es...|NUMERO (UNIDADE)|CONDUTO/REDE DE T...|2014|  17|\n",
            "| novembro|  27112100|         10|      97|    MS| 145200|      716485594|   716485594|  253485499|Gás natural no es...|NUMERO (UNIDADE)|CONDUTO/REDE DE T...|2014|  18|\n",
            "|    junho|  27112100|         10|      97|    MS| 145200|      711894021|   711894021|  197464995|Gás natural no es...|NUMERO (UNIDADE)|CONDUTO/REDE DE T...|2015|  19|\n",
            "|fevereiro|  27112100|         10|      97|    MS| 145200|      706638009|   706638009|  317725816|Gás natural no es...|NUMERO (UNIDADE)|CONDUTO/REDE DE T...|2013|  20|\n",
            "+---------+----------+-----------+--------+------+-------+---------------+------------+-----------+--------------------+----------------+--------------------+----+----+\n",
            "only showing top 20 rows\n",
            "\n"
          ]
        }
      ]
    },
    {
      "cell_type": "code",
      "source": [
        "#deletar a base por espaço\n",
        "# del dfimp_prod"
      ],
      "metadata": {
        "id": "kSus06PMCONp"
      },
      "execution_count": null,
      "outputs": []
    },
    {
      "cell_type": "markdown",
      "source": [
        "## 3c - base exportação municipio"
      ],
      "metadata": {
        "id": "v1PXNJXFAzfV"
      }
    },
    {
      "cell_type": "code",
      "execution_count": null,
      "metadata": {
        "id": "nkHl5GH6DJjD"
      },
      "outputs": [],
      "source": [
        "dfexp_mun = ( spark.read.format('parquet')\n",
        "                 .option('header', 'true')\n",
        "                 .option('inferschema', 'true')\n",
        "                 .option('delimiter', ',')\n",
        "                 .load(path_exp_mun))"
      ]
    },
    {
      "cell_type": "code",
      "execution_count": null,
      "metadata": {
        "colab": {
          "background_save": true
        },
        "id": "ugEEeuVTCPnE"
      },
      "outputs": [],
      "source": [
        "#caso o comando falhe, carregar a base por pandas e tranformar\n",
        "#criar dataframe com as importações por município\n",
        "# df_em = pd.read_parquet(path_exp_mun)\n",
        "#olar a base\n",
        "# df_em.head(2)"
      ]
    },
    {
      "cell_type": "code",
      "execution_count": null,
      "metadata": {
        "id": "CbVMe15tCPnF"
      },
      "outputs": [],
      "source": [
        "#transforma para spark\n",
        "# dfexp_mun = spark.createDataFrame(df_em)"
      ]
    },
    {
      "cell_type": "code",
      "execution_count": null,
      "metadata": {
        "id": "K-PmwGexCPnG",
        "colab": {
          "base_uri": "https://localhost:8080/"
        },
        "outputId": "6634b075-f32b-4cab-85f7-ee2229d74956"
      },
      "outputs": [
        {
          "output_type": "stream",
          "name": "stdout",
          "text": [
            "+--------+----+--------+------+-------------+------------+-----------+-------------------------------+------------+----+\n",
            "|     mes| SH4|cod_pais|estado|cod_municipio|peso_liquido|valor_dolar|descricoes__sistema_harmonizado|   municipio| ano|\n",
            "+--------+----+--------+------+-------------+------------+-----------+-------------------------------+------------+----+\n",
            "|    maio|4016|     160|    RS|      4314902|         826|       4341|           Compostos heteroc...|Porto Alegre|2021|\n",
            "|dezembro|8477|     245|    RS|      4314902|           1|        512|           Fatos de saia-cas...|Porto Alegre|2021|\n",
            "| outubro|7326|     245|    RS|      4314902|       16152|     112832|           Outros papéis, ca...|Porto Alegre|2021|\n",
            "|   março|8708|     160|    RS|      4314902|      199184|     762402|           Chapéus e outros ...|Porto Alegre|2021|\n",
            "|novembro|8542|     493|    RS|      4314902|           1|       2864|           Lenços de assoar ...|Porto Alegre|2021|\n",
            "|novembro|7013|     160|    RS|      4314902|       47162|     136056|           Obras de carpinta...|Porto Alegre|2021|\n",
            "|    maio|4803|     845|    RS|      4314902|       15720|      15720|           Sangue humano; sa...|Porto Alegre|2021|\n",
            "|setembro|8542|     776|    RS|      4314902|          28|      41670|           Lenços de assoar ...|Porto Alegre|2021|\n",
            "| outubro|9003|     275|    RS|      4314902|           2|       3138|           Fibras de vidro (...|Porto Alegre|2021|\n",
            "|novembro|8532|     249|    RS|      4314902|         217|      17514|           Fatos de treino p...|Porto Alegre|2021|\n",
            "|novembro|6115|     386|    RS|      4314902|         214|      10767|           Polímeros de etil...|Porto Alegre|2021|\n",
            "|   abril|8544|     249|    RS|      4314902|          29|      13719|           Lenços de assoar ...|Porto Alegre|2021|\n",
            "|setembro|8301|      23|    RS|      4314902|          18|       1040|           Fatos de saia-cas...|Porto Alegre|2021|\n",
            "| janeiro|8542|     249|    RS|      4314902|           2|      10263|           Lenços de assoar ...|Porto Alegre|2021|\n",
            "| janeiro|8483|      23|    RS|      4314902|        3651|      68272|           Camisas de uso ma...|Porto Alegre|2021|\n",
            "|novembro|7326|      23|    RS|      4314902|          20|       2585|           Outros papéis, ca...|Porto Alegre|2021|\n",
            "|setembro|8541|     267|    RS|      4314902|           0|        112|           Lenços de assoar ...|Porto Alegre|2021|\n",
            "|   junho|8538|     399|    RS|      4314902|           3|       1502|           Soutiens, cintas,...|Porto Alegre|2021|\n",
            "|setembro|8708|     628|    RS|      4314902|        5440|      56734|           Chapéus e outros ...|Porto Alegre|2021|\n",
            "|    maio|6805|     831|    RS|      4314902|          37|        725|           Peles com pêlo cu...|Porto Alegre|2021|\n",
            "+--------+----+--------+------+-------------+------------+-----------+-------------------------------+------------+----+\n",
            "only showing top 20 rows\n",
            "\n"
          ]
        }
      ],
      "source": [
        "#ver a base\n",
        "dfexp_mun.show()"
      ]
    },
    {
      "cell_type": "code",
      "source": [
        "#se usou a transformação\n",
        "# del df_em"
      ],
      "metadata": {
        "id": "RwGYLiBcCPnG"
      },
      "execution_count": null,
      "outputs": []
    },
    {
      "cell_type": "code",
      "execution_count": null,
      "metadata": {
        "id": "AlCRPxkiCPnG",
        "colab": {
          "base_uri": "https://localhost:8080/"
        },
        "outputId": "d02bbba1-cc77-4fc1-bdfd-b2bdffdd55dd"
      },
      "outputs": [
        {
          "output_type": "stream",
          "name": "stdout",
          "text": [
            "root\n",
            " |-- mes: string (nullable = true)\n",
            " |-- SH4: long (nullable = true)\n",
            " |-- cod_pais: long (nullable = true)\n",
            " |-- estado: string (nullable = true)\n",
            " |-- cod_municipio: long (nullable = true)\n",
            " |-- peso_liquido: long (nullable = true)\n",
            " |-- valor_dolar: long (nullable = true)\n",
            " |-- descricoes__sistema_harmonizado: string (nullable = true)\n",
            " |-- municipio: string (nullable = true)\n",
            " |-- ano: integer (nullable = true)\n",
            "\n"
          ]
        }
      ],
      "source": [
        "#ver o esquema\n",
        "dfexp_mun.printSchema()"
      ]
    },
    {
      "cell_type": "code",
      "execution_count": null,
      "metadata": {
        "id": "tfkvFdvKCPnH"
      },
      "outputs": [],
      "source": [
        "dfexp_mun.describe().show()"
      ]
    },
    {
      "cell_type": "code",
      "execution_count": null,
      "metadata": {
        "id": "gadWZ5RQCPnH"
      },
      "outputs": [],
      "source": [
        "#resumir os dados - comando demorado!\n",
        "dfexp_mun.select(F.col('ano'), F.col('mes'), F.col('valor_dolar'), F.col('peso_liquido')).summary().show()"
      ]
    },
    {
      "cell_type": "code",
      "source": [
        "#rankear os produtos dentro de cada estado pelo valor\n",
        "dfexp_mun.withColumn('rank', F.rank().over(w1)).show()"
      ],
      "metadata": {
        "id": "Gu-JPQA5blDV",
        "colab": {
          "base_uri": "https://localhost:8080/"
        },
        "outputId": "a6f48c93-75b6-4efc-84d0-73468299e36e"
      },
      "execution_count": null,
      "outputs": [
        {
          "output_type": "stream",
          "name": "stdout",
          "text": [
            "+---------+----+--------+------+-------------+------------+-----------+-------------------------------+--------------------+----+----+\n",
            "|      mes| SH4|cod_pais|estado|cod_municipio|peso_liquido|valor_dolar|descricoes__sistema_harmonizado|           municipio| ano|rank|\n",
            "+---------+----+--------+------+-------------+------------+-----------+-------------------------------+--------------------+----+----+\n",
            "| novembro|3102|     556|    SC|      4216206|   235755435|  102546437|           Ácidos monocarbox...|São Francisco do Sul|2021|   1|\n",
            "|     maio|3102|     556|    SC|      4216206|   110155938|   96113699|           Ácidos monocarbox...|São Francisco do Sul|2022|   2|\n",
            "|  outubro|8703|     493|    SC|      4209102|     9021499|   84679167|           Chapéus e outros ...|           Joinville|2018|   3|\n",
            "|fevereiro|3102|     556|    SC|      4216206|   156521310|   80203394|           Ácidos monocarbox...|São Francisco do Sul|2022|   4|\n",
            "|    julho|8703|      63|    SC|      4209102|     4574089|   74502487|           Chapéus e outros ...|           Joinville|2018|   5|\n",
            "|fevereiro|8541|     160|    SC|      4208203|    14473034|   73946904|           Lenços de assoar ...|              Itajaí|2022|   6|\n",
            "|     maio|8703|     493|    SC|      4209102|     7450388|   70683682|           Chapéus e outros ...|           Joinville|2019|   7|\n",
            "|  janeiro|8541|     160|    SC|      4208203|    13977666|   70535231|           Lenços de assoar ...|              Itajaí|2022|   8|\n",
            "|    junho|7403|     158|    SC|      4208203|     7490787|   67448797|           Fios de lã pentea...|              Itajaí|2022|   9|\n",
            "| novembro|7403|     158|    SC|      4208203|     8475681|   67448383|           Fios de lã pentea...|              Itajaí|2012|  10|\n",
            "| dezembro|8703|      63|    SC|      4209102|     4135715|   65567405|           Chapéus e outros ...|           Joinville|2019|  11|\n",
            "|   agosto|8541|     160|    SC|      4208203|    13288808|   64446191|           Lenços de assoar ...|              Itajaí|2022|  12|\n",
            "|    abril|7403|     158|    SC|      4208203|     6796404|   63169160|           Fios de lã pentea...|              Itajaí|2021|  13|\n",
            "|    março|8541|     160|    SC|      4208203|    11596628|   60386300|           Lenços de assoar ...|              Itajaí|2022|  14|\n",
            "|    junho|7403|     158|    SC|      4208203|     6123575|   59993049|           Fios de lã pentea...|              Itajaí|2021|  15|\n",
            "|   agosto|8703|      63|    SC|      4209102|     3641086|   59202114|           Chapéus e outros ...|           Joinville|2018|  16|\n",
            "| setembro|7403|     158|    SC|      4209102|     6169488|   58015603|           Fios de lã pentea...|           Joinville|2021|  17|\n",
            "| dezembro|7403|     158|    SC|      4209102|     7935391|   57012909|           Fios de lã pentea...|           Joinville|2020|  18|\n",
            "| novembro|7403|     158|    SC|      4208203|     8150871|   56904145|           Fios de lã pentea...|              Itajaí|2020|  19|\n",
            "|  outubro|7403|     158|    SC|      4208203|     5876582|   56219382|           Fios de lã pentea...|              Itajaí|2021|  20|\n",
            "+---------+----+--------+------+-------------+------------+-----------+-------------------------------+--------------------+----+----+\n",
            "only showing top 20 rows\n",
            "\n"
          ]
        }
      ]
    },
    {
      "cell_type": "code",
      "source": [
        "#rankear os produtos dentro de cada estado pelo volume\n",
        "dfexp_mun.withColumn('rank', F.rank().over(w2)).show()"
      ],
      "metadata": {
        "id": "FYYc5MAlbk5e",
        "colab": {
          "base_uri": "https://localhost:8080/"
        },
        "outputId": "6de258ea-c7b5-4bcf-96c4-40c7f04f6dc8"
      },
      "execution_count": null,
      "outputs": [
        {
          "output_type": "stream",
          "name": "stdout",
          "text": [
            "+---------+----+--------+------+-------------+------------+-----------+-------------------------------+--------------------+----+----+\n",
            "|      mes| SH4|cod_pais|estado|cod_municipio|peso_liquido|valor_dolar|descricoes__sistema_harmonizado|           municipio| ano|rank|\n",
            "+---------+----+--------+------+-------------+------------+-----------+-------------------------------+--------------------+----+----+\n",
            "| novembro|3102|     556|    SC|      4216206|   235755435|  102546437|           Ácidos monocarbox...|São Francisco do Sul|2021|   1|\n",
            "|     maio|2713|     249|    SC|      4208203|   200589931|   39185289|           Derivados sulfona...|              Itajaí|2022|   2|\n",
            "|    julho|2713|     249|    SC|      4208203|   193573465|   38781592|           Derivados sulfona...|              Itajaí|2022|   3|\n",
            "|fevereiro|3102|     556|    SC|      4216206|   156521310|   80203394|           Ácidos monocarbox...|São Francisco do Sul|2022|   4|\n",
            "| novembro|2713|     249|    SC|      4208203|   137068800|    7805527|           Derivados sulfona...|              Itajaí|2020|   5|\n",
            "|    abril|2713|     249|    SC|      4208203|   135624100|   21768363|           Derivados sulfona...|              Itajaí|2022|   6|\n",
            "|    julho|3102|     372|    SC|      4207502|   131915887|   29621945|           Ácidos monocarbox...|             Indaial|2019|   7|\n",
            "|    abril|2501|     158|    SC|      4207304|   128766168|    2760021|           Outros compostos ...|            Imbituba|2020|   8|\n",
            "|    julho|3102|     556|    SC|      4216206|   124522195|   42365139|           Ácidos monocarbox...|São Francisco do Sul|2021|   9|\n",
            "| dezembro|3102|     372|    SC|      4207502|   121980995|   27205581|           Ácidos monocarbox...|             Indaial|2019|  10|\n",
            "|    abril|2501|     158|    SC|      4207304|   118455000|    2558651|           Outros compostos ...|            Imbituba|2022|  11|\n",
            "|     maio|3102|     556|    SC|      4216206|   110155938|   96113699|           Ácidos monocarbox...|São Francisco do Sul|2022|  12|\n",
            "| dezembro|2501|     158|    SC|      4207304|   108490000|    2101478|           Outros compostos ...|            Imbituba|2019|  13|\n",
            "|    abril|2501|     158|    SC|      4207304|   105220808|    2073826|           Outros compostos ...|            Imbituba|2021|  14|\n",
            "|fevereiro|2501|     158|    SC|      4207304|   102972000|    2207927|           Outros compostos ...|            Imbituba|2022|  15|\n",
            "|    julho|3102|     372|    SC|      4207502|   101007288|   22653117|           Ácidos monocarbox...|             Indaial|2020|  16|\n",
            "|    março|2713|     249|    SC|      4208203|   100393321|    8631279|           Derivados sulfona...|              Itajaí|2021|  17|\n",
            "|   agosto|2713|     249|    SC|      4208203|   100376231|   11362236|           Derivados sulfona...|              Itajaí|2021|  18|\n",
            "|   agosto|2713|     249|    SC|      4208203|    98972658|    5748773|           Derivados sulfona...|              Itajaí|2019|  19|\n",
            "|fevereiro|2713|     249|    SC|      4208203|    98963160|    7626162|           Derivados sulfona...|              Itajaí|2018|  20|\n",
            "+---------+----+--------+------+-------------+------------+-----------+-------------------------------+--------------------+----+----+\n",
            "only showing top 20 rows\n",
            "\n"
          ]
        }
      ]
    },
    {
      "cell_type": "code",
      "source": [
        "#rankear os produtos dentro de cada pais pelo valor\n",
        "dfexp_mun.withColumn('rank', F.rank().over(w3)).show()"
      ],
      "metadata": {
        "id": "NinERLUQcPc4",
        "colab": {
          "base_uri": "https://localhost:8080/"
        },
        "outputId": "447f2daf-48cd-4b9f-b706-0f0f6b53bec4"
      },
      "execution_count": null,
      "outputs": [
        {
          "output_type": "stream",
          "name": "stdout",
          "text": [
            "+--------+----+--------+------+-------------+------------+-----------+-------------------------------+----------------+----+----+\n",
            "|     mes| SH4|cod_pais|estado|cod_municipio|peso_liquido|valor_dolar|descricoes__sistema_harmonizado|       municipio| ano|rank|\n",
            "+--------+----+--------+------+-------------+------------+-----------+-------------------------------+----------------+----+----+\n",
            "|   julho|8703|       0|    PR|      4106902|        2812|      22294|           Chapéus e outros ...|        Curitiba|2014|   1|\n",
            "|  agosto|9401|       0|    RS|      4314902|        2560|       7083|           Reservatórios, to...|    Porto Alegre|2012|   2|\n",
            "|   junho|8537|       0|    SP|      3440606|           8|       1021|           Soutiens, cintas,...|     Porto Feliz|2014|   3|\n",
            "|   março|2710|      65|    PE|      2607208|    40327043|   42241190|           Derivados sulfona...|         Ipojuca|2012|   1|\n",
            "| janeiro|2710|      65|    MA|      2111300|    39379796|   36473309|           Derivados sulfona...|        São Luís|2012|   2|\n",
            "| janeiro|2713|      65|    AM|      1302603|     8500000|    1424175|           Derivados sulfona...|          Manaus|2012|   3|\n",
            "| janeiro|2713|      65|    PA|      1502202|     3621101|     621876|           Derivados sulfona...|        Capanema|2012|   4|\n",
            "| janeiro|7602|      65|    ES|      3205309|       55364|      56124|           Sisal e outras fi...|         Vitória|2021|   5|\n",
            "| outubro|7602|      65|    SP|      3438006|       18617|      36256|           Sisal e outras fi...| Pindamonhangaba|2014|   6|\n",
            "|dezembro|7602|      65|    RS|      4301107|       19837|      35002|           Sisal e outras fi...|Arroio dos Ratos|2018|   7|\n",
            "|   abril|9018|      65|    SC|      4205407|          55|      19500|           Pérolas naturais ...|   Florianópolis|2018|   8|\n",
            "|   março|9703|      65|    SP|      3450308|          13|       6438|           Desperdícios e re...|       São Paulo|2014|   9|\n",
            "|   julho|8542|      65|    SP|      3450308|          11|       2029|           Lenços de assoar ...|       São Paulo|2022|  10|\n",
            "|dezembro|4203|      65|    PR|      4106902|           7|       1928|           Compostos heteroc...|        Curitiba|2018|  11|\n",
            "|    maio|8536|      65|    SP|      3405708|           1|       1612|           Soutiens, cintas,...|         Barueri|2015|  12|\n",
            "|   julho|8409|      65|    SP|      3452205|           5|        733|           Luvas, mitenes e ...|        Sorocaba|2021|  13|\n",
            "|dezembro|7318|      65|    SP|      3420509|         101|        555|           Outros papéis, ca...|      Indaiatuba|2012|  14|\n",
            "|  agosto|7318|      65|    SP|      3452205|          78|        400|           Outros papéis, ca...|        Sorocaba|2012|  15|\n",
            "|   julho|7318|      65|    SP|      3420509|          57|        396|           Outros papéis, ca...|      Indaiatuba|2013|  16|\n",
            "|setembro|8532|      65|    SP|      3450308|           1|        326|           Fatos de treino p...|       São Paulo|2022|  17|\n",
            "+--------+----+--------+------+-------------+------------+-----------+-------------------------------+----------------+----+----+\n",
            "only showing top 20 rows\n",
            "\n"
          ]
        }
      ]
    },
    {
      "cell_type": "code",
      "source": [
        "#rankear os produtos dentro de cada pais pelo volume\n",
        "dfexp_mun.withColumn('rank', F.rank().over(w4)).show()"
      ],
      "metadata": {
        "id": "S3bE2G-ccPc4",
        "colab": {
          "base_uri": "https://localhost:8080/"
        },
        "outputId": "1b96e856-6360-47e4-fa3a-ed4c6ae454c2"
      },
      "execution_count": null,
      "outputs": [
        {
          "output_type": "stream",
          "name": "stdout",
          "text": [
            "+--------+----+--------+------+-------------+------------+-----------+-------------------------------+----------------+----+----+\n",
            "|     mes| SH4|cod_pais|estado|cod_municipio|peso_liquido|valor_dolar|descricoes__sistema_harmonizado|       municipio| ano|rank|\n",
            "+--------+----+--------+------+-------------+------------+-----------+-------------------------------+----------------+----+----+\n",
            "|   julho|8703|       0|    PR|      4106902|        2812|      22294|           Chapéus e outros ...|        Curitiba|2014|   1|\n",
            "|  agosto|9401|       0|    RS|      4314902|        2560|       7083|           Reservatórios, to...|    Porto Alegre|2012|   2|\n",
            "|   junho|8537|       0|    SP|      3440606|           8|       1021|           Soutiens, cintas,...|     Porto Feliz|2014|   3|\n",
            "|   março|2710|      65|    PE|      2607208|    40327043|   42241190|           Derivados sulfona...|         Ipojuca|2012|   1|\n",
            "| janeiro|2710|      65|    MA|      2111300|    39379796|   36473309|           Derivados sulfona...|        São Luís|2012|   2|\n",
            "| janeiro|2713|      65|    AM|      1302603|     8500000|    1424175|           Derivados sulfona...|          Manaus|2012|   3|\n",
            "| janeiro|2713|      65|    PA|      1502202|     3621101|     621876|           Derivados sulfona...|        Capanema|2012|   4|\n",
            "| janeiro|7602|      65|    ES|      3205309|       55364|      56124|           Sisal e outras fi...|         Vitória|2021|   5|\n",
            "|dezembro|7602|      65|    RS|      4301107|       19837|      35002|           Sisal e outras fi...|Arroio dos Ratos|2018|   6|\n",
            "| outubro|7602|      65|    SP|      3438006|       18617|      36256|           Sisal e outras fi...| Pindamonhangaba|2014|   7|\n",
            "|dezembro|7318|      65|    SP|      3420509|         101|        555|           Outros papéis, ca...|      Indaiatuba|2012|   8|\n",
            "|  agosto|7318|      65|    SP|      3452205|          78|        400|           Outros papéis, ca...|        Sorocaba|2012|   9|\n",
            "|   julho|7318|      65|    SP|      3420509|          57|        396|           Outros papéis, ca...|      Indaiatuba|2013|  10|\n",
            "|   abril|9018|      65|    SC|      4205407|          55|      19500|           Pérolas naturais ...|   Florianópolis|2018|  11|\n",
            "|novembro|7318|      65|    SP|      3420509|          44|        290|           Outros papéis, ca...|      Indaiatuba|2012|  12|\n",
            "|   março|9703|      65|    SP|      3450308|          13|       6438|           Desperdícios e re...|       São Paulo|2014|  13|\n",
            "|   julho|8542|      65|    SP|      3450308|          11|       2029|           Lenços de assoar ...|       São Paulo|2022|  14|\n",
            "|   abril|7318|      65|    SC|      4202305|          10|        276|           Outros papéis, ca...|         Biguaçu|2013|  15|\n",
            "|dezembro|4203|      65|    PR|      4106902|           7|       1928|           Compostos heteroc...|        Curitiba|2018|  16|\n",
            "|   julho|8409|      65|    SP|      3452205|           5|        733|           Luvas, mitenes e ...|        Sorocaba|2021|  17|\n",
            "+--------+----+--------+------+-------------+------------+-----------+-------------------------------+----------------+----+----+\n",
            "only showing top 20 rows\n",
            "\n"
          ]
        }
      ]
    },
    {
      "cell_type": "code",
      "source": [
        "#deletar a base por espaço\n",
        "# del dfexp_mun"
      ],
      "metadata": {
        "id": "oxWY2dj_CPnH"
      },
      "execution_count": null,
      "outputs": []
    },
    {
      "cell_type": "markdown",
      "source": [
        "## 3d - base exportação produto"
      ],
      "metadata": {
        "id": "GYHYdi0IA5hH"
      }
    },
    {
      "cell_type": "code",
      "execution_count": null,
      "metadata": {
        "id": "XTz4ULz_EXIM"
      },
      "outputs": [],
      "source": [
        "dfexp_prod = ( spark.read.format('csv')\n",
        "                 .option('header', 'true')\n",
        "                 .option('inferschema', 'true')\n",
        "                 .option('delimiter', ',')\n",
        "                 .load(path_exp_prod))"
      ]
    },
    {
      "cell_type": "code",
      "execution_count": null,
      "metadata": {
        "colab": {
          "background_save": true
        },
        "id": "4cJv4W90CQ-b"
      },
      "outputs": [],
      "source": [
        "#caso o comando falhe, carregar a base por pandas e tranformar\n",
        "#criar dataframe com as importações por município\n",
        "# df_ep = pd.read_parquet(path_exp_prod)\n",
        "#olar a base\n",
        "# df_ep.head(2)"
      ]
    },
    {
      "cell_type": "code",
      "execution_count": null,
      "metadata": {
        "id": "0gQLy6X9CQ-c"
      },
      "outputs": [],
      "source": [
        "#transforma para spark\n",
        "# dfexp_prod = spark.createDataFrame(df_ep)"
      ]
    },
    {
      "cell_type": "code",
      "execution_count": null,
      "metadata": {
        "id": "OdlgYEKGCQ-d",
        "colab": {
          "base_uri": "https://localhost:8080/"
        },
        "outputId": "25526001-d620-4514-abe7-6259e74b0076"
      },
      "outputs": [
        {
          "output_type": "stream",
          "name": "stdout",
          "text": [
            "+----+---------+--------------+------------------+--------+------+---------------+-------+---------------+------------+-----------+-----------------+--------------------+\n",
            "| ano|      mes|cod_mercadoria|           unidade|cod_pais|estado|meio_transporte|cod_urf|qnt_estatistica|peso_liquido|valor_dolar|  urf_localizacao|          mercadoria|\n",
            "+----+---------+--------------+------------------+--------+------+---------------+-------+---------------+------------+-----------+-----------------+--------------------+\n",
            "|2013|    Março|      30067000|Quilograma líquido|     169|    SP|       Marítima| 817800|           1447|        1447|      27538|  PORTO DE SANTOS|Preparações em ge...|\n",
            "|2013|  Janeiro|      30067000|Quilograma líquido|     493|    SP|       Marítima| 817800|           1512|        1512|      26435|  PORTO DE SANTOS|Preparações em ge...|\n",
            "|2013|    Julho|      30067000|Quilograma líquido|     580|    SP|       Marítima| 817800|           1526|        1526|      19997|  PORTO DE SANTOS|Preparações em ge...|\n",
            "|2013|     Maio|      30067000|Quilograma líquido|     239|    SP|       Marítima| 817800|           2164|        2164|      22783|  PORTO DE SANTOS|Preparações em ge...|\n",
            "|2013|  Janeiro|      30067000|Quilograma líquido|     169|    SP|       Marítima| 817800|           1022|        1022|      20856|  PORTO DE SANTOS|Preparações em ge...|\n",
            "|2013|    Julho|      30067000|Quilograma líquido|     239|    SP|       Marítima| 817800|            252|         252|       4406|  PORTO DE SANTOS|Preparações em ge...|\n",
            "|2013| Setembro|      30067000|Quilograma líquido|     850|    SP|       Marítima| 817800|           6331|        6331|     153767|  PORTO DE SANTOS|Preparações em ge...|\n",
            "|2013| Setembro|      30067000|Quilograma líquido|     317|    RS|       Marítima| 817800|            309|         309|        531|  PORTO DE SANTOS|Preparações em ge...|\n",
            "|2013|    Abril|      30067000|Quilograma líquido|     493|    SP|       Marítima| 817800|            302|         302|       5287|  PORTO DE SANTOS|Preparações em ge...|\n",
            "|2013|Fevereiro|      30067000|Quilograma líquido|     169|    SP|       Marítima| 817800|           1746|        1746|      21124|  PORTO DE SANTOS|Preparações em ge...|\n",
            "|2013|    Julho|      30067000|Quilograma líquido|     493|    SP|       Marítima| 817800|            302|         302|       5287|  PORTO DE SANTOS|Preparações em ge...|\n",
            "|2013|  Outubro|      30067000|Quilograma líquido|     239|    SP|       Marítima| 817800|           1851|        1851|      23952|  PORTO DE SANTOS|Preparações em ge...|\n",
            "|2013|    Julho|      30067000|Quilograma líquido|     169|    SP|       Marítima| 817800|            583|         583|      13550|  PORTO DE SANTOS|Preparações em ge...|\n",
            "|2013|  Janeiro|      30067000|Quilograma líquido|     196|    SP|       Marítima| 817800|             98|          98|       2278|  PORTO DE SANTOS|Preparações em ge...|\n",
            "|2013|  Janeiro|      30067000|Quilograma líquido|     317|    RS|       Marítima| 817800|             61|          61|        125|  PORTO DE SANTOS|Preparações em ge...|\n",
            "|2013|  Janeiro|      30067000|Quilograma líquido|     239|    SP|       Marítima| 817800|           1684|        1684|      22525|  PORTO DE SANTOS|Preparações em ge...|\n",
            "|2013| Dezembro|      30067000|Quilograma líquido|     196|    SP|       Marítima| 817800|            893|         893|       7946|  PORTO DE SANTOS|Preparações em ge...|\n",
            "|2013| Novembro|      30067000|Quilograma líquido|     196|    SP|       Marítima| 817800|             65|          65|       1506|  PORTO DE SANTOS|Preparações em ge...|\n",
            "|2013|    Abril|      30067000|Quilograma líquido|     239|    SP|       Marítima| 817800|           2537|        2537|      32321|  PORTO DE SANTOS|Preparações em ge...|\n",
            "|2013|  Outubro|      30067000|Quilograma líquido|     169|    SP|       Marítima| 817800|           1940|        1940|      18870|  PORTO DE SANTOS|Preparações em ge...|\n",
            "+----+---------+--------------+------------------+--------+------+---------------+-------+---------------+------------+-----------+-----------------+--------------------+\n",
            "only showing top 20 rows\n",
            "\n"
          ]
        }
      ],
      "source": [
        "#ver a base\n",
        "dfexp_prod.show()"
      ]
    },
    {
      "cell_type": "code",
      "source": [
        "#se usou a transformação\n",
        "# del df_ep"
      ],
      "metadata": {
        "id": "swRozweICQ-e"
      },
      "execution_count": null,
      "outputs": []
    },
    {
      "cell_type": "code",
      "execution_count": null,
      "metadata": {
        "id": "iG8FcbNMCQ-e",
        "colab": {
          "base_uri": "https://localhost:8080/"
        },
        "outputId": "4afab325-b0cb-4799-efc5-bc05c12174f9"
      },
      "outputs": [
        {
          "output_type": "stream",
          "name": "stdout",
          "text": [
            "root\n",
            " |-- ano: string (nullable = true)\n",
            " |-- mes: string (nullable = true)\n",
            " |-- cod_mercadoria: integer (nullable = true)\n",
            " |-- unidade: string (nullable = true)\n",
            " |-- cod_pais: integer (nullable = true)\n",
            " |-- estado: string (nullable = true)\n",
            " |-- meio_transporte: string (nullable = true)\n",
            " |-- cod_urf: integer (nullable = true)\n",
            " |-- qnt_estatistica: long (nullable = true)\n",
            " |-- peso_liquido: long (nullable = true)\n",
            " |-- valor_dolar: integer (nullable = true)\n",
            " |-- urf_localizacao: string (nullable = true)\n",
            " |-- mercadoria: string (nullable = true)\n",
            "\n"
          ]
        }
      ],
      "source": [
        "#ver o esquema\n",
        "dfexp_prod.printSchema()"
      ]
    },
    {
      "cell_type": "code",
      "execution_count": null,
      "metadata": {
        "id": "v_gT5FnLCQ-f"
      },
      "outputs": [],
      "source": [
        "dfexp_prod.describe().show()"
      ]
    },
    {
      "cell_type": "code",
      "execution_count": null,
      "metadata": {
        "id": "N9zkwlOeCQ-f"
      },
      "outputs": [],
      "source": [
        "#resumir os dados - comando demorado!\n",
        "dfexp_prod.select(F.col('valor_dolar'), F.col('peso_liquido')).summary().show()"
      ]
    },
    {
      "cell_type": "code",
      "source": [
        "#rankear os produtos dentro de cada estado pelo valor\n",
        "dfexp_prod.withColumn('rank', F.rank().over(w1)).show()"
      ],
      "metadata": {
        "id": "6UcjU06Oqrtr",
        "colab": {
          "base_uri": "https://localhost:8080/"
        },
        "outputId": "37b0136e-b4fe-4c3f-8039-ec242fc57409"
      },
      "execution_count": null,
      "outputs": [
        {
          "output_type": "stream",
          "name": "stdout",
          "text": [
            "+----+---------+--------------+------------------+--------+------+---------------+-------+---------------+------------+-----------+---------------+--------------------+----+\n",
            "| ano|      mes|cod_mercadoria|           unidade|cod_pais|estado|meio_transporte|cod_urf|qnt_estatistica|peso_liquido|valor_dolar|urf_localizacao|          mercadoria|rank|\n",
            "+----+---------+--------------+------------------+--------+------+---------------+-------+---------------+------------+-----------+---------------+--------------------+----+\n",
            "|2013|  Outubro|      21069010|Quilograma líquido|     850|    AM|     Rodoviária| 260151|         724243|      724243|   30605549|      PACARAIMA|Outras preparaçõe...|   1|\n",
            "|2014|    Junho|      21069010|Quilograma líquido|     850|    AM|     Rodoviária| 260151|         653191|      653191|   28932566|      PACARAIMA|Outras preparaçõe...|   2|\n",
            "|2014|    Abril|      21069010|Quilograma líquido|     850|    AM|     Rodoviária| 260151|         633819|      633819|   27299954|      PACARAIMA|Outras preparaçõe...|   3|\n",
            "|2015|    Julho|      21069010|Quilograma líquido|     850|    AM|     Rodoviária| 260151|         621238|      621238|   26583596|      PACARAIMA|Outras preparaçõe...|   4|\n",
            "|2013| Setembro|      21069010|Quilograma líquido|     850|    AM|     Rodoviária| 260151|         594273|      594273|   25900987|      PACARAIMA|Outras preparaçõe...|   5|\n",
            "|2013| Novembro|      21069010|Quilograma líquido|     850|    AM|     Rodoviária| 260151|         599993|      599993|   25702326|      PACARAIMA|Outras preparaçõe...|   6|\n",
            "|2013|     Maio|      21069010|Quilograma líquido|     850|    AM|     Rodoviária| 260151|         606819|      606819|   25611955|      PACARAIMA|Outras preparaçõe...|   7|\n",
            "|2014|  Outubro|      21069010|Quilograma líquido|     850|    AM|     Rodoviária| 260151|         604494|      604494|   24482570|      PACARAIMA|Outras preparaçõe...|   8|\n",
            "|2015|     Maio|      21069010|Quilograma líquido|     850|    AM|     Rodoviária| 260151|         583032|      583032|   23296029|      PACARAIMA|Outras preparaçõe...|   9|\n",
            "|2016|    Março|      21069010|Quilograma líquido|     850|    AM|     Rodoviária| 260151|         532774|      532774|   22643053|      PACARAIMA|Outras preparaçõe...|  10|\n",
            "|2014| Setembro|      21069010|Quilograma líquido|     850|    AM|     Rodoviária| 260151|         505623|      505623|   21449530|      PACARAIMA|Outras preparaçõe...|  11|\n",
            "|2014|Fevereiro|      21069010|Quilograma líquido|     850|    AM|     Rodoviária| 260151|         467919|      467919|   20514340|      PACARAIMA|Outras preparaçõe...|  12|\n",
            "|2015|  Outubro|      21069010|Quilograma líquido|     850|    AM|     Rodoviária| 260151|         466852|      466852|   19889726|      PACARAIMA|Outras preparaçõe...|  13|\n",
            "|2015| Novembro|      21069010|Quilograma líquido|     850|    AM|     Rodoviária| 260151|         466100|      466100|   19758848|      PACARAIMA|Outras preparaçõe...|  14|\n",
            "|2013|    Abril|      21069010|Quilograma líquido|     850|    AM|     Rodoviária| 260151|         445540|      445540|   19019589|      PACARAIMA|Outras preparaçõe...|  15|\n",
            "|2015|   Agosto|      21069010|Quilograma líquido|     850|    AM|     Rodoviária| 260151|         434997|      434997|   17943529|      PACARAIMA|Outras preparaçõe...|  16|\n",
            "|2015|    Junho|      21069010|Quilograma líquido|     850|    AM|     Rodoviária| 260151|         441428|      441428|   17923809|      PACARAIMA|Outras preparaçõe...|  17|\n",
            "|2018|  Outubro|      21069010|Quilograma líquido|      97|    AM|     Rodoviária| 147600|         688149|      688149|   17649922|   ALF  CORUMBÁ|Outras preparaçõe...|  18|\n",
            "|2015|    Abril|      21069010|Quilograma líquido|     850|    AM|     Rodoviária| 260151|         360606|      360606|   15857578|      PACARAIMA|Outras preparaçõe...|  19|\n",
            "|2013|  Janeiro|      21069010|Quilograma líquido|     850|    AM|     Rodoviária| 260151|         369894|      369894|   15424848|      PACARAIMA|Outras preparaçõe...|  20|\n",
            "+----+---------+--------------+------------------+--------+------+---------------+-------+---------------+------------+-----------+---------------+--------------------+----+\n",
            "only showing top 20 rows\n",
            "\n"
          ]
        }
      ]
    },
    {
      "cell_type": "code",
      "source": [
        "#rankear os produtos dentro de cada estado pelo volume\n",
        "dfexp_prod.withColumn('rank', F.rank().over(w2)).show()"
      ],
      "metadata": {
        "id": "brNIezz8qrt7",
        "colab": {
          "base_uri": "https://localhost:8080/"
        },
        "outputId": "1c921271-4fea-4bd5-b8fc-82697726792c"
      },
      "execution_count": null,
      "outputs": [
        {
          "output_type": "stream",
          "name": "stdout",
          "text": [
            "+----+---------+--------------+--------------------+--------+------+---------------+-------+---------------+------------+-----------+-----------------+--------------------+----+\n",
            "| ano|      mes|cod_mercadoria|             unidade|cod_pais|estado|meio_transporte|cod_urf|qnt_estatistica|peso_liquido|valor_dolar|  urf_localizacao|          mercadoria|rank|\n",
            "+----+---------+--------------+--------------------+--------+------+---------------+-------+---------------+------------+-----------+-----------------+--------------------+----+\n",
            "|2016|Fevereiro|      12019000|Tonelada métrica ...|     160|    AM|       Marítima| 227600|          29714|    29714231|   10257947|  PORTO DE MANAUS|Soja, mesmo tritu...|   1|\n",
            "|2019|  Janeiro|      12019000|Tonelada métrica ...|     160|    AM|       Marítima| 227600|          21435|    21434816|    7677952|  PORTO DE MANAUS|Soja, mesmo tritu...|   2|\n",
            "|2019|Fevereiro|      12019000|Tonelada métrica ...|     160|    AM|       Marítima| 227600|          15004|    15004225|    5112690|  PORTO DE MANAUS|Soja, mesmo tritu...|   3|\n",
            "|2016|  Outubro|      25171000|  Quilograma líquido|     169|    AM|        Fluvial| 227600|       12705700|    12705700|     283457|  PORTO DE MANAUS|Calhaus, cascalho...|   4|\n",
            "|2015| Novembro|      25171000|  Quilograma líquido|     169|    AM|        Fluvial| 227600|       11772800|    11772800|     306875|  PORTO DE MANAUS|Calhaus, cascalho...|   5|\n",
            "|2016|     Maio|      25171000|  Quilograma líquido|     169|    AM|        Fluvial| 227600|       10383800|    10383800|     257337|  PORTO DE MANAUS|Calhaus, cascalho...|   6|\n",
            "|2021| Dezembro|      19012000|  Quilograma líquido|     850|    AM|     Rodoviária| 260151|        9558190|     9558190|    5603152|        PACARAIMA|Misturas e pastas...|   7|\n",
            "|2021|   Agosto|      19012000|  Quilograma líquido|     850|    AM|     Rodoviária| 260151|        9538500|     9538500|    5917227|        PACARAIMA|Misturas e pastas...|   8|\n",
            "|2021|     Maio|      19012000|  Quilograma líquido|     850|    AM|     Rodoviária| 260151|        9234830|     9234830|    5518708|        PACARAIMA|Misturas e pastas...|   9|\n",
            "|2021| Novembro|      19012000|  Quilograma líquido|     850|    AM|     Rodoviária| 260151|        8636000|     8636000|    5291031|        PACARAIMA|Misturas e pastas...|  10|\n",
            "|2019|Fevereiro|      12019000|Tonelada métrica ...|     827|    AM|       Marítima| 227600|           8500|     8500000|    2891700|  PORTO DE MANAUS|Soja, mesmo tritu...|  11|\n",
            "|2021|    Março|      19012000|  Quilograma líquido|     850|    AM|     Rodoviária| 260151|        8302490|     8302490|    5138425|        PACARAIMA|Misturas e pastas...|  12|\n",
            "|2020|  Outubro|      17019900|Tonelada métrica ...|     850|    AM|     Rodoviária| 260151|           8109|     8096300|    3790706|        PACARAIMA|Outros açúcares d...|  13|\n",
            "|2021| Setembro|      19012000|  Quilograma líquido|     850|    AM|     Rodoviária| 260151|        7945000|     7945000|    5041119|        PACARAIMA|Misturas e pastas...|  14|\n",
            "|2022|  Janeiro|      19012000|  Quilograma líquido|     850|    AM|     Rodoviária| 260151|        7802050|     7802050|    4336418|        PACARAIMA|Misturas e pastas...|  15|\n",
            "|2021|  Outubro|      19012000|  Quilograma líquido|     850|    AM|     Rodoviária| 260151|        7633800|     7633800|    4642099|        PACARAIMA|Misturas e pastas...|  16|\n",
            "|2021|    Julho|      19012000|  Quilograma líquido|     850|    AM|     Rodoviária| 260151|        7562500|     7562500|    4743354|        PACARAIMA|Misturas e pastas...|  17|\n",
            "|2019| Novembro|      17019900|Tonelada métrica ...|     850|    AM|     Rodoviária| 260151|           7520|     7459060|    4802933|        PACARAIMA|Outros açúcares d...|  18|\n",
            "|2015|  Outubro|      25171000|  Quilograma líquido|     169|    AM|        Fluvial| 227600|        7414900|     7414900|     186694|  PORTO DE MANAUS|Calhaus, cascalho...|  19|\n",
            "|2020|    Março|      17019900|Tonelada métrica ...|     850|    AM|     Rodoviária| 260151|           6030|     6120920|    2953585|        PACARAIMA|Outros açúcares d...|  20|\n",
            "+----+---------+--------------+--------------------+--------+------+---------------+-------+---------------+------------+-----------+-----------------+--------------------+----+\n",
            "only showing top 20 rows\n",
            "\n"
          ]
        }
      ]
    },
    {
      "cell_type": "code",
      "source": [
        "#rankear os produtos dentro de cada pais pelo valor\n",
        "dfexp_prod.withColumn('rank', F.rank().over(w3)).show()"
      ],
      "metadata": {
        "id": "pxs19oUEdG8q",
        "colab": {
          "base_uri": "https://localhost:8080/"
        },
        "outputId": "cf1f28e7-cf97-47f3-8803-433d5ee7b424"
      },
      "execution_count": null,
      "outputs": [
        {
          "output_type": "stream",
          "name": "stdout",
          "text": [
            "+----+---------+--------------+------------------+--------+------+---------------+-------+---------------+------------+-----------+--------------------+--------------------+----+\n",
            "| ano|      mes|cod_mercadoria|           unidade|cod_pais|estado|meio_transporte|cod_urf|qnt_estatistica|peso_liquido|valor_dolar|     urf_localizacao|          mercadoria|rank|\n",
            "+----+---------+--------------+------------------+--------+------+---------------+-------+---------------+------------+-----------+--------------------+--------------------+----+\n",
            "|2018|    Julho|      10063011|Quilograma líquido|      31|    RS|       Marítima|1017700|       14945360|    14945360|    5739018|  PORTO DE RIO GR...|Arroz semibranque...|   1|\n",
            "|2013| Dezembro|      93062100|Quilograma líquido|      31|    PR|       Marítima| 817800|          25114|       25114|    2419845|     PORTO DE SANTOS|Cartuchos para es...|   2|\n",
            "|2017|    Março|      84291190|    Número unidade|      31|    SP|       Marítima| 817800|              8|      308208|    2402880|     PORTO DE SANTOS|Outros bulldozers...|   3|\n",
            "|2017| Setembro|      87021000|    Número unidade|      31|    SP|       Marítima| 817800|              7|      117180|    2309041|     PORTO DE SANTOS|Veículos automóve...|   4|\n",
            "|2022|Fevereiro|      87021000|    Número unidade|      31|    PR|       Marítima| 817800|             10|      133860|    1952070|     PORTO DE SANTOS|Veículos automóve...|   5|\n",
            "|2019|    Junho|      27101922|      Metro cúbico|      31|    RJ|       Marítima| 717800|           3959|     3763693|    1614624|    PORTO DE ITAGUAI|            Fuel oil|   6|\n",
            "|2014|    Março|      84291190|    Número unidade|      31|    SP|       Marítima| 817800|              4|      152352|    1246274|     PORTO DE SANTOS|Outros bulldozers...|   7|\n",
            "|2022| Novembro|      27101922|      Metro cúbico|      31|    RJ|       Marítima| 717600|           1774|     1599995|    1198396|  PORTO DO RIO DE...|            Fuel oil|   8|\n",
            "|2020|  Janeiro|      27101922|      Metro cúbico|      31|    RJ|       Marítima| 717600|           1815|     1699288|     985587|  PORTO DO RIO DE...|            Fuel oil|   9|\n",
            "|2017| Dezembro|      87021000|    Número unidade|      31|    PR|       Marítima| 817800|              6|       74400|     913104|     PORTO DE SANTOS|Veículos automóve...|  10|\n",
            "|2013| Dezembro|      93033000|    Número unidade|      31|    SP|       Marítima| 817800|            564|         775|     866873|     PORTO DE SANTOS|Outras espingarda...|  11|\n",
            "|2021| Setembro|      87021000|    Número unidade|      31|    PR|       Marítima| 817800|              4|       61510|     862164|     PORTO DE SANTOS|Veículos automóve...|  12|\n",
            "|2020|     Maio|      84291190|    Número unidade|      31|    SP|       Marítima| 817800|              3|      115008|     856841|     PORTO DE SANTOS|Outros bulldozers...|  13|\n",
            "|2014| Dezembro|      84291190|    Número unidade|      31|    SP|       Marítima| 817800|              2|       76176|     785872|     PORTO DE SANTOS|Outros bulldozers...|  14|\n",
            "|2018|  Outubro|      84294000|    Número unidade|      31|    SP|       Marítima| 817800|              6|      117000|     779082|     PORTO DE SANTOS|Compactadores e r...|  15|\n",
            "|2022| Setembro|      27101922|      Metro cúbico|      31|    RJ|       Marítima| 717800|           1068|     1000803|     723581|    PORTO DE ITAGUAI|            Fuel oil|  16|\n",
            "|2021| Setembro|      93033000|    Número unidade|      31|    RS|          Aérea| 817600|           3500|        6475|     677868|  AEROPORTO INTER...|Outras espingarda...|  17|\n",
            "|2018|  Janeiro|      87021000|    Número unidade|      31|    PR|       Marítima| 817800|              4|       49600|     625816|     PORTO DE SANTOS|Veículos automóve...|  18|\n",
            "|2019|Fevereiro|      93033000|    Número unidade|      31|    RS|          Aérea| 817600|           2500|        4475|     575000|  AEROPORTO INTER...|Outras espingarda...|  19|\n",
            "|2022| Novembro|      88073000|Quilograma líquido|      31|    SP|          Aérea| 817600|            163|         163|     567000|  AEROPORTO INTER...|Outras partes de ...|  20|\n",
            "+----+---------+--------------+------------------+--------+------+---------------+-------+---------------+------------+-----------+--------------------+--------------------+----+\n",
            "only showing top 20 rows\n",
            "\n"
          ]
        }
      ]
    },
    {
      "cell_type": "code",
      "source": [
        "#rankear os produtos dentro de cada pais pelo volume\n",
        "dfexp_prod.withColumn('rank', F.rank().over(w4)).show()"
      ],
      "metadata": {
        "id": "qbIKll8MdG8q",
        "colab": {
          "base_uri": "https://localhost:8080/"
        },
        "outputId": "24a6db36-9f2b-4af7-ed07-4c3b97ce4db2"
      },
      "execution_count": null,
      "outputs": [
        {
          "output_type": "stream",
          "name": "stdout",
          "text": [
            "+----+---------+--------------+------------------+--------+------+---------------+-------+---------------+------------+-----------+--------------------+--------------------+----+\n",
            "| ano|      mes|cod_mercadoria|           unidade|cod_pais|estado|meio_transporte|cod_urf|qnt_estatistica|peso_liquido|valor_dolar|     urf_localizacao|          mercadoria|rank|\n",
            "+----+---------+--------------+------------------+--------+------+---------------+-------+---------------+------------+-----------+--------------------+--------------------+----+\n",
            "|2018|    Julho|      10063011|Quilograma líquido|      31|    RS|       Marítima|1017700|       14945360|    14945360|    5739018|  PORTO DE RIO GR...|Arroz semibranque...|   1|\n",
            "|2019|    Junho|      27101922|      Metro cúbico|      31|    RJ|       Marítima| 717800|           3959|     3763693|    1614624|    PORTO DE ITAGUAI|            Fuel oil|   2|\n",
            "|2020|  Janeiro|      27101922|      Metro cúbico|      31|    RJ|       Marítima| 717600|           1815|     1699288|     985587|  PORTO DO RIO DE...|            Fuel oil|   3|\n",
            "|2022| Novembro|      27101922|      Metro cúbico|      31|    RJ|       Marítima| 717600|           1774|     1599995|    1198396|  PORTO DO RIO DE...|            Fuel oil|   4|\n",
            "|2020| Setembro|      27101922|      Metro cúbico|      31|    RJ|       Marítima| 717600|           1747|     1599284|     546955|  PORTO DO RIO DE...|            Fuel oil|   5|\n",
            "|2019| Setembro|      27101922|      Metro cúbico|      31|    SP|       Marítima| 817800|           1127|     1049982|     421043|     PORTO DE SANTOS|            Fuel oil|   6|\n",
            "|2022| Setembro|      27101922|      Metro cúbico|      31|    RJ|       Marítima| 717800|           1068|     1000803|     723581|    PORTO DE ITAGUAI|            Fuel oil|   7|\n",
            "|2018| Novembro|      27101922|      Metro cúbico|      31|    RJ|       Marítima| 717600|           1024|     1000124|     490061|  PORTO DO RIO DE...|            Fuel oil|   8|\n",
            "|2018| Setembro|      27101922|      Metro cúbico|      31|    SP|       Marítima| 817800|           1017|      999409|     455731|     PORTO DE SANTOS|            Fuel oil|   9|\n",
            "|2020|   Agosto|      27101922|      Metro cúbico|      31|    SP|       Marítima| 817800|            944|      870572|     269007|     PORTO DE SANTOS|            Fuel oil|  10|\n",
            "|2020| Dezembro|      27101922|      Metro cúbico|      31|    SP|       Marítima| 817800|            858|      790078|     298649|     PORTO DE SANTOS|            Fuel oil|  11|\n",
            "|2019|    Junho|      27101922|      Metro cúbico|      31|    SP|       Marítima| 817800|            615|      599909|     263960|     PORTO DE SANTOS|            Fuel oil|  12|\n",
            "|2019| Setembro|      27101922|      Metro cúbico|      31|    PR|       Marítima| 917800|            524|      500081|     211034|  PORTO DE PARANAGUA|            Fuel oil|  13|\n",
            "|2022|    Abril|      27101922|      Metro cúbico|      31|    RJ|       Marítima| 717600|            447|      400004|     358004|  PORTO DO RIO DE...|            Fuel oil|  14|\n",
            "|2020|    Junho|      27101922|      Metro cúbico|      31|    RJ|       Marítima| 717600|            412|      379510|     113473|  PORTO DO RIO DE...|            Fuel oil|  15|\n",
            "|2017|    Março|      84291190|    Número unidade|      31|    SP|       Marítima| 817800|              8|      308208|    2402880|     PORTO DE SANTOS|Outros bulldozers...|  16|\n",
            "|2014|    Março|      84291190|    Número unidade|      31|    SP|       Marítima| 817800|              4|      152352|    1246274|     PORTO DE SANTOS|Outros bulldozers...|  17|\n",
            "|2022|Fevereiro|      87021000|    Número unidade|      31|    PR|       Marítima| 817800|             10|      133860|    1952070|     PORTO DE SANTOS|Veículos automóve...|  18|\n",
            "|2020|    Julho|      34011190|Quilograma líquido|      31|    SP|       Marítima| 817800|         127787|      127787|     134431|     PORTO DE SANTOS|Outros produtos/p...|  19|\n",
            "|2017| Setembro|      87021000|    Número unidade|      31|    SP|       Marítima| 817800|              7|      117180|    2309041|     PORTO DE SANTOS|Veículos automóve...|  20|\n",
            "+----+---------+--------------+------------------+--------+------+---------------+-------+---------------+------------+-----------+--------------------+--------------------+----+\n",
            "only showing top 20 rows\n",
            "\n"
          ]
        }
      ]
    },
    {
      "cell_type": "code",
      "source": [
        "#rankear os produtos dentro de cada meio de transporte pelo valor\n",
        "dfexp_prod.withColumn('rank', F.rank().over(w5)).show()"
      ],
      "metadata": {
        "id": "Be7Q1J9sqfui",
        "colab": {
          "base_uri": "https://localhost:8080/"
        },
        "outputId": "67a7ab12-21d6-440c-d7f3-4f9594ef080b"
      },
      "execution_count": null,
      "outputs": [
        {
          "output_type": "stream",
          "name": "stdout",
          "text": [
            "+----+---------+--------------+--------------------+--------+------+---------------+-------+---------------+------------+-----------+--------------------+--------------------+----+\n",
            "| ano|      mes|cod_mercadoria|             unidade|cod_pais|estado|meio_transporte|cod_urf|qnt_estatistica|peso_liquido|valor_dolar|     urf_localizacao|          mercadoria|rank|\n",
            "+----+---------+--------------+--------------------+--------+------+---------------+-------+---------------+------------+-----------+--------------------+--------------------+----+\n",
            "|2018| Dezembro|      27090010|        Metro cúbico|     160|    RJ|        Fluvial| 717800|         594994|   528002394|  282362699|    PORTO DE ITAGUAI|Óleos brutos de p...|   1|\n",
            "|2014|    Junho|      26011100|  Quilograma líquido|      63|    MS|        Fluvial| 145200|     1274397000|  1274397000|  103797419|             CORUMBA|Minérios de ferro...|   2|\n",
            "|2014|     Maio|      26011100|  Quilograma líquido|      63|    MS|        Fluvial| 145200|     1200505000|  1200505000|  101166474|             CORUMBA|Minérios de ferro...|   3|\n",
            "|2022|     Maio|      12019000|Tonelada métrica ...|      63|    MS|        Fluvial| 147852|         119815|   119814838|   78997193|  ARF  PORTO MURT...|Soja, mesmo tritu...|   4|\n",
            "|2018| Dezembro|      27090010|        Metro cúbico|     160|    RJ|        Fluvial| 710200|         164484|   153320837|   74565117|             NITEROI|Óleos brutos de p...|   5|\n",
            "|2019|  Janeiro|      27090010|        Metro cúbico|     160|    RJ|        Fluvial| 717800|         153095|   133396067|   73660315|    PORTO DE ITAGUAI|Óleos brutos de p...|   6|\n",
            "|2018| Dezembro|      27090010|        Metro cúbico|     160|    SP|        Fluvial| 717800|         145119|   126633830|   69285902|    PORTO DE ITAGUAI|Óleos brutos de p...|   7|\n",
            "|2016|    Abril|      12019000|Tonelada métrica ...|     160|    MT|        Fluvial| 210200|         177950|   177949490|   65890919|            SANTAREM|Soja, mesmo tritu...|   8|\n",
            "|2014|    Julho|      26011100|  Quilograma líquido|      63|    MS|        Fluvial| 145200|      887094000|   887094000|   55773704|             CORUMBA|Minérios de ferro...|   9|\n",
            "|2014|   Agosto|      26011100|  Quilograma líquido|      63|    MS|        Fluvial| 145200|      770555000|   770555000|   52723289|             CORUMBA|Minérios de ferro...|  10|\n",
            "|2014|Fevereiro|      12019000|Tonelada métrica ...|     628|    MT|        Fluvial| 210200|         103929|   103928680|   52570663|            SANTAREM|Soja, mesmo tritu...|  11|\n",
            "|2013|    Junho|      26011100|  Quilograma líquido|      63|    MS|        Fluvial| 145200|      552302000|   552302000|   52142710|             CORUMBA|Minérios de ferro...|  12|\n",
            "|2013|     Maio|      26011100|  Quilograma líquido|      63|    MS|        Fluvial| 145200|      534334000|   534334000|   52016973|             CORUMBA|Minérios de ferro...|  13|\n",
            "|2013|    Abril|      26011100|  Quilograma líquido|      63|    MS|        Fluvial| 145200|      494443000|   494443000|   49124345|             CORUMBA|Minérios de ferro...|  14|\n",
            "|2013|    Julho|      26011100|  Quilograma líquido|      63|    MS|        Fluvial| 145200|      647126550|   647126550|   47140074|             CORUMBA|Minérios de ferro...|  15|\n",
            "|2018|Fevereiro|      12019000|Tonelada métrica ...|     245|    MT|        Fluvial| 210200|       41973639|   114559488|   44521108|            SANTAREM|Soja, mesmo tritu...|  16|\n",
            "|2018|     Maio|      12019000|Tonelada métrica ...|     245|    MT|        Fluvial| 210200|       24593145|   107513000|   43996355|            SANTAREM|Soja, mesmo tritu...|  17|\n",
            "|2013|    Abril|      12019000|Tonelada métrica ...|     628|    MT|        Fluvial| 210200|          79178|    79179382|   42576633|            SANTAREM|Soja, mesmo tritu...|  18|\n",
            "|2021|    Março|      12019000|Tonelada métrica ...|      63|    MS|        Fluvial| 147852|         105357|   105350773|   42237206|  ARF  PORTO MURT...|Soja, mesmo tritu...|  19|\n",
            "|2013|  Outubro|      26011100|  Quilograma líquido|      63|    MS|        Fluvial| 145200|      510295000|   510295000|   41105858|             CORUMBA|Minérios de ferro...|  20|\n",
            "+----+---------+--------------+--------------------+--------+------+---------------+-------+---------------+------------+-----------+--------------------+--------------------+----+\n",
            "only showing top 20 rows\n",
            "\n"
          ]
        }
      ]
    },
    {
      "cell_type": "code",
      "source": [
        "#rankear os produtos dentro de cada meio de transporte pelo volume\n",
        "dfexp_prod.withColumn('rank', F.rank().over(w6)).show()"
      ],
      "metadata": {
        "id": "TXz0DcTuqfuk",
        "colab": {
          "base_uri": "https://localhost:8080/"
        },
        "outputId": "e9a2f68e-bccf-4438-d243-b701341cb118"
      },
      "execution_count": null,
      "outputs": [
        {
          "output_type": "stream",
          "name": "stdout",
          "text": [
            "+----+---------+--------------+------------------+--------+------+---------------+-------+---------------+------------+-----------+------------------+--------------------+----+\n",
            "| ano|      mes|cod_mercadoria|           unidade|cod_pais|estado|meio_transporte|cod_urf|qnt_estatistica|peso_liquido|valor_dolar|   urf_localizacao|          mercadoria|rank|\n",
            "+----+---------+--------------+------------------+--------+------+---------------+-------+---------------+------------+-----------+------------------+--------------------+----+\n",
            "|2014|    Junho|      26011100|Quilograma líquido|      63|    MS|        Fluvial| 145200|     1274397000|  1274397000|  103797419|           CORUMBA|Minérios de ferro...|   1|\n",
            "|2014|     Maio|      26011100|Quilograma líquido|      63|    MS|        Fluvial| 145200|     1200505000|  1200505000|  101166474|           CORUMBA|Minérios de ferro...|   2|\n",
            "|2014|    Julho|      26011100|Quilograma líquido|      63|    MS|        Fluvial| 145200|      887094000|   887094000|   55773704|           CORUMBA|Minérios de ferro...|   3|\n",
            "|2014|   Agosto|      26011100|Quilograma líquido|      63|    MS|        Fluvial| 145200|      770555000|   770555000|   52723289|           CORUMBA|Minérios de ferro...|   4|\n",
            "|2013|    Julho|      26011100|Quilograma líquido|      63|    MS|        Fluvial| 145200|      647126550|   647126550|   47140074|           CORUMBA|Minérios de ferro...|   5|\n",
            "|2014| Setembro|      26011100|Quilograma líquido|      63|    MS|        Fluvial| 145200|      605834000|   605834000|   36564653|           CORUMBA|Minérios de ferro...|   6|\n",
            "|2014|  Outubro|      26011100|Quilograma líquido|      63|    MS|        Fluvial| 145200|      598643000|   598643000|   33638179|           CORUMBA|Minérios de ferro...|   7|\n",
            "|2013|    Junho|      26011100|Quilograma líquido|      63|    MS|        Fluvial| 145200|      552302000|   552302000|   52142710|           CORUMBA|Minérios de ferro...|   8|\n",
            "|2016| Setembro|      26060011|Quilograma líquido|     160|    PA|        Fluvial| 210200|      549808000|   549808000|   12136985|          SANTAREM|Bauxita não calci...|   9|\n",
            "|2016|  Outubro|      26060011|Quilograma líquido|     160|    PA|        Fluvial| 210200|      547594000|   547594000|   13897630|          SANTAREM|Bauxita não calci...|  10|\n",
            "|2013|     Maio|      26011100|Quilograma líquido|      63|    MS|        Fluvial| 145200|      534334000|   534334000|   52016973|           CORUMBA|Minérios de ferro...|  11|\n",
            "|2013| Setembro|      26011100|Quilograma líquido|      63|    MS|        Fluvial| 145200|      531477000|   531477000|   38195480|           CORUMBA|Minérios de ferro...|  12|\n",
            "|2018| Dezembro|      27090010|      Metro cúbico|     160|    RJ|        Fluvial| 717800|         594994|   528002394|  282362699|  PORTO DE ITAGUAI|Óleos brutos de p...|  13|\n",
            "|2013|  Outubro|      26011100|Quilograma líquido|      63|    MS|        Fluvial| 145200|      510295000|   510295000|   41105858|           CORUMBA|Minérios de ferro...|  14|\n",
            "|2013|Fevereiro|      26060011|Quilograma líquido|     249|    PA|        Fluvial| 210200|      506758000|   506758000|   14324792|          SANTAREM|Bauxita não calci...|  15|\n",
            "|2014|  Janeiro|      26060011|Quilograma líquido|     249|    PA|        Fluvial| 210200|      503417000|   503417000|   14707807|          SANTAREM|Bauxita não calci...|  16|\n",
            "|2013|   Agosto|      26011100|Quilograma líquido|      63|    MS|        Fluvial| 145200|      496980000|   496980000|   33894233|           CORUMBA|Minérios de ferro...|  17|\n",
            "|2013|    Abril|      26011100|Quilograma líquido|      63|    MS|        Fluvial| 145200|      494443000|   494443000|   49124345|           CORUMBA|Minérios de ferro...|  18|\n",
            "|2015|    Julho|      26011100|Quilograma líquido|      63|    MS|        Fluvial| 145200|      491605040|   491605040|   16154730|           CORUMBA|Minérios de ferro...|  19|\n",
            "|2016|     Maio|      26060011|Quilograma líquido|     160|    PA|        Fluvial| 210200|      488178000|   488178000|   12011459|          SANTAREM|Bauxita não calci...|  20|\n",
            "+----+---------+--------------+------------------+--------+------+---------------+-------+---------------+------------+-----------+------------------+--------------------+----+\n",
            "only showing top 20 rows\n",
            "\n"
          ]
        }
      ]
    },
    {
      "cell_type": "code",
      "source": [
        "#deletar a base por espaço\n",
        "# del dfexp_prod"
      ],
      "metadata": {
        "id": "Y_Isz3gUCQ-g"
      },
      "execution_count": null,
      "outputs": []
    },
    {
      "cell_type": "markdown",
      "source": [
        "## 3e - base combustivel preço"
      ],
      "metadata": {
        "id": "hQZpCCi5Bkkb"
      }
    },
    {
      "cell_type": "code",
      "execution_count": null,
      "metadata": {
        "id": "VCRpjLemFH2P"
      },
      "outputs": [],
      "source": [
        "dfcomb = ( spark.read.format('parquet')\n",
        "                 .option('header', 'true')\n",
        "                 .option('inferschema', 'true')\n",
        "                 .option('delimiter', ',')\n",
        "                 .load(path_comb))"
      ]
    },
    {
      "cell_type": "code",
      "execution_count": null,
      "metadata": {
        "id": "CMkAktqrozuc"
      },
      "outputs": [],
      "source": [
        "#criar o dataframe com os preço dos combustivies\n",
        "# df_cp = pd.read_parquet(path_comb_preco)\n",
        "# df_cp.head(2)"
      ]
    },
    {
      "cell_type": "code",
      "execution_count": null,
      "metadata": {
        "id": "tkRE8g9kCXVG"
      },
      "outputs": [],
      "source": [
        "#transforma para spark\n",
        "# dfcomb_prec= spark.createDataFrame(df_cp)"
      ]
    },
    {
      "cell_type": "code",
      "execution_count": null,
      "metadata": {
        "id": "9wjORY9NCXVH",
        "colab": {
          "base_uri": "https://localhost:8080/"
        },
        "outputId": "6864d950-3655-4e33-c07c-e99384b89834"
      },
      "outputs": [
        {
          "output_type": "stream",
          "name": "stdout",
          "text": [
            "+------------+----------+------------+----------------+--------------------+----------------+----------------------+--------------+-------------------+---------------------+-----------------+-----------------+--------------------+---------------------+\n",
            "|data_inicial|data_final|      regiao|          estado|           municipio|         produto|num_postos_pesquisados|unidade_medida|preco_medio_revenda|desvio_padrao_revenda|preco_min_revenda|preco_max_revenda|margem_media_revenda|coef_variacao_revenda|\n",
            "+------------+----------+------------+----------------+--------------------+----------------+----------------------+--------------+-------------------+---------------------+-----------------+-----------------+--------------------+---------------------+\n",
            "|  2012-12-30|2013-01-05|CENTRO OESTE|DISTRITO FEDERAL|            BRASILIA|ETANOL HIDRATADO|                    80|          R$/l|              2.273|                0.023|             2.19|            2.299|               0.405|                 0.01|\n",
            "|  2012-12-30|2013-01-05|CENTRO OESTE|           GOIAS|AGUAS LINDAS DE G...|ETANOL HIDRATADO|                     5|          R$/l|              2.134|                0.043|             2.09|             2.19|               0.268|                 0.02|\n",
            "|  2012-12-30|2013-01-05|CENTRO OESTE|           GOIAS|            ANAPOLIS|ETANOL HIDRATADO|                    16|          R$/l|              1.865|                0.055|             1.69|            1.899|                0.36|                0.029|\n",
            "|  2012-12-30|2013-01-05|CENTRO OESTE|           GOIAS|APARECIDA DE GOIANIA|ETANOL HIDRATADO|                    13|          R$/l|              1.771|                0.023|             1.73|             1.79|               0.206|                0.013|\n",
            "|  2012-12-30|2013-01-05|CENTRO OESTE|           GOIAS|        CALDAS NOVAS|ETANOL HIDRATADO|                    12|          R$/l|              1.918|                0.105|             1.65|            1.999|               0.376|                0.055|\n",
            "|  2012-12-30|2013-01-05|CENTRO OESTE|           GOIAS|             CATALAO|ETANOL HIDRATADO|                    10|          R$/l|              1.955|                0.044|             1.89|            1.999|               0.401|                0.023|\n",
            "|  2012-12-30|2013-01-05|CENTRO OESTE|           GOIAS|             FORMOSA|ETANOL HIDRATADO|                    12|          R$/l|              1.939|                0.087|             1.85|            2.089|               0.411|                0.045|\n",
            "|  2012-12-30|2013-01-05|CENTRO OESTE|           GOIAS|             GOIANIA|ETANOL HIDRATADO|                    65|          R$/l|              1.847|                0.071|             1.67|             1.99|               0.201|                0.038|\n",
            "|  2012-12-30|2013-01-05|CENTRO OESTE|           GOIAS|            GOIATUBA|ETANOL HIDRATADO|                    10|          R$/l|               1.81|                 0.07|             1.75|             1.99|                 NaN|                0.038|\n",
            "|  2012-12-30|2013-01-05|CENTRO OESTE|           GOIAS|           ITUMBIARA|ETANOL HIDRATADO|                    18|          R$/l|              1.988|                0.029|             1.94|             2.03|               0.357|                0.015|\n",
            "|  2012-12-30|2013-01-05|CENTRO OESTE|           GOIAS|               JATAI|ETANOL HIDRATADO|                    16|          R$/l|              2.013|                0.084|             1.88|             2.22|                 NaN|                0.042|\n",
            "|  2012-12-30|2013-01-05|CENTRO OESTE|           GOIAS|            LUZIANIA|ETANOL HIDRATADO|                    13|          R$/l|               2.05|                0.112|            1.949|             2.25|                 NaN|                0.055|\n",
            "|  2012-12-30|2013-01-05|CENTRO OESTE|           GOIAS|            MINEIROS|ETANOL HIDRATADO|                     7|          R$/l|              2.071|                 0.02|             2.05|             2.09|               0.431|                 0.01|\n",
            "|  2012-12-30|2013-01-05|CENTRO OESTE|           GOIAS|           MORRINHOS|ETANOL HIDRATADO|                    11|          R$/l|               1.69|                  0.0|             1.69|             1.69|                 NaN|                  0.0|\n",
            "|  2012-12-30|2013-01-05|CENTRO OESTE|           GOIAS| PLANALTINA DE GOIAS|ETANOL HIDRATADO|                     5|          R$/l|              1.996|                 0.03|             1.98|             2.05|               0.241|                0.015|\n",
            "|  2012-12-30|2013-01-05|CENTRO OESTE|           GOIAS|           PORANGATU|ETANOL HIDRATADO|                     7|          R$/l|              1.963|                0.047|             1.89|             1.99|               0.241|                0.024|\n",
            "|  2012-12-30|2013-01-05|CENTRO OESTE|           GOIAS|           RIO VERDE|ETANOL HIDRATADO|                    18|          R$/l|              1.928|                0.045|             1.89|             1.99|                 NaN|                0.023|\n",
            "|  2012-12-30|2013-01-05|CENTRO OESTE|           GOIAS|            TRINDADE|ETANOL HIDRATADO|                     7|          R$/l|              1.851|                0.089|             1.73|             1.99|               0.203|                0.048|\n",
            "|  2012-12-30|2013-01-05|CENTRO OESTE|           GOIAS| VALPARAISO DE GOIAS|ETANOL HIDRATADO|                    10|          R$/l|              2.248|                0.006|             2.23|             2.25|               0.191|                0.003|\n",
            "|  2012-12-30|2013-01-05|CENTRO OESTE|     MATO GROSSO|       ALTA FLORESTA|ETANOL HIDRATADO|                    10|          R$/l|              1.986|                0.014|             1.96|              2.0|                 NaN|                0.007|\n",
            "+------------+----------+------------+----------------+--------------------+----------------+----------------------+--------------+-------------------+---------------------+-----------------+-----------------+--------------------+---------------------+\n",
            "only showing top 20 rows\n",
            "\n"
          ]
        }
      ],
      "source": [
        "#ver a base\n",
        "dfcomb.show()"
      ]
    },
    {
      "cell_type": "code",
      "source": [
        "#se usou a transformação\n",
        "# del df_cp"
      ],
      "metadata": {
        "id": "Bhcx4sMKCXVH"
      },
      "execution_count": null,
      "outputs": []
    },
    {
      "cell_type": "code",
      "execution_count": null,
      "metadata": {
        "id": "UA_5iAlYCXVI",
        "colab": {
          "base_uri": "https://localhost:8080/"
        },
        "outputId": "e88976a4-7167-4c7c-95b3-1f8f12ea8951"
      },
      "outputs": [
        {
          "output_type": "stream",
          "name": "stdout",
          "text": [
            "root\n",
            " |-- data_inicial: date (nullable = true)\n",
            " |-- data_final: date (nullable = true)\n",
            " |-- regiao: string (nullable = true)\n",
            " |-- estado: string (nullable = true)\n",
            " |-- municipio: string (nullable = true)\n",
            " |-- produto: string (nullable = true)\n",
            " |-- num_postos_pesquisados: integer (nullable = true)\n",
            " |-- unidade_medida: string (nullable = true)\n",
            " |-- preco_medio_revenda: float (nullable = true)\n",
            " |-- desvio_padrao_revenda: float (nullable = true)\n",
            " |-- preco_min_revenda: float (nullable = true)\n",
            " |-- preco_max_revenda: float (nullable = true)\n",
            " |-- margem_media_revenda: float (nullable = true)\n",
            " |-- coef_variacao_revenda: float (nullable = true)\n",
            "\n"
          ]
        }
      ],
      "source": [
        "#ver o esquema\n",
        "dfcomb.printSchema()"
      ]
    },
    {
      "cell_type": "code",
      "execution_count": null,
      "metadata": {
        "id": "8Dv9G_VLCXVI",
        "colab": {
          "base_uri": "https://localhost:8080/"
        },
        "outputId": "7358b66f-e458-4ade-c1ff-1adc681c00f6"
      },
      "outputs": [
        {
          "output_type": "stream",
          "name": "stdout",
          "text": [
            "+-------+------------+---------+----------+----------------+----------------------+--------------+-------------------+---------------------+------------------+------------------+--------------------+---------------------+\n",
            "|summary|      regiao|   estado| municipio|         produto|num_postos_pesquisados|unidade_medida|preco_medio_revenda|desvio_padrao_revenda| preco_min_revenda| preco_max_revenda|margem_media_revenda|coef_variacao_revenda|\n",
            "+-------+------------+---------+----------+----------------+----------------------+--------------+-------------------+---------------------+------------------+------------------+--------------------+---------------------+\n",
            "|  count|     1190920|  1190920|   1190920|         1190920|               1190920|       1190920|            1190920|              1190920|           1190920|           1190920|             1190920|              1190920|\n",
            "|   mean|        null|     null|      null|            null|    10.612314849024283|          null| 14.571959974782555|   0.5582074316464561|13.800714245278417|15.378508961214727|                 NaN| 0.028934099771588267|\n",
            "| stddev|        null|     null|      null|            null|    12.757150653717089|          null| 24.770948063313433|   1.2672436886439082|23.412371843201896|26.256804794294503|                 NaN|  0.02125809904018538|\n",
            "|    min|CENTRO OESTE|     ACRE|ABAETETUBA|ETANOL HIDRATADO|                     1|       R$/13kg|              1.349|                  0.0|             1.259|             1.349|               0.002|                  0.0|\n",
            "|    max|         SUL|TOCANTINS|  XINGUARA| OLEO DIESEL S10|                   351|         R$/m3|             150.83|               32.146|             150.0|             160.0|                 NaN|                0.491|\n",
            "+-------+------------+---------+----------+----------------+----------------------+--------------+-------------------+---------------------+------------------+------------------+--------------------+---------------------+\n",
            "\n"
          ]
        }
      ],
      "source": [
        "dfcomb.describe().show()"
      ]
    },
    {
      "cell_type": "code",
      "execution_count": null,
      "metadata": {
        "id": "gnuIO5FECXVI",
        "colab": {
          "base_uri": "https://localhost:8080/"
        },
        "outputId": "18f6fcfd-330e-4d76-e2da-1caacedb34e3"
      },
      "outputs": [
        {
          "output_type": "stream",
          "name": "stdout",
          "text": [
            "+-------+------------+---------+----------+----------------+----------------------+--------------+-------------------+---------------------+------------------+------------------+--------------------+---------------------+\n",
            "|summary|      regiao|   estado| municipio|         produto|num_postos_pesquisados|unidade_medida|preco_medio_revenda|desvio_padrao_revenda| preco_min_revenda| preco_max_revenda|margem_media_revenda|coef_variacao_revenda|\n",
            "+-------+------------+---------+----------+----------------+----------------------+--------------+-------------------+---------------------+------------------+------------------+--------------------+---------------------+\n",
            "|  count|     1190920|  1190920|   1190920|         1190920|               1190920|       1190920|            1190920|              1190920|           1190920|           1190920|             1190920|              1190920|\n",
            "|   mean|        null|     null|      null|            null|    10.612314849024283|          null| 14.571959974782555|   0.5582074316464561|13.800714245278417|15.378508961214727|                 NaN| 0.028934099771588267|\n",
            "| stddev|        null|     null|      null|            null|    12.757150653717089|          null| 24.770948063313433|   1.2672436886439082|23.412371843201896|26.256804794294503|                 NaN|  0.02125809904018538|\n",
            "|    min|CENTRO OESTE|     ACRE|ABAETETUBA|ETANOL HIDRATADO|                     1|       R$/13kg|              1.349|                  0.0|             1.259|             1.349|               0.002|                  0.0|\n",
            "|    25%|        null|     null|      null|            null|                     5|          null|              2.881|                 0.05|              2.77|              2.99|               0.281|                0.015|\n",
            "|    50%|        null|     null|      null|            null|                     8|          null|              3.549|                0.092|             3.399|             3.699|               0.441|                0.026|\n",
            "|    75%|        null|     null|      null|            null|                    12|          null|              5.914|                0.175|             5.749|             6.099|              13.511|                0.039|\n",
            "|    max|         SUL|TOCANTINS|  XINGUARA| OLEO DIESEL S10|                   351|         R$/m3|             150.83|               32.146|             150.0|             160.0|                 NaN|                0.491|\n",
            "+-------+------------+---------+----------+----------------+----------------------+--------------+-------------------+---------------------+------------------+------------------+--------------------+---------------------+\n",
            "\n"
          ]
        }
      ],
      "source": [
        "#resumir os dados - comando demorado!\n",
        "dfcomb.summary().show()"
      ]
    },
    {
      "cell_type": "code",
      "source": [
        "#criar windons por produto ordenada pela data_final\n",
        "w7 = Window.partitionBy(F.col('produto')).orderBy(F.col('data_final').asc())"
      ],
      "metadata": {
        "id": "utEEQkBnCXVJ"
      },
      "execution_count": null,
      "outputs": []
    },
    {
      "cell_type": "code",
      "source": [
        "#ver o registro anterior ordenado por data\n",
        "dfcomb.withColumn('lag', F.lag('preco_medio_revenda', 1).over(w7)).show()\n",
        "dfvar = dfcomb.withColumn('lag', F.lag('preco_medio_revenda', 1).over(w7))"
      ],
      "metadata": {
        "id": "LMIdEZ85sn9t",
        "colab": {
          "base_uri": "https://localhost:8080/"
        },
        "outputId": "e68f4b45-d5a1-4e77-a0ae-b53a6d3d80d7"
      },
      "execution_count": null,
      "outputs": [
        {
          "output_type": "stream",
          "name": "stdout",
          "text": [
            "+------------+----------+------------+----------------+--------------------+----------------+----------------------+--------------+-------------------+---------------------+-----------------+-----------------+--------------------+---------------------+-----+\n",
            "|data_inicial|data_final|      regiao|          estado|           municipio|         produto|num_postos_pesquisados|unidade_medida|preco_medio_revenda|desvio_padrao_revenda|preco_min_revenda|preco_max_revenda|margem_media_revenda|coef_variacao_revenda|  lag|\n",
            "+------------+----------+------------+----------------+--------------------+----------------+----------------------+--------------+-------------------+---------------------+-----------------+-----------------+--------------------+---------------------+-----+\n",
            "|  2012-12-30|2013-01-05|CENTRO OESTE|DISTRITO FEDERAL|            BRASILIA|ETANOL HIDRATADO|                    80|          R$/l|              2.273|                0.023|             2.19|            2.299|               0.405|                 0.01| null|\n",
            "|  2012-12-30|2013-01-05|CENTRO OESTE|           GOIAS|AGUAS LINDAS DE G...|ETANOL HIDRATADO|                     5|          R$/l|              2.134|                0.043|             2.09|             2.19|               0.268|                 0.02|2.273|\n",
            "|  2012-12-30|2013-01-05|CENTRO OESTE|           GOIAS|            ANAPOLIS|ETANOL HIDRATADO|                    16|          R$/l|              1.865|                0.055|             1.69|            1.899|                0.36|                0.029|2.134|\n",
            "|  2012-12-30|2013-01-05|CENTRO OESTE|           GOIAS|APARECIDA DE GOIANIA|ETANOL HIDRATADO|                    13|          R$/l|              1.771|                0.023|             1.73|             1.79|               0.206|                0.013|1.865|\n",
            "|  2012-12-30|2013-01-05|CENTRO OESTE|           GOIAS|        CALDAS NOVAS|ETANOL HIDRATADO|                    12|          R$/l|              1.918|                0.105|             1.65|            1.999|               0.376|                0.055|1.771|\n",
            "|  2012-12-30|2013-01-05|CENTRO OESTE|           GOIAS|             CATALAO|ETANOL HIDRATADO|                    10|          R$/l|              1.955|                0.044|             1.89|            1.999|               0.401|                0.023|1.918|\n",
            "|  2012-12-30|2013-01-05|CENTRO OESTE|           GOIAS|             FORMOSA|ETANOL HIDRATADO|                    12|          R$/l|              1.939|                0.087|             1.85|            2.089|               0.411|                0.045|1.955|\n",
            "|  2012-12-30|2013-01-05|CENTRO OESTE|           GOIAS|             GOIANIA|ETANOL HIDRATADO|                    65|          R$/l|              1.847|                0.071|             1.67|             1.99|               0.201|                0.038|1.939|\n",
            "|  2012-12-30|2013-01-05|CENTRO OESTE|           GOIAS|            GOIATUBA|ETANOL HIDRATADO|                    10|          R$/l|               1.81|                 0.07|             1.75|             1.99|                 NaN|                0.038|1.847|\n",
            "|  2012-12-30|2013-01-05|CENTRO OESTE|           GOIAS|           ITUMBIARA|ETANOL HIDRATADO|                    18|          R$/l|              1.988|                0.029|             1.94|             2.03|               0.357|                0.015| 1.81|\n",
            "|  2012-12-30|2013-01-05|CENTRO OESTE|           GOIAS|               JATAI|ETANOL HIDRATADO|                    16|          R$/l|              2.013|                0.084|             1.88|             2.22|                 NaN|                0.042|1.988|\n",
            "|  2012-12-30|2013-01-05|CENTRO OESTE|           GOIAS|            LUZIANIA|ETANOL HIDRATADO|                    13|          R$/l|               2.05|                0.112|            1.949|             2.25|                 NaN|                0.055|2.013|\n",
            "|  2012-12-30|2013-01-05|CENTRO OESTE|           GOIAS|            MINEIROS|ETANOL HIDRATADO|                     7|          R$/l|              2.071|                 0.02|             2.05|             2.09|               0.431|                 0.01| 2.05|\n",
            "|  2012-12-30|2013-01-05|CENTRO OESTE|           GOIAS|           MORRINHOS|ETANOL HIDRATADO|                    11|          R$/l|               1.69|                  0.0|             1.69|             1.69|                 NaN|                  0.0|2.071|\n",
            "|  2012-12-30|2013-01-05|CENTRO OESTE|           GOIAS| PLANALTINA DE GOIAS|ETANOL HIDRATADO|                     5|          R$/l|              1.996|                 0.03|             1.98|             2.05|               0.241|                0.015| 1.69|\n",
            "|  2012-12-30|2013-01-05|CENTRO OESTE|           GOIAS|           PORANGATU|ETANOL HIDRATADO|                     7|          R$/l|              1.963|                0.047|             1.89|             1.99|               0.241|                0.024|1.996|\n",
            "|  2012-12-30|2013-01-05|CENTRO OESTE|           GOIAS|           RIO VERDE|ETANOL HIDRATADO|                    18|          R$/l|              1.928|                0.045|             1.89|             1.99|                 NaN|                0.023|1.963|\n",
            "|  2012-12-30|2013-01-05|CENTRO OESTE|           GOIAS|            TRINDADE|ETANOL HIDRATADO|                     7|          R$/l|              1.851|                0.089|             1.73|             1.99|               0.203|                0.048|1.928|\n",
            "|  2012-12-30|2013-01-05|CENTRO OESTE|           GOIAS| VALPARAISO DE GOIAS|ETANOL HIDRATADO|                    10|          R$/l|              2.248|                0.006|             2.23|             2.25|               0.191|                0.003|1.851|\n",
            "|  2012-12-30|2013-01-05|CENTRO OESTE|     MATO GROSSO|       ALTA FLORESTA|ETANOL HIDRATADO|                    10|          R$/l|              1.986|                0.014|             1.96|              2.0|                 NaN|                0.007|2.248|\n",
            "+------------+----------+------------+----------------+--------------------+----------------+----------------------+--------------+-------------------+---------------------+-----------------+-----------------+--------------------+---------------------+-----+\n",
            "only showing top 20 rows\n",
            "\n"
          ]
        }
      ]
    },
    {
      "cell_type": "code",
      "source": [
        "#criar coluna com o aumento percentual do preço de uma senama para outra\n",
        "dfvar = dfvar.withColumn('var_percentual', (F.col('preco_medio_revenda') - F.col('lag'))*100/F.col('lag'))"
      ],
      "metadata": {
        "id": "J76R-kRet181"
      },
      "execution_count": null,
      "outputs": []
    },
    {
      "cell_type": "code",
      "source": [
        "dfvar.show()"
      ],
      "metadata": {
        "id": "3fJ3DGsdwuOx",
        "colab": {
          "base_uri": "https://localhost:8080/"
        },
        "outputId": "3c19ca1b-bc13-4592-85a0-c11d899e4bd3"
      },
      "execution_count": null,
      "outputs": [
        {
          "output_type": "stream",
          "name": "stdout",
          "text": [
            "+------------+----------+------------+----------------+--------------------+----------------+----------------------+--------------+-------------------+---------------------+-----------------+-----------------+--------------------+---------------------+-----+-------------------+\n",
            "|data_inicial|data_final|      regiao|          estado|           municipio|         produto|num_postos_pesquisados|unidade_medida|preco_medio_revenda|desvio_padrao_revenda|preco_min_revenda|preco_max_revenda|margem_media_revenda|coef_variacao_revenda|  lag|     var_percentual|\n",
            "+------------+----------+------------+----------------+--------------------+----------------+----------------------+--------------+-------------------+---------------------+-----------------+-----------------+--------------------+---------------------+-----+-------------------+\n",
            "|  2012-12-30|2013-01-05|CENTRO OESTE|DISTRITO FEDERAL|            BRASILIA|ETANOL HIDRATADO|                    80|          R$/l|              2.273|                0.023|             2.19|            2.299|               0.405|                 0.01| null|               null|\n",
            "|  2012-12-30|2013-01-05|CENTRO OESTE|           GOIAS|AGUAS LINDAS DE G...|ETANOL HIDRATADO|                     5|          R$/l|              2.134|                0.043|             2.09|             2.19|               0.268|                 0.02|2.273| -6.115263477703667|\n",
            "|  2012-12-30|2013-01-05|CENTRO OESTE|           GOIAS|            ANAPOLIS|ETANOL HIDRATADO|                    16|          R$/l|              1.865|                0.055|             1.69|            1.899|                0.36|                0.029|2.134|-12.605437932126678|\n",
            "|  2012-12-30|2013-01-05|CENTRO OESTE|           GOIAS|APARECIDA DE GOIANIA|ETANOL HIDRATADO|                    13|          R$/l|              1.771|                0.023|             1.73|             1.79|               0.206|                0.013|1.865| -5.040213224190039|\n",
            "|  2012-12-30|2013-01-05|CENTRO OESTE|           GOIAS|        CALDAS NOVAS|ETANOL HIDRATADO|                    12|          R$/l|              1.918|                0.105|             1.65|            1.999|               0.376|                0.055|1.771|  8.300392327122132|\n",
            "|  2012-12-30|2013-01-05|CENTRO OESTE|           GOIAS|             CATALAO|ETANOL HIDRATADO|                    10|          R$/l|              1.955|                0.044|             1.89|            1.999|               0.401|                0.023|1.918| 1.9290959547775393|\n",
            "|  2012-12-30|2013-01-05|CENTRO OESTE|           GOIAS|             FORMOSA|ETANOL HIDRATADO|                    12|          R$/l|              1.939|                0.087|             1.85|            2.089|               0.411|                0.045|1.955|-0.8184159628491422|\n",
            "|  2012-12-30|2013-01-05|CENTRO OESTE|           GOIAS|             GOIANIA|ETANOL HIDRATADO|                    65|          R$/l|              1.847|                0.071|             1.67|             1.99|               0.201|                0.038|1.939| -4.744714137785158|\n",
            "|  2012-12-30|2013-01-05|CENTRO OESTE|           GOIAS|            GOIATUBA|ETANOL HIDRATADO|                    10|          R$/l|               1.81|                 0.07|             1.75|             1.99|                 NaN|                0.038|1.847| -2.003251760918703|\n",
            "|  2012-12-30|2013-01-05|CENTRO OESTE|           GOIAS|           ITUMBIARA|ETANOL HIDRATADO|                    18|          R$/l|              1.988|                0.029|             1.94|             2.03|               0.357|                0.015| 1.81|  9.834259301947261|\n",
            "|  2012-12-30|2013-01-05|CENTRO OESTE|           GOIAS|               JATAI|ETANOL HIDRATADO|                    16|          R$/l|              2.013|                0.084|             1.88|             2.22|                 NaN|                0.042|1.988|  1.257544050020409|\n",
            "|  2012-12-30|2013-01-05|CENTRO OESTE|           GOIAS|            LUZIANIA|ETANOL HIDRATADO|                    13|          R$/l|               2.05|                0.112|            1.949|             2.25|                 NaN|                0.055|2.013| 1.8380497099773614|\n",
            "|  2012-12-30|2013-01-05|CENTRO OESTE|           GOIAS|            MINEIROS|ETANOL HIDRATADO|                     7|          R$/l|              2.071|                 0.02|             2.05|             2.09|               0.431|                 0.01| 2.05| 1.0243974319178286|\n",
            "|  2012-12-30|2013-01-05|CENTRO OESTE|           GOIAS|           MORRINHOS|ETANOL HIDRATADO|                    11|          R$/l|               1.69|                  0.0|             1.69|             1.69|                 NaN|                  0.0|2.071| -18.39691177154551|\n",
            "|  2012-12-30|2013-01-05|CENTRO OESTE|           GOIAS| PLANALTINA DE GOIAS|ETANOL HIDRATADO|                     5|          R$/l|              1.996|                 0.03|             1.98|             2.05|               0.241|                0.015| 1.69| 18.106507359797888|\n",
            "|  2012-12-30|2013-01-05|CENTRO OESTE|           GOIAS|           PORANGATU|ETANOL HIDRATADO|                     7|          R$/l|              1.963|                0.047|             1.89|             1.99|               0.241|                0.024|1.996|-1.6533061883356222|\n",
            "|  2012-12-30|2013-01-05|CENTRO OESTE|           GOIAS|           RIO VERDE|ETANOL HIDRATADO|                    18|          R$/l|              1.928|                0.045|             1.89|             1.99|                 NaN|                0.023|1.963|-1.7829895454124223|\n",
            "|  2012-12-30|2013-01-05|CENTRO OESTE|           GOIAS|            TRINDADE|ETANOL HIDRATADO|                     7|          R$/l|              1.851|                0.089|             1.73|             1.99|               0.203|                0.048|1.928|-3.9937771266059556|\n",
            "|  2012-12-30|2013-01-05|CENTRO OESTE|           GOIAS| VALPARAISO DE GOIAS|ETANOL HIDRATADO|                    10|          R$/l|              2.248|                0.006|             2.23|             2.25|               0.191|                0.003|1.851| 21.447864933230882|\n",
            "|  2012-12-30|2013-01-05|CENTRO OESTE|     MATO GROSSO|       ALTA FLORESTA|ETANOL HIDRATADO|                    10|          R$/l|              1.986|                0.014|             1.96|              2.0|                 NaN|                0.007|2.248|-11.654803397464894|\n",
            "+------------+----------+------------+----------------+--------------------+----------------+----------------------+--------------+-------------------+---------------------+-----------------+-----------------+--------------------+---------------------+-----+-------------------+\n",
            "only showing top 20 rows\n",
            "\n"
          ]
        }
      ]
    },
    {
      "cell_type": "code",
      "source": [
        "#deletar a base por espaço\n",
        "# del dfcomb"
      ],
      "metadata": {
        "id": "VOJuF8GBCXVJ"
      },
      "execution_count": null,
      "outputs": []
    },
    {
      "cell_type": "markdown",
      "source": [
        "## 3f - base combustivel volume"
      ],
      "metadata": {
        "id": "0HOp2De9BpM6"
      }
    },
    {
      "cell_type": "code",
      "execution_count": null,
      "metadata": {
        "id": "AuxyF0lNFpD7"
      },
      "outputs": [],
      "source": [
        "dfcomb_vol = ( spark.read.format('parquet')\n",
        "                 .option('header', 'true')\n",
        "                 .option('inferschema', 'true')\n",
        "                 .option('delimiter', ',')\n",
        "                 .load(path_comb_vol))"
      ]
    },
    {
      "cell_type": "code",
      "execution_count": null,
      "metadata": {
        "colab": {
          "background_save": true
        },
        "id": "fc7RA-DqCYKP"
      },
      "outputs": [],
      "source": [
        "#caso o comando falhe, carregar a base por pandas e tranformar\n",
        "#criar dataframe com as importações por município\n",
        "# df_cv = pd.read_parquet(path_comb_vol)\n",
        "#olar a base\n",
        "# df_cv.head(2)"
      ]
    },
    {
      "cell_type": "code",
      "execution_count": null,
      "metadata": {
        "id": "L-C9D9LYCYKR"
      },
      "outputs": [],
      "source": [
        "#transforma para spark\n",
        "# dfcomb_vol = spark.createDataFrame(df_cv)"
      ]
    },
    {
      "cell_type": "code",
      "execution_count": null,
      "metadata": {
        "id": "8iPy4GZeCYKR",
        "colab": {
          "base_uri": "https://localhost:8080/"
        },
        "outputId": "8931024e-3da0-4178-91cd-682dfcd11eab"
      },
      "outputs": [
        {
          "output_type": "stream",
          "name": "stdout",
          "text": [
            "+---------+-------------------+----------------+------------+----------------------+-------------------+---------------------+-----------------+-----------------+--------------------+---------------------+----+\n",
            "|      mes|             estado|         produto| qtde_vendas|num_postos_pesquisados|preco_medio_revenda|desvio_padrao_revenda|preco_min_revenda|preco_max_revenda|margem_media_revenda|coef_variacao_revenda| ano|\n",
            "+---------+-------------------+----------------+------------+----------------------+-------------------+---------------------+-----------------+-----------------+--------------------+---------------------+----+\n",
            "|FEVEREIRO|           AMAZONAS|  GASOLINA COMUM| 4.4716714E7|                  14.0|                4.5|                0.048|             4.41|             4.54|               0.788|                0.011|2018|\n",
            "| DEZEMBRO|              BAHIA|ETANOL HIDRATADO|  5.640484E7|                  11.0|               3.39|                0.109|             3.24|             3.56|                0.61|                0.032|2018|\n",
            "| SETEMBRO|            ALAGOAS|     OLEO DIESEL| 2.9338589E7|                   8.0|               3.69|                0.105|             3.56|             3.85|               0.375|                0.028|2018|\n",
            "|    ABRIL|           AMAZONAS|     OLEO DIESEL| 9.6635776E7|                  10.0|               3.59|                0.079|             3.49|             3.73|               0.459|                0.022|2018|\n",
            "|    JULHO|              BAHIA|             GLP|     13808.3|                   7.0|              61.73|                2.752|            58.43|            65.24|              15.581|                0.045|2018|\n",
            "|     MAIO|        MATO GROSSO| OLEO DIESEL S10| 4.0378788E7|                  18.0|               4.03|                0.115|             3.83|             4.23|               0.489|                0.029|2018|\n",
            "|  JANEIRO|RIO GRANDE DO NORTE|     OLEO DIESEL| 3.6545348E7|                  12.0|               3.46|                0.044|              3.4|             3.52|               0.423|                0.013|2018|\n",
            "|    ABRIL|            ALAGOAS| OLEO DIESEL S10|   1.34543E7|                   9.0|               3.58|                0.096|             3.44|             3.72|               0.367|                0.027|2018|\n",
            "|    JULHO|       MINAS GERAIS|  GASOLINA COMUM| 2.8802009E8|                  10.0|               4.85|                0.072|             4.74|             4.95|                0.54|                0.015|2018|\n",
            "|    MARÇO|     RIO DE JANEIRO|ETANOL HIDRATADO| 4.9022436E7|                  13.0|               3.72|                0.151|             3.48|             3.94|               0.406|                0.041|2018|\n",
            "| SETEMBRO|     SANTA CATARINA|     OLEO DIESEL|1.95771816E8|                   5.0|               3.42|                0.118|              3.3|             3.57|               0.363|                0.034|2018|\n",
            "|  OUTUBRO|          TOCANTINS|             GLP|     1220.93|                  18.0|              84.72|                3.457|             79.3|             90.4|              19.746|                0.041|2018|\n",
            "|  OUTUBRO|            ALAGOAS|ETANOL HIDRATADO|  1.053833E7|                  10.0|               3.54|                0.093|             3.41|             3.67|               0.578|                0.027|2018|\n",
            "|  JANEIRO|            ALAGOAS| OLEO DIESEL S10|  1.609731E7|                   9.0|               3.44|                0.097|             3.32|             3.61|               0.286|                0.028|2018|\n",
            "|    ABRIL|        MATO GROSSO| OLEO DIESEL S10|  4.671596E7|                  17.0|               3.86|                0.103|             3.68|             4.02|               0.535|                0.027|2018|\n",
            "| SETEMBRO|         PERNAMBUCO| OLEO DIESEL S10|1.08515096E8|                   9.0|               3.56|                0.076|             3.46|             3.69|               0.331|                0.021|2018|\n",
            "|FEVEREIRO|            RORAIMA|             GLP|      336.91|                  24.0|              79.94|                 1.03|             78.0|             82.0|              13.068|                0.013|2018|\n",
            "|    ABRIL|            SERGIPE|             GLP|     1640.33|                   7.0|              72.58|                2.542|            69.69|            76.88|              16.491|                0.034|2018|\n",
            "|FEVEREIRO|               ACRE|     OLEO DIESEL|   9806732.0|                  17.0|               4.24|                0.085|             4.01|             4.31|               0.673|                 0.02|2018|\n",
            "|    JULHO|              BAHIA| OLEO DIESEL S10|1.15178312E8|                   9.0|               3.53|                0.089|             3.43|             3.66|               0.349|                0.025|2018|\n",
            "+---------+-------------------+----------------+------------+----------------------+-------------------+---------------------+-----------------+-----------------+--------------------+---------------------+----+\n",
            "only showing top 20 rows\n",
            "\n"
          ]
        }
      ],
      "source": [
        "#ver a base\n",
        "dfcomb_vol.show()"
      ]
    },
    {
      "cell_type": "code",
      "source": [
        "#se usou a transformação\n",
        "# del df_cp"
      ],
      "metadata": {
        "id": "FRP-BwcKCYKS"
      },
      "execution_count": null,
      "outputs": []
    },
    {
      "cell_type": "code",
      "execution_count": null,
      "metadata": {
        "id": "96m22YELCYKT",
        "colab": {
          "base_uri": "https://localhost:8080/"
        },
        "outputId": "8c2a0677-fdc8-4268-c416-7511908343b7"
      },
      "outputs": [
        {
          "output_type": "stream",
          "name": "stdout",
          "text": [
            "root\n",
            " |-- mes: string (nullable = true)\n",
            " |-- estado: string (nullable = true)\n",
            " |-- produto: string (nullable = true)\n",
            " |-- qtde_vendas: double (nullable = true)\n",
            " |-- num_postos_pesquisados: double (nullable = true)\n",
            " |-- preco_medio_revenda: double (nullable = true)\n",
            " |-- desvio_padrao_revenda: double (nullable = true)\n",
            " |-- preco_min_revenda: double (nullable = true)\n",
            " |-- preco_max_revenda: double (nullable = true)\n",
            " |-- margem_media_revenda: double (nullable = true)\n",
            " |-- coef_variacao_revenda: double (nullable = true)\n",
            " |-- ano: integer (nullable = true)\n",
            "\n"
          ]
        }
      ],
      "source": [
        "#ver o esquema\n",
        "dfcomb_vol.printSchema()"
      ]
    },
    {
      "cell_type": "code",
      "execution_count": null,
      "metadata": {
        "id": "vcfswUQwCYKT",
        "colab": {
          "base_uri": "https://localhost:8080/"
        },
        "outputId": "8c895f2f-aa17-486d-f994-afe196dcc462"
      },
      "outputs": [
        {
          "output_type": "stream",
          "name": "stdout",
          "text": [
            "+-------+--------+---------+----------------+--------------------+----------------------+-------------------+---------------------+------------------+------------------+--------------------+---------------------+------------------+\n",
            "|summary|     mes|   estado|         produto|         qtde_vendas|num_postos_pesquisados|preco_medio_revenda|desvio_padrao_revenda| preco_min_revenda| preco_max_revenda|margem_media_revenda|coef_variacao_revenda|               ano|\n",
            "+-------+--------+---------+----------------+--------------------+----------------------+-------------------+---------------------+------------------+------------------+--------------------+---------------------+------------------+\n",
            "|  count|    9440|     9440|            9440|                9440|                  9440|               9440|                 9440|              9440|              9440|                7255|                 9440|              9440|\n",
            "|   mean|    null|     null|            null| 6.899972620173848E7|     13.49947033898305| 16.674999999999944|   0.5834763771186456|15.815781779661025|  17.6108432203391|  3.2143738111647253| 0.026790572033897866|2017.4406779661017|\n",
            "| stddev|    null|     null|            null|1.0456957609744325E8|    11.872776152898274| 27.671366030567903|   1.1230858668232324| 26.13469730864709|29.409278093476605|   5.999815027571336| 0.013217659874886213| 2.857026393958111|\n",
            "|    min|   ABRIL|     ACRE|ETANOL HIDRATADO|              282.05|                   1.0|               1.92|                  0.0|              1.76|              2.01|               0.144|                  0.0|              2013|\n",
            "|    max|SETEMBRO|TOCANTINS| OLEO DIESEL S10|          7.261068E8|                 118.0|             138.16|                8.928|            128.75|            146.48|              27.732|                0.109|              2022|\n",
            "+-------+--------+---------+----------------+--------------------+----------------------+-------------------+---------------------+------------------+------------------+--------------------+---------------------+------------------+\n",
            "\n"
          ]
        }
      ],
      "source": [
        "dfcomb_vol.describe().show()"
      ]
    },
    {
      "cell_type": "code",
      "execution_count": null,
      "metadata": {
        "id": "6kLB9OioCYKU",
        "colab": {
          "base_uri": "https://localhost:8080/"
        },
        "outputId": "366d5c0c-ba8c-4a28-82bf-73f9952982fe"
      },
      "outputs": [
        {
          "output_type": "stream",
          "name": "stdout",
          "text": [
            "+-------+--------+---------+----------------+--------------------+----------------------+-------------------+---------------------+------------------+------------------+--------------------+---------------------+------------------+\n",
            "|summary|     mes|   estado|         produto|         qtde_vendas|num_postos_pesquisados|preco_medio_revenda|desvio_padrao_revenda| preco_min_revenda| preco_max_revenda|margem_media_revenda|coef_variacao_revenda|               ano|\n",
            "+-------+--------+---------+----------------+--------------------+----------------------+-------------------+---------------------+------------------+------------------+--------------------+---------------------+------------------+\n",
            "|  count|    9440|     9440|            9440|                9440|                  9440|               9440|                 9440|              9440|              9440|                7255|                 9440|              9440|\n",
            "|   mean|    null|     null|            null| 6.899972620173848E7|     13.49947033898305| 16.674999999999944|   0.5834763771186456|15.815781779661025|  17.6108432203391|  3.2143738111647253| 0.026790572033897866|2017.4406779661017|\n",
            "| stddev|    null|     null|            null|1.0456957609744325E8|    11.872776152898274| 27.671366030567903|   1.1230858668232324| 26.13469730864709|29.409278093476605|   5.999815027571336| 0.013217659874886213| 2.857026393958111|\n",
            "|    min|   ABRIL|     ACRE|ETANOL HIDRATADO|              282.05|                   1.0|               1.92|                  0.0|              1.76|              2.01|               0.144|                  0.0|              2013|\n",
            "|    25%|    null|     null|            null|           2583900.0|                   8.0|               3.12|                0.063|               3.0|              3.22|               0.378|                0.018|              2015|\n",
            "|    50%|    null|     null|            null|         2.6266973E7|                  11.0|               3.76|                0.096|              3.63|              3.91|                0.47|                0.025|              2017|\n",
            "|    75%|    null|     null|            null|          9.208279E7|                  15.0|               6.29|                0.166|              6.09|               6.5|               0.645|                0.034|              2020|\n",
            "|    max|SETEMBRO|TOCANTINS| OLEO DIESEL S10|          7.261068E8|                 118.0|             138.16|                8.928|            128.75|            146.48|              27.732|                0.109|              2022|\n",
            "+-------+--------+---------+----------------+--------------------+----------------------+-------------------+---------------------+------------------+------------------+--------------------+---------------------+------------------+\n",
            "\n"
          ]
        }
      ],
      "source": [
        "#resumir os dados - comando demorado!\n",
        "dfcomb_vol.summary().show()"
      ]
    },
    {
      "cell_type": "code",
      "source": [
        "#criar windons por produto ordenado pela data\n",
        "#criar coluna com data!\n",
        "#mes por extenso\n",
        "w8 = Window.partitionBy(F.col('produto')).orderBy(F.col('ano').asc(),F.col('mes').asc())"
      ],
      "metadata": {
        "id": "me2p3srQ-Yha"
      },
      "execution_count": null,
      "outputs": []
    },
    {
      "cell_type": "code",
      "source": [
        "#ver o registro anterior ordenado por data\n",
        "dfcomb_vol.withColumn('lag_preco', F.lag('preco_medio_revenda', 1).over(w8)).withColumn('lag_qtd', F.lag('preco_medio_revenda', 1).over(w7)).show()\n"
      ],
      "metadata": {
        "id": "fgPoA5me-Yhb"
      },
      "execution_count": null,
      "outputs": []
    },
    {
      "cell_type": "code",
      "source": [
        "# #criar coluna com o aumento percentual do preço de uma senama para outra\n",
        "dfvar_vol = dfvar.withColumn('var_percentual_preco', (F.col('preco_medio_revenda') - F.col('lag_preco'))/F.col('lag_preco'))\n",
        ".withColumn('var_percentual_qtd', (F.col('preco_medio_revenda') - F.col('lag_qtd'))/F.col('lag_qtd'))"
      ],
      "metadata": {
        "id": "uhQO_pd--Yhb"
      },
      "execution_count": null,
      "outputs": []
    },
    {
      "cell_type": "code",
      "source": [
        "#deletar a base por espaço\n",
        "# del dfcomb_vol"
      ],
      "metadata": {
        "id": "EBAwI0VCCYKU"
      },
      "execution_count": null,
      "outputs": []
    },
    {
      "cell_type": "markdown",
      "source": [
        "##3h - base misteriosa"
      ],
      "metadata": {
        "id": "PtJD-9j7HcCg"
      }
    },
    {
      "cell_type": "code",
      "source": [
        "#olhar base misteriosa\n",
        "#é a base de exportaçã municpipio com defeito!"
      ],
      "metadata": {
        "id": "swyIAH2zGmEx"
      },
      "execution_count": null,
      "outputs": []
    },
    {
      "cell_type": "code",
      "execution_count": null,
      "metadata": {
        "id": "35QNBN0OGq79"
      },
      "outputs": [],
      "source": [
        "# dfcomex = ( spark.read.format('csv')\n",
        "                 .option('header', 'true')\n",
        "                 .option('inferschema', 'true')\n",
        "                 .option('delimiter', ',')\n",
        "                 .load(path_comex))"
      ]
    },
    {
      "cell_type": "code",
      "source": [
        "# dfcomex.show()"
      ],
      "metadata": {
        "colab": {
          "base_uri": "https://localhost:8080/"
        },
        "id": "uyHUTuKaHvOe",
        "outputId": "bce2cf5e-6358-4eac-e9f5-db080978aea0"
      },
      "execution_count": null,
      "outputs": [
        {
          "output_type": "stream",
          "name": "stdout",
          "text": [
            "+-------+----+--------+-------------------+------+--------------------+--------------+--------------------+------------+-----------+\n",
            "|    _c0| ano|     mes|          municipio|estado|                pais|ncm_mercadoria|          mercadoria|peso_liquido|valor_dolar|\n",
            "+-------+----+--------+-------------------+------+--------------------+--------------+--------------------+------------+-----------+\n",
            "|9651203|2013|Setembro|São José dos Campos|    SP|              Europa|          8503|Partes reconhecív...|          43|     8689.0|\n",
            "|9651204|2013|Setembro|São José dos Campos|    SP| União Europeia - UE|          8503|Partes reconhecív...|          43|     8689.0|\n",
            "|9651205|2016|   Abril|São José dos Campos|    SP|              Europa|          8503|Partes reconhecív...|         197|     4344.0|\n",
            "|9651206|2016|   Abril|São José dos Campos|    SP| União Europeia - UE|          8503|Partes reconhecív...|         197|     4344.0|\n",
            "|9651207|2016|    Maio|São José dos Campos|    SP|              Europa|          8503|Partes reconhecív...|         197|     4344.0|\n",
            "|9651208|2016|    Maio|São José dos Campos|    SP| União Europeia - UE|          8503|Partes reconhecív...|         197|     4344.0|\n",
            "|9651209|2015|   Abril|São José dos Campos|    SP|              Europa|          8503|Partes reconhecív...|        null|      202.0|\n",
            "|9651210|2015|   Abril|São José dos Campos|    SP| União Europeia - UE|          8503|Partes reconhecív...|        null|      202.0|\n",
            "|9651211|2019|  Agosto|São José dos Campos|    SP|      América do Sul|          8503|Partes reconhecív...|          14|     4408.0|\n",
            "|9651212|2018| Janeiro|São José dos Campos|    SP|      América do Sul|          8503|Partes reconhecív...|        null|     1002.0|\n",
            "|9651213|2022|    Maio|São José dos Campos|    SP|      América do Sul|          8503|Partes reconhecív...|          16|     1437.0|\n",
            "|9651214|2021|Novembro|São José dos Campos|    SP|    América do Norte|          8503|Partes reconhecív...|        null|       68.0|\n",
            "|9651215|2022| Janeiro|São José dos Campos|    SP|      América do Sul|          8503|Partes reconhecív...|           1|      173.0|\n",
            "|9651216|2022| Janeiro|São José dos Campos|    SP|Mercado Comum do ...|          8503|Partes reconhecív...|           1|      173.0|\n",
            "|9651217|2013|   Junho|São José dos Campos|    SP|    América do Norte|          8503|Partes reconhecív...|           1|      415.0|\n",
            "|9651218|2013| Outubro|São José dos Campos|    SP|    América do Norte|          8503|Partes reconhecív...|          21|    37901.0|\n",
            "|9651219|2014| Outubro|São José dos Campos|    SP|    América do Norte|          8503|Partes reconhecív...|           3|    10266.0|\n",
            "|9651220|2014|  Agosto|São José dos Campos|    SP|    América do Norte|          8503|Partes reconhecív...|          27|    92394.0|\n",
            "|9651221|2014|   Julho|São José dos Campos|    SP|    América do Norte|          8503|Partes reconhecív...|           3|    10266.0|\n",
            "|9651222|2014|    Maio|São José dos Campos|    SP|    América do Norte|          8503|Partes reconhecív...|           1|      378.0|\n",
            "+-------+----+--------+-------------------+------+--------------------+--------------+--------------------+------------+-----------+\n",
            "only showing top 20 rows\n",
            "\n"
          ]
        }
      ]
    },
    {
      "cell_type": "code",
      "source": [
        "# dfcomex.dtypes"
      ],
      "metadata": {
        "id": "FF61VCoOIoov"
      },
      "execution_count": null,
      "outputs": []
    },
    {
      "cell_type": "code",
      "source": [
        "# del dfcomex"
      ],
      "metadata": {
        "id": "Q29jTCKpI_nX"
      },
      "execution_count": null,
      "outputs": []
    },
    {
      "cell_type": "code",
      "source": [
        "#se não abri, olhar em pandas\n",
        "# df_comex = read_csv(path_comex)\n",
        "# df_comex.head(3)"
      ],
      "metadata": {
        "id": "a83qrmNLGwLG"
      },
      "execution_count": null,
      "outputs": []
    },
    {
      "cell_type": "markdown",
      "source": [
        "## 3g - base auxiliares"
      ],
      "metadata": {
        "id": "hM-w4jWABuxk"
      }
    },
    {
      "cell_type": "code",
      "execution_count": null,
      "metadata": {
        "id": "7JTBot6dYfJR"
      },
      "outputs": [],
      "source": [
        "# montar com pandas\n",
        "dfpais = ( spark.read.format('csv')\n",
        "                 .option('header', 'true')\n",
        "                 .option('inferschema', 'true')\n",
        "                 .option('delimiter', ',')\n",
        "                 .load(path_pais))\n",
        "\n",
        "# df_pais = pd.read_csv(path_pais)\n",
        "\n",
        "dfbloco = ( spark.read.format('csv')\n",
        "                 .option('header', 'true')\n",
        "                 .option('inferschema', 'true')\n",
        "                 .option('delimiter', ',')\n",
        "                 .load(path_bloco))\n",
        "\n",
        "# df_bloco = pd.read_csv(path_bloco)\n",
        "\n",
        "df_ecom = ( spark.read.format('csv')\n",
        "                 .option('header', 'true')\n",
        "                 .option('inferschema', 'true')\n",
        "                 .option('delimiter', ',')\n",
        "                 .load(path_ecom))\n",
        "\n",
        "# df_ecom = pd.read_csv(path_ecom)"
      ]
    },
    {
      "cell_type": "code",
      "execution_count": null,
      "metadata": {
        "id": "ETPYzdbWfny5"
      },
      "outputs": [],
      "source": [
        "#olhar\n",
        "# df_pais\n",
        "#converter\n",
        "# dfpais = spark.createDataFrame(df_pais)"
      ]
    },
    {
      "cell_type": "code",
      "execution_count": null,
      "metadata": {
        "colab": {
          "base_uri": "https://localhost:8080/"
        },
        "id": "fqZ1gKp3f9CT",
        "outputId": "eaeb4aec-f8a5-46d7-8c5e-54048b2b898c"
      },
      "outputs": [
        {
          "name": "stdout",
          "output_type": "stream",
          "text": [
            "+-------+-----------------+----------+\n",
            "|summary|          CO_PAIS|   NO_PAIS|\n",
            "+-------+-----------------+----------+\n",
            "|  count|              281|       281|\n",
            "|   mean|449.4697508896797|      null|\n",
            "| stddev| 266.870822101005|      null|\n",
            "|    min|                0|A Designar|\n",
            "|    max|              999|     Índia|\n",
            "+-------+-----------------+----------+\n",
            "\n"
          ]
        }
      ],
      "source": [
        "# dfpais.describe().show()"
      ]
    },
    {
      "cell_type": "markdown",
      "metadata": {
        "id": "38sI7qIXb5jj"
      },
      "source": [
        "#Filtro para ligar expotação/importação a combustíveis"
      ]
    },
    {
      "cell_type": "code",
      "execution_count": null,
      "metadata": {
        "id": "326clQ-PKkj7"
      },
      "outputs": [],
      "source": [
        "#lista com os cogido da produtos relacionados a base combustível\n",
        "sh6 = [271000, 271011, 271012,271019,271111,271119,271121,271129,290511,382600]\n",
        "ncm = [27100029, 27100041,27100042,27100049,27101159,27101259,27101921,27111100,27111910,27112100,27112990,29051100 ,38260000]\n",
        "#o sh4 é inclui algumas variações\n",
        "sh4 = [2710, 2711, 2905, 3826]"
      ]
    },
    {
      "cell_type": "code",
      "source": [
        "#filtro na base de importação por município\n",
        "dfimp_mun.filter(F.col('SH4').isin(sh4)).show()"
      ],
      "metadata": {
        "colab": {
          "base_uri": "https://localhost:8080/"
        },
        "id": "dGwD3IeE0Rmr",
        "outputId": "3d9bffe8-71ed-416c-e55d-15077a96b9e5"
      },
      "execution_count": null,
      "outputs": [
        {
          "output_type": "stream",
          "name": "stdout",
          "text": [
            "+---------+----+--------+------+-------------+------------+-----------+-------------------------------+------------+----+\n",
            "|      mes| SH4|cod_pais|estado|cod_municipio|peso_liquido|valor_dolar|descricoes__sistema_harmonizado|   municipio| ano|\n",
            "+---------+----+--------+------+-------------+------------+-----------+-------------------------------+------------+----+\n",
            "|    junho|2710|     361|    RS|      4314902|       39970|      39218|           Derivados sulfona...|Porto Alegre|2021|\n",
            "| setembro|2710|     361|    RS|      4314902|       39890|      42015|           Derivados sulfona...|Porto Alegre|2021|\n",
            "| novembro|2710|      23|    RS|      4314902|       25200|     114023|           Derivados sulfona...|Porto Alegre|2021|\n",
            "|     maio|2710|     249|    RS|      4314902|        7254|      72043|           Derivados sulfona...|Porto Alegre|2021|\n",
            "| setembro|2710|     275|    RS|      4314902|         800|       2564|           Derivados sulfona...|Porto Alegre|2021|\n",
            "|    julho|2905|     160|    RS|      4314902|       52800|     148139|           Éteres, éteres-ál...|Porto Alegre|2021|\n",
            "| novembro|2710|     244|    RS|      4314902|       23328|      27910|           Derivados sulfona...|Porto Alegre|2021|\n",
            "|    abril|2710|     249|    RS|      4314902|        5252|      29034|           Derivados sulfona...|Porto Alegre|2021|\n",
            "|    abril|2710|      23|    RS|      4314902|       23040|     100528|           Derivados sulfona...|Porto Alegre|2021|\n",
            "| dezembro|2905|     160|    RS|      4314902|       26400|      79266|           Éteres, éteres-ál...|Porto Alegre|2021|\n",
            "| dezembro|2710|     361|    RS|      4314902|       26800|      29942|           Derivados sulfona...|Porto Alegre|2021|\n",
            "|    junho|2710|     249|    RS|      4314902|       12993|      60393|           Derivados sulfona...|Porto Alegre|2021|\n",
            "|  outubro|2710|     249|    RS|      4314902|        4250|      20789|           Derivados sulfona...|Porto Alegre|2021|\n",
            "|  janeiro|2710|     190|    RS|      4314902|        2160|      11425|           Derivados sulfona...|Porto Alegre|2021|\n",
            "|fevereiro|2710|     245|    RS|      4314902|        8640|      15629|           Derivados sulfona...|Porto Alegre|2021|\n",
            "|  janeiro|2905|     628|    RS|      4314902|         141|       2825|           Éteres, éteres-ál...|Porto Alegre|2021|\n",
            "|    abril|2905|     160|    RS|      4314902|       26400|      50653|           Éteres, éteres-ál...|Porto Alegre|2021|\n",
            "|  outubro|2710|     245|    RS|      4314902|        5040|      10914|           Derivados sulfona...|Porto Alegre|2021|\n",
            "|  janeiro|2710|     361|    RS|      4314902|      127840|      98118|           Derivados sulfona...|Porto Alegre|2021|\n",
            "|     maio|2905|     160|    RS|      4314902|       52800|     126886|           Éteres, éteres-ál...|Porto Alegre|2021|\n",
            "+---------+----+--------+------+-------------+------------+-----------+-------------------------------+------------+----+\n",
            "only showing top 20 rows\n",
            "\n"
          ]
        }
      ]
    },
    {
      "cell_type": "code",
      "source": [
        "#filtro na base de exportação por município\n",
        "dfexp_mun.filter(F.col('SH4').isin(sh4)).show()"
      ],
      "metadata": {
        "colab": {
          "base_uri": "https://localhost:8080/"
        },
        "id": "NeIqncfjveT8",
        "outputId": "70da0df6-b2d8-43a3-bde3-410bfa35f4bd"
      },
      "execution_count": null,
      "outputs": [
        {
          "output_type": "stream",
          "name": "stdout",
          "text": [
            "+---------+----+--------+------+-------------+------------+-----------+-------------------------------+------------+----+\n",
            "|      mes| SH4|cod_pais|estado|cod_municipio|peso_liquido|valor_dolar|descricoes__sistema_harmonizado|   municipio| ano|\n",
            "+---------+----+--------+------+-------------+------------+-----------+-------------------------------+------------+----+\n",
            "|    junho|2710|     361|    RS|      4314902|       39970|      39218|           Derivados sulfona...|Porto Alegre|2021|\n",
            "| setembro|2710|     361|    RS|      4314902|       39890|      42015|           Derivados sulfona...|Porto Alegre|2021|\n",
            "| novembro|2710|      23|    RS|      4314902|       25200|     114023|           Derivados sulfona...|Porto Alegre|2021|\n",
            "|     maio|2710|     249|    RS|      4314902|        7254|      72043|           Derivados sulfona...|Porto Alegre|2021|\n",
            "| setembro|2710|     275|    RS|      4314902|         800|       2564|           Derivados sulfona...|Porto Alegre|2021|\n",
            "|    julho|2905|     160|    RS|      4314902|       52800|     148139|           Éteres, éteres-ál...|Porto Alegre|2021|\n",
            "| novembro|2710|     244|    RS|      4314902|       23328|      27910|           Derivados sulfona...|Porto Alegre|2021|\n",
            "|    abril|2710|     249|    RS|      4314902|        5252|      29034|           Derivados sulfona...|Porto Alegre|2021|\n",
            "|    abril|2710|      23|    RS|      4314902|       23040|     100528|           Derivados sulfona...|Porto Alegre|2021|\n",
            "| dezembro|2905|     160|    RS|      4314902|       26400|      79266|           Éteres, éteres-ál...|Porto Alegre|2021|\n",
            "| dezembro|2710|     361|    RS|      4314902|       26800|      29942|           Derivados sulfona...|Porto Alegre|2021|\n",
            "|    junho|2710|     249|    RS|      4314902|       12993|      60393|           Derivados sulfona...|Porto Alegre|2021|\n",
            "|  outubro|2710|     249|    RS|      4314902|        4250|      20789|           Derivados sulfona...|Porto Alegre|2021|\n",
            "|  janeiro|2710|     190|    RS|      4314902|        2160|      11425|           Derivados sulfona...|Porto Alegre|2021|\n",
            "|fevereiro|2710|     245|    RS|      4314902|        8640|      15629|           Derivados sulfona...|Porto Alegre|2021|\n",
            "|  janeiro|2905|     628|    RS|      4314902|         141|       2825|           Éteres, éteres-ál...|Porto Alegre|2021|\n",
            "|    abril|2905|     160|    RS|      4314902|       26400|      50653|           Éteres, éteres-ál...|Porto Alegre|2021|\n",
            "|  outubro|2710|     245|    RS|      4314902|        5040|      10914|           Derivados sulfona...|Porto Alegre|2021|\n",
            "|  janeiro|2710|     361|    RS|      4314902|      127840|      98118|           Derivados sulfona...|Porto Alegre|2021|\n",
            "|     maio|2905|     160|    RS|      4314902|       52800|     126886|           Éteres, éteres-ál...|Porto Alegre|2021|\n",
            "+---------+----+--------+------+-------------+------------+-----------+-------------------------------+------------+----+\n",
            "only showing top 20 rows\n",
            "\n"
          ]
        }
      ]
    },
    {
      "cell_type": "code",
      "source": [
        "#filtro na base de importação por produto\n",
        "dfimp_prod.filter(F.col('mercadoria').isin(ncm)).show()"
      ],
      "metadata": {
        "colab": {
          "base_uri": "https://localhost:8080/"
        },
        "id": "x4wabXZcveCM",
        "outputId": "0a365d43-c453-4d4b-b9b0-6109f18cc5de"
      },
      "execution_count": null,
      "outputs": [
        {
          "output_type": "stream",
          "name": "stdout",
          "text": [
            "+---------+----------+-----------+--------+------+-------+---------------+------------+-----------+--------------------+----------------+---------------+----+\n",
            "|      mes|mercadoria|cod_unidade|cod_pais|estado|cod_urf|qnt_estatistica|peso_liquido|valor_dolar|             produto|  unidade_medida|meio_transporte| ano|\n",
            "+---------+----------+-----------+--------+------+-------+---------------+------------+-----------+--------------------+----------------+---------------+----+\n",
            "| dezembro|  29051100|         10|     190|    SP| 817700|              8|           8|        135|Metanol (álcool m...|NUMERO (UNIDADE)|          AEREA|2021|\n",
            "|    junho|  29051100|         10|     249|    GO| 817700|              0|           0|       7973|Metanol (álcool m...|NUMERO (UNIDADE)|          AEREA|2021|\n",
            "| setembro|  29051100|         10|     249|    GO| 817700|              0|           0|       2289|Metanol (álcool m...|NUMERO (UNIDADE)|          AEREA|2021|\n",
            "|    março|  29051100|         10|     249|    GO| 817700|              0|           0|       5262|Metanol (álcool m...|NUMERO (UNIDADE)|          AEREA|2021|\n",
            "|   agosto|  29051100|         10|      23|    SP| 817600|              0|           0|         34|Metanol (álcool m...|NUMERO (UNIDADE)|          AEREA|2021|\n",
            "|     maio|  29051100|         10|     603|    SP| 817600|            439|         439|       7896|Metanol (álcool m...|NUMERO (UNIDADE)|          AEREA|2021|\n",
            "|  outubro|  29051100|         10|      23|    RJ| 717700|              5|           5|        190|Metanol (álcool m...|NUMERO (UNIDADE)|          AEREA|2021|\n",
            "|    março|  29051100|         10|     190|    SP| 817700|              6|           6|        104|Metanol (álcool m...|NUMERO (UNIDADE)|          AEREA|2021|\n",
            "| dezembro|  29051100|         10|     249|    GO| 817700|              0|           0|        501|Metanol (álcool m...|NUMERO (UNIDADE)|          AEREA|2021|\n",
            "| novembro|  29051100|         10|     249|    GO| 817700|              0|           0|       4273|Metanol (álcool m...|NUMERO (UNIDADE)|          AEREA|2021|\n",
            "|   agosto|  29051100|         10|      23|    SP| 817700|             65|          65|        721|Metanol (álcool m...|NUMERO (UNIDADE)|          AEREA|2021|\n",
            "| dezembro|  29051100|         10|      23|    SP| 817700|             75|          75|        770|Metanol (álcool m...|NUMERO (UNIDADE)|          AEREA|2021|\n",
            "|    junho|  29051100|         10|     767|    SP| 817700|              0|           0|        180|Metanol (álcool m...|NUMERO (UNIDADE)|          AEREA|2021|\n",
            "| dezembro|  29051100|         10|     767|    SP| 817700|              0|           0|        102|Metanol (álcool m...|NUMERO (UNIDADE)|          AEREA|2021|\n",
            "|fevereiro|  29051100|         10|     249|    GO| 817700|              0|           0|       4364|Metanol (álcool m...|NUMERO (UNIDADE)|          AEREA|2021|\n",
            "|fevereiro|  29051100|         10|     603|    SP| 817600|            439|         439|       7896|Metanol (álcool m...|NUMERO (UNIDADE)|          AEREA|2021|\n",
            "| novembro|  29051100|         10|     767|    SP| 817700|              0|           0|        129|Metanol (álcool m...|NUMERO (UNIDADE)|          AEREA|2021|\n",
            "| setembro|  29051100|         10|      23|    SP| 817600|             13|          13|        547|Metanol (álcool m...|NUMERO (UNIDADE)|          AEREA|2021|\n",
            "| novembro|  29051100|         10|     249|    SP| 817700|             28|          28|        905|Metanol (álcool m...|NUMERO (UNIDADE)|          AEREA|2021|\n",
            "|     maio|  29051100|         10|      23|    SP| 817600|              0|           0|         17|Metanol (álcool m...|NUMERO (UNIDADE)|          AEREA|2021|\n",
            "+---------+----------+-----------+--------+------+-------+---------------+------------+-----------+--------------------+----------------+---------------+----+\n",
            "only showing top 20 rows\n",
            "\n"
          ]
        }
      ]
    },
    {
      "cell_type": "code",
      "source": [
        "#filtro na base de exportação por produto\n",
        "dfexp_prod.filter(F.col('cod_mercadoria').isin(ncm)).show()"
      ],
      "metadata": {
        "colab": {
          "base_uri": "https://localhost:8080/"
        },
        "id": "wVPp6dnq2yQm",
        "outputId": "6f2b362e-625f-4a7c-ee25-c73c1ea9358d"
      },
      "execution_count": null,
      "outputs": [
        {
          "output_type": "stream",
          "name": "stdout",
          "text": [
            "+----+--------+--------------+------------+--------+------+---------------+-------+---------------+------------+-----------+-----------------+--------------------+\n",
            "| ano|     mes|cod_mercadoria|     unidade|cod_pais|estado|meio_transporte|cod_urf|qnt_estatistica|peso_liquido|valor_dolar|  urf_localizacao|          mercadoria|\n",
            "+----+--------+--------------+------------+--------+------+---------------+-------+---------------+------------+-----------+-----------------+--------------------+\n",
            "|2013|Setembro|      27101259|Metro cúbico|     249|    SP|       Marítima| 817800|           6449|     4959913|    4703835|  PORTO DE SANTOS|Outras gasolinas,...|\n",
            "|2013|Novembro|      27101259|Metro cúbico|     611|    SP|       Marítima| 817800|           6501|     5243354|    4620039|  PORTO DE SANTOS|Outras gasolinas,...|\n",
            "|2013|  Agosto|      27101259|Metro cúbico|     611|    SP|       Marítima| 817800|            221|      169964|     184589|  PORTO DE SANTOS|Outras gasolinas,...|\n",
            "|2013|Setembro|      27101259|Metro cúbico|     611|    SP|       Marítima| 817800|           6501|     4846958|    4494603|  PORTO DE SANTOS|Outras gasolinas,...|\n",
            "|2013|    Maio|      27101259|Metro cúbico|     611|    SP|       Marítima| 817800|           5903|     5902543|    5614325|  PORTO DE SANTOS|Outras gasolinas,...|\n",
            "|2013|   Junho|      27101259|Metro cúbico|     249|    SP|       Marítima| 817800|           8046|     6188054|    5880645|  PORTO DE SANTOS|Outras gasolinas,...|\n",
            "|2013| Janeiro|      27101259|Metro cúbico|     611|    SP|       Marítima| 817800|           8195|     6153067|    5232469|  PORTO DE SANTOS|Outras gasolinas,...|\n",
            "|2013|   Abril|      27101259|Metro cúbico|     249|    SP|       Marítima| 817800|           6693|     4994862|    4766534|  PORTO DE SANTOS|Outras gasolinas,...|\n",
            "|2013| Outubro|      27101259|Metro cúbico|     611|    SP|       Marítima| 817800|           6501|     5240134|    4549249|  PORTO DE SANTOS|Outras gasolinas,...|\n",
            "|2014|Setembro|      27101259|Metro cúbico|     611|    SP|       Marítima| 817800|           6501|     2959440|    2619323|  PORTO DE SANTOS|Outras gasolinas,...|\n",
            "|2014|   Abril|      27101259|Metro cúbico|     249|    PR|       Marítima| 817800|              0|        1312|        672|  PORTO DE SANTOS|Outras gasolinas,...|\n",
            "|2014| Janeiro|      27101259|Metro cúbico|      63|    SP|       Marítima| 817800|              1|         740|       8080|  PORTO DE SANTOS|Outras gasolinas,...|\n",
            "|2014|  Agosto|      27101259|Metro cúbico|      77|    SP|       Marítima| 817800|           6501|     5002489|    4837777|  PORTO DE SANTOS|Outras gasolinas,...|\n",
            "|2015| Outubro|      27101259|Metro cúbico|     249|    SP|       Marítima| 817800|          16365|    16364653|    9601025|  PORTO DE SANTOS|Outras gasolinas,...|\n",
            "|2015|Setembro|      27101259|Metro cúbico|     249|    SP|       Marítima| 817800|          19390|    19389703|   11212739|  PORTO DE SANTOS|Outras gasolinas,...|\n",
            "|2015|   Julho|      27101259|Metro cúbico|      63|    SP|       Marítima| 817800|           5100|     5099974|    3163659|  PORTO DE SANTOS|Outras gasolinas,...|\n",
            "|2015|   Junho|      27101259|Metro cúbico|     249|    SP|       Marítima| 817800|           6203|     5238221|    3319652|  PORTO DE SANTOS|Outras gasolinas,...|\n",
            "|2015|   Junho|      27101259|Metro cúbico|      63|    SP|       Marítima| 817800|           6204|     5184563|    2958528|  PORTO DE SANTOS|Outras gasolinas,...|\n",
            "|2015|   Julho|      27101259|Metro cúbico|     249|    SP|       Marítima| 817800|          11884|    11884002|    7442175|  PORTO DE SANTOS|Outras gasolinas,...|\n",
            "|2015|Novembro|      27101259|Metro cúbico|     249|    SP|       Marítima| 817800|           8139|     8138868|    3334489|  PORTO DE SANTOS|Outras gasolinas,...|\n",
            "+----+--------+--------------+------------+--------+------+---------------+-------+---------------+------------+-----------+-----------------+--------------------+\n",
            "only showing top 20 rows\n",
            "\n"
          ]
        }
      ]
    },
    {
      "cell_type": "code",
      "execution_count": null,
      "metadata": {
        "id": "aRUF9OX0Xn-3"
      },
      "outputs": [],
      "source": [
        "#mortar o dataframe no pyspark, usando o esquema\n",
        "def montar_df(caminho, formato):\n",
        "  df = ( spark.read.format(formato)\n",
        "                 .option('header', 'true')\n",
        "                 .option('inferschema', 'true')\n",
        "                 .option('delimiter', ',')\n",
        "                 .load(caminho))\n",
        "  return df"
      ]
    },
    {
      "cell_type": "code",
      "execution_count": null,
      "metadata": {
        "id": "P07ms9L9XaWj"
      },
      "outputs": [],
      "source": [
        "#chamar a função para criar a base com o esquema\n",
        "# dfpais = montar_df(path_pais, 'csv')"
      ]
    },
    {
      "cell_type": "code",
      "execution_count": null,
      "metadata": {
        "id": "NBuid-KOsqWu"
      },
      "outputs": [],
      "source": [
        "# dfip = montar_df(path_ip, 'parquet')"
      ]
    },
    {
      "cell_type": "markdown",
      "source": [
        "abrindo a base em spark"
      ],
      "metadata": {
        "id": "XIi7VKhzwm_u"
      }
    },
    {
      "cell_type": "code",
      "source": [
        "df.show()"
      ],
      "metadata": {
        "colab": {
          "base_uri": "https://localhost:8080/"
        },
        "id": "dJosQkIEpwJT",
        "outputId": "246cdd11-1514-46b9-aac0-b890d24a4f6c"
      },
      "execution_count": null,
      "outputs": [
        {
          "output_type": "stream",
          "name": "stdout",
          "text": [
            "+--------+----------+-----------+--------+------+-------+---------------+------------+-----------+--------------------+----------------+---------------+----+\n",
            "|     mes|mercadoria|cod_unidade|cod_pais|estado|cod_urf|qnt_estatistica|peso_liquido|valor_dolar|             produto|  unidade_medida|meio_transporte| ano|\n",
            "+--------+----------+-----------+--------+------+-------+---------------+------------+-----------+--------------------+----------------+---------------+----+\n",
            "|novembro|  73269090|         10|     493|    SP| 817700|           1409|        1409|      10031|Outras obras de f...|NUMERO (UNIDADE)|          AEREA|2021|\n",
            "|   março|  73269090|         10|     249|    RJ| 817700|           2859|        2859|     459689|Outras obras de f...|NUMERO (UNIDADE)|          AEREA|2021|\n",
            "|dezembro|  73269090|         10|     160|    RJ| 717700|            315|         315|      49945|Outras obras de f...|NUMERO (UNIDADE)|          AEREA|2021|\n",
            "|dezembro|  73269090|         10|     275|    SP| 817600|            849|         849|     543942|Outras obras de f...|NUMERO (UNIDADE)|          AEREA|2021|\n",
            "|   abril|  73269090|         10|     399|    ES| 727600|             10|          10|       1969|Outras obras de f...|NUMERO (UNIDADE)|          AEREA|2021|\n",
            "|   julho|  73269090|         10|     245|    SP| 817700|            112|         112|       9842|Outras obras de f...|NUMERO (UNIDADE)|          AEREA|2021|\n",
            "|setembro|  73269090|         10|      87|    SP| 817700|            349|         349|      84126|Outras obras de f...|NUMERO (UNIDADE)|          AEREA|2021|\n",
            "|novembro|  73269090|         10|     160|    SP| 817700|           8372|        8372|     116701|Outras obras de f...|NUMERO (UNIDADE)|          AEREA|2021|\n",
            "|  agosto|  73269090|         10|     249|    MG| 717700|             11|          11|       1204|Outras obras de f...|NUMERO (UNIDADE)|          AEREA|2021|\n",
            "|setembro|  73269090|         10|     249|    RS| 817600|            192|         192|       3824|Outras obras de f...|NUMERO (UNIDADE)|          AEREA|2021|\n",
            "|setembro|  73269090|         10|     149|    MG| 617700|              3|           3|       7764|Outras obras de f...|NUMERO (UNIDADE)|          AEREA|2021|\n",
            "|   março|  73269090|         10|     603|    RJ| 717700|            614|         614|      14334|Outras obras de f...|NUMERO (UNIDADE)|          AEREA|2021|\n",
            "| janeiro|  73269090|         10|     232|    SP| 817600|            178|         178|       1446|Outras obras de f...|NUMERO (UNIDADE)|          AEREA|2021|\n",
            "|dezembro|  73269090|         10|     271|    SC| 927800|              6|           6|        202|Outras obras de f...|NUMERO (UNIDADE)|          AEREA|2021|\n",
            "|  agosto|  73269090|         10|     386|    SP| 227700|              3|           3|        456|Outras obras de f...|NUMERO (UNIDADE)|          AEREA|2021|\n",
            "|setembro|  73269090|         10|     603|    RJ| 717700|            935|         935|      29285|Outras obras de f...|NUMERO (UNIDADE)|          AEREA|2021|\n",
            "|    maio|  73269090|         10|     764|    PR| 917900|            156|         156|       8119|Outras obras de f...|NUMERO (UNIDADE)|          AEREA|2021|\n",
            "|setembro|  73269090|         10|     160|    BA| 517801|             27|          27|        641|Outras obras de f...|NUMERO (UNIDADE)|          AEREA|2021|\n",
            "|  agosto|  73269090|         10|     232|    PE| 417901|            193|         193|      92544|Outras obras de f...|NUMERO (UNIDADE)|          AEREA|2021|\n",
            "|   julho|  73269090|         10|     249|    SC| 817600|             46|          46|       6376|Outras obras de f...|NUMERO (UNIDADE)|          AEREA|2021|\n",
            "+--------+----------+-----------+--------+------+-------+---------------+------------+-----------+--------------------+----------------+---------------+----+\n",
            "only showing top 20 rows\n",
            "\n"
          ]
        }
      ]
    },
    {
      "cell_type": "code",
      "source": [
        "df.describe().show()"
      ],
      "metadata": {
        "id": "n3I_VhYwvVhx"
      },
      "execution_count": null,
      "outputs": []
    },
    {
      "cell_type": "markdown",
      "source": [
        "Ordenações na base de exportação por produto"
      ],
      "metadata": {
        "id": "FUw_wcIOxpiq"
      }
    },
    {
      "cell_type": "code",
      "source": [
        "#os 10 produtos exportados com maior valor em dolares no 10 anos.\n",
        "dfexp_prod.orderBy(F.col('valor_dolar').desc()).show(10)"
      ],
      "metadata": {
        "id": "bDJl9jswMysd",
        "colab": {
          "base_uri": "https://localhost:8080/"
        },
        "outputId": "934a4e1f-7b8f-4c83-be7d-ca5884c69214"
      },
      "execution_count": null,
      "outputs": [
        {
          "output_type": "stream",
          "name": "stdout",
          "text": [
            "+----+--------+--------------+------------------+--------+------+---------------+-------+---------------+------------+-----------+------------------+--------------------+\n",
            "| ano|     mes|cod_mercadoria|           unidade|cod_pais|estado|meio_transporte|cod_urf|qnt_estatistica|peso_liquido|valor_dolar|   urf_localizacao|          mercadoria|\n",
            "+----+--------+--------------+------------------+--------+------+---------------+-------+---------------+------------+-----------+------------------+--------------------+\n",
            "|2021|  Agosto|      26011100|Quilograma líquido|     160|    PA|       Marítima| 317903|    12873417000| 12873417000| 2102966398|      IRF SAO LUIS|Minérios de ferro...|\n",
            "|2021|   Junho|      26011100|Quilograma líquido|     160|    PA|       Marítima| 317903|    11466550000| 11466550000| 1840229756|      IRF SAO LUIS|Minérios de ferro...|\n",
            "|2021|Setembro|      26011100|Quilograma líquido|     160|    PA|       Marítima| 317903|    14300175000| 14300175000| 1808501568|      IRF SAO LUIS|Minérios de ferro...|\n",
            "|2021|   Julho|      26011100|Quilograma líquido|     160|    PA|       Marítima| 317903|    10868888000| 10868888000| 1768892335|      IRF SAO LUIS|Minérios de ferro...|\n",
            "|2020|Setembro|      26011100|Quilograma líquido|     160|    PA|       Marítima| 317903|    17922689000| 17922689000| 1533003114|      IRF SAO LUIS|Minérios de ferro...|\n",
            "|2020| Outubro|      26011100|Quilograma líquido|     160|    PA|       Marítima| 317903|    14334825000| 14334825000| 1329502186|      IRF SAO LUIS|Minérios de ferro...|\n",
            "|2021| Outubro|      26011100|Quilograma líquido|     160|    PA|       Marítima| 317903|    13243266000| 13243266000| 1327418213|      IRF SAO LUIS|Minérios de ferro...|\n",
            "|2021|   Junho|      27090010|      Metro cúbico|     160|    RJ|       Marítima| 717800|        3196538|  2797618875| 1281594629|  PORTO DE ITAGUAI|Óleos brutos de p...|\n",
            "|2020|Novembro|      26011100|Quilograma líquido|     160|    PA|       Marítima| 317903|    13528884421| 13528884421| 1247122754|      IRF SAO LUIS|Minérios de ferro...|\n",
            "|2020|Dezembro|      26011100|Quilograma líquido|     160|    PA|       Marítima| 317903|    13412598645| 13412598645| 1218631390|      IRF SAO LUIS|Minérios de ferro...|\n",
            "+----+--------+--------------+------------------+--------+------+---------------+-------+---------------+------------+-----------+------------------+--------------------+\n",
            "only showing top 10 rows\n",
            "\n"
          ]
        }
      ]
    },
    {
      "cell_type": "code",
      "source": [
        "#os 10 produtos exportados com maior volume no 10 anos.\n",
        "dfexp_prod.orderBy(F.col('peso_liquido').desc()).show(10)"
      ],
      "metadata": {
        "id": "PV8Ye4UlMysd",
        "colab": {
          "base_uri": "https://localhost:8080/"
        },
        "outputId": "9033eae7-22ad-401d-d734-928ff6d67be1"
      },
      "execution_count": null,
      "outputs": [
        {
          "output_type": "stream",
          "name": "stdout",
          "text": [
            "+----+--------+--------------+------------------+--------+------+---------------+-------+---------------+------------+-----------+--------------------+--------------------+\n",
            "| ano|     mes|cod_mercadoria|           unidade|cod_pais|estado|meio_transporte|cod_urf|qnt_estatistica|peso_liquido|valor_dolar|     urf_localizacao|          mercadoria|\n",
            "+----+--------+--------------+------------------+--------+------+---------------+-------+---------------+------------+-----------+--------------------+--------------------+\n",
            "|2022|  Agosto|      89061000|    Número unidade|     827|    RJ|       Marítima| 717600|              1| 24030871000|    2013128|  PORTO DO RIO DE...|    Navios de guerra|\n",
            "|2020|Setembro|      26011100|Quilograma líquido|     160|    PA|       Marítima| 317903|    17922689000| 17922689000| 1533003114|        IRF SAO LUIS|Minérios de ferro...|\n",
            "|2019|   Julho|      26011100|Quilograma líquido|     160|    PA|       Marítima| 320151|    15465749000| 15465749000| 1193313692|  IRF  PORTO DE S...|Minérios de ferro...|\n",
            "|2020| Outubro|      26011100|Quilograma líquido|     160|    PA|       Marítima| 317903|    14334825000| 14334825000| 1329502186|        IRF SAO LUIS|Minérios de ferro...|\n",
            "|2021|Setembro|      26011100|Quilograma líquido|     160|    PA|       Marítima| 317903|    14300175000| 14300175000| 1808501568|        IRF SAO LUIS|Minérios de ferro...|\n",
            "|2020|  Agosto|      26011100|Quilograma líquido|     160|    PA|       Marítima| 317903|    14147509000| 14147509000| 1121498117|        IRF SAO LUIS|Minérios de ferro...|\n",
            "|2022|Setembro|      26011100|Quilograma líquido|     160|    PA|       Marítima| 317903|    13916980000| 13916980000| 1016435350|        IRF SAO LUIS|Minérios de ferro...|\n",
            "|2020|Novembro|      26011100|Quilograma líquido|     160|    PA|       Marítima| 317903|    13528884421| 13528884421| 1247122754|        IRF SAO LUIS|Minérios de ferro...|\n",
            "|2019|Setembro|      26011100|Quilograma líquido|     160|    PA|       Marítima| 320151|    13415912000| 13415912000|  870210045|  IRF  PORTO DE S...|Minérios de ferro...|\n",
            "|2020|Dezembro|      26011100|Quilograma líquido|     160|    PA|       Marítima| 317903|    13412598645| 13412598645| 1218631390|        IRF SAO LUIS|Minérios de ferro...|\n",
            "+----+--------+--------------+------------------+--------+------+---------------+-------+---------------+------------+-----------+--------------------+--------------------+\n",
            "only showing top 10 rows\n",
            "\n"
          ]
        }
      ]
    },
    {
      "cell_type": "code",
      "source": [
        "#criar coluna com o valor das exportação por volume transportado\n",
        "dfexp_prod = dfexp_prod.withColumn('dolar_por_vol', F.round(F.col('valor_dolar')/F.col('peso_liquido'), 2))"
      ],
      "metadata": {
        "id": "DlZ6ndUVMyse"
      },
      "execution_count": null,
      "outputs": []
    },
    {
      "cell_type": "code",
      "source": [
        "#ver a coluna nova\n",
        "dfexp_prod.show(10)"
      ],
      "metadata": {
        "colab": {
          "base_uri": "https://localhost:8080/"
        },
        "id": "WiTvDHJx2iW2",
        "outputId": "fce91c84-c00c-471d-cb3b-986752f14805"
      },
      "execution_count": null,
      "outputs": [
        {
          "output_type": "stream",
          "name": "stdout",
          "text": [
            "+----+---------+--------------+------------------+--------+------+---------------+-------+---------------+------------+-----------+-----------------+--------------------+-------------+\n",
            "| ano|      mes|cod_mercadoria|           unidade|cod_pais|estado|meio_transporte|cod_urf|qnt_estatistica|peso_liquido|valor_dolar|  urf_localizacao|          mercadoria|dolar_por_vol|\n",
            "+----+---------+--------------+------------------+--------+------+---------------+-------+---------------+------------+-----------+-----------------+--------------------+-------------+\n",
            "|2013|    Março|      30067000|Quilograma líquido|     169|    SP|       Marítima| 817800|           1447|        1447|      27538|  PORTO DE SANTOS|Preparações em ge...|        19.03|\n",
            "|2013|  Janeiro|      30067000|Quilograma líquido|     493|    SP|       Marítima| 817800|           1512|        1512|      26435|  PORTO DE SANTOS|Preparações em ge...|        17.48|\n",
            "|2013|    Julho|      30067000|Quilograma líquido|     580|    SP|       Marítima| 817800|           1526|        1526|      19997|  PORTO DE SANTOS|Preparações em ge...|         13.1|\n",
            "|2013|     Maio|      30067000|Quilograma líquido|     239|    SP|       Marítima| 817800|           2164|        2164|      22783|  PORTO DE SANTOS|Preparações em ge...|        10.53|\n",
            "|2013|  Janeiro|      30067000|Quilograma líquido|     169|    SP|       Marítima| 817800|           1022|        1022|      20856|  PORTO DE SANTOS|Preparações em ge...|        20.41|\n",
            "|2013|    Julho|      30067000|Quilograma líquido|     239|    SP|       Marítima| 817800|            252|         252|       4406|  PORTO DE SANTOS|Preparações em ge...|        17.48|\n",
            "|2013| Setembro|      30067000|Quilograma líquido|     850|    SP|       Marítima| 817800|           6331|        6331|     153767|  PORTO DE SANTOS|Preparações em ge...|        24.29|\n",
            "|2013| Setembro|      30067000|Quilograma líquido|     317|    RS|       Marítima| 817800|            309|         309|        531|  PORTO DE SANTOS|Preparações em ge...|         1.72|\n",
            "|2013|    Abril|      30067000|Quilograma líquido|     493|    SP|       Marítima| 817800|            302|         302|       5287|  PORTO DE SANTOS|Preparações em ge...|        17.51|\n",
            "|2013|Fevereiro|      30067000|Quilograma líquido|     169|    SP|       Marítima| 817800|           1746|        1746|      21124|  PORTO DE SANTOS|Preparações em ge...|         12.1|\n",
            "+----+---------+--------------+------------------+--------+------+---------------+-------+---------------+------------+-----------+-----------------+--------------------+-------------+\n",
            "only showing top 10 rows\n",
            "\n"
          ]
        }
      ]
    },
    {
      "cell_type": "code",
      "source": [
        "#os 10 produtos exportados com maior valor por volume.\n",
        "dfexp_prod.orderBy(F.col('dolar_por_vol').desc()).show(10)"
      ],
      "metadata": {
        "id": "WIBLDrC8Myse",
        "colab": {
          "base_uri": "https://localhost:8080/"
        },
        "outputId": "0ab957c3-0702-434d-f350-5459d916052d"
      },
      "execution_count": null,
      "outputs": [
        {
          "output_type": "stream",
          "name": "stdout",
          "text": [
            "+----+--------+--------------+------------------+--------+------+--------------------+-------+---------------+------------+-----------+--------------------+--------------------+-------------+\n",
            "| ano|     mes|cod_mercadoria|           unidade|cod_pais|estado|     meio_transporte|cod_urf|qnt_estatistica|peso_liquido|valor_dolar|     urf_localizacao|          mercadoria|dolar_por_vol|\n",
            "+----+--------+--------------+------------------+--------+------+--------------------+-------+---------------+------------+-----------+--------------------+--------------------+-------------+\n",
            "|2022|  Agosto|      27160000|Mil quilowatt hora|      63|    PR|Conduto rede de t...|1017500|         863702|           1|   85101443|     ALF  URUGUAIANA|    Energia elétrica|  8.5101443E7|\n",
            "|2022|Setembro|      27160000|Mil quilowatt hora|      63|    PR|Conduto rede de t...|1017500|         695629|           1|   73193022|     ALF  URUGUAIANA|    Energia elétrica|  7.3193022E7|\n",
            "|2022| Outubro|      27160000|Mil quilowatt hora|      63|    PR|Conduto rede de t...|1017500|         638641|           1|   70448507|     ALF  URUGUAIANA|    Energia elétrica|  7.0448507E7|\n",
            "|2022|Novembro|      27160000|Mil quilowatt hora|      63|    PR|Conduto rede de t...|1017500|         658828|           1|   70046832|     ALF  URUGUAIANA|    Energia elétrica|  7.0046832E7|\n",
            "|2016|Setembro|      27160000|Mil quilowatt hora|      63|    RJ|      Meios próprios| 915200|         266996|           1|   23580666|            CURITIBA|    Energia elétrica|  2.3580666E7|\n",
            "|2021|    Maio|      27160000|Mil quilowatt hora|      63|    PR|Conduto rede de t...|1017500|         274505|           1|   21644781|     ALF  URUGUAIANA|    Energia elétrica|  2.1644781E7|\n",
            "|2022|   Junho|      27160000|Mil quilowatt hora|      63|    PR|Conduto rede de t...|1017500|         161912|           1|   14558429|     ALF  URUGUAIANA|    Energia elétrica|  1.4558429E7|\n",
            "|2018|Setembro|      97011000|    Número unidade|     249|    RJ|               Aérea| 717700|              1|           3|   25000000|  AEROPORTO INTER...|Quadros, pinturas...|   8333333.33|\n",
            "|2018|Novembro|      71031000|Quilograma líquido|     767|    RJ|             Em mãos| 817600|              1|           1|    6355500|  AEROPORTO INTER...|Pedras preciosas ...|    6355500.0|\n",
            "|2022|Setembro|      27160000|Mil quilowatt hora|      63|    PR|Conduto rede de t...|1010351|          55435|           1|    5871955|  IRF SANTANA DO ...|    Energia elétrica|    5871955.0|\n",
            "+----+--------+--------------+------------------+--------+------+--------------------+-------+---------------+------------+-----------+--------------------+--------------------+-------------+\n",
            "only showing top 10 rows\n",
            "\n"
          ]
        }
      ]
    },
    {
      "cell_type": "code",
      "source": [
        "#acrescentar um filtro, excluido, a mercadoria energia elétrico\n",
        "dfexp_prod.filter(F.col('mercadoria')!='Energia elétrica').orderBy(F.col('dolar_por_vol').desc()).show(10)"
      ],
      "metadata": {
        "colab": {
          "base_uri": "https://localhost:8080/"
        },
        "id": "f7bH3moF_jy2",
        "outputId": "51b6036a-3bc9-4803-e809-1940e74a9052"
      },
      "execution_count": null,
      "outputs": [
        {
          "output_type": "stream",
          "name": "stdout",
          "text": [
            "+----+---------+--------------+------------------+--------+------+-----------------+-------+---------------+------------+-----------+--------------------+--------------------+-------------+\n",
            "| ano|      mes|cod_mercadoria|           unidade|cod_pais|estado|  meio_transporte|cod_urf|qnt_estatistica|peso_liquido|valor_dolar|     urf_localizacao|          mercadoria|dolar_por_vol|\n",
            "+----+---------+--------------+------------------+--------+------+-----------------+-------+---------------+------------+-----------+--------------------+--------------------+-------------+\n",
            "|2018| Setembro|      97011000|    Número unidade|     249|    RJ|            Aérea| 717700|              1|           3|   25000000|  AEROPORTO INTER...|Quadros, pinturas...|   8333333.33|\n",
            "|2018| Novembro|      71031000|Quilograma líquido|     767|    RJ|          Em mãos| 817600|              1|           1|    6355500|  AEROPORTO INTER...|Pedras preciosas ...|    6355500.0|\n",
            "|2018| Setembro|      88023029|    Número unidade|     249|    SP|Via não declarada| 812000|              1|           3|   15680906|  SAO JOSE DOS CA...|Aviões e outros v...|   5226968.67|\n",
            "|2017|     Maio|      71039100|           Quilate|     386|    MG|   Meios próprios| 615100|           5423|           1|    4177010|  IRF/BELO HORIZO...|Rubis, safiras e ...|    4177010.0|\n",
            "|2016|  Outubro|      29329999|Quilograma líquido|     493|    RJ|            Aérea| 817700|              1|           1|    4168620|  AEROPORTO INTER...|Outros compostos ...|    4168620.0|\n",
            "|2013|    Junho|      71039100|           Quilate|     351|    MG|   Meios próprios| 615100|           6852|           1|    3874555|  IRF/BELO HORIZO...|Rubis, safiras e ...|    3874555.0|\n",
            "|2015|    Julho|      71039900|           Quilate|     403|    GO|            Aérea| 817700|           5000|           1|    3250000|  AEROPORTO INTER...|Outras pedras pre...|    3250000.0|\n",
            "|2020|  Janeiro|      71039900|           Quilate|     249|    MG|          Em mãos| 817700|          10950|           1|    3243515|  AEROPORTO INTER...|Outras pedras pre...|    3243515.0|\n",
            "|2022|  Janeiro|      71039100|           Quilate|     249|    MG|          Em mãos| 817600|           9625|           1|    3094742|  AEROPORTO INTER...|Rubis, safiras e ...|    3094742.0|\n",
            "|2022|Fevereiro|      38260000|      Metro cúbico|     767|    RS|         Marítima| 917800|           5174|           2|    5616051|  PORTO DE PARANAGUA|Biodiesel e suas ...|    2808025.5|\n",
            "+----+---------+--------------+------------------+--------+------+-----------------+-------+---------------+------------+-----------+--------------------+--------------------+-------------+\n",
            "only showing top 10 rows\n",
            "\n"
          ]
        }
      ]
    },
    {
      "cell_type": "markdown",
      "source": [
        "#Disponibilização das bases originais e tratadas para a bucket exclusiva do cliente EPOC"
      ],
      "metadata": {
        "id": "n7zVdeVEjKVo"
      }
    },
    {
      "cell_type": "markdown",
      "source": [
        "Instalação e configuração"
      ],
      "metadata": {
        "id": "_IG7d-wMjGeh"
      }
    },
    {
      "cell_type": "code",
      "source": [
        "#instalar biblioteca da google cloud storage file system\n",
        "!pip install gcsfs"
      ],
      "metadata": {
        "id": "2o85qMgeRTew",
        "colab": {
          "base_uri": "https://localhost:8080/"
        },
        "outputId": "214de41d-f2b6-4a88-8077-a2ef2dfab3e3"
      },
      "execution_count": null,
      "outputs": [
        {
          "output_type": "stream",
          "name": "stdout",
          "text": [
            "Looking in indexes: https://pypi.org/simple, https://us-python.pkg.dev/colab-wheels/public/simple/\n",
            "Requirement already satisfied: gcsfs in /usr/local/lib/python3.8/dist-packages (2022.11.0)\n",
            "Requirement already satisfied: fsspec==2022.11.0 in /usr/local/lib/python3.8/dist-packages (from gcsfs) (2022.11.0)\n",
            "Requirement already satisfied: google-cloud-storage in /usr/local/lib/python3.8/dist-packages (from gcsfs) (2.7.0)\n",
            "Requirement already satisfied: requests in /usr/local/lib/python3.8/dist-packages (from gcsfs) (2.25.1)\n",
            "Requirement already satisfied: decorator>4.1.2 in /usr/local/lib/python3.8/dist-packages (from gcsfs) (4.4.2)\n",
            "Requirement already satisfied: google-auth-oauthlib in /usr/local/lib/python3.8/dist-packages (from gcsfs) (0.4.6)\n",
            "Requirement already satisfied: aiohttp!=4.0.0a0,!=4.0.0a1 in /usr/local/lib/python3.8/dist-packages (from gcsfs) (3.8.3)\n",
            "Requirement already satisfied: google-auth>=1.2 in /usr/local/lib/python3.8/dist-packages (from gcsfs) (2.15.0)\n",
            "Requirement already satisfied: attrs>=17.3.0 in /usr/local/lib/python3.8/dist-packages (from aiohttp!=4.0.0a0,!=4.0.0a1->gcsfs) (22.2.0)\n",
            "Requirement already satisfied: frozenlist>=1.1.1 in /usr/local/lib/python3.8/dist-packages (from aiohttp!=4.0.0a0,!=4.0.0a1->gcsfs) (1.3.3)\n",
            "Requirement already satisfied: multidict<7.0,>=4.5 in /usr/local/lib/python3.8/dist-packages (from aiohttp!=4.0.0a0,!=4.0.0a1->gcsfs) (6.0.4)\n",
            "Requirement already satisfied: async-timeout<5.0,>=4.0.0a3 in /usr/local/lib/python3.8/dist-packages (from aiohttp!=4.0.0a0,!=4.0.0a1->gcsfs) (4.0.2)\n",
            "Requirement already satisfied: aiosignal>=1.1.2 in /usr/local/lib/python3.8/dist-packages (from aiohttp!=4.0.0a0,!=4.0.0a1->gcsfs) (1.3.1)\n",
            "Requirement already satisfied: yarl<2.0,>=1.0 in /usr/local/lib/python3.8/dist-packages (from aiohttp!=4.0.0a0,!=4.0.0a1->gcsfs) (1.8.2)\n",
            "Requirement already satisfied: charset-normalizer<3.0,>=2.0 in /usr/local/lib/python3.8/dist-packages (from aiohttp!=4.0.0a0,!=4.0.0a1->gcsfs) (2.1.1)\n",
            "Requirement already satisfied: six>=1.9.0 in /usr/local/lib/python3.8/dist-packages (from google-auth>=1.2->gcsfs) (1.15.0)\n",
            "Requirement already satisfied: cachetools<6.0,>=2.0.0 in /usr/local/lib/python3.8/dist-packages (from google-auth>=1.2->gcsfs) (5.2.0)\n",
            "Requirement already satisfied: pyasn1-modules>=0.2.1 in /usr/local/lib/python3.8/dist-packages (from google-auth>=1.2->gcsfs) (0.2.8)\n",
            "Requirement already satisfied: rsa<5,>=3.1.4 in /usr/local/lib/python3.8/dist-packages (from google-auth>=1.2->gcsfs) (4.9)\n",
            "Requirement already satisfied: requests-oauthlib>=0.7.0 in /usr/local/lib/python3.8/dist-packages (from google-auth-oauthlib->gcsfs) (1.3.1)\n",
            "Requirement already satisfied: google-resumable-media>=2.3.2 in /usr/local/lib/python3.8/dist-packages (from google-cloud-storage->gcsfs) (2.4.0)\n",
            "Requirement already satisfied: google-cloud-core<3.0dev,>=2.3.0 in /usr/local/lib/python3.8/dist-packages (from google-cloud-storage->gcsfs) (2.3.2)\n",
            "Requirement already satisfied: google-api-core!=2.0.*,!=2.1.*,!=2.2.*,!=2.3.0,<3.0.0dev,>=1.31.5 in /usr/local/lib/python3.8/dist-packages (from google-cloud-storage->gcsfs) (2.11.0)\n",
            "Requirement already satisfied: urllib3<1.27,>=1.21.1 in /usr/local/lib/python3.8/dist-packages (from requests->gcsfs) (1.24.3)\n",
            "Requirement already satisfied: idna<3,>=2.5 in /usr/local/lib/python3.8/dist-packages (from requests->gcsfs) (2.10)\n",
            "Requirement already satisfied: certifi>=2017.4.17 in /usr/local/lib/python3.8/dist-packages (from requests->gcsfs) (2022.12.7)\n",
            "Requirement already satisfied: chardet<5,>=3.0.2 in /usr/local/lib/python3.8/dist-packages (from requests->gcsfs) (4.0.0)\n",
            "Requirement already satisfied: protobuf!=3.20.0,!=3.20.1,!=4.21.0,!=4.21.1,!=4.21.2,!=4.21.3,!=4.21.4,!=4.21.5,<5.0.0dev,>=3.19.5 in /usr/local/lib/python3.8/dist-packages (from google-api-core!=2.0.*,!=2.1.*,!=2.2.*,!=2.3.0,<3.0.0dev,>=1.31.5->google-cloud-storage->gcsfs) (3.19.6)\n",
            "Requirement already satisfied: googleapis-common-protos<2.0dev,>=1.56.2 in /usr/local/lib/python3.8/dist-packages (from google-api-core!=2.0.*,!=2.1.*,!=2.2.*,!=2.3.0,<3.0.0dev,>=1.31.5->google-cloud-storage->gcsfs) (1.57.1)\n",
            "Requirement already satisfied: google-crc32c<2.0dev,>=1.0 in /usr/local/lib/python3.8/dist-packages (from google-resumable-media>=2.3.2->google-cloud-storage->gcsfs) (1.5.0)\n",
            "Requirement already satisfied: pyasn1<0.5.0,>=0.4.6 in /usr/local/lib/python3.8/dist-packages (from pyasn1-modules>=0.2.1->google-auth>=1.2->gcsfs) (0.4.8)\n",
            "Requirement already satisfied: oauthlib>=3.0.0 in /usr/local/lib/python3.8/dist-packages (from requests-oauthlib>=0.7.0->google-auth-oauthlib->gcsfs) (3.2.2)\n"
          ]
        }
      ]
    },
    {
      "cell_type": "code",
      "source": [
        "#importar o pandas\n",
        "import pandas as pd"
      ],
      "metadata": {
        "id": "ckvYbsbLEGfy"
      },
      "execution_count": null,
      "outputs": []
    },
    {
      "cell_type": "code",
      "source": [
        "#importar o cloud storage\n",
        "from google.cloud import storage\n",
        "import os\n",
        "from google.cloud.storage.blob import Blob "
      ],
      "metadata": {
        "id": "U5dXOfxDRXfo"
      },
      "execution_count": null,
      "outputs": []
    },
    {
      "cell_type": "markdown",
      "source": [
        "Acesso ao cloud storage"
      ],
      "metadata": {
        "id": "Cjb5D4PolsnZ"
      }
    },
    {
      "cell_type": "code",
      "execution_count": null,
      "metadata": {
        "id": "ro8t1NrQTGOd"
      },
      "outputs": [],
      "source": [
        "#Configura o acesso ao Cloud Storage pela chave da conta de serviço (biblioteca os)\n",
        "serviceAccount = '/content/chave_bucket_JSON.json' \n",
        "os.environ['GOOGLE_APPLICATION_CREDENTIALS'] = serviceAccount"
      ]
    },
    {
      "cell_type": "markdown",
      "source": [
        "criação da bucket do cliente"
      ],
      "metadata": {
        "id": "W-D8DMeJoR26"
      }
    },
    {
      "cell_type": "code",
      "source": [
        "#da biblioteca storage.cliente usar a função para cria uma nova bucket\n",
        "client = storage.Client()\n",
        "bucket = client.create_bucket('coexp-epoc')\n",
        "# bucket = storage.Client().create_bucket('coexp-epoc')\n",
        "print(bucket)"
      ],
      "metadata": {
        "id": "7wgi6-qDnG6e"
      },
      "execution_count": null,
      "outputs": []
    },
    {
      "cell_type": "code",
      "source": [
        "#verificar a existencia da bucket\n",
        "try:\n",
        "  bucket = client.get_bucket('coexp-epoc')\n",
        "  print('bucket encontrada')\n",
        "except:\n",
        "  print('Sorry, essa bucket não existe')"
      ],
      "metadata": {
        "colab": {
          "base_uri": "https://localhost:8080/"
        },
        "id": "iqkdDEl0qqXO",
        "outputId": "0046836d-f145-46ee-b1d1-f5bf003a3c9f"
      },
      "execution_count": null,
      "outputs": [
        {
          "output_type": "stream",
          "name": "stdout",
          "text": [
            "bucket encontrada\n"
          ]
        }
      ]
    },
    {
      "cell_type": "code",
      "source": [
        "#listar as bucket\n",
        "for bucket in client.list_buckets():\n",
        "  print(bucket)"
      ],
      "metadata": {
        "colab": {
          "base_uri": "https://localhost:8080/"
        },
        "id": "mlqRijemnsTv",
        "outputId": "64acf4da-41aa-49e1-854f-0e200139c7c5"
      },
      "execution_count": null,
      "outputs": [
        {
          "output_type": "stream",
          "name": "stdout",
          "text": [
            "<Bucket: bc26-datasets-comex>\n",
            "<Bucket: coexp-epoc>\n",
            "<Bucket: dataflow-staging-us-central1-53174594931>\n",
            "<Bucket: dataflow-staging-us-west1-53174594931>\n",
            "<Bucket: dataproc-temp-sa-east1-53174594931-3xsvzgfc>\n",
            "<Bucket: dataproc-temp-us-west1-53174594931-owoimmug>\n"
          ]
        }
      ]
    },
    {
      "cell_type": "markdown",
      "source": [
        "#Acesso a bucket de trabalho"
      ],
      "metadata": {
        "id": "Crh0RcJgxGvL"
      }
    },
    {
      "cell_type": "code",
      "source": [
        "#entra na bucket de trabalho\n",
        "bucket_trab = client.get_bucket('bc26-datasets-comex')"
      ],
      "metadata": {
        "id": "luJI4Ce0rRZ0"
      },
      "execution_count": null,
      "outputs": []
    },
    {
      "cell_type": "code",
      "source": [
        "#listar os blob dentro de uma bucket\n",
        "lista_blob = bucket_trab.list_blobs()\n",
        "for blob in lista_blob:\n",
        "  print(blob)"
      ],
      "metadata": {
        "colab": {
          "base_uri": "https://localhost:8080/"
        },
        "id": "9yKNHtKhrxXw",
        "outputId": "bd1388c3-9e76-4677-8f1e-39dc4d03867a"
      },
      "execution_count": null,
      "outputs": [
        {
          "output_type": "stream",
          "name": "stdout",
          "text": [
            "<Blob: bc26-datasets-comex, BQ_pipeline/, 1673026179326760>\n",
            "<Blob: bc26-datasets-comex, BQ_pipeline/BQ_pipeline.csv, 1673028081537644>\n",
            "<Blob: bc26-datasets-comex, BQ_pipeline/models/_exp_ncm, 1673283474389792>\n",
            "<Blob: bc26-datasets-comex, BQ_pipeline/models/md_exp_mun, 1673387176001219>\n",
            "<Blob: bc26-datasets-comex, BQ_pipeline/models/modelo_batch, 1673269324838074>\n",
            "<Blob: bc26-datasets-comex, BQ_pipeline/staging/beamapp-root-0106181254-660754-in4y1ty0.1673028774.661024/apache_beam-2.43.0-cp38-cp38-manylinux_2_17_x86_64.manylinux2014_x86_64.whl, 1673028796531287>\n",
            "<Blob: bc26-datasets-comex, BQ_pipeline/staging/beamapp-root-0106181254-660754-in4y1ty0.1673028774.661024/dataflow_python_sdk.tar, 1673028777601702>\n",
            "<Blob: bc26-datasets-comex, BQ_pipeline/staging/beamapp-root-0106181254-660754-in4y1ty0.1673028774.661024/pipeline.pb, 1673028796899006>\n",
            "<Blob: bc26-datasets-comex, BQ_pipeline/staging/beamapp-root-0106181502-265073-opaybmzv.1673028902.265298/apache_beam-2.43.0-cp38-cp38-manylinux_2_17_x86_64.manylinux2014_x86_64.whl, 1673028924727516>\n",
            "<Blob: bc26-datasets-comex, BQ_pipeline/staging/beamapp-root-0106181502-265073-opaybmzv.1673028902.265298/dataflow_python_sdk.tar, 1673028906287361>\n",
            "<Blob: bc26-datasets-comex, BQ_pipeline/staging/beamapp-root-0106181502-265073-opaybmzv.1673028902.265298/pipeline.pb, 1673028925103197>\n",
            "<Blob: bc26-datasets-comex, BQ_pipeline/staging/beamapp-root-0106181758-746538-73ewzm46.1673029078.746870/apache_beam-2.43.0-cp38-cp38-manylinux_2_17_x86_64.manylinux2014_x86_64.whl, 1673029101343349>\n",
            "<Blob: bc26-datasets-comex, BQ_pipeline/staging/beamapp-root-0106181758-746538-73ewzm46.1673029078.746870/dataflow_python_sdk.tar, 1673029082671903>\n",
            "<Blob: bc26-datasets-comex, BQ_pipeline/staging/beamapp-root-0106181758-746538-73ewzm46.1673029078.746870/pipeline.pb, 1673029101718088>\n",
            "<Blob: bc26-datasets-comex, BQ_pipeline/staging/beamapp-root-0109124642-244574-3s2dudji.1673268402.244760/apache_beam-2.43.0-cp38-cp38-manylinux_2_17_x86_64.manylinux2014_x86_64.whl, 1673268431014000>\n",
            "<Blob: bc26-datasets-comex, BQ_pipeline/staging/beamapp-root-0109124642-244574-3s2dudji.1673268402.244760/dataflow_python_sdk.tar, 1673268406699114>\n",
            "<Blob: bc26-datasets-comex, BQ_pipeline/staging/beamapp-root-0109124642-244574-3s2dudji.1673268402.244760/pipeline.pb, 1673268431469905>\n",
            "<Blob: bc26-datasets-comex, BQ_pipeline/staging/beamapp-root-0109130133-368926-f9o0vsbo.1673269293.369103/apache_beam-2.43.0-cp38-cp38-manylinux_2_17_x86_64.manylinux2014_x86_64.whl, 1673269323090251>\n",
            "<Blob: bc26-datasets-comex, BQ_pipeline/staging/beamapp-root-0109130133-368926-f9o0vsbo.1673269293.369103/dataflow_python_sdk.tar, 1673269298933711>\n",
            "<Blob: bc26-datasets-comex, BQ_pipeline/staging/beamapp-root-0109130133-368926-f9o0vsbo.1673269293.369103/pipeline.pb, 1673269323570077>\n",
            "<Blob: bc26-datasets-comex, BQ_pipeline/staging/beamapp-root-0109165722-865028-r9oa285a.1673283442.865227/apache_beam-2.43.0-cp38-cp38-manylinux_2_17_x86_64.manylinux2014_x86_64.whl, 1673283472651673>\n",
            "<Blob: bc26-datasets-comex, BQ_pipeline/staging/beamapp-root-0109165722-865028-r9oa285a.1673283442.865227/dataflow_python_sdk.tar, 1673283448150500>\n",
            "<Blob: bc26-datasets-comex, BQ_pipeline/staging/beamapp-root-0109165722-865028-r9oa285a.1673283442.865227/pipeline.pb, 1673283473141482>\n",
            "<Blob: bc26-datasets-comex, BQ_pipeline/staging/beamapp-root-0109174951-591264-045ez74h.1673286591.591441/apache_beam-2.43.0-cp38-cp38-manylinux_2_17_x86_64.manylinux2014_x86_64.whl, 1673286620526852>\n",
            "<Blob: bc26-datasets-comex, BQ_pipeline/staging/beamapp-root-0109174951-591264-045ez74h.1673286591.591441/dataflow_python_sdk.tar, 1673286596872436>\n",
            "<Blob: bc26-datasets-comex, BQ_pipeline/staging/beamapp-root-0109174951-591264-045ez74h.1673286591.591441/pipeline.pb, 1673286620995565>\n",
            "<Blob: bc26-datasets-comex, BQ_pipeline/staging/beamapp-root-0109180509-158439-kbl9vx06.1673287509.158612/apache_beam-2.43.0-cp38-cp38-manylinux_2_17_x86_64.manylinux2014_x86_64.whl, 1673287539293138>\n",
            "<Blob: bc26-datasets-comex, BQ_pipeline/staging/beamapp-root-0109180509-158439-kbl9vx06.1673287509.158612/dataflow_python_sdk.tar, 1673287514451890>\n",
            "<Blob: bc26-datasets-comex, BQ_pipeline/staging/beamapp-root-0109180509-158439-kbl9vx06.1673287509.158612/pipeline.pb, 1673287539777646>\n",
            "<Blob: bc26-datasets-comex, BQ_pipeline/staging/beamapp-root-0109182213-554238-tdk94arg.1673288533.554409/apache_beam-2.43.0-cp38-cp38-manylinux_2_17_x86_64.manylinux2014_x86_64.whl, 1673288560268007>\n",
            "<Blob: bc26-datasets-comex, BQ_pipeline/staging/beamapp-root-0109182213-554238-tdk94arg.1673288533.554409/dataflow_python_sdk.tar, 1673288537841734>\n",
            "<Blob: bc26-datasets-comex, BQ_pipeline/staging/beamapp-root-0109182213-554238-tdk94arg.1673288533.554409/pipeline.pb, 1673288560731749>\n",
            "<Blob: bc26-datasets-comex, BQ_pipeline/staging/beamapp-root-0109185447-184365-h7yc89wb.1673290487.184566/apache_beam-2.43.0-cp38-cp38-manylinux_2_17_x86_64.manylinux2014_x86_64.whl, 1673290516279283>\n",
            "<Blob: bc26-datasets-comex, BQ_pipeline/staging/beamapp-root-0109185447-184365-h7yc89wb.1673290487.184566/dataflow_python_sdk.tar, 1673290492414273>\n",
            "<Blob: bc26-datasets-comex, BQ_pipeline/staging/beamapp-root-0109185447-184365-h7yc89wb.1673290487.184566/pipeline.pb, 1673290516741935>\n",
            "<Blob: bc26-datasets-comex, BQ_pipeline/staging/beamapp-root-0109191148-569353-a8oxmifq.1673291508.569549/apache_beam-2.43.0-cp38-cp38-manylinux_2_17_x86_64.manylinux2014_x86_64.whl, 1673291536329947>\n",
            "<Blob: bc26-datasets-comex, BQ_pipeline/staging/beamapp-root-0109191148-569353-a8oxmifq.1673291508.569549/dataflow_python_sdk.tar, 1673291513726348>\n",
            "<Blob: bc26-datasets-comex, BQ_pipeline/staging/beamapp-root-0109191148-569353-a8oxmifq.1673291508.569549/pipeline.pb, 1673291536804802>\n",
            "<Blob: bc26-datasets-comex, BQ_pipeline/staging/beamapp-root-0109192305-136227-smk56qya.1673292185.136415/apache_beam-2.43.0-cp38-cp38-manylinux_2_17_x86_64.manylinux2014_x86_64.whl, 1673292212658400>\n",
            "<Blob: bc26-datasets-comex, BQ_pipeline/staging/beamapp-root-0109192305-136227-smk56qya.1673292185.136415/dataflow_python_sdk.tar, 1673292190289057>\n",
            "<Blob: bc26-datasets-comex, BQ_pipeline/staging/beamapp-root-0109192305-136227-smk56qya.1673292185.136415/pipeline.pb, 1673292213126349>\n",
            "<Blob: bc26-datasets-comex, BQ_pipeline/staging/beamapp-root-0109194552-981141-do6jprak.1673293552.981347/apache_beam-2.43.0-cp38-cp38-manylinux_2_17_x86_64.manylinux2014_x86_64.whl, 1673293580466247>\n",
            "<Blob: bc26-datasets-comex, BQ_pipeline/staging/beamapp-root-0109194552-981141-do6jprak.1673293552.981347/dataflow_python_sdk.tar, 1673293557510855>\n",
            "<Blob: bc26-datasets-comex, BQ_pipeline/staging/beamapp-root-0109194552-981141-do6jprak.1673293552.981347/pipeline.pb, 1673293580938417>\n",
            "<Blob: bc26-datasets-comex, BQ_pipeline/staging/beamapp-root-0109194943-411638-2cezcitn.1673293783.411812/apache_beam-2.43.0-cp38-cp38-manylinux_2_17_x86_64.manylinux2014_x86_64.whl, 1673293811450462>\n",
            "<Blob: bc26-datasets-comex, BQ_pipeline/staging/beamapp-root-0109194943-411638-2cezcitn.1673293783.411812/dataflow_python_sdk.tar, 1673293788627211>\n",
            "<Blob: bc26-datasets-comex, BQ_pipeline/staging/beamapp-root-0109194943-411638-2cezcitn.1673293783.411812/pipeline.pb, 1673293811912521>\n",
            "<Blob: bc26-datasets-comex, BQ_pipeline/staging/beamapp-root-0109195254-774375-2034787g.1673293974.774560/apache_beam-2.43.0-cp38-cp38-manylinux_2_17_x86_64.manylinux2014_x86_64.whl, 1673294005610178>\n",
            "<Blob: bc26-datasets-comex, BQ_pipeline/staging/beamapp-root-0109195254-774375-2034787g.1673293974.774560/dataflow_python_sdk.tar, 1673293979958835>\n",
            "<Blob: bc26-datasets-comex, BQ_pipeline/staging/beamapp-root-0109195254-774375-2034787g.1673293974.774560/pipeline.pb, 1673294006084324>\n",
            "<Blob: bc26-datasets-comex, BQ_pipeline/staging/beamapp-root-0109195509-704604-4x2ohg3l.1673294109.704781/apache_beam-2.43.0-cp38-cp38-manylinux_2_17_x86_64.manylinux2014_x86_64.whl, 1673294138174020>\n",
            "<Blob: bc26-datasets-comex, BQ_pipeline/staging/beamapp-root-0109195509-704604-4x2ohg3l.1673294109.704781/dataflow_python_sdk.tar, 1673294114880539>\n",
            "<Blob: bc26-datasets-comex, BQ_pipeline/staging/beamapp-root-0109195509-704604-4x2ohg3l.1673294109.704781/pipeline.pb, 1673294138656551>\n",
            "<Blob: bc26-datasets-comex, BQ_pipeline/staging/beamapp-root-0109202355-755105-6ei8ttix.1673295835.755302/apache_beam-2.43.0-cp38-cp38-manylinux_2_17_x86_64.manylinux2014_x86_64.whl, 1673295864435613>\n",
            "<Blob: bc26-datasets-comex, BQ_pipeline/staging/beamapp-root-0109202355-755105-6ei8ttix.1673295835.755302/dataflow_python_sdk.tar, 1673295840927349>\n",
            "<Blob: bc26-datasets-comex, BQ_pipeline/staging/beamapp-root-0109202355-755105-6ei8ttix.1673295835.755302/pipeline.pb, 1673295864905220>\n",
            "<Blob: bc26-datasets-comex, BQ_pipeline/staging/beamapp-root-0110212304-760344-z2tm1vqi.1673385784.760535/apache_beam-2.43.0-cp38-cp38-manylinux_2_17_x86_64.manylinux2014_x86_64.whl, 1673385813215193>\n",
            "<Blob: bc26-datasets-comex, BQ_pipeline/staging/beamapp-root-0110212304-760344-z2tm1vqi.1673385784.760535/dataflow_python_sdk.tar, 1673385789852794>\n",
            "<Blob: bc26-datasets-comex, BQ_pipeline/staging/beamapp-root-0110212304-760344-z2tm1vqi.1673385784.760535/pipeline.pb, 1673385813672999>\n",
            "<Blob: bc26-datasets-comex, BQ_pipeline/staging/beamapp-root-0110214545-305813-nj8rl8w5.1673387145.306105/apache_beam-2.43.0-cp38-cp38-manylinux_2_17_x86_64.manylinux2014_x86_64.whl, 1673387174325170>\n",
            "<Blob: bc26-datasets-comex, BQ_pipeline/staging/beamapp-root-0110214545-305813-nj8rl8w5.1673387145.306105/dataflow_python_sdk.tar, 1673387150322648>\n",
            "<Blob: bc26-datasets-comex, BQ_pipeline/staging/beamapp-root-0110214545-305813-nj8rl8w5.1673387145.306105/pipeline.pb, 1673387174781231>\n",
            "<Blob: bc26-datasets-comex, BQ_pipeline/temp/, 1673270182543381>\n",
            "<Blob: bc26-datasets-comex, BQ_pipeline/temp/bq_load/07c4599193ff4cc2ba2f92ae9be0337c/bc26-ed7-projeto-final.comercio_brasil.exp_2012-2022_tratada_mun/13df3271-c415-4261-9ec1-677cf4244381, 1673291014685010>\n",
            "<Blob: bc26-datasets-comex, BQ_pipeline/temp/bq_load/07c4599193ff4cc2ba2f92ae9be0337c/bc26-ed7-projeto-final.comercio_brasil.exp_2012-2022_tratada_mun/1ce40066-cdd4-4703-9779-da2e6eb713ed, 1673291027770243>\n",
            "<Blob: bc26-datasets-comex, BQ_pipeline/temp/bq_load/07c4599193ff4cc2ba2f92ae9be0337c/bc26-ed7-projeto-final.comercio_brasil.exp_2012-2022_tratada_mun/428d9221-6b8c-4139-9f80-44088d4b8a68, 1673290987544923>\n",
            "<Blob: bc26-datasets-comex, BQ_pipeline/temp/bq_load/07c4599193ff4cc2ba2f92ae9be0337c/bc26-ed7-projeto-final.comercio_brasil.exp_2012-2022_tratada_mun/6ad6027d-45fd-4f24-8170-1a2f1acb59da, 1673290920349252>\n",
            "<Blob: bc26-datasets-comex, BQ_pipeline/temp/bq_load/07c4599193ff4cc2ba2f92ae9be0337c/bc26-ed7-projeto-final.comercio_brasil.exp_2012-2022_tratada_mun/7097bd9e-722c-4582-8b18-3b7d73329a9b, 1673290940667357>\n",
            "<Blob: bc26-datasets-comex, BQ_pipeline/temp/bq_load/07c4599193ff4cc2ba2f92ae9be0337c/bc26-ed7-projeto-final.comercio_brasil.exp_2012-2022_tratada_mun/8c9c567a-3108-4f43-8672-eef891f13ab7, 1673290903686485>\n",
            "<Blob: bc26-datasets-comex, BQ_pipeline/temp/bq_load/07c4599193ff4cc2ba2f92ae9be0337c/bc26-ed7-projeto-final.comercio_brasil.exp_2012-2022_tratada_mun/98408935-8f01-4a56-aa6b-8eaddce3e2e7, 1673290998619613>\n",
            "<Blob: bc26-datasets-comex, BQ_pipeline/temp/bq_load/07c4599193ff4cc2ba2f92ae9be0337c/bc26-ed7-projeto-final.comercio_brasil.exp_2012-2022_tratada_mun/a3928674-c4b0-4da4-8759-266fb2c75a13, 1673290859660724>\n",
            "<Blob: bc26-datasets-comex, BQ_pipeline/temp/bq_load/07c4599193ff4cc2ba2f92ae9be0337c/bc26-ed7-projeto-final.comercio_brasil.exp_2012-2022_tratada_mun/c426ab3a-b7e1-45aa-9671-b79022ed5826, 1673290958949342>\n",
            "<Blob: bc26-datasets-comex, BQ_pipeline/temp/bq_load/07c4599193ff4cc2ba2f92ae9be0337c/bc26-ed7-projeto-final.comercio_brasil.exp_2012-2022_tratada_mun/dbc8d4f0-b8fd-4fb0-9f8a-d78bcd01737c, 1673291042505904>\n",
            "<Blob: bc26-datasets-comex, BQ_pipeline/temp/bq_load/07c4599193ff4cc2ba2f92ae9be0337c/bc26-ed7-projeto-final.comercio_brasil.exp_2012-2022_tratada_mun/fd20d1bd-036c-43e0-a225-1737d8737632, 1673290970390086>\n",
            "<Blob: bc26-datasets-comex, BQ_pipeline/temp/bq_load/16f5104ffb3f4955bbeafd5da0b20e9e/bc26-ed7-projeto-final.comercio_brasil.exp_2012-2022_tratada_mun/117f8777-b348-44aa-9705-fda891b23290, 1673287217966847>\n",
            "<Blob: bc26-datasets-comex, BQ_pipeline/temp/bq_load/16f5104ffb3f4955bbeafd5da0b20e9e/bc26-ed7-projeto-final.comercio_brasil.exp_2012-2022_tratada_mun/233156df-7e74-4648-bc91-10d0677b6472, 1673287206557846>\n",
            "<Blob: bc26-datasets-comex, BQ_pipeline/temp/bq_load/16f5104ffb3f4955bbeafd5da0b20e9e/bc26-ed7-projeto-final.comercio_brasil.exp_2012-2022_tratada_mun/6f02693e-7e23-4929-9b95-f767419c16f0, 1673287093145907>\n",
            "<Blob: bc26-datasets-comex, BQ_pipeline/temp/bq_load/16f5104ffb3f4955bbeafd5da0b20e9e/bc26-ed7-projeto-final.comercio_brasil.exp_2012-2022_tratada_mun/746830c6-d688-4eb1-b708-2e5ad0f8dfb3, 1673287051830683>\n",
            "<Blob: bc26-datasets-comex, BQ_pipeline/temp/bq_load/16f5104ffb3f4955bbeafd5da0b20e9e/bc26-ed7-projeto-final.comercio_brasil.exp_2012-2022_tratada_mun/8d58e130-8b38-4424-b36f-d734b3b3f941, 1673287231244491>\n",
            "<Blob: bc26-datasets-comex, BQ_pipeline/temp/bq_load/16f5104ffb3f4955bbeafd5da0b20e9e/bc26-ed7-projeto-final.comercio_brasil.exp_2012-2022_tratada_mun/9a13ba4c-6643-4b82-96c1-f7d388235e57, 1673287111083175>\n",
            "<Blob: bc26-datasets-comex, BQ_pipeline/temp/bq_load/16f5104ffb3f4955bbeafd5da0b20e9e/bc26-ed7-projeto-final.comercio_brasil.exp_2012-2022_tratada_mun/b1331f0d-f9cf-49b0-8bb5-168598523e8e, 1673287253933507>\n",
            "<Blob: bc26-datasets-comex, BQ_pipeline/temp/bq_load/16f5104ffb3f4955bbeafd5da0b20e9e/bc26-ed7-projeto-final.comercio_brasil.exp_2012-2022_tratada_mun/cc0a66d1-dddb-40be-b307-cde4e630d220, 1673287161794156>\n",
            "<Blob: bc26-datasets-comex, BQ_pipeline/temp/bq_load/16f5104ffb3f4955bbeafd5da0b20e9e/bc26-ed7-projeto-final.comercio_brasil.exp_2012-2022_tratada_mun/df796ed1-8483-4be5-8772-a4ee3e709e54, 1673287242270258>\n",
            "<Blob: bc26-datasets-comex, BQ_pipeline/temp/bq_load/16f5104ffb3f4955bbeafd5da0b20e9e/bc26-ed7-projeto-final.comercio_brasil.exp_2012-2022_tratada_mun/e16b744e-db31-4ebc-9ccb-132e5cee09b1, 1673287188929060>\n",
            "<Blob: bc26-datasets-comex, BQ_pipeline/temp/bq_load/16f5104ffb3f4955bbeafd5da0b20e9e/bc26-ed7-projeto-final.comercio_brasil.exp_2012-2022_tratada_mun/e4653786-3c18-40a2-ad46-079592a607fa, 1673287150038759>\n",
            "<Blob: bc26-datasets-comex, BQ_pipeline/temp/bq_load/16f5104ffb3f4955bbeafd5da0b20e9e/bc26-ed7-projeto-final.comercio_brasil.exp_2012-2022_tratada_mun/e5bdab26-89dd-485e-9166-57cb109c3053, 1673287178388310>\n",
            "<Blob: bc26-datasets-comex, BQ_pipeline/temp/bq_load/16f5104ffb3f4955bbeafd5da0b20e9e/bc26-ed7-projeto-final.comercio_brasil.exp_2012-2022_tratada_mun/e6671c43-fd2e-4b54-b50a-62e52aa1622f, 1673287263001386>\n",
            "<Blob: bc26-datasets-comex, BQ_pipeline/temp/bq_load/16f5104ffb3f4955bbeafd5da0b20e9e/bc26-ed7-projeto-final.comercio_brasil.exp_2012-2022_tratada_mun/f0345a55-0aa4-4336-8d38-106884d6aecf, 1673287131877418>\n",
            "<Blob: bc26-datasets-comex, BQ_pipeline/temp/bq_load/336a296c06744eedaf8cc0f93aa4f9d5/bc26-ed7-projeto-final.comercio_brasil.exp_2012-2022_tratada_ncm/433147c0-ae4b-45b5-9f60-686fe2a9792e, 1673284082287349>\n",
            "<Blob: bc26-datasets-comex, BQ_pipeline/temp/bq_load/608c0043f7ab4617aafc0cfa40b1992f/bc26-ed7-projeto-final.comercio_brasil.teste/2cea574e-e946-4b9f-90bb-4e8160abc439, 1673270795215630>\n",
            "<Blob: bc26-datasets-comex, BQ_pipeline/temp/bq_load/608c0043f7ab4617aafc0cfa40b1992f/bc26-ed7-projeto-final.comercio_brasil.teste/629505c5-2faf-4d46-8586-651bf422975c, 1673270787034383>\n",
            "<Blob: bc26-datasets-comex, BQ_pipeline/temp/bq_load/7eba4cf277cd40b4978af7f6e71b35dc/bc26-ed7-projeto-final.comercio_brasil.exp_2012-2022_tratada_mun/28ce244f-763d-4693-b08d-c9859a9d570d, 1673296363006823>\n",
            "<Blob: bc26-datasets-comex, BQ_pipeline/temp/bq_load/7eba4cf277cd40b4978af7f6e71b35dc/bc26-ed7-projeto-final.comercio_brasil.exp_2012-2022_tratada_mun/296cab86-7d47-429d-aa2f-df9030765585, 1673296254426627>\n",
            "<Blob: bc26-datasets-comex, BQ_pipeline/temp/bq_load/7eba4cf277cd40b4978af7f6e71b35dc/bc26-ed7-projeto-final.comercio_brasil.exp_2012-2022_tratada_mun/418f66f7-3310-432b-bab9-ad8f996427ed, 1673296404471751>\n",
            "<Blob: bc26-datasets-comex, BQ_pipeline/temp/bq_load/7eba4cf277cd40b4978af7f6e71b35dc/bc26-ed7-projeto-final.comercio_brasil.exp_2012-2022_tratada_mun/6ecd0469-7612-46dd-b0d2-b28775a822dd, 1673296316815226>\n",
            "<Blob: bc26-datasets-comex, BQ_pipeline/temp/bq_load/7eba4cf277cd40b4978af7f6e71b35dc/bc26-ed7-projeto-final.comercio_brasil.exp_2012-2022_tratada_mun/769f8ccc-bfe9-4697-b06a-f5938bc0f695, 1673296334013180>\n",
            "<Blob: bc26-datasets-comex, BQ_pipeline/temp/bq_load/7eba4cf277cd40b4978af7f6e71b35dc/bc26-ed7-projeto-final.comercio_brasil.exp_2012-2022_tratada_mun/880a192e-e6d9-45ac-9956-9ed9dc8a9108, 1673296374285336>\n",
            "<Blob: bc26-datasets-comex, BQ_pipeline/temp/bq_load/7eba4cf277cd40b4978af7f6e71b35dc/bc26-ed7-projeto-final.comercio_brasil.exp_2012-2022_tratada_mun/88518f51-d30f-4387-8fe6-54b33d59a0fd, 1673296345483949>\n",
            "<Blob: bc26-datasets-comex, BQ_pipeline/temp/bq_load/7eba4cf277cd40b4978af7f6e71b35dc/bc26-ed7-projeto-final.comercio_brasil.exp_2012-2022_tratada_mun/8ac1c44a-bf5c-4d33-a1a1-43a8f821dbab, 1673296384796350>\n",
            "<Blob: bc26-datasets-comex, BQ_pipeline/temp/bq_load/7eba4cf277cd40b4978af7f6e71b35dc/bc26-ed7-projeto-final.comercio_brasil.exp_2012-2022_tratada_mun/92f963ff-4775-4839-8256-0d2215c52b9a, 1673296271490154>\n",
            "<Blob: bc26-datasets-comex, BQ_pipeline/temp/bq_load/7eba4cf277cd40b4978af7f6e71b35dc/bc26-ed7-projeto-final.comercio_brasil.exp_2012-2022_tratada_mun/a3cd40d3-2152-4314-a354-a5273c1819f4, 1673296394555855>\n",
            "<Blob: bc26-datasets-comex, BQ_pipeline/temp/bq_load/7eba4cf277cd40b4978af7f6e71b35dc/bc26-ed7-projeto-final.comercio_brasil.exp_2012-2022_tratada_mun/c24c865b-8630-481c-aa74-9934e66684f3, 1673296291486375>\n",
            "<Blob: bc26-datasets-comex, BQ_pipeline/temp/bq_load/7eba4cf277cd40b4978af7f6e71b35dc/bc26-ed7-projeto-final.comercio_brasil.exp_2012-2022_tratada_mun/c5932090-1a2e-4eff-b9db-408a4d6e5cfb, 1673296223130430>\n",
            "<Blob: bc26-datasets-comex, BQ_pipeline/temp/bq_load/7eba4cf277cd40b4978af7f6e71b35dc/bc26-ed7-projeto-final.comercio_brasil.exp_2012-2022_tratada_mun/cf776c68-c1b2-4ba1-9cd9-0577429051b3, 1673296305987578>\n",
            "<Blob: bc26-datasets-comex, BQ_pipeline/temp/bq_load/891deb23f486414495a04632dd517ff1/bc26-ed7-projeto-final.comercio_brasil.exp_2012-2022_tratada_mun/1803fb3c-cdb1-4fd9-86cd-17ef25e74519, 1673386584351874>\n",
            "<Blob: bc26-datasets-comex, BQ_pipeline/temp/bq_load/891deb23f486414495a04632dd517ff1/bc26-ed7-projeto-final.comercio_brasil.exp_2012-2022_tratada_mun/205da0c7-fffe-4ce4-b124-229e67e216a6, 1673386624010831>\n",
            "<Blob: bc26-datasets-comex, BQ_pipeline/temp/bq_load/891deb23f486414495a04632dd517ff1/bc26-ed7-projeto-final.comercio_brasil.exp_2012-2022_tratada_mun/28638def-eba6-4e2a-9ac2-2ac3ee533711, 1673386566875494>\n",
            "<Blob: bc26-datasets-comex, BQ_pipeline/temp/bq_load/891deb23f486414495a04632dd517ff1/bc26-ed7-projeto-final.comercio_brasil.exp_2012-2022_tratada_mun/357ee8e5-25c8-4b73-83b6-06f50829f72a, 1673386614261628>\n",
            "<Blob: bc26-datasets-comex, BQ_pipeline/temp/bq_load/891deb23f486414495a04632dd517ff1/bc26-ed7-projeto-final.comercio_brasil.exp_2012-2022_tratada_mun/3647bc35-5f9d-40f2-9901-9ba416264b61, 1673386533213404>\n",
            "<Blob: bc26-datasets-comex, BQ_pipeline/temp/bq_load/891deb23f486414495a04632dd517ff1/bc26-ed7-projeto-final.comercio_brasil.exp_2012-2022_tratada_mun/44ed7447-a26c-4247-b80b-92d47880ee22, 1673386673711883>\n",
            "<Blob: bc26-datasets-comex, BQ_pipeline/temp/bq_load/891deb23f486414495a04632dd517ff1/bc26-ed7-projeto-final.comercio_brasil.exp_2012-2022_tratada_mun/503427bd-c463-44d1-b30b-55c039344c17, 1673386542753041>\n",
            "<Blob: bc26-datasets-comex, BQ_pipeline/temp/bq_load/891deb23f486414495a04632dd517ff1/bc26-ed7-projeto-final.comercio_brasil.exp_2012-2022_tratada_mun/512b7b4a-0f58-4227-acd5-b09a4e4beaf2, 1673386528815419>\n",
            "<Blob: bc26-datasets-comex, BQ_pipeline/temp/bq_load/891deb23f486414495a04632dd517ff1/bc26-ed7-projeto-final.comercio_brasil.exp_2012-2022_tratada_mun/6cf87cd5-40cc-4e25-a3a1-83828df5b56a, 1673386496186824>\n",
            "<Blob: bc26-datasets-comex, BQ_pipeline/temp/bq_load/891deb23f486414495a04632dd517ff1/bc26-ed7-projeto-final.comercio_brasil.exp_2012-2022_tratada_mun/7592463f-8475-4155-8c60-f31e549c71b5, 1673386665705499>\n",
            "<Blob: bc26-datasets-comex, BQ_pipeline/temp/bq_load/891deb23f486414495a04632dd517ff1/bc26-ed7-projeto-final.comercio_brasil.exp_2012-2022_tratada_mun/76fb974a-0e0e-446c-89e6-6e8979f96b85, 1673386534007772>\n",
            "<Blob: bc26-datasets-comex, BQ_pipeline/temp/bq_load/891deb23f486414495a04632dd517ff1/bc26-ed7-projeto-final.comercio_brasil.exp_2012-2022_tratada_mun/779bb0b4-55cd-4545-9929-d7ca8a49ff61, 1673386690767935>\n",
            "<Blob: bc26-datasets-comex, BQ_pipeline/temp/bq_load/891deb23f486414495a04632dd517ff1/bc26-ed7-projeto-final.comercio_brasil.exp_2012-2022_tratada_mun/782efc26-3c39-4e53-86c0-1e9bde2f5687, 1673386629727106>\n",
            "<Blob: bc26-datasets-comex, BQ_pipeline/temp/bq_load/891deb23f486414495a04632dd517ff1/bc26-ed7-projeto-final.comercio_brasil.exp_2012-2022_tratada_mun/7a2ead35-768b-43a3-9b59-5bbd91585062, 1673386657732273>\n",
            "<Blob: bc26-datasets-comex, BQ_pipeline/temp/bq_load/891deb23f486414495a04632dd517ff1/bc26-ed7-projeto-final.comercio_brasil.exp_2012-2022_tratada_mun/7c6bac0f-a1a6-4146-9e97-85152d804a69, 1673386595872272>\n",
            "<Blob: bc26-datasets-comex, BQ_pipeline/temp/bq_load/891deb23f486414495a04632dd517ff1/bc26-ed7-projeto-final.comercio_brasil.exp_2012-2022_tratada_mun/80b60018-4d6d-4d1e-92b6-da696ac18ece, 1673386551694102>\n",
            "<Blob: bc26-datasets-comex, BQ_pipeline/temp/bq_load/891deb23f486414495a04632dd517ff1/bc26-ed7-projeto-final.comercio_brasil.exp_2012-2022_tratada_mun/829ab895-08d9-42dd-95b9-bc80743f276b, 1673386604168294>\n",
            "<Blob: bc26-datasets-comex, BQ_pipeline/temp/bq_load/891deb23f486414495a04632dd517ff1/bc26-ed7-projeto-final.comercio_brasil.exp_2012-2022_tratada_mun/96fd443e-79af-43f3-ae57-fe850dc0953e, 1673386681844030>\n",
            "<Blob: bc26-datasets-comex, BQ_pipeline/temp/bq_load/891deb23f486414495a04632dd517ff1/bc26-ed7-projeto-final.comercio_brasil.exp_2012-2022_tratada_mun/9ae939b9-7346-4a98-9e4c-d4d712c44f9b, 1673386511096114>\n",
            "<Blob: bc26-datasets-comex, BQ_pipeline/temp/bq_load/891deb23f486414495a04632dd517ff1/bc26-ed7-projeto-final.comercio_brasil.exp_2012-2022_tratada_mun/9fa6f7ba-03a3-47ed-94c7-47fb649e1686, 1673386583107793>\n",
            "<Blob: bc26-datasets-comex, BQ_pipeline/temp/bq_load/891deb23f486414495a04632dd517ff1/bc26-ed7-projeto-final.comercio_brasil.exp_2012-2022_tratada_mun/a0635ad9-f38e-492b-8688-55edc63a647f, 1673386327033858>\n",
            "<Blob: bc26-datasets-comex, BQ_pipeline/temp/bq_load/891deb23f486414495a04632dd517ff1/bc26-ed7-projeto-final.comercio_brasil.exp_2012-2022_tratada_mun/a33d6af0-df1c-4c3c-b3a8-8f14fe6c8b1b, 1673386596853729>\n",
            "<Blob: bc26-datasets-comex, BQ_pipeline/temp/bq_load/891deb23f486414495a04632dd517ff1/bc26-ed7-projeto-final.comercio_brasil.exp_2012-2022_tratada_mun/a3b5e566-6d05-4b1b-9505-b894dbab0bbe, 1673386642088409>\n",
            "<Blob: bc26-datasets-comex, BQ_pipeline/temp/bq_load/891deb23f486414495a04632dd517ff1/bc26-ed7-projeto-final.comercio_brasil.exp_2012-2022_tratada_mun/a9bab998-eb8e-4f9d-b721-cc2b03e89ecf, 1673386632638529>\n",
            "<Blob: bc26-datasets-comex, BQ_pipeline/temp/bq_load/891deb23f486414495a04632dd517ff1/bc26-ed7-projeto-final.comercio_brasil.exp_2012-2022_tratada_mun/b13f82a1-3d6f-47c3-b56d-2ca6ce9d65c3, 1673386427817916>\n",
            "<Blob: bc26-datasets-comex, BQ_pipeline/temp/bq_load/891deb23f486414495a04632dd517ff1/bc26-ed7-projeto-final.comercio_brasil.exp_2012-2022_tratada_mun/b537ef45-003f-4184-b13a-dd73608fe906, 1673386613404022>\n",
            "<Blob: bc26-datasets-comex, BQ_pipeline/temp/bq_load/891deb23f486414495a04632dd517ff1/bc26-ed7-projeto-final.comercio_brasil.exp_2012-2022_tratada_mun/c494bbed-137f-423c-8f08-996e688a9215, 1673386552159129>\n",
            "<Blob: bc26-datasets-comex, BQ_pipeline/temp/bq_load/891deb23f486414495a04632dd517ff1/bc26-ed7-projeto-final.comercio_brasil.exp_2012-2022_tratada_mun/c5b3d0d4-76ae-49f0-943d-eb6247cf6efb, 1673386570860403>\n",
            "<Blob: bc26-datasets-comex, BQ_pipeline/temp/bq_load/891deb23f486414495a04632dd517ff1/bc26-ed7-projeto-final.comercio_brasil.exp_2012-2022_tratada_mun/cef83761-e1d6-4aca-8a0b-ec214f6ea501, 1673386579103831>\n",
            "<Blob: bc26-datasets-comex, BQ_pipeline/temp/bq_load/891deb23f486414495a04632dd517ff1/bc26-ed7-projeto-final.comercio_brasil.exp_2012-2022_tratada_mun/d3c4cd34-d153-4c03-829b-823edc7ed63e, 1673386605336177>\n",
            "<Blob: bc26-datasets-comex, BQ_pipeline/temp/bq_load/891deb23f486414495a04632dd517ff1/bc26-ed7-projeto-final.comercio_brasil.exp_2012-2022_tratada_mun/dd4729bd-f912-4c38-b393-37b9d083e816, 1673386588268802>\n",
            "<Blob: bc26-datasets-comex, BQ_pipeline/temp/bq_load/891deb23f486414495a04632dd517ff1/bc26-ed7-projeto-final.comercio_brasil.exp_2012-2022_tratada_mun/e42bfe69-76f0-452b-9140-4f5dfea57c51, 1673386482841330>\n",
            "<Blob: bc26-datasets-comex, BQ_pipeline/temp/bq_load/891deb23f486414495a04632dd517ff1/bc26-ed7-projeto-final.comercio_brasil.exp_2012-2022_tratada_mun/e84ea6d9-6ce3-4687-ae2c-aa85373a7234, 1673386520064545>\n",
            "<Blob: bc26-datasets-comex, BQ_pipeline/temp/bq_load/891deb23f486414495a04632dd517ff1/bc26-ed7-projeto-final.comercio_brasil.exp_2012-2022_tratada_mun/e8f97811-3e9d-4bb3-9fd3-0841dd4ee961, 1673386587545182>\n",
            "<Blob: bc26-datasets-comex, BQ_pipeline/temp/bq_load/891deb23f486414495a04632dd517ff1/bc26-ed7-projeto-final.comercio_brasil.exp_2012-2022_tratada_mun/ea3bfe3a-35fc-4a5e-a06f-d9443f6a5afe, 1673386575370707>\n",
            "<Blob: bc26-datasets-comex, BQ_pipeline/temp/bq_load/891deb23f486414495a04632dd517ff1/bc26-ed7-projeto-final.comercio_brasil.exp_2012-2022_tratada_mun/f1351e35-8997-4e03-a895-fdff05a0feac, 1673386649741866>\n",
            "<Blob: bc26-datasets-comex, BQ_pipeline/temp/bq_load/891deb23f486414495a04632dd517ff1/bc26-ed7-projeto-final.comercio_brasil.exp_2012-2022_tratada_mun/f94bee08-bb39-41df-9fbf-bc70244a0f16, 1673386493955899>\n",
            "<Blob: bc26-datasets-comex, BQ_pipeline/temp/bq_load/8e55a5c7cd644fbe955401e5580a2fc9/bc26-ed7-projeto-final.comercio_brasil.exp_2013-2022_tratada_mun/022c2fc9-c0c1-4f0e-8920-4c4ed0419bab, 1673393992822755>\n",
            "<Blob: bc26-datasets-comex, BQ_pipeline/temp/bq_load/8e55a5c7cd644fbe955401e5580a2fc9/bc26-ed7-projeto-final.comercio_brasil.exp_2013-2022_tratada_mun/1c3681a9-89a8-42d8-82ad-b6b9a05f553e, 1673393702628391>\n",
            "<Blob: bc26-datasets-comex, BQ_pipeline/temp/bq_load/8e55a5c7cd644fbe955401e5580a2fc9/bc26-ed7-projeto-final.comercio_brasil.exp_2013-2022_tratada_mun/1eb82aec-cfae-4398-9fcc-6c11ebe5b110, 1673394006556449>\n",
            "<Blob: bc26-datasets-comex, BQ_pipeline/temp/bq_load/8e55a5c7cd644fbe955401e5580a2fc9/bc26-ed7-projeto-final.comercio_brasil.exp_2013-2022_tratada_mun/20619f9f-b328-447b-8c06-10e2ae581be5, 1673393801309775>\n",
            "<Blob: bc26-datasets-comex, BQ_pipeline/temp/bq_load/8e55a5c7cd644fbe955401e5580a2fc9/bc26-ed7-projeto-final.comercio_brasil.exp_2013-2022_tratada_mun/20f87a43-d8f4-4fdc-94d2-5143379b33d3, 1673393930818171>\n",
            "<Blob: bc26-datasets-comex, BQ_pipeline/temp/bq_load/8e55a5c7cd644fbe955401e5580a2fc9/bc26-ed7-projeto-final.comercio_brasil.exp_2013-2022_tratada_mun/2bdd3c32-4e46-427e-8674-fceec98fe1b5, 1673393933750487>\n",
            "<Blob: bc26-datasets-comex, BQ_pipeline/temp/bq_load/8e55a5c7cd644fbe955401e5580a2fc9/bc26-ed7-projeto-final.comercio_brasil.exp_2013-2022_tratada_mun/335745e3-cf28-490d-809a-c40187a330ff, 1673393973776763>\n",
            "<Blob: bc26-datasets-comex, BQ_pipeline/temp/bq_load/8e55a5c7cd644fbe955401e5580a2fc9/bc26-ed7-projeto-final.comercio_brasil.exp_2013-2022_tratada_mun/35e0338f-a983-4890-95d7-885cfc543404, 1673393956089346>\n",
            "<Blob: bc26-datasets-comex, BQ_pipeline/temp/bq_load/8e55a5c7cd644fbe955401e5580a2fc9/bc26-ed7-projeto-final.comercio_brasil.exp_2013-2022_tratada_mun/422a02ce-6dc7-4dd8-8331-211929aec634, 1673393992027865>\n",
            "<Blob: bc26-datasets-comex, BQ_pipeline/temp/bq_load/8e55a5c7cd644fbe955401e5580a2fc9/bc26-ed7-projeto-final.comercio_brasil.exp_2013-2022_tratada_mun/45a0e985-748b-4dc4-908a-90aad3381b01, 1673393945477553>\n",
            "<Blob: bc26-datasets-comex, BQ_pipeline/temp/bq_load/8e55a5c7cd644fbe955401e5580a2fc9/bc26-ed7-projeto-final.comercio_brasil.exp_2013-2022_tratada_mun/479d0354-c953-4f01-9c59-802d24a01c98, 1673393941234656>\n",
            "<Blob: bc26-datasets-comex, BQ_pipeline/temp/bq_load/8e55a5c7cd644fbe955401e5580a2fc9/bc26-ed7-projeto-final.comercio_brasil.exp_2013-2022_tratada_mun/5498674d-7c89-41a0-b5f0-4c4f7cd2f7ac, 1673393965190981>\n",
            "<Blob: bc26-datasets-comex, BQ_pipeline/temp/bq_load/8e55a5c7cd644fbe955401e5580a2fc9/bc26-ed7-projeto-final.comercio_brasil.exp_2013-2022_tratada_mun/5a10efd4-528c-495d-9344-af6d7d6f4a85, 1673394006227675>\n",
            "<Blob: bc26-datasets-comex, BQ_pipeline/temp/bq_load/8e55a5c7cd644fbe955401e5580a2fc9/bc26-ed7-projeto-final.comercio_brasil.exp_2013-2022_tratada_mun/62a629b8-b5aa-4935-8f44-ad83c3ebd241, 1673393895726100>\n",
            "<Blob: bc26-datasets-comex, BQ_pipeline/temp/bq_load/8e55a5c7cd644fbe955401e5580a2fc9/bc26-ed7-projeto-final.comercio_brasil.exp_2013-2022_tratada_mun/743228c8-6cd3-48f9-90c0-4f28555a9388, 1673393943202757>\n",
            "<Blob: bc26-datasets-comex, BQ_pipeline/temp/bq_load/8e55a5c7cd644fbe955401e5580a2fc9/bc26-ed7-projeto-final.comercio_brasil.exp_2013-2022_tratada_mun/7a334785-02f2-4724-82b5-55bbeee85103, 1673393931345628>\n",
            "<Blob: bc26-datasets-comex, BQ_pipeline/temp/bq_load/8e55a5c7cd644fbe955401e5580a2fc9/bc26-ed7-projeto-final.comercio_brasil.exp_2013-2022_tratada_mun/7e9bb9c0-3c10-4766-846b-0aa5239a11f9, 1673393869257173>\n",
            "<Blob: bc26-datasets-comex, BQ_pipeline/temp/bq_load/8e55a5c7cd644fbe955401e5580a2fc9/bc26-ed7-projeto-final.comercio_brasil.exp_2013-2022_tratada_mun/823204bd-a5fe-4ea0-b66f-1fa4c7805a87, 1673393975830957>\n",
            "<Blob: bc26-datasets-comex, BQ_pipeline/temp/bq_load/8e55a5c7cd644fbe955401e5580a2fc9/bc26-ed7-projeto-final.comercio_brasil.exp_2013-2022_tratada_mun/857931b2-f667-41f4-93f9-96b6310b2a68, 1673393983982286>\n",
            "<Blob: bc26-datasets-comex, BQ_pipeline/temp/bq_load/8e55a5c7cd644fbe955401e5580a2fc9/bc26-ed7-projeto-final.comercio_brasil.exp_2013-2022_tratada_mun/93bf9c36-6955-4d25-9bf5-09d7999f5f13, 1673393999689695>\n",
            "<Blob: bc26-datasets-comex, BQ_pipeline/temp/bq_load/8e55a5c7cd644fbe955401e5580a2fc9/bc26-ed7-projeto-final.comercio_brasil.exp_2013-2022_tratada_mun/a885a02f-5112-4938-b2ef-4daa8505b05f, 1673393998473319>\n",
            "<Blob: bc26-datasets-comex, BQ_pipeline/temp/bq_load/8e55a5c7cd644fbe955401e5580a2fc9/bc26-ed7-projeto-final.comercio_brasil.exp_2013-2022_tratada_mun/b0bd5794-e897-4266-a5d5-87f9449188d4, 1673393954439823>\n",
            "<Blob: bc26-datasets-comex, BQ_pipeline/temp/bq_load/8e55a5c7cd644fbe955401e5580a2fc9/bc26-ed7-projeto-final.comercio_brasil.exp_2013-2022_tratada_mun/c38051d0-b4ae-4d17-ba9e-3a6dd7c199c8, 1673393974755856>\n",
            "<Blob: bc26-datasets-comex, BQ_pipeline/temp/bq_load/8e55a5c7cd644fbe955401e5580a2fc9/bc26-ed7-projeto-final.comercio_brasil.exp_2013-2022_tratada_mun/d0cf9890-1a01-4f95-918e-18c5736607e8, 1673393891014794>\n",
            "<Blob: bc26-datasets-comex, BQ_pipeline/temp/bq_load/8e55a5c7cd644fbe955401e5580a2fc9/bc26-ed7-projeto-final.comercio_brasil.exp_2013-2022_tratada_mun/d306528d-bf36-47a6-abce-38587450990f, 1673393966372686>\n",
            "<Blob: bc26-datasets-comex, BQ_pipeline/temp/bq_load/8e55a5c7cd644fbe955401e5580a2fc9/bc26-ed7-projeto-final.comercio_brasil.exp_2013-2022_tratada_mun/e28c64ee-f27b-462e-b0b6-dcc9bd7214c5, 1673393965955545>\n",
            "<Blob: bc26-datasets-comex, BQ_pipeline/temp/bq_load/8e55a5c7cd644fbe955401e5580a2fc9/bc26-ed7-projeto-final.comercio_brasil.exp_2013-2022_tratada_mun/e8d1473f-199b-46cb-9d83-be5c4dc7099e, 1673393953134939>\n",
            "<Blob: bc26-datasets-comex, BQ_pipeline/temp/bq_load/8e55a5c7cd644fbe955401e5580a2fc9/bc26-ed7-projeto-final.comercio_brasil.exp_2013-2022_tratada_mun/ea218b57-383a-44f9-8e23-97bdaea83266, 1673393990633706>\n",
            "<Blob: bc26-datasets-comex, BQ_pipeline/temp/bq_load/8e55a5c7cd644fbe955401e5580a2fc9/bc26-ed7-projeto-final.comercio_brasil.exp_2013-2022_tratada_mun/ee57feda-0ee8-4a6e-9e80-46cdec054b7b, 1673393984902034>\n",
            "<Blob: bc26-datasets-comex, BQ_pipeline/temp/bq_load/8e55a5c7cd644fbe955401e5580a2fc9/bc26-ed7-projeto-final.comercio_brasil.exp_2013-2022_tratada_mun/f2c36501-fe29-4259-bb5d-79c3879ab0c4, 1673393913223254>\n",
            "<Blob: bc26-datasets-comex, BQ_pipeline/temp/bq_load/8e55a5c7cd644fbe955401e5580a2fc9/bc26-ed7-projeto-final.comercio_brasil.exp_2013-2022_tratada_mun/f83b6f4b-48ef-4721-a2bd-47cd4bc6b184, 1673393871879762>\n",
            "<Blob: bc26-datasets-comex, BQ_pipeline/temp/bq_load/8e55a5c7cd644fbe955401e5580a2fc9/bc26-ed7-projeto-final.comercio_brasil.exp_2013-2022_tratada_mun/fae245ae-b86f-4430-845b-bb6dae8e5fed, 1673393981841323>\n",
            "<Blob: bc26-datasets-comex, BQ_pipeline/temp/bq_load/8e55a5c7cd644fbe955401e5580a2fc9/bc26-ed7-projeto-final.comercio_brasil.exp_2013-2022_tratada_mun/ff21aca4-361e-410c-9a24-3dc25a179107, 1673393963291746>\n",
            "<Blob: bc26-datasets-comex, BQ_pipeline/temp/bq_load/9e70a337ad7348c6955ef0622c4a7da0/bc26-ed7-projeto-final.comercio_brasil.exp_2012-2022_tratada_mun/28e1b199-897b-4ab2-9c6f-6783b8711b9b, 1673292561054949>\n",
            "<Blob: bc26-datasets-comex, BQ_pipeline/temp/bq_load/9e70a337ad7348c6955ef0622c4a7da0/bc26-ed7-projeto-final.comercio_brasil.exp_2012-2022_tratada_mun/3dd8b5fd-d62c-44a0-b192-5174ab15d6ea, 1673292702831283>\n",
            "<Blob: bc26-datasets-comex, BQ_pipeline/temp/bq_load/9e70a337ad7348c6955ef0622c4a7da0/bc26-ed7-projeto-final.comercio_brasil.exp_2012-2022_tratada_mun/42ab347d-537f-4e74-9fc4-86f4efd297d1, 1673292578728328>\n",
            "<Blob: bc26-datasets-comex, BQ_pipeline/temp/bq_load/9e70a337ad7348c6955ef0622c4a7da0/bc26-ed7-projeto-final.comercio_brasil.exp_2012-2022_tratada_mun/454e79ec-ac54-496c-89b1-8425accf94fc, 1673292629556026>\n",
            "<Blob: bc26-datasets-comex, BQ_pipeline/temp/bq_load/9e70a337ad7348c6955ef0622c4a7da0/bc26-ed7-projeto-final.comercio_brasil.exp_2012-2022_tratada_mun/79087685-1e4b-41c1-8e9a-fa09708fe120, 1673292687751257>\n",
            "<Blob: bc26-datasets-comex, BQ_pipeline/temp/bq_load/9e70a337ad7348c6955ef0622c4a7da0/bc26-ed7-projeto-final.comercio_brasil.exp_2012-2022_tratada_mun/8333886c-f616-499f-afa6-ecf2fd40c743, 1673292600144404>\n",
            "<Blob: bc26-datasets-comex, BQ_pipeline/temp/bq_load/9e70a337ad7348c6955ef0622c4a7da0/bc26-ed7-projeto-final.comercio_brasil.exp_2012-2022_tratada_mun/b3c6cfa0-cc4d-4691-9b9a-ccd96fb41ccf, 1673292646755259>\n",
            "<Blob: bc26-datasets-comex, BQ_pipeline/temp/bq_load/9e70a337ad7348c6955ef0622c4a7da0/bc26-ed7-projeto-final.comercio_brasil.exp_2012-2022_tratada_mun/b619df26-9f5c-4656-9c62-8fb9beb45508, 1673292518316134>\n",
            "<Blob: bc26-datasets-comex, BQ_pipeline/temp/bq_load/9e70a337ad7348c6955ef0622c4a7da0/bc26-ed7-projeto-final.comercio_brasil.exp_2012-2022_tratada_mun/d542382f-04ae-46a2-95f8-7e0257dcc379, 1673292617952728>\n",
            "<Blob: bc26-datasets-comex, BQ_pipeline/temp/bq_load/9e70a337ad7348c6955ef0622c4a7da0/bc26-ed7-projeto-final.comercio_brasil.exp_2012-2022_tratada_mun/d7bebf33-6067-45eb-9c14-d85190e5e942, 1673292674137424>\n",
            "<Blob: bc26-datasets-comex, BQ_pipeline/temp/bq_load/9e70a337ad7348c6955ef0622c4a7da0/bc26-ed7-projeto-final.comercio_brasil.exp_2012-2022_tratada_mun/da2d71f2-a32a-4731-bd84-6ec9803bf0fb, 1673292658017641>\n",
            "<Blob: bc26-datasets-comex, BQ_pipeline/temp/bq_load/a900d5e5e67e4a6296ee1e444e0b296a/bc26-ed7-projeto-final.comercio_brasil.exp_2012-2022_tratada_mun/0858f524-e6c8-48ab-86c5-69a518c96feb, 1673289079299189>\n",
            "<Blob: bc26-datasets-comex, BQ_pipeline/temp/bq_load/a900d5e5e67e4a6296ee1e444e0b296a/bc26-ed7-projeto-final.comercio_brasil.exp_2012-2022_tratada_mun/3649df30-d8a1-442e-bdc7-1385194f2ddc, 1673289117600173>\n",
            "<Blob: bc26-datasets-comex, BQ_pipeline/temp/bq_load/a900d5e5e67e4a6296ee1e444e0b296a/bc26-ed7-projeto-final.comercio_brasil.exp_2012-2022_tratada_mun/3782f23d-fc78-420c-8ae8-56470c48c4ad, 1673289160086475>\n",
            "<Blob: bc26-datasets-comex, BQ_pipeline/temp/bq_load/a900d5e5e67e4a6296ee1e444e0b296a/bc26-ed7-projeto-final.comercio_brasil.exp_2012-2022_tratada_mun/4d593a94-4c73-49f5-8381-92c7b9919839, 1673289134659387>\n",
            "<Blob: bc26-datasets-comex, BQ_pipeline/temp/bq_load/a900d5e5e67e4a6296ee1e444e0b296a/bc26-ed7-projeto-final.comercio_brasil.exp_2012-2022_tratada_mun/56de88ee-abcd-4fb8-9af1-25f17518ca2f, 1673289036813524>\n",
            "<Blob: bc26-datasets-comex, BQ_pipeline/temp/bq_load/a900d5e5e67e4a6296ee1e444e0b296a/bc26-ed7-projeto-final.comercio_brasil.exp_2012-2022_tratada_mun/5ee391f6-6e59-438e-a7a7-98553cc7e8b7, 1673289097775865>\n",
            "<Blob: bc26-datasets-comex, BQ_pipeline/temp/bq_load/a900d5e5e67e4a6296ee1e444e0b296a/bc26-ed7-projeto-final.comercio_brasil.exp_2012-2022_tratada_mun/7a2d21ac-1f79-46fe-bb26-a5280a7cbd81, 1673289171437634>\n",
            "<Blob: bc26-datasets-comex, BQ_pipeline/temp/bq_load/a900d5e5e67e4a6296ee1e444e0b296a/bc26-ed7-projeto-final.comercio_brasil.exp_2012-2022_tratada_mun/a200f355-a3d0-417a-ae68-f867903a9015, 1673289209662895>\n",
            "<Blob: bc26-datasets-comex, BQ_pipeline/temp/bq_load/a900d5e5e67e4a6296ee1e444e0b296a/bc26-ed7-projeto-final.comercio_brasil.exp_2012-2022_tratada_mun/a24bd6ed-b329-4373-8d17-4e62ac80abae, 1673289198689271>\n",
            "<Blob: bc26-datasets-comex, BQ_pipeline/temp/bq_load/a900d5e5e67e4a6296ee1e444e0b296a/bc26-ed7-projeto-final.comercio_brasil.exp_2012-2022_tratada_mun/b41442c9-bb61-4cf7-adbf-bc302a5a8836, 1673289240323121>\n",
            "<Blob: bc26-datasets-comex, BQ_pipeline/temp/bq_load/a900d5e5e67e4a6296ee1e444e0b296a/bc26-ed7-projeto-final.comercio_brasil.exp_2012-2022_tratada_mun/ba3666cc-07c6-4653-a9db-0a49d4d16d06, 1673289220824893>\n",
            "<Blob: bc26-datasets-comex, BQ_pipeline/temp/bq_load/a900d5e5e67e4a6296ee1e444e0b296a/bc26-ed7-projeto-final.comercio_brasil.exp_2012-2022_tratada_mun/cad0d0d9-d66c-4f61-86b7-555fcab96949, 1673289188964750>\n",
            "<Blob: bc26-datasets-comex, BQ_pipeline/temp/bq_load/a900d5e5e67e4a6296ee1e444e0b296a/bc26-ed7-projeto-final.comercio_brasil.exp_2012-2022_tratada_mun/cdbb1c05-ecef-4bbe-9be0-dd178631339a, 1673289247379348>\n",
            "<Blob: bc26-datasets-comex, BQ_pipeline/temp/bq_load/a900d5e5e67e4a6296ee1e444e0b296a/bc26-ed7-projeto-final.comercio_brasil.exp_2012-2022_tratada_mun/de7e1712-6e72-4f08-acc7-2b4ff60dbb8b, 1673289231805828>\n",
            "<Blob: bc26-datasets-comex, BQ_pipeline/temp/bq_load/a900d5e5e67e4a6296ee1e444e0b296a/bc26-ed7-projeto-final.comercio_brasil.exp_2012-2022_tratada_mun/dfd5e1c4-359c-4be3-b2d4-255ebc768a43, 1673289146757145>\n",
            "<Blob: bc26-datasets-comex, BQ_pipeline/temp/bq_load/c16a727e31864f0496acc086217be8e8/bc26-ed7-projeto-final.comercio_brasil.exp_2013-2022_tratada_mun/14f53807-f765-4373-8ee6-93daeaf51b48, 1673387841418673>\n",
            "<Blob: bc26-datasets-comex, BQ_pipeline/temp/bq_load/c16a727e31864f0496acc086217be8e8/bc26-ed7-projeto-final.comercio_brasil.exp_2013-2022_tratada_mun/20bb556a-66a6-48c3-a5c2-502677050128, 1673387892548218>\n",
            "<Blob: bc26-datasets-comex, BQ_pipeline/temp/bq_load/c16a727e31864f0496acc086217be8e8/bc26-ed7-projeto-final.comercio_brasil.exp_2013-2022_tratada_mun/21c77444-5be5-407a-b71c-f22a73b1e039, 1673387961818788>\n",
            "<Blob: bc26-datasets-comex, BQ_pipeline/temp/bq_load/c16a727e31864f0496acc086217be8e8/bc26-ed7-projeto-final.comercio_brasil.exp_2013-2022_tratada_mun/22e3b5f4-db4c-46ae-aca5-67610baede3d, 1673387963440636>\n",
            "<Blob: bc26-datasets-comex, BQ_pipeline/temp/bq_load/c16a727e31864f0496acc086217be8e8/bc26-ed7-projeto-final.comercio_brasil.exp_2013-2022_tratada_mun/2c5cb27e-a9f7-47b5-a17b-a807d6288ca6, 1673387994653759>\n",
            "<Blob: bc26-datasets-comex, BQ_pipeline/temp/bq_load/c16a727e31864f0496acc086217be8e8/bc26-ed7-projeto-final.comercio_brasil.exp_2013-2022_tratada_mun/33a18d4d-b7b3-4e8e-95b6-359874eefc99, 1673387863861525>\n",
            "<Blob: bc26-datasets-comex, BQ_pipeline/temp/bq_load/c16a727e31864f0496acc086217be8e8/bc26-ed7-projeto-final.comercio_brasil.exp_2013-2022_tratada_mun/466c7013-dc98-461a-844f-f83234425293, 1673387687286711>\n",
            "<Blob: bc26-datasets-comex, BQ_pipeline/temp/bq_load/c16a727e31864f0496acc086217be8e8/bc26-ed7-projeto-final.comercio_brasil.exp_2013-2022_tratada_mun/467cf97a-2fa6-4af5-af99-a200aad7f657, 1673387886391124>\n",
            "<Blob: bc26-datasets-comex, BQ_pipeline/temp/bq_load/c16a727e31864f0496acc086217be8e8/bc26-ed7-projeto-final.comercio_brasil.exp_2013-2022_tratada_mun/4a7782ee-a03a-403d-b4fd-4de2ca71ccbb, 1673387946329144>\n",
            "<Blob: bc26-datasets-comex, BQ_pipeline/temp/bq_load/c16a727e31864f0496acc086217be8e8/bc26-ed7-projeto-final.comercio_brasil.exp_2013-2022_tratada_mun/4fd418d5-58f8-46be-ac40-050fdee7e184, 1673387947167315>\n",
            "<Blob: bc26-datasets-comex, BQ_pipeline/temp/bq_load/c16a727e31864f0496acc086217be8e8/bc26-ed7-projeto-final.comercio_brasil.exp_2013-2022_tratada_mun/5612a4b0-9f11-4f44-baad-d43e30fd3523, 1673387935852602>\n",
            "<Blob: bc26-datasets-comex, BQ_pipeline/temp/bq_load/c16a727e31864f0496acc086217be8e8/bc26-ed7-projeto-final.comercio_brasil.exp_2013-2022_tratada_mun/614c5f4e-4e78-40ad-95aa-a0449fe6bc38, 1673387937384790>\n",
            "<Blob: bc26-datasets-comex, BQ_pipeline/temp/bq_load/c16a727e31864f0496acc086217be8e8/bc26-ed7-projeto-final.comercio_brasil.exp_2013-2022_tratada_mun/77252724-bba2-41d2-99c3-bd1daa704c58, 1673387792698537>\n",
            "<Blob: bc26-datasets-comex, BQ_pipeline/temp/bq_load/c16a727e31864f0496acc086217be8e8/bc26-ed7-projeto-final.comercio_brasil.exp_2013-2022_tratada_mun/8301d898-b1dd-44c8-8492-2beb04028d26, 1673387910357439>\n",
            "<Blob: bc26-datasets-comex, BQ_pipeline/temp/bq_load/c16a727e31864f0496acc086217be8e8/bc26-ed7-projeto-final.comercio_brasil.exp_2013-2022_tratada_mun/8598570e-2811-4f7f-9ba8-232045f7634d, 1673387831345251>\n",
            "<Blob: bc26-datasets-comex, BQ_pipeline/temp/bq_load/c16a727e31864f0496acc086217be8e8/bc26-ed7-projeto-final.comercio_brasil.exp_2013-2022_tratada_mun/8df2bfb4-a9c6-4270-9cc2-7a788cfe3436, 1673387910269089>\n",
            "<Blob: bc26-datasets-comex, BQ_pipeline/temp/bq_load/c16a727e31864f0496acc086217be8e8/bc26-ed7-projeto-final.comercio_brasil.exp_2013-2022_tratada_mun/9226799f-6d06-4790-93db-2f6ea45ba3c8, 1673387979277805>\n",
            "<Blob: bc26-datasets-comex, BQ_pipeline/temp/bq_load/c16a727e31864f0496acc086217be8e8/bc26-ed7-projeto-final.comercio_brasil.exp_2013-2022_tratada_mun/944f1b5f-9246-45ba-bdca-6a89d51dbcbe, 1673387954941178>\n",
            "<Blob: bc26-datasets-comex, BQ_pipeline/temp/bq_load/c16a727e31864f0496acc086217be8e8/bc26-ed7-projeto-final.comercio_brasil.exp_2013-2022_tratada_mun/973af324-33ba-460f-b7f3-4d642f2e987c, 1673387924147684>\n",
            "<Blob: bc26-datasets-comex, BQ_pipeline/temp/bq_load/c16a727e31864f0496acc086217be8e8/bc26-ed7-projeto-final.comercio_brasil.exp_2013-2022_tratada_mun/9b3047dc-83a6-4877-9f50-03202f5491cf, 1673387950370638>\n",
            "<Blob: bc26-datasets-comex, BQ_pipeline/temp/bq_load/c16a727e31864f0496acc086217be8e8/bc26-ed7-projeto-final.comercio_brasil.exp_2013-2022_tratada_mun/a836af0a-5e7d-4ed0-ba13-64bad306e93e, 1673387927021733>\n",
            "<Blob: bc26-datasets-comex, BQ_pipeline/temp/bq_load/c16a727e31864f0496acc086217be8e8/bc26-ed7-projeto-final.comercio_brasil.exp_2013-2022_tratada_mun/a8a9ecd3-232b-4c48-af11-cdbd580c20cc, 1673387942772013>\n",
            "<Blob: bc26-datasets-comex, BQ_pipeline/temp/bq_load/c16a727e31864f0496acc086217be8e8/bc26-ed7-projeto-final.comercio_brasil.exp_2013-2022_tratada_mun/b4e1b755-1fc1-4140-8002-62d99a88f914, 1673387886515120>\n",
            "<Blob: bc26-datasets-comex, BQ_pipeline/temp/bq_load/c16a727e31864f0496acc086217be8e8/bc26-ed7-projeto-final.comercio_brasil.exp_2013-2022_tratada_mun/c415dee2-f84e-4f6e-932e-4d99ba6a8ec3, 1673387971350300>\n",
            "<Blob: bc26-datasets-comex, BQ_pipeline/temp/bq_load/c16a727e31864f0496acc086217be8e8/bc26-ed7-projeto-final.comercio_brasil.exp_2013-2022_tratada_mun/d42b632a-6359-423e-b618-19b2a5abc23a, 1673387987855894>\n",
            "<Blob: bc26-datasets-comex, BQ_pipeline/temp/bq_load/c16a727e31864f0496acc086217be8e8/bc26-ed7-projeto-final.comercio_brasil.exp_2013-2022_tratada_mun/dbe46614-9220-4d3d-bc3a-7e88bbe8ccfb, 1673387921443005>\n",
            "<Blob: bc26-datasets-comex, BQ_pipeline/temp/bq_load/c16a727e31864f0496acc086217be8e8/bc26-ed7-projeto-final.comercio_brasil.exp_2013-2022_tratada_mun/dc89657e-3825-4825-8099-b791e198a043, 1673387937615204>\n",
            "<Blob: bc26-datasets-comex, BQ_pipeline/temp/bq_load/c16a727e31864f0496acc086217be8e8/bc26-ed7-projeto-final.comercio_brasil.exp_2013-2022_tratada_mun/e41b6d19-df21-41c5-91f8-148095016bbb, 1673387740278270>\n",
            "<Blob: bc26-datasets-comex, BQ_pipeline/temp/bq_load/c16a727e31864f0496acc086217be8e8/bc26-ed7-projeto-final.comercio_brasil.exp_2013-2022_tratada_mun/ebd6e09a-b6c8-4601-9afb-af6a309666f5, 1673387931640966>\n",
            "<Blob: bc26-datasets-comex, BQ_pipeline/temp/bq_load/c16a727e31864f0496acc086217be8e8/bc26-ed7-projeto-final.comercio_brasil.exp_2013-2022_tratada_mun/f8078fe1-baa8-4ee8-a980-79f4978b6f86, 1673387886005840>\n",
            "<Blob: bc26-datasets-comex, BQ_pipeline/temp/bq_load/c16a727e31864f0496acc086217be8e8/bc26-ed7-projeto-final.comercio_brasil.exp_2013-2022_tratada_mun/fcb414a6-bb04-4bbf-a5e3-6ad8e9b6cc33, 1673387901272543>\n",
            "<Blob: bc26-datasets-comex, BQ_pipeline/temp/bq_load/c861875447264f59a85ce1142f85723a/bc26-ed7-projeto-final.comercio_brasil.exp_2012-2022_tratada_mun/2161e456-24e4-4e5c-ba6c-715c15d8427d, 1673288068083258>\n",
            "<Blob: bc26-datasets-comex, BQ_pipeline/temp/bq_load/c861875447264f59a85ce1142f85723a/bc26-ed7-projeto-final.comercio_brasil.exp_2012-2022_tratada_mun/2679aa42-d01c-4e73-bd9b-d485085b414a, 1673288055135894>\n",
            "<Blob: bc26-datasets-comex, BQ_pipeline/temp/bq_load/c861875447264f59a85ce1142f85723a/bc26-ed7-projeto-final.comercio_brasil.exp_2012-2022_tratada_mun/40462eb4-7758-4148-acb9-94fde980783e, 1673288098485699>\n",
            "<Blob: bc26-datasets-comex, BQ_pipeline/temp/bq_load/c861875447264f59a85ce1142f85723a/bc26-ed7-projeto-final.comercio_brasil.exp_2012-2022_tratada_mun/42eb1228-9a69-4d9b-8d00-ae38252429d6, 1673288086436168>\n",
            "<Blob: bc26-datasets-comex, BQ_pipeline/temp/bq_load/c861875447264f59a85ce1142f85723a/bc26-ed7-projeto-final.comercio_brasil.exp_2012-2022_tratada_mun/518194c8-d15f-46dd-a8e7-983006f274fa, 1673288165182849>\n",
            "<Blob: bc26-datasets-comex, BQ_pipeline/temp/bq_load/c861875447264f59a85ce1142f85723a/bc26-ed7-projeto-final.comercio_brasil.exp_2012-2022_tratada_mun/5a7a43e8-0876-4102-afec-56d196eee735, 1673288175804398>\n",
            "<Blob: bc26-datasets-comex, BQ_pipeline/temp/bq_load/c861875447264f59a85ce1142f85723a/bc26-ed7-projeto-final.comercio_brasil.exp_2012-2022_tratada_mun/5c154397-81b8-4206-b442-ef2f4d2dcdea, 1673288012757471>\n",
            "<Blob: bc26-datasets-comex, BQ_pipeline/temp/bq_load/c861875447264f59a85ce1142f85723a/bc26-ed7-projeto-final.comercio_brasil.exp_2012-2022_tratada_mun/67a9e880-6f1f-45ca-98ba-cfe7f2f225ae, 1673287951407488>\n",
            "<Blob: bc26-datasets-comex, BQ_pipeline/temp/bq_load/c861875447264f59a85ce1142f85723a/bc26-ed7-projeto-final.comercio_brasil.exp_2012-2022_tratada_mun/6f629968-685c-415f-a824-afeec2aec776, 1673288128944621>\n",
            "<Blob: bc26-datasets-comex, BQ_pipeline/temp/bq_load/c861875447264f59a85ce1142f85723a/bc26-ed7-projeto-final.comercio_brasil.exp_2012-2022_tratada_mun/9eba0eb5-1aae-41ee-a550-f13fbdf5e649, 1673288154224595>\n",
            "<Blob: bc26-datasets-comex, BQ_pipeline/temp/bq_load/c861875447264f59a85ce1142f85723a/bc26-ed7-projeto-final.comercio_brasil.exp_2012-2022_tratada_mun/ad32d359-7213-4374-b433-aba467538930, 1673288143966218>\n",
            "<Blob: bc26-datasets-comex, BQ_pipeline/temp/bq_load/c861875447264f59a85ce1142f85723a/bc26-ed7-projeto-final.comercio_brasil.exp_2012-2022_tratada_mun/ad8d2210-5f70-43ee-93db-008159c8d963, 1673287995375621>\n",
            "<Blob: bc26-datasets-comex, BQ_pipeline/temp/bq_load/c861875447264f59a85ce1142f85723a/bc26-ed7-projeto-final.comercio_brasil.exp_2012-2022_tratada_mun/ca6a9457-306a-4e70-ad74-658924ec5867, 1673288116951741>\n",
            "<Blob: bc26-datasets-comex, BQ_pipeline/temp/bq_load/c861875447264f59a85ce1142f85723a/bc26-ed7-projeto-final.comercio_brasil.exp_2012-2022_tratada_mun/e4078b6c-be5b-4321-b3b7-f397066880db, 1673288037487186>\n",
            "<Blob: bc26-datasets-comex, BQ_pipeline/temp/tmp-186389d284d5de8f-00000-of-00001.sdfmeta, 1673283792653631>\n",
            "<Blob: bc26-datasets-comex, BQ_pipeline/temp/tmp-194698ae454dd38f-00000-of-00001.sdfmeta, 1673296158013022>\n",
            "<Blob: bc26-datasets-comex, BQ_pipeline/temp/tmp-2156a90a418689ba-00000-of-00001.sdfmeta, 1673292454462968>\n",
            "<Blob: bc26-datasets-comex, BQ_pipeline/temp/tmp-48845b83e966af5c-00000-of-00001.sdfmeta, 1673270756728205>\n",
            "<Blob: bc26-datasets-comex, BQ_pipeline/temp/tmp-54aae92391f762b5-00000-of-00001.sdfmeta, 1673393479979931>\n",
            "<Blob: bc26-datasets-comex, BQ_pipeline/temp/tmp-7291befe57ae43fa-00000-of-00001.sdfmeta, 1673286993430826>\n",
            "<Blob: bc26-datasets-comex, BQ_pipeline/temp/tmp-7c084693288edb05-00000-of-00001.sdfmeta, 1673290804722639>\n",
            "<Blob: bc26-datasets-comex, BQ_pipeline/temp/tmp-7e8e3047525d685c-00000-of-00001.sdfmeta, 1673386118544515>\n",
            "<Blob: bc26-datasets-comex, BQ_pipeline/temp/tmp-80ca7aa7699c84dc-00000-of-00001.sdfmeta, 1673288982323215>\n",
            "<Blob: bc26-datasets-comex, BQ_pipeline/temp/tmp-8994e138b8b20b6c-00000-of-00001.sdfmeta, 1673387470571226>\n",
            "<Blob: bc26-datasets-comex, BQ_pipeline/temp/tmp-e30d9c8a8918fe05-00000-of-00001.sdfmeta, 1673287889644043>\n",
            "<Blob: bc26-datasets-comex, Chaves-comex/, 1672922364272923>\n",
            "<Blob: bc26-datasets-comex, Chaves-comex/X509-cert-800051816302881169.pem, 1672922391641425>\n",
            "<Blob: bc26-datasets-comex, Chaves-comex/chave_bigquery_JSON.json, 1672922391869550>\n",
            "<Blob: bc26-datasets-comex, Chaves-comex/chave_bucket_JSON.json, 1672922391615126>\n",
            "<Blob: bc26-datasets-comex, EXP_2013-2022(NCM).parquet/CO_ANO=2013/b6853a77515741c388ac837060fb527c-0.parquet, 1673358345955846>\n",
            "<Blob: bc26-datasets-comex, EXP_2013-2022(NCM).parquet/CO_ANO=2014/b6853a77515741c388ac837060fb527c-0.parquet, 1673358345847906>\n",
            "<Blob: bc26-datasets-comex, EXP_2013-2022(NCM).parquet/CO_ANO=2015/b6853a77515741c388ac837060fb527c-0.parquet, 1673358346374366>\n",
            "<Blob: bc26-datasets-comex, EXP_2013-2022(NCM).parquet/CO_ANO=2016/b6853a77515741c388ac837060fb527c-0.parquet, 1673358347375890>\n",
            "<Blob: bc26-datasets-comex, EXP_2013-2022(NCM).parquet/CO_ANO=2017/b6853a77515741c388ac837060fb527c-0.parquet, 1673358345780988>\n",
            "<Blob: bc26-datasets-comex, EXP_2013-2022(NCM).parquet/CO_ANO=2018/b6853a77515741c388ac837060fb527c-0.parquet, 1673358347519099>\n",
            "<Blob: bc26-datasets-comex, EXP_2013-2022(NCM).parquet/CO_ANO=2019/b6853a77515741c388ac837060fb527c-0.parquet, 1673358348834001>\n",
            "<Blob: bc26-datasets-comex, EXP_2013-2022(NCM).parquet/CO_ANO=2020/b6853a77515741c388ac837060fb527c-0.parquet, 1673358348832524>\n",
            "<Blob: bc26-datasets-comex, EXP_2013-2022(NCM).parquet/CO_ANO=2021/b6853a77515741c388ac837060fb527c-0.parquet, 1673358349951027>\n",
            "<Blob: bc26-datasets-comex, EXP_2013-2022(NCM).parquet/CO_ANO=2022/b6853a77515741c388ac837060fb527c-0.parquet, 1673358350935783>\n",
            "<Blob: bc26-datasets-comex, EXP_COMPLETA (MUN).csv, 1672689061138883>\n",
            "<Blob: bc26-datasets-comex, EXP_COMPLETA (NCM).csv, 1672689262638156>\n",
            "<Blob: bc26-datasets-comex, EXP_COMPLETA (NCM).csv/CO_ANO=2012/842547e626f54d39a2e87f48977636a3-0.parquet, 1672840811020699>\n",
            "<Blob: bc26-datasets-comex, EXP_COMPLETA (NCM).csv/CO_ANO=2012/872fb96efc66477089afa32ea4624248-0.parquet, 1672840241389897>\n",
            "<Blob: bc26-datasets-comex, EXP_COMPLETA (NCM).csv/CO_ANO=2012/96fe059e19524325a72274b1b231952c-0.parquet, 1672839575554671>\n",
            "<Blob: bc26-datasets-comex, EXP_COMPLETA (NCM).csv/CO_ANO=2012/d12d67527d8c4e49b26c96037f4129ac-0.parquet, 1672836742517835>\n",
            "<Blob: bc26-datasets-comex, EXP_COMPLETA (NCM).csv/CO_ANO=2012/dd6293b2ab5147edaa332643900ad6f4-0.parquet, 1672848328043858>\n",
            "<Blob: bc26-datasets-comex, EXP_COMPLETA (NCM).csv/CO_ANO=2012/f14b2769dd164526acf6c9789f38de2b-0.parquet, 1672848311479854>\n",
            "<Blob: bc26-datasets-comex, EXP_COMPLETA (NCM).csv/CO_ANO=2013/842547e626f54d39a2e87f48977636a3-0.parquet, 1672840811959790>\n",
            "<Blob: bc26-datasets-comex, EXP_COMPLETA (NCM).csv/CO_ANO=2013/872fb96efc66477089afa32ea4624248-0.parquet, 1672840242593231>\n",
            "<Blob: bc26-datasets-comex, EXP_COMPLETA (NCM).csv/CO_ANO=2013/96fe059e19524325a72274b1b231952c-0.parquet, 1672839575749135>\n",
            "<Blob: bc26-datasets-comex, EXP_COMPLETA (NCM).csv/CO_ANO=2013/d12d67527d8c4e49b26c96037f4129ac-0.parquet, 1672836742402892>\n",
            "<Blob: bc26-datasets-comex, EXP_COMPLETA (NCM).csv/CO_ANO=2013/dd6293b2ab5147edaa332643900ad6f4-0.parquet, 1672848328010635>\n",
            "<Blob: bc26-datasets-comex, EXP_COMPLETA (NCM).csv/CO_ANO=2013/f14b2769dd164526acf6c9789f38de2b-0.parquet, 1672848312039666>\n",
            "<Blob: bc26-datasets-comex, EXP_COMPLETA (NCM).csv/CO_ANO=2014/842547e626f54d39a2e87f48977636a3-0.parquet, 1672840810700532>\n",
            "<Blob: bc26-datasets-comex, EXP_COMPLETA (NCM).csv/CO_ANO=2014/872fb96efc66477089afa32ea4624248-0.parquet, 1672840241057295>\n",
            "<Blob: bc26-datasets-comex, EXP_COMPLETA (NCM).csv/CO_ANO=2014/96fe059e19524325a72274b1b231952c-0.parquet, 1672839575682574>\n",
            "<Blob: bc26-datasets-comex, EXP_COMPLETA (NCM).csv/CO_ANO=2014/d12d67527d8c4e49b26c96037f4129ac-0.parquet, 1672836742246617>\n",
            "<Blob: bc26-datasets-comex, EXP_COMPLETA (NCM).csv/CO_ANO=2014/dd6293b2ab5147edaa332643900ad6f4-0.parquet, 1672848328053574>\n",
            "<Blob: bc26-datasets-comex, EXP_COMPLETA (NCM).csv/CO_ANO=2014/f14b2769dd164526acf6c9789f38de2b-0.parquet, 1672848310307923>\n",
            "<Blob: bc26-datasets-comex, EXP_COMPLETA (NCM).csv/CO_ANO=2015/842547e626f54d39a2e87f48977636a3-0.parquet, 1672840811621539>\n",
            "<Blob: bc26-datasets-comex, EXP_COMPLETA (NCM).csv/CO_ANO=2015/872fb96efc66477089afa32ea4624248-0.parquet, 1672840241951805>\n",
            "<Blob: bc26-datasets-comex, EXP_COMPLETA (NCM).csv/CO_ANO=2015/96fe059e19524325a72274b1b231952c-0.parquet, 1672839576426262>\n",
            "<Blob: bc26-datasets-comex, EXP_COMPLETA (NCM).csv/CO_ANO=2015/d12d67527d8c4e49b26c96037f4129ac-0.parquet, 1672836743989953>\n",
            "<Blob: bc26-datasets-comex, EXP_COMPLETA (NCM).csv/CO_ANO=2015/dd6293b2ab5147edaa332643900ad6f4-0.parquet, 1672848328179584>\n",
            "<Blob: bc26-datasets-comex, EXP_COMPLETA (NCM).csv/CO_ANO=2015/f14b2769dd164526acf6c9789f38de2b-0.parquet, 1672848310475507>\n",
            "<Blob: bc26-datasets-comex, EXP_COMPLETA (NCM).csv/CO_ANO=2016/842547e626f54d39a2e87f48977636a3-0.parquet, 1672840812124374>\n",
            "<Blob: bc26-datasets-comex, EXP_COMPLETA (NCM).csv/CO_ANO=2016/872fb96efc66477089afa32ea4624248-0.parquet, 1672840243059297>\n",
            "<Blob: bc26-datasets-comex, EXP_COMPLETA (NCM).csv/CO_ANO=2016/96fe059e19524325a72274b1b231952c-0.parquet, 1672839577889687>\n",
            "<Blob: bc26-datasets-comex, EXP_COMPLETA (NCM).csv/CO_ANO=2016/d12d67527d8c4e49b26c96037f4129ac-0.parquet, 1672836743808972>\n",
            "<Blob: bc26-datasets-comex, EXP_COMPLETA (NCM).csv/CO_ANO=2016/dd6293b2ab5147edaa332643900ad6f4-0.parquet, 1672848330697496>\n",
            "<Blob: bc26-datasets-comex, EXP_COMPLETA (NCM).csv/CO_ANO=2016/f14b2769dd164526acf6c9789f38de2b-0.parquet, 1672848312527015>\n",
            "<Blob: bc26-datasets-comex, EXP_COMPLETA (NCM).csv/CO_ANO=2017/842547e626f54d39a2e87f48977636a3-0.parquet, 1672840813796977>\n",
            "<Blob: bc26-datasets-comex, EXP_COMPLETA (NCM).csv/CO_ANO=2017/872fb96efc66477089afa32ea4624248-0.parquet, 1672840242936409>\n",
            "<Blob: bc26-datasets-comex, EXP_COMPLETA (NCM).csv/CO_ANO=2017/96fe059e19524325a72274b1b231952c-0.parquet, 1672839577168851>\n",
            "<Blob: bc26-datasets-comex, EXP_COMPLETA (NCM).csv/CO_ANO=2017/d12d67527d8c4e49b26c96037f4129ac-0.parquet, 1672836742936991>\n",
            "<Blob: bc26-datasets-comex, EXP_COMPLETA (NCM).csv/CO_ANO=2017/dd6293b2ab5147edaa332643900ad6f4-0.parquet, 1672848328375120>\n",
            "<Blob: bc26-datasets-comex, EXP_COMPLETA (NCM).csv/CO_ANO=2017/f14b2769dd164526acf6c9789f38de2b-0.parquet, 1672848310807834>\n",
            "<Blob: bc26-datasets-comex, EXP_COMPLETA (NCM).csv/CO_ANO=2018/842547e626f54d39a2e87f48977636a3-0.parquet, 1672840811794221>\n",
            "<Blob: bc26-datasets-comex, EXP_COMPLETA (NCM).csv/CO_ANO=2018/872fb96efc66477089afa32ea4624248-0.parquet, 1672840242294059>\n",
            "<Blob: bc26-datasets-comex, EXP_COMPLETA (NCM).csv/CO_ANO=2018/96fe059e19524325a72274b1b231952c-0.parquet, 1672839576457743>\n",
            "<Blob: bc26-datasets-comex, EXP_COMPLETA (NCM).csv/CO_ANO=2018/d12d67527d8c4e49b26c96037f4129ac-0.parquet, 1672836744736399>\n",
            "<Blob: bc26-datasets-comex, EXP_COMPLETA (NCM).csv/CO_ANO=2018/dd6293b2ab5147edaa332643900ad6f4-0.parquet, 1672848330239704>\n",
            "<Blob: bc26-datasets-comex, EXP_COMPLETA (NCM).csv/CO_ANO=2018/f14b2769dd164526acf6c9789f38de2b-0.parquet, 1672848312397780>\n",
            "<Blob: bc26-datasets-comex, EXP_COMPLETA (NCM).csv/CO_ANO=2019/842547e626f54d39a2e87f48977636a3-0.parquet, 1672840812902312>\n",
            "<Blob: bc26-datasets-comex, EXP_COMPLETA (NCM).csv/CO_ANO=2019/872fb96efc66477089afa32ea4624248-0.parquet, 1672840244393285>\n",
            "<Blob: bc26-datasets-comex, EXP_COMPLETA (NCM).csv/CO_ANO=2019/96fe059e19524325a72274b1b231952c-0.parquet, 1672839577805129>\n",
            "<Blob: bc26-datasets-comex, EXP_COMPLETA (NCM).csv/CO_ANO=2019/d12d67527d8c4e49b26c96037f4129ac-0.parquet, 1672836744043714>\n",
            "<Blob: bc26-datasets-comex, EXP_COMPLETA (NCM).csv/CO_ANO=2019/dd6293b2ab5147edaa332643900ad6f4-0.parquet, 1672848331573308>\n",
            "<Blob: bc26-datasets-comex, EXP_COMPLETA (NCM).csv/CO_ANO=2019/f14b2769dd164526acf6c9789f38de2b-0.parquet, 1672848314201479>\n",
            "<Blob: bc26-datasets-comex, EXP_COMPLETA (NCM).csv/CO_ANO=2020/842547e626f54d39a2e87f48977636a3-0.parquet, 1672840813238499>\n",
            "<Blob: bc26-datasets-comex, EXP_COMPLETA (NCM).csv/CO_ANO=2020/872fb96efc66477089afa32ea4624248-0.parquet, 1672840244377090>\n",
            "<Blob: bc26-datasets-comex, EXP_COMPLETA (NCM).csv/CO_ANO=2020/96fe059e19524325a72274b1b231952c-0.parquet, 1672839579022923>\n",
            "<Blob: bc26-datasets-comex, EXP_COMPLETA (NCM).csv/CO_ANO=2020/d12d67527d8c4e49b26c96037f4129ac-0.parquet, 1672836745049295>\n",
            "<Blob: bc26-datasets-comex, EXP_COMPLETA (NCM).csv/CO_ANO=2020/dd6293b2ab5147edaa332643900ad6f4-0.parquet, 1672848331980211>\n",
            "<Blob: bc26-datasets-comex, EXP_COMPLETA (NCM).csv/CO_ANO=2020/f14b2769dd164526acf6c9789f38de2b-0.parquet, 1672848313418368>\n",
            "<Blob: bc26-datasets-comex, EXP_COMPLETA (NCM).csv/CO_ANO=2021/842547e626f54d39a2e87f48977636a3-0.parquet, 1672840816317446>\n",
            "<Blob: bc26-datasets-comex, EXP_COMPLETA (NCM).csv/CO_ANO=2021/872fb96efc66477089afa32ea4624248-0.parquet, 1672840246472074>\n",
            "<Blob: bc26-datasets-comex, EXP_COMPLETA (NCM).csv/CO_ANO=2021/96fe059e19524325a72274b1b231952c-0.parquet, 1672839581347862>\n",
            "<Blob: bc26-datasets-comex, EXP_COMPLETA (NCM).csv/CO_ANO=2021/d12d67527d8c4e49b26c96037f4129ac-0.parquet, 1672836746864805>\n",
            "<Blob: bc26-datasets-comex, EXP_COMPLETA (NCM).csv/CO_ANO=2021/dd6293b2ab5147edaa332643900ad6f4-0.parquet, 1672848331505306>\n",
            "<Blob: bc26-datasets-comex, EXP_COMPLETA (NCM).csv/CO_ANO=2021/f14b2769dd164526acf6c9789f38de2b-0.parquet, 1672848315667567>\n",
            "<Blob: bc26-datasets-comex, EXP_COMPLETA (NCM).csv/CO_ANO=2022/842547e626f54d39a2e87f48977636a3-0.parquet, 1672840814919216>\n",
            "<Blob: bc26-datasets-comex, EXP_COMPLETA (NCM).csv/CO_ANO=2022/872fb96efc66477089afa32ea4624248-0.parquet, 1672840245733000>\n",
            "<Blob: bc26-datasets-comex, EXP_COMPLETA (NCM).csv/CO_ANO=2022/96fe059e19524325a72274b1b231952c-0.parquet, 1672839579516420>\n",
            "<Blob: bc26-datasets-comex, EXP_COMPLETA (NCM).csv/CO_ANO=2022/d12d67527d8c4e49b26c96037f4129ac-0.parquet, 1672836746472485>\n",
            "<Blob: bc26-datasets-comex, EXP_COMPLETA (NCM).csv/CO_ANO=2022/dd6293b2ab5147edaa332643900ad6f4-0.parquet, 1672848332652277>\n",
            "<Blob: bc26-datasets-comex, EXP_COMPLETA (NCM).csv/CO_ANO=2022/f14b2769dd164526acf6c9789f38de2b-0.parquet, 1672848315770282>\n",
            "<Blob: bc26-datasets-comex, Exportação_tratada/, 1673408397517549>\n",
            "<Blob: bc26-datasets-comex, Exportação_tratada/exp_mun_tratado_csv.csv, 1673408553213651>\n",
            "<Blob: bc26-datasets-comex, Exportação_tratada/exp_ncm_tratado_csv.csv, 1673408469002250>\n",
            "<Blob: bc26-datasets-comex, IMP_2012-2022 (MUN).csv, 1673584077385198>\n",
            "<Blob: bc26-datasets-comex, IMP_2012-2022 (MUN).parquet/CO_ANO=2012/40a58cf040284d8d8e377b2473b8961a-0.parquet, 1673584086392691>\n",
            "<Blob: bc26-datasets-comex, IMP_2012-2022 (MUN).parquet/CO_ANO=2012/70a7868adecb499ab9d88596c75be2e9-0.parquet, 1673577531541108>\n",
            "<Blob: bc26-datasets-comex, IMP_2012-2022 (MUN).parquet/CO_ANO=2012/ee32a8a3861245b3b590b03351f2fcf2-0.parquet, 1672804961993053>\n",
            "<Blob: bc26-datasets-comex, IMP_2012-2022 (MUN).parquet/CO_ANO=2013/40a58cf040284d8d8e377b2473b8961a-0.parquet, 1673584087228125>\n",
            "<Blob: bc26-datasets-comex, IMP_2012-2022 (MUN).parquet/CO_ANO=2013/70a7868adecb499ab9d88596c75be2e9-0.parquet, 1673577530458642>\n",
            "<Blob: bc26-datasets-comex, IMP_2012-2022 (MUN).parquet/CO_ANO=2013/ee32a8a3861245b3b590b03351f2fcf2-0.parquet, 1672804961665099>\n",
            "<Blob: bc26-datasets-comex, IMP_2012-2022 (MUN).parquet/CO_ANO=2014/40a58cf040284d8d8e377b2473b8961a-0.parquet, 1673584088073085>\n",
            "<Blob: bc26-datasets-comex, IMP_2012-2022 (MUN).parquet/CO_ANO=2014/70a7868adecb499ab9d88596c75be2e9-0.parquet, 1673577531606832>\n",
            "<Blob: bc26-datasets-comex, IMP_2012-2022 (MUN).parquet/CO_ANO=2014/ee32a8a3861245b3b590b03351f2fcf2-0.parquet, 1672804963821689>\n",
            "<Blob: bc26-datasets-comex, IMP_2012-2022 (MUN).parquet/CO_ANO=2015/40a58cf040284d8d8e377b2473b8961a-0.parquet, 1673584087631002>\n",
            "<Blob: bc26-datasets-comex, IMP_2012-2022 (MUN).parquet/CO_ANO=2015/70a7868adecb499ab9d88596c75be2e9-0.parquet, 1673577533472749>\n",
            "<Blob: bc26-datasets-comex, IMP_2012-2022 (MUN).parquet/CO_ANO=2015/ee32a8a3861245b3b590b03351f2fcf2-0.parquet, 1672804963531725>\n",
            "<Blob: bc26-datasets-comex, IMP_2012-2022 (MUN).parquet/CO_ANO=2016/40a58cf040284d8d8e377b2473b8961a-0.parquet, 1673584086774395>\n",
            "<Blob: bc26-datasets-comex, IMP_2012-2022 (MUN).parquet/CO_ANO=2016/70a7868adecb499ab9d88596c75be2e9-0.parquet, 1673577528623692>\n",
            "<Blob: bc26-datasets-comex, IMP_2012-2022 (MUN).parquet/CO_ANO=2016/ee32a8a3861245b3b590b03351f2fcf2-0.parquet, 1672804963255471>\n",
            "<Blob: bc26-datasets-comex, IMP_2012-2022 (MUN).parquet/CO_ANO=2017/40a58cf040284d8d8e377b2473b8961a-0.parquet, 1673584088340548>\n",
            "<Blob: bc26-datasets-comex, IMP_2012-2022 (MUN).parquet/CO_ANO=2017/70a7868adecb499ab9d88596c75be2e9-0.parquet, 1673577534103856>\n",
            "<Blob: bc26-datasets-comex, IMP_2012-2022 (MUN).parquet/CO_ANO=2017/ee32a8a3861245b3b590b03351f2fcf2-0.parquet, 1672804961880168>\n",
            "<Blob: bc26-datasets-comex, IMP_2012-2022 (MUN).parquet/CO_ANO=2018/40a58cf040284d8d8e377b2473b8961a-0.parquet, 1673584089833486>\n",
            "<Blob: bc26-datasets-comex, IMP_2012-2022 (MUN).parquet/CO_ANO=2018/70a7868adecb499ab9d88596c75be2e9-0.parquet, 1673577531424808>\n",
            "<Blob: bc26-datasets-comex, IMP_2012-2022 (MUN).parquet/CO_ANO=2018/ee32a8a3861245b3b590b03351f2fcf2-0.parquet, 1672804963175511>\n",
            "<Blob: bc26-datasets-comex, IMP_2012-2022 (MUN).parquet/CO_ANO=2019/40a58cf040284d8d8e377b2473b8961a-0.parquet, 1673584088627668>\n",
            "<Blob: bc26-datasets-comex, IMP_2012-2022 (MUN).parquet/CO_ANO=2019/70a7868adecb499ab9d88596c75be2e9-0.parquet, 1673577534794592>\n",
            "<Blob: bc26-datasets-comex, IMP_2012-2022 (MUN).parquet/CO_ANO=2019/ee32a8a3861245b3b590b03351f2fcf2-0.parquet, 1672804964512497>\n",
            "<Blob: bc26-datasets-comex, IMP_2012-2022 (MUN).parquet/CO_ANO=2020/40a58cf040284d8d8e377b2473b8961a-0.parquet, 1673584089551624>\n",
            "<Blob: bc26-datasets-comex, IMP_2012-2022 (MUN).parquet/CO_ANO=2020/70a7868adecb499ab9d88596c75be2e9-0.parquet, 1673577537631195>\n",
            "<Blob: bc26-datasets-comex, IMP_2012-2022 (MUN).parquet/CO_ANO=2020/ee32a8a3861245b3b590b03351f2fcf2-0.parquet, 1672804965709307>\n",
            "<Blob: bc26-datasets-comex, IMP_2012-2022 (MUN).parquet/CO_ANO=2021/40a58cf040284d8d8e377b2473b8961a-0.parquet, 1673584090257761>\n",
            "<Blob: bc26-datasets-comex, IMP_2012-2022 (MUN).parquet/CO_ANO=2021/70a7868adecb499ab9d88596c75be2e9-0.parquet, 1673577541302103>\n",
            "<Blob: bc26-datasets-comex, IMP_2012-2022 (MUN).parquet/CO_ANO=2021/ee32a8a3861245b3b590b03351f2fcf2-0.parquet, 1672804966865360>\n",
            "<Blob: bc26-datasets-comex, IMP_2012-2022 (MUN).parquet/CO_ANO=2022/40a58cf040284d8d8e377b2473b8961a-0.parquet, 1673584090962456>\n",
            "<Blob: bc26-datasets-comex, IMP_2012-2022 (MUN).parquet/CO_ANO=2022/70a7868adecb499ab9d88596c75be2e9-0.parquet, 1673577541237608>\n",
            "<Blob: bc26-datasets-comex, IMP_2012-2022 (MUN).parquet/CO_ANO=2022/ee32a8a3861245b3b590b03351f2fcf2-0.parquet, 1672804968059227>\n",
            "<Blob: bc26-datasets-comex, IMP_2012-2022 (NCM).parquet/CO_ANO=2012/d59349021af14fc08c81adb45070e9e4-0.parquet, 1672841175972874>\n",
            "<Blob: bc26-datasets-comex, IMP_2012-2022 (NCM).parquet/CO_ANO=2012/f9797e2401bf4edab5c56548c0418521-0.parquet, 1673578407095003>\n",
            "<Blob: bc26-datasets-comex, IMP_2012-2022 (NCM).parquet/CO_ANO=2013/d59349021af14fc08c81adb45070e9e4-0.parquet, 1672841177847120>\n",
            "<Blob: bc26-datasets-comex, IMP_2012-2022 (NCM).parquet/CO_ANO=2013/f9797e2401bf4edab5c56548c0418521-0.parquet, 1673578409539458>\n",
            "<Blob: bc26-datasets-comex, IMP_2012-2022 (NCM).parquet/CO_ANO=2014/d59349021af14fc08c81adb45070e9e4-0.parquet, 1672841177911653>\n",
            "<Blob: bc26-datasets-comex, IMP_2012-2022 (NCM).parquet/CO_ANO=2014/f9797e2401bf4edab5c56548c0418521-0.parquet, 1673578407667459>\n",
            "<Blob: bc26-datasets-comex, IMP_2012-2022 (NCM).parquet/CO_ANO=2015/d59349021af14fc08c81adb45070e9e4-0.parquet, 1672841177621284>\n",
            "<Blob: bc26-datasets-comex, IMP_2012-2022 (NCM).parquet/CO_ANO=2015/f9797e2401bf4edab5c56548c0418521-0.parquet, 1673578407584874>\n",
            "<Blob: bc26-datasets-comex, IMP_2012-2022 (NCM).parquet/CO_ANO=2016/d59349021af14fc08c81adb45070e9e4-0.parquet, 1672841174514022>\n",
            "<Blob: bc26-datasets-comex, IMP_2012-2022 (NCM).parquet/CO_ANO=2016/f9797e2401bf4edab5c56548c0418521-0.parquet, 1673578404632019>\n",
            "<Blob: bc26-datasets-comex, IMP_2012-2022 (NCM).parquet/CO_ANO=2017/d59349021af14fc08c81adb45070e9e4-0.parquet, 1672841177268394>\n",
            "<Blob: bc26-datasets-comex, IMP_2012-2022 (NCM).parquet/CO_ANO=2017/f9797e2401bf4edab5c56548c0418521-0.parquet, 1673578411104189>\n",
            "<Blob: bc26-datasets-comex, IMP_2012-2022 (NCM).parquet/CO_ANO=2018/d59349021af14fc08c81adb45070e9e4-0.parquet, 1672841179407725>\n",
            "<Blob: bc26-datasets-comex, IMP_2012-2022 (NCM).parquet/CO_ANO=2018/f9797e2401bf4edab5c56548c0418521-0.parquet, 1673578410048569>\n",
            "<Blob: bc26-datasets-comex, IMP_2012-2022 (NCM).parquet/CO_ANO=2019/d59349021af14fc08c81adb45070e9e4-0.parquet, 1672841183599116>\n",
            "<Blob: bc26-datasets-comex, IMP_2012-2022 (NCM).parquet/CO_ANO=2019/f9797e2401bf4edab5c56548c0418521-0.parquet, 1673578418031926>\n",
            "<Blob: bc26-datasets-comex, IMP_2012-2022 (NCM).parquet/CO_ANO=2020/d59349021af14fc08c81adb45070e9e4-0.parquet, 1672841184231219>\n",
            "<Blob: bc26-datasets-comex, IMP_2012-2022 (NCM).parquet/CO_ANO=2020/f9797e2401bf4edab5c56548c0418521-0.parquet, 1673578420020730>\n",
            "<Blob: bc26-datasets-comex, IMP_2012-2022 (NCM).parquet/CO_ANO=2021/d59349021af14fc08c81adb45070e9e4-0.parquet, 1672841187962971>\n",
            "<Blob: bc26-datasets-comex, IMP_2012-2022 (NCM).parquet/CO_ANO=2021/f9797e2401bf4edab5c56548c0418521-0.parquet, 1673578425421173>\n",
            "<Blob: bc26-datasets-comex, IMP_2012-2022 (NCM).parquet/CO_ANO=2022/d59349021af14fc08c81adb45070e9e4-0.parquet, 1672841187065753>\n",
            "<Blob: bc26-datasets-comex, IMP_2012-2022 (NCM).parquet/CO_ANO=2022/f9797e2401bf4edab5c56548c0418521-0.parquet, 1673578427817334>\n",
            "<Blob: bc26-datasets-comex, IMP_COMPLETA (MUN).csv, 1672689204414919>\n",
            "<Blob: bc26-datasets-comex, IMP_COMPLETA (NCM).csv, 1672689478413274>\n",
            "<Blob: bc26-datasets-comex, NCM (3).csv, 1672860982651302>\n",
            "<Blob: bc26-datasets-comex, NCM.csv, 1672850193317743>\n",
            "<Blob: bc26-datasets-comex, TABELAS_AUXILIARES.xlsx, 1672689206912319>\n",
            "<Blob: bc26-datasets-comex, bc26-datasets-comex/Exportação tratada, 1673406814353999>\n",
            "<Blob: bc26-datasets-comex, bc26-datasets-comex/comex-tratado, 1673274210814542>\n",
            "<Blob: bc26-datasets-comex, combustivel-original-parquet/, 1672836007285344>\n",
            "<Blob: bc26-datasets-comex, combustivel-original/, 1672835984664110>\n",
            "<Blob: bc26-datasets-comex, combustivel-tratado/, 1673029441593941>\n",
            "<Blob: bc26-datasets-comex, combustivel-tratado/vendas-combustiveis-2013-2022/, 1673123569304750>\n",
            "<Blob: bc26-datasets-comex, combustivel-tratado/vendas-combustiveis-2013-2022/_SUCCESS, 1673123570089878>\n",
            "<Blob: bc26-datasets-comex, combustivel-tratado/vendas-combustiveis-2013-2022/ano=2013/part-00000-28930813-4c5c-45dd-be2e-ef504265934c.c000.snappy.parquet, 1673123529524092>\n",
            "<Blob: bc26-datasets-comex, combustivel-tratado/vendas-combustiveis-2013-2022/ano=2013/part-00001-28930813-4c5c-45dd-be2e-ef504265934c.c000.snappy.parquet, 1673123510113031>\n",
            "<Blob: bc26-datasets-comex, combustivel-tratado/vendas-combustiveis-2013-2022/ano=2013/part-00002-28930813-4c5c-45dd-be2e-ef504265934c.c000.snappy.parquet, 1673123553589510>\n",
            "<Blob: bc26-datasets-comex, combustivel-tratado/vendas-combustiveis-2013-2022/ano=2014/part-00000-28930813-4c5c-45dd-be2e-ef504265934c.c000.snappy.parquet, 1673123531868262>\n",
            "<Blob: bc26-datasets-comex, combustivel-tratado/vendas-combustiveis-2013-2022/ano=2014/part-00001-28930813-4c5c-45dd-be2e-ef504265934c.c000.snappy.parquet, 1673123512107358>\n",
            "<Blob: bc26-datasets-comex, combustivel-tratado/vendas-combustiveis-2013-2022/ano=2014/part-00002-28930813-4c5c-45dd-be2e-ef504265934c.c000.snappy.parquet, 1673123556453598>\n",
            "<Blob: bc26-datasets-comex, combustivel-tratado/vendas-combustiveis-2013-2022/ano=2015/part-00000-28930813-4c5c-45dd-be2e-ef504265934c.c000.snappy.parquet, 1673123534209454>\n",
            "<Blob: bc26-datasets-comex, combustivel-tratado/vendas-combustiveis-2013-2022/ano=2015/part-00001-28930813-4c5c-45dd-be2e-ef504265934c.c000.snappy.parquet, 1673123513934966>\n",
            "<Blob: bc26-datasets-comex, combustivel-tratado/vendas-combustiveis-2013-2022/ano=2015/part-00002-28930813-4c5c-45dd-be2e-ef504265934c.c000.snappy.parquet, 1673123558592326>\n",
            "<Blob: bc26-datasets-comex, combustivel-tratado/vendas-combustiveis-2013-2022/ano=2016/part-00000-28930813-4c5c-45dd-be2e-ef504265934c.c000.snappy.parquet, 1673123536836989>\n",
            "<Blob: bc26-datasets-comex, combustivel-tratado/vendas-combustiveis-2013-2022/ano=2016/part-00001-28930813-4c5c-45dd-be2e-ef504265934c.c000.snappy.parquet, 1673123515762537>\n",
            "<Blob: bc26-datasets-comex, combustivel-tratado/vendas-combustiveis-2013-2022/ano=2016/part-00002-28930813-4c5c-45dd-be2e-ef504265934c.c000.snappy.parquet, 1673123561458367>\n",
            "<Blob: bc26-datasets-comex, combustivel-tratado/vendas-combustiveis-2013-2022/ano=2017/part-00000-28930813-4c5c-45dd-be2e-ef504265934c.c000.snappy.parquet, 1673123539823910>\n",
            "<Blob: bc26-datasets-comex, combustivel-tratado/vendas-combustiveis-2013-2022/ano=2017/part-00001-28930813-4c5c-45dd-be2e-ef504265934c.c000.snappy.parquet, 1673123517608602>\n",
            "<Blob: bc26-datasets-comex, combustivel-tratado/vendas-combustiveis-2013-2022/ano=2017/part-00002-28930813-4c5c-45dd-be2e-ef504265934c.c000.snappy.parquet, 1673123562620589>\n",
            "<Blob: bc26-datasets-comex, combustivel-tratado/vendas-combustiveis-2013-2022/ano=2018/part-00000-28930813-4c5c-45dd-be2e-ef504265934c.c000.snappy.parquet, 1673123541966448>\n",
            "<Blob: bc26-datasets-comex, combustivel-tratado/vendas-combustiveis-2013-2022/ano=2018/part-00001-28930813-4c5c-45dd-be2e-ef504265934c.c000.snappy.parquet, 1673123519433030>\n",
            "<Blob: bc26-datasets-comex, combustivel-tratado/vendas-combustiveis-2013-2022/ano=2018/part-00002-28930813-4c5c-45dd-be2e-ef504265934c.c000.snappy.parquet, 1673123563764061>\n",
            "<Blob: bc26-datasets-comex, combustivel-tratado/vendas-combustiveis-2013-2022/ano=2019/part-00000-28930813-4c5c-45dd-be2e-ef504265934c.c000.snappy.parquet, 1673123544262203>\n",
            "<Blob: bc26-datasets-comex, combustivel-tratado/vendas-combustiveis-2013-2022/ano=2019/part-00001-28930813-4c5c-45dd-be2e-ef504265934c.c000.snappy.parquet, 1673123521261663>\n",
            "<Blob: bc26-datasets-comex, combustivel-tratado/vendas-combustiveis-2013-2022/ano=2019/part-00002-28930813-4c5c-45dd-be2e-ef504265934c.c000.snappy.parquet, 1673123564909704>\n",
            "<Blob: bc26-datasets-comex, combustivel-tratado/vendas-combustiveis-2013-2022/ano=2020/part-00000-28930813-4c5c-45dd-be2e-ef504265934c.c000.snappy.parquet, 1673123546969968>\n",
            "<Blob: bc26-datasets-comex, combustivel-tratado/vendas-combustiveis-2013-2022/ano=2020/part-00001-28930813-4c5c-45dd-be2e-ef504265934c.c000.snappy.parquet, 1673123523095889>\n",
            "<Blob: bc26-datasets-comex, combustivel-tratado/vendas-combustiveis-2013-2022/ano=2020/part-00002-28930813-4c5c-45dd-be2e-ef504265934c.c000.snappy.parquet, 1673123566058505>\n",
            "<Blob: bc26-datasets-comex, combustivel-tratado/vendas-combustiveis-2013-2022/ano=2021/part-00000-28930813-4c5c-45dd-be2e-ef504265934c.c000.snappy.parquet, 1673123549102857>\n",
            "<Blob: bc26-datasets-comex, combustivel-tratado/vendas-combustiveis-2013-2022/ano=2021/part-00001-28930813-4c5c-45dd-be2e-ef504265934c.c000.snappy.parquet, 1673123524935378>\n",
            "<Blob: bc26-datasets-comex, combustivel-tratado/vendas-combustiveis-2013-2022/ano=2021/part-00002-28930813-4c5c-45dd-be2e-ef504265934c.c000.snappy.parquet, 1673123567213584>\n",
            "<Blob: bc26-datasets-comex, combustivel-tratado/vendas-combustiveis-2013-2022/ano=2022/part-00000-28930813-4c5c-45dd-be2e-ef504265934c.c000.snappy.parquet, 1673123552148697>\n",
            "<Blob: bc26-datasets-comex, combustivel-tratado/vendas-combustiveis-2013-2022/ano=2022/part-00001-28930813-4c5c-45dd-be2e-ef504265934c.c000.snappy.parquet, 1673123526759934>\n",
            "<Blob: bc26-datasets-comex, combustivel-tratado/vendas-combustiveis-2013-2022/ano=2022/part-00002-28930813-4c5c-45dd-be2e-ef504265934c.c000.snappy.parquet, 1673123568349093>\n",
            "<Blob: bc26-datasets-comex, combustivel-tratado/volume_preco_combustiveis_mensal_2013_2022/ano=2013/4c3df4b31b1b4fa984302c7baf7eecb4-0.parquet, 1673313280172604>\n",
            "<Blob: bc26-datasets-comex, combustivel-tratado/volume_preco_combustiveis_mensal_2013_2022/ano=2014/4c3df4b31b1b4fa984302c7baf7eecb4-0.parquet, 1673313280146851>\n",
            "<Blob: bc26-datasets-comex, combustivel-tratado/volume_preco_combustiveis_mensal_2013_2022/ano=2015/4c3df4b31b1b4fa984302c7baf7eecb4-0.parquet, 1673313279975128>\n",
            "<Blob: bc26-datasets-comex, combustivel-tratado/volume_preco_combustiveis_mensal_2013_2022/ano=2016/4c3df4b31b1b4fa984302c7baf7eecb4-0.parquet, 1673313279988863>\n",
            "<Blob: bc26-datasets-comex, combustivel-tratado/volume_preco_combustiveis_mensal_2013_2022/ano=2017/4c3df4b31b1b4fa984302c7baf7eecb4-0.parquet, 1673313280138363>\n",
            "<Blob: bc26-datasets-comex, combustivel-tratado/volume_preco_combustiveis_mensal_2013_2022/ano=2018/4c3df4b31b1b4fa984302c7baf7eecb4-0.parquet, 1673313279945558>\n",
            "<Blob: bc26-datasets-comex, combustivel-tratado/volume_preco_combustiveis_mensal_2013_2022/ano=2019/4c3df4b31b1b4fa984302c7baf7eecb4-0.parquet, 1673313281256112>\n",
            "<Blob: bc26-datasets-comex, combustivel-tratado/volume_preco_combustiveis_mensal_2013_2022/ano=2020/4c3df4b31b1b4fa984302c7baf7eecb4-0.parquet, 1673313280958201>\n",
            "<Blob: bc26-datasets-comex, combustivel-tratado/volume_preco_combustiveis_mensal_2013_2022/ano=2021/4c3df4b31b1b4fa984302c7baf7eecb4-0.parquet, 1673313280746922>\n",
            "<Blob: bc26-datasets-comex, combustivel-tratado/volume_preco_combustiveis_mensal_2013_2022/ano=2022/4c3df4b31b1b4fa984302c7baf7eecb4-0.parquet, 1673313280798392>\n",
            "<Blob: bc26-datasets-comex, combustível_semanal_xlsx/, 1672838532372477>\n",
            "<Blob: bc26-datasets-comex, combustível_semanal_xlsx/semanal-municipios-2013-a-2017.xlsx, 1672838691285908>\n",
            "<Blob: bc26-datasets-comex, combustível_semanal_xlsx/semanal-municipios-2018-a-2021.xlsx, 1672838702397245>\n",
            "<Blob: bc26-datasets-comex, combustível_semanal_xlsx/semanal-municipios-2022.xlsx, 1672838674609586>\n",
            "<Blob: bc26-datasets-comex, comex-documentos/, 1672835841272297>\n",
            "<Blob: bc26-datasets-comex, comex-documentos/Documentação.pdf, 1672926633916937>\n",
            "<Blob: bc26-datasets-comex, comex-documentos/Nota_ISIC-CUCI.pdf, 1672926579746674>\n",
            "<Blob: bc26-datasets-comex, comex-documentos/metadados-vendas-combustiveis-por-segmento.pdf, 1673018560895698>\n",
            "<Blob: bc26-datasets-comex, comex-documentos/metadados-vendas-glp-por-tipo-vasilhame.pdf, 1673018560919768>\n",
            "<Blob: bc26-datasets-comex, comex-documentos/metadados-vendas-oleo-diesel-por-tipo.pdf, 1673018561025845>\n",
            "<Blob: bc26-datasets-comex, comex-original-link/municipio-2013-2015, 1672782728166376>\n",
            "<Blob: bc26-datasets-comex, comex-original-link/municipio-2016-2018, 1672782795743978>\n",
            "<Blob: bc26-datasets-comex, comex-original-link/municipio-2019-2021, 1672782900750368>\n",
            "<Blob: bc26-datasets-comex, comex-original-link/municipio-apartir-2022, 1672857750860613>\n",
            "<Blob: bc26-datasets-comex, comex-original-link/semana-municipio-2013-2015, 1672837378375496>\n",
            "<Blob: bc26-datasets-comex, comex-original-link/vendas-combustiveis-segmento-m3-2012-2022, 1673015505969780>\n",
            "<Blob: bc26-datasets-comex, comex-original-link/vendas-glp-tipo-vasilhame-m3-2007-2022, 1673018095106221>\n",
            "<Blob: bc26-datasets-comex, comex-original-link/vendas-oleo-diesel-tipo-m3-2013-2022, 1673018101772451>\n",
            "<Blob: bc26-datasets-comex, comex-original-parquet/, 1672835693717820>\n",
            "<Blob: bc26-datasets-comex, comex-original-parquet/EXP_COMPLETA_(MUN).parquet/CO_ANO=2012/d71a5ceb87f34c83b90a47d9c1de348b-0.parquet, 1672946586857675>\n",
            "<Blob: bc26-datasets-comex, comex-original-parquet/EXP_COMPLETA_(MUN).parquet/CO_ANO=2013/d71a5ceb87f34c83b90a47d9c1de348b-0.parquet, 1672946586962852>\n",
            "<Blob: bc26-datasets-comex, comex-original-parquet/EXP_COMPLETA_(MUN).parquet/CO_ANO=2014/d71a5ceb87f34c83b90a47d9c1de348b-0.parquet, 1672946587037630>\n",
            "<Blob: bc26-datasets-comex, comex-original-parquet/EXP_COMPLETA_(MUN).parquet/CO_ANO=2015/d71a5ceb87f34c83b90a47d9c1de348b-0.parquet, 1672946588502826>\n",
            "<Blob: bc26-datasets-comex, comex-original-parquet/EXP_COMPLETA_(MUN).parquet/CO_ANO=2016/d71a5ceb87f34c83b90a47d9c1de348b-0.parquet, 1672946587004282>\n",
            "<Blob: bc26-datasets-comex, comex-original-parquet/EXP_COMPLETA_(MUN).parquet/CO_ANO=2017/d71a5ceb87f34c83b90a47d9c1de348b-0.parquet, 1672946588775902>\n",
            "<Blob: bc26-datasets-comex, comex-original-parquet/EXP_COMPLETA_(MUN).parquet/CO_ANO=2018/d71a5ceb87f34c83b90a47d9c1de348b-0.parquet, 1672946589082280>\n",
            "<Blob: bc26-datasets-comex, comex-original-parquet/EXP_COMPLETA_(MUN).parquet/CO_ANO=2019/d71a5ceb87f34c83b90a47d9c1de348b-0.parquet, 1672946590345893>\n",
            "<Blob: bc26-datasets-comex, comex-original-parquet/EXP_COMPLETA_(MUN).parquet/CO_ANO=2020/d71a5ceb87f34c83b90a47d9c1de348b-0.parquet, 1672946588313001>\n",
            "<Blob: bc26-datasets-comex, comex-original-parquet/EXP_COMPLETA_(MUN).parquet/CO_ANO=2021/d71a5ceb87f34c83b90a47d9c1de348b-0.parquet, 1672946589857066>\n",
            "<Blob: bc26-datasets-comex, comex-original-parquet/EXP_COMPLETA_(MUN).parquet/CO_ANO=2022/d71a5ceb87f34c83b90a47d9c1de348b-0.parquet, 1672946589787470>\n",
            "<Blob: bc26-datasets-comex, comex-original-parquet/EXP_COMPLETA_(NCM).parquet/CO_ANO=2012/790fe60578384d0b9ce0690ab8cebc28-0.parquet, 1672866196262750>\n",
            "<Blob: bc26-datasets-comex, comex-original-parquet/EXP_COMPLETA_(NCM).parquet/CO_ANO=2013/790fe60578384d0b9ce0690ab8cebc28-0.parquet, 1672866196351617>\n",
            "<Blob: bc26-datasets-comex, comex-original-parquet/EXP_COMPLETA_(NCM).parquet/CO_ANO=2014/790fe60578384d0b9ce0690ab8cebc28-0.parquet, 1672866197183236>\n",
            "<Blob: bc26-datasets-comex, comex-original-parquet/EXP_COMPLETA_(NCM).parquet/CO_ANO=2015/790fe60578384d0b9ce0690ab8cebc28-0.parquet, 1672866197350616>\n",
            "<Blob: bc26-datasets-comex, comex-original-parquet/EXP_COMPLETA_(NCM).parquet/CO_ANO=2016/790fe60578384d0b9ce0690ab8cebc28-0.parquet, 1672866197745348>\n",
            "<Blob: bc26-datasets-comex, comex-original-parquet/EXP_COMPLETA_(NCM).parquet/CO_ANO=2017/790fe60578384d0b9ce0690ab8cebc28-0.parquet, 1672866199769088>\n",
            "<Blob: bc26-datasets-comex, comex-original-parquet/EXP_COMPLETA_(NCM).parquet/CO_ANO=2018/790fe60578384d0b9ce0690ab8cebc28-0.parquet, 1672866198787536>\n",
            "<Blob: bc26-datasets-comex, comex-original-parquet/EXP_COMPLETA_(NCM).parquet/CO_ANO=2019/790fe60578384d0b9ce0690ab8cebc28-0.parquet, 1672866200733628>\n",
            "<Blob: bc26-datasets-comex, comex-original-parquet/EXP_COMPLETA_(NCM).parquet/CO_ANO=2020/790fe60578384d0b9ce0690ab8cebc28-0.parquet, 1672866199135315>\n",
            "<Blob: bc26-datasets-comex, comex-original-parquet/EXP_COMPLETA_(NCM).parquet/CO_ANO=2021/790fe60578384d0b9ce0690ab8cebc28-0.parquet, 1672866202709168>\n",
            "<Blob: bc26-datasets-comex, comex-original-parquet/EXP_COMPLETA_(NCM).parquet/CO_ANO=2022/790fe60578384d0b9ce0690ab8cebc28-0.parquet, 1672866201168624>\n",
            "<Blob: bc26-datasets-comex, comex-tratado/, 1672835747823481>\n",
            "<Blob: bc26-datasets-comex, comex-tratado/EXP_2012_2022_tratado(MUN), 1673290383699741>\n",
            "<Blob: bc26-datasets-comex, comex-tratado/EXP_2012_2022_tratado(NCM), 1673284277986044>\n",
            "<Blob: bc26-datasets-comex, comex-tratado/EXP_2013-2022_tratado(MUN).csv, 1673376269689165>\n",
            "<Blob: bc26-datasets-comex, comex-tratado/EXP_2013-2022_tratado(MUN).parquet/ano=2013/ddbceae1c86742faa01fee6ef4ccff75-0.parquet, 1673374311969200>\n",
            "<Blob: bc26-datasets-comex, comex-tratado/EXP_2013-2022_tratado(MUN).parquet/ano=2014/ddbceae1c86742faa01fee6ef4ccff75-0.parquet, 1673374312196235>\n",
            "<Blob: bc26-datasets-comex, comex-tratado/EXP_2013-2022_tratado(MUN).parquet/ano=2015/ddbceae1c86742faa01fee6ef4ccff75-0.parquet, 1673374312494339>\n",
            "<Blob: bc26-datasets-comex, comex-tratado/EXP_2013-2022_tratado(MUN).parquet/ano=2016/ddbceae1c86742faa01fee6ef4ccff75-0.parquet, 1673374312063861>\n",
            "<Blob: bc26-datasets-comex, comex-tratado/EXP_2013-2022_tratado(MUN).parquet/ano=2017/ddbceae1c86742faa01fee6ef4ccff75-0.parquet, 1673374312368739>\n",
            "<Blob: bc26-datasets-comex, comex-tratado/EXP_2013-2022_tratado(MUN).parquet/ano=2018/ddbceae1c86742faa01fee6ef4ccff75-0.parquet, 1673374315277776>\n",
            "<Blob: bc26-datasets-comex, comex-tratado/EXP_2013-2022_tratado(MUN).parquet/ano=2019/ddbceae1c86742faa01fee6ef4ccff75-0.parquet, 1673374315564242>\n",
            "<Blob: bc26-datasets-comex, comex-tratado/EXP_2013-2022_tratado(MUN).parquet/ano=2020/ddbceae1c86742faa01fee6ef4ccff75-0.parquet, 1673374316399043>\n",
            "<Blob: bc26-datasets-comex, comex-tratado/EXP_2013-2022_tratado(MUN).parquet/ano=2021/ddbceae1c86742faa01fee6ef4ccff75-0.parquet, 1673374313949015>\n",
            "<Blob: bc26-datasets-comex, comex-tratado/EXP_2013-2022_tratado(MUN).parquet/ano=2022/ddbceae1c86742faa01fee6ef4ccff75-0.parquet, 1673374316223188>\n",
            "<Blob: bc26-datasets-comex, comex-tratado/EXP_2013-2022_tratado(NCM).csv, 1673369785472861>\n",
            "<Blob: bc26-datasets-comex, comex-tratado/EXP_2013-2022_tratado(NCM).parquet/ano=2013/d9ec3e6f3a7247fd97da5649ca6863dc-0.parquet, 1673369693768505>\n",
            "<Blob: bc26-datasets-comex, comex-tratado/EXP_2013-2022_tratado(NCM).parquet/ano=2014/d9ec3e6f3a7247fd97da5649ca6863dc-0.parquet, 1673369695946639>\n",
            "<Blob: bc26-datasets-comex, comex-tratado/EXP_2013-2022_tratado(NCM).parquet/ano=2015/d9ec3e6f3a7247fd97da5649ca6863dc-0.parquet, 1673369697776148>\n",
            "<Blob: bc26-datasets-comex, comex-tratado/EXP_2013-2022_tratado(NCM).parquet/ano=2016/d9ec3e6f3a7247fd97da5649ca6863dc-0.parquet, 1673369697816963>\n",
            "<Blob: bc26-datasets-comex, comex-tratado/EXP_2013-2022_tratado(NCM).parquet/ano=2017/d9ec3e6f3a7247fd97da5649ca6863dc-0.parquet, 1673369694136654>\n",
            "<Blob: bc26-datasets-comex, comex-tratado/EXP_2013-2022_tratado(NCM).parquet/ano=2018/d9ec3e6f3a7247fd97da5649ca6863dc-0.parquet, 1673369695901234>\n",
            "<Blob: bc26-datasets-comex, comex-tratado/EXP_2013-2022_tratado(NCM).parquet/ano=2019/d9ec3e6f3a7247fd97da5649ca6863dc-0.parquet, 1673369694853642>\n",
            "<Blob: bc26-datasets-comex, comex-tratado/EXP_2013-2022_tratado(NCM).parquet/ano=2020/d9ec3e6f3a7247fd97da5649ca6863dc-0.parquet, 1673369696752591>\n",
            "<Blob: bc26-datasets-comex, comex-tratado/EXP_2013-2022_tratado(NCM).parquet/ano=2021/d9ec3e6f3a7247fd97da5649ca6863dc-0.parquet, 1673369699014671>\n",
            "<Blob: bc26-datasets-comex, comex-tratado/EXP_2013-2022_tratado(NCM).parquet/ano=2022/d9ec3e6f3a7247fd97da5649ca6863dc-0.parquet, 1673369694459128>\n",
            "<Blob: bc26-datasets-comex, comex-tratado/IMP_2012-2022_tratada (MUN).parquet/ano=2012/c0304dea92954e2f85332811c2604229-0.parquet, 1672943688699836>\n",
            "<Blob: bc26-datasets-comex, comex-tratado/IMP_2012-2022_tratada (MUN).parquet/ano=2013/c0304dea92954e2f85332811c2604229-0.parquet, 1672943688468955>\n",
            "<Blob: bc26-datasets-comex, comex-tratado/IMP_2012-2022_tratada (MUN).parquet/ano=2014/c0304dea92954e2f85332811c2604229-0.parquet, 1672943689617425>\n",
            "<Blob: bc26-datasets-comex, comex-tratado/IMP_2012-2022_tratada (MUN).parquet/ano=2015/c0304dea92954e2f85332811c2604229-0.parquet, 1672943692946030>\n",
            "<Blob: bc26-datasets-comex, comex-tratado/IMP_2012-2022_tratada (MUN).parquet/ano=2016/c0304dea92954e2f85332811c2604229-0.parquet, 1672943692662537>\n",
            "<Blob: bc26-datasets-comex, comex-tratado/IMP_2012-2022_tratada (MUN).parquet/ano=2017/c0304dea92954e2f85332811c2604229-0.parquet, 1672943692705604>\n",
            "<Blob: bc26-datasets-comex, comex-tratado/IMP_2012-2022_tratada (MUN).parquet/ano=2018/c0304dea92954e2f85332811c2604229-0.parquet, 1672943690855671>\n",
            "<Blob: bc26-datasets-comex, comex-tratado/IMP_2012-2022_tratada (MUN).parquet/ano=2019/c0304dea92954e2f85332811c2604229-0.parquet, 1672943691913577>\n",
            "<Blob: bc26-datasets-comex, comex-tratado/IMP_2012-2022_tratada (MUN).parquet/ano=2020/c0304dea92954e2f85332811c2604229-0.parquet, 1672943691808330>\n",
            "<Blob: bc26-datasets-comex, comex-tratado/IMP_2012-2022_tratada (MUN).parquet/ano=2021/c0304dea92954e2f85332811c2604229-0.parquet, 1672943690191262>\n",
            "<Blob: bc26-datasets-comex, comex-tratado/IMP_2012-2022_tratada (MUN).parquet/ano=2022/c0304dea92954e2f85332811c2604229-0.parquet, 1672943691204858>\n",
            "<Blob: bc26-datasets-comex, comex-tratado/IMP_2012-2022_tratada (NCM).parquet/ano=2012/705944df5e5c420cabda1d5d778d50d3-0.parquet, 1672945166518184>\n",
            "<Blob: bc26-datasets-comex, comex-tratado/IMP_2012-2022_tratada (NCM).parquet/ano=2013/705944df5e5c420cabda1d5d778d50d3-0.parquet, 1672945166688452>\n",
            "<Blob: bc26-datasets-comex, comex-tratado/IMP_2012-2022_tratada (NCM).parquet/ano=2014/705944df5e5c420cabda1d5d778d50d3-0.parquet, 1672945167404289>\n",
            "<Blob: bc26-datasets-comex, comex-tratado/IMP_2012-2022_tratada (NCM).parquet/ano=2015/705944df5e5c420cabda1d5d778d50d3-0.parquet, 1672945168490318>\n",
            "<Blob: bc26-datasets-comex, comex-tratado/IMP_2012-2022_tratada (NCM).parquet/ano=2016/705944df5e5c420cabda1d5d778d50d3-0.parquet, 1672945168266877>\n",
            "<Blob: bc26-datasets-comex, comex-tratado/IMP_2012-2022_tratada (NCM).parquet/ano=2017/705944df5e5c420cabda1d5d778d50d3-0.parquet, 1672945164214976>\n",
            "<Blob: bc26-datasets-comex, comex-tratado/IMP_2012-2022_tratada (NCM).parquet/ano=2018/705944df5e5c420cabda1d5d778d50d3-0.parquet, 1672945165636545>\n",
            "<Blob: bc26-datasets-comex, comex-tratado/IMP_2012-2022_tratada (NCM).parquet/ano=2019/705944df5e5c420cabda1d5d778d50d3-0.parquet, 1672945168296694>\n",
            "<Blob: bc26-datasets-comex, comex-tratado/IMP_2012-2022_tratada (NCM).parquet/ano=2020/705944df5e5c420cabda1d5d778d50d3-0.parquet, 1672945168749829>\n",
            "<Blob: bc26-datasets-comex, comex-tratado/IMP_2012-2022_tratada (NCM).parquet/ano=2021/705944df5e5c420cabda1d5d778d50d3-0.parquet, 1672945164612715>\n",
            "<Blob: bc26-datasets-comex, comex-tratado/IMP_2012-2022_tratada (NCM).parquet/ano=2022/705944df5e5c420cabda1d5d778d50d3-0.parquet, 1672945167788163>\n",
            "<Blob: bc26-datasets-comex, comex-tratado/bloco-economico, 1673230504710359>\n",
            "<Blob: bc26-datasets-comex, comex-tratado/bloco-geografico, 1673230596775295>\n",
            "<Blob: bc26-datasets-comex, comex-tratado/imp-exp-classificacoes, 1672943726574166>\n",
            "<Blob: bc26-datasets-comex, comex-tratado/nome-pais, 1673358400517518>\n",
            "<Blob: bc26-datasets-comex, descriçoes- exportaçao/, 1672864823437170>\n",
            "<Blob: bc26-datasets-comex, descriçoes- exportaçao/NCM_SH4.csv, 1673195333736875>\n",
            "<Blob: bc26-datasets-comex, descriçoes- exportaçao/NCM_mercadorias.csv, 1672880090165775>\n",
            "<Blob: bc26-datasets-comex, descriçoes- exportaçao/PAIS_BLOCO.csv, 1672880089938247>\n",
            "<Blob: bc26-datasets-comex, descriçoes- exportaçao/UF_MUN.csv, 1673195345414913>\n",
            "<Blob: bc26-datasets-comex, descriçoes- exportaçao/URF.csv, 1672880089972886>\n",
            "<Blob: bc26-datasets-comex, google-cloud-dataproc-metainfo/30c7e7ec-27de-45a2-bba3-44b661bed7da/bc26-projeto-final-cluster-m/dataproc-post-hdfs-startup-script_component-stats, 1672938803939019>\n",
            "<Blob: bc26-datasets-comex, google-cloud-dataproc-metainfo/30c7e7ec-27de-45a2-bba3-44b661bed7da/bc26-projeto-final-cluster-m/dataproc-post-hdfs-startup-script_output, 1672938804333319>\n",
            "<Blob: bc26-datasets-comex, google-cloud-dataproc-metainfo/30c7e7ec-27de-45a2-bba3-44b661bed7da/bc26-projeto-final-cluster-m/dataproc-startup-script_component-stats, 1672938793063005>\n",
            "<Blob: bc26-datasets-comex, google-cloud-dataproc-metainfo/30c7e7ec-27de-45a2-bba3-44b661bed7da/bc26-projeto-final-cluster-m/dataproc-startup-script_output, 1672938794045633>\n",
            "<Blob: bc26-datasets-comex, google-cloud-dataproc-metainfo/30c7e7ec-27de-45a2-bba3-44b661bed7da/cluster.properties, 1672938718241938>\n",
            "<Blob: bc26-datasets-comex, google-cloud-dataproc-metainfo/36b7ab01-f9cb-40ac-83fc-3ae6d30096cc/bc26-projeto-final-cluster-m/dataproc-post-hdfs-startup-script_component-stats, 1672929722770014>\n",
            "<Blob: bc26-datasets-comex, google-cloud-dataproc-metainfo/36b7ab01-f9cb-40ac-83fc-3ae6d30096cc/bc26-projeto-final-cluster-m/dataproc-post-hdfs-startup-script_output, 1672929723171497>\n",
            "<Blob: bc26-datasets-comex, google-cloud-dataproc-metainfo/36b7ab01-f9cb-40ac-83fc-3ae6d30096cc/bc26-projeto-final-cluster-m/dataproc-startup-script_component-stats, 1672929702003327>\n",
            "<Blob: bc26-datasets-comex, google-cloud-dataproc-metainfo/36b7ab01-f9cb-40ac-83fc-3ae6d30096cc/bc26-projeto-final-cluster-m/dataproc-startup-script_output, 1672929703007155>\n",
            "<Blob: bc26-datasets-comex, google-cloud-dataproc-metainfo/36b7ab01-f9cb-40ac-83fc-3ae6d30096cc/cluster.properties, 1672929548247988>\n",
            "<Blob: bc26-datasets-comex, google-cloud-dataproc-metainfo/847a6949-5467-4f4e-b89b-70ddfe42948f/bc26-projeto-final-cluster-m/dataproc-post-hdfs-startup-script_component-stats, 1672935740428377>\n",
            "<Blob: bc26-datasets-comex, google-cloud-dataproc-metainfo/847a6949-5467-4f4e-b89b-70ddfe42948f/bc26-projeto-final-cluster-m/dataproc-post-hdfs-startup-script_output, 1672935740797556>\n",
            "<Blob: bc26-datasets-comex, google-cloud-dataproc-metainfo/847a6949-5467-4f4e-b89b-70ddfe42948f/bc26-projeto-final-cluster-m/dataproc-startup-script_component-stats, 1672935728329456>\n",
            "<Blob: bc26-datasets-comex, google-cloud-dataproc-metainfo/847a6949-5467-4f4e-b89b-70ddfe42948f/bc26-projeto-final-cluster-m/dataproc-startup-script_output, 1672935729327170>\n",
            "<Blob: bc26-datasets-comex, google-cloud-dataproc-metainfo/847a6949-5467-4f4e-b89b-70ddfe42948f/cluster.properties, 1672935641438882>\n",
            "<Blob: bc26-datasets-comex, google-cloud-dataproc-metainfo/a33da18b-107a-41fd-850d-25ed297fe4e8/cluster.properties, 1672929307728656>\n",
            "<Blob: bc26-datasets-comex, google-cloud-dataproc-metainfo/be001e34-33ff-494f-998e-40c9ef1c56bb/bc26-projeto-final-cluster-m/dataproc-post-hdfs-startup-script_component-stats, 1672931991042885>\n",
            "<Blob: bc26-datasets-comex, google-cloud-dataproc-metainfo/be001e34-33ff-494f-998e-40c9ef1c56bb/bc26-projeto-final-cluster-m/dataproc-post-hdfs-startup-script_output, 1672931991408140>\n",
            "<Blob: bc26-datasets-comex, google-cloud-dataproc-metainfo/be001e34-33ff-494f-998e-40c9ef1c56bb/bc26-projeto-final-cluster-m/dataproc-startup-script_component-stats, 1672931974666292>\n",
            "<Blob: bc26-datasets-comex, google-cloud-dataproc-metainfo/be001e34-33ff-494f-998e-40c9ef1c56bb/bc26-projeto-final-cluster-m/dataproc-startup-script_output, 1672931975662116>\n",
            "<Blob: bc26-datasets-comex, google-cloud-dataproc-metainfo/be001e34-33ff-494f-998e-40c9ef1c56bb/cluster.properties, 1672931882677245>\n",
            "<Blob: bc26-datasets-comex, google-cloud-dataproc-metainfo/ee972466-7191-4446-a668-b44009330803/bc26-projeto-final-cluster-m/dataproc-post-hdfs-startup-script_component-stats, 1672949086279165>\n",
            "<Blob: bc26-datasets-comex, google-cloud-dataproc-metainfo/ee972466-7191-4446-a668-b44009330803/bc26-projeto-final-cluster-m/dataproc-post-hdfs-startup-script_output, 1672949086746661>\n",
            "<Blob: bc26-datasets-comex, google-cloud-dataproc-metainfo/ee972466-7191-4446-a668-b44009330803/bc26-projeto-final-cluster-m/dataproc-startup-script_component-stats, 1672949075650630>\n",
            "<Blob: bc26-datasets-comex, google-cloud-dataproc-metainfo/ee972466-7191-4446-a668-b44009330803/bc26-projeto-final-cluster-m/dataproc-startup-script_output, 1672949076687611>\n",
            "<Blob: bc26-datasets-comex, google-cloud-dataproc-metainfo/ee972466-7191-4446-a668-b44009330803/cluster.properties, 1672949002625013>\n",
            "<Blob: bc26-datasets-comex, importacao e exportacao CO NCM.csv, 1672835737223145>\n",
            "<Blob: bc26-datasets-comex, importacao e exportacao PAIS_BLOCO.csv, 1672835494962481>\n",
            "<Blob: bc26-datasets-comex, importacao exportacao URF.csv, 1672835553778301>\n",
            "<Blob: bc26-datasets-comex, notebooks/AnaFla/, 1673294459611540>\n",
            "<Blob: bc26-datasets-comex, notebooks/AnaFla/link colab ana.txt, 1673294631637964>\n",
            "<Blob: bc26-datasets-comex, notebooks/Ariana/ColabAriana.txt, 1673475068135467>\n",
            "<Blob: bc26-datasets-comex, notebooks/Ariana/cluster_dataproc.png, 1673052102147488>\n",
            "<Blob: bc26-datasets-comex, notebooks/Ariana/count_tabela_exportacao_mun.png, 1673052102141535>\n",
            "<Blob: bc26-datasets-comex, notebooks/Ariana/count_tabela_exportacao_ncm.png, 1673052102621263>\n",
            "<Blob: bc26-datasets-comex, notebooks/Ariana/count_tabela_importacao.png, 1673052102663172>\n",
            "<Blob: bc26-datasets-comex, notebooks/Ariana/count_tabela_importacao_ncm.png, 1673052102657179>\n",
            "<Blob: bc26-datasets-comex, notebooks/Ariana/execucao_DataProc.png, 1673052103114234>\n",
            "<Blob: bc26-datasets-comex, notebooks/Ariana/show_databases.png, 1673052103162659>\n",
            "<Blob: bc26-datasets-comex, notebooks/Ariana/tabela_exportacao_municipio.png, 1673052103631232>\n",
            "<Blob: bc26-datasets-comex, notebooks/Ariana/tabela_exportacao_ncm.png, 1673052103768338>\n",
            "<Blob: bc26-datasets-comex, notebooks/Ariana/tabela_importacao_municipio.png, 1673052104039369>\n",
            "<Blob: bc26-datasets-comex, notebooks/Ariana/tabela_importacao_ncm.png, 1673052104119336>\n",
            "<Blob: bc26-datasets-comex, notebooks/Ariana/tabelas_criadas.png, 1673052103320117>\n",
            "<Blob: bc26-datasets-comex, notebooks/Ariana/tabelas_criadas_exportacao.png, 1673052103574140>\n",
            "<Blob: bc26-datasets-comex, notebooks/Levantamento preço dos combustíveis 2013-2022.txt, 1673024407655453>\n",
            "<Blob: bc26-datasets-comex, notebooks/jose/, 1673271559303415>\n",
            "<Blob: bc26-datasets-comex, notebooks/jose/link colab jose.txt, 1673271599720436>\n",
            "<Blob: bc26-datasets-comex, notebooks/jupyter/, 1672929618391369>\n",
            "<Blob: bc26-datasets-comex, notebooks/jupyter/DataProcToMySQL_Exportacao.ipynb, 1672951866949620>\n",
            "<Blob: bc26-datasets-comex, notebooks/jupyter/DataProcToMySQL_Expotacao.ipynb, 1672951807654362>\n",
            "<Blob: bc26-datasets-comex, notebooks/Érika/, 1673292601534140>\n",
            "<Blob: bc26-datasets-comex, notebooks/Érika/colab - exportação.txt, 1673292821176541>\n",
            "<Blob: bc26-datasets-comex, preco-combustiveis-2013-2022, 1672855731575387>\n",
            "<Blob: bc26-datasets-comex, preco-combustiveis-2013-2022-TRATAMENTO-OK, 1672948531982295>\n",
            "<Blob: bc26-datasets-comex, semanal-municipios-2013-a-2017.xlsb, 1672834916095547>\n",
            "<Blob: bc26-datasets-comex, semanal-municipios-2018-a-2021.xlsb, 1672835131543197>\n",
            "<Blob: bc26-datasets-comex, semanal-municipios-2022.xlsx, 1672835228144599>\n"
          ]
        }
      ]
    },
    {
      "cell_type": "markdown",
      "source": [
        "#Acesso a bucket do cliente EPOC"
      ],
      "metadata": {
        "id": "coMf_2Fnmpt7"
      }
    },
    {
      "cell_type": "code",
      "source": [
        "#acessar a bucket do cliente\n",
        "bucket_epoc = client.get_bucket('coexp-epoc')"
      ],
      "metadata": {
        "id": "ZIAnWe_dvR1k"
      },
      "execution_count": null,
      "outputs": []
    },
    {
      "cell_type": "code",
      "source": [
        "#listar o conteudo da bucket do epoc\n",
        "\n",
        "#criar varível para receber a informação\n",
        "conteudo_bucket = bucket_epoc.list_blobs()\n",
        "\n",
        "#as função list_blobs cria um iterado de http\n",
        "print(conteudo_bucket)\n"
      ],
      "metadata": {
        "colab": {
          "base_uri": "https://localhost:8080/"
        },
        "id": "kqIEA5C2veBi",
        "outputId": "60552f2e-1b03-43e1-890d-dc1e5523adb8"
      },
      "execution_count": null,
      "outputs": [
        {
          "output_type": "stream",
          "name": "stdout",
          "text": [
            "<google.api_core.page_iterator.HTTPIterator object at 0x7efed92c98e0>\n"
          ]
        }
      ]
    },
    {
      "cell_type": "code",
      "source": [
        "#para ver os 'blobs'/objetos na buscket, faça uma iteração\n",
        "for blob in conteudo_bucket:\n",
        "  print(blob)"
      ],
      "metadata": {
        "id": "c_eXFeRcwspL",
        "colab": {
          "base_uri": "https://localhost:8080/"
        },
        "outputId": "3e78b48d-dcfb-44c1-ebb9-a323af2a5e46"
      },
      "execution_count": null,
      "outputs": [
        {
          "output_type": "stream",
          "name": "stdout",
          "text": [
            "<Blob: coexp-epoc, normalizada/classificacao_produtos, 1673891480520917>\n",
            "<Blob: coexp-epoc, normalizada/combustivel_preco/produto=ETANOL HIDRATADO/2348148f42fa48c99a1cf494178b7b3d-0.parquet, 1673893828582527>\n",
            "<Blob: coexp-epoc, normalizada/combustivel_preco/produto=GASOLINA ADITIVADA/2348148f42fa48c99a1cf494178b7b3d-0.parquet, 1673893828166838>\n",
            "<Blob: coexp-epoc, normalizada/combustivel_preco/produto=GASOLINA COMUM/2348148f42fa48c99a1cf494178b7b3d-0.parquet, 1673893828605356>\n",
            "<Blob: coexp-epoc, normalizada/combustivel_preco/produto=GLP/2348148f42fa48c99a1cf494178b7b3d-0.parquet, 1673893828699833>\n",
            "<Blob: coexp-epoc, normalizada/combustivel_preco/produto=GNV/2348148f42fa48c99a1cf494178b7b3d-0.parquet, 1673893828274424>\n",
            "<Blob: coexp-epoc, normalizada/combustivel_preco/produto=OLEO DIESEL S10/2348148f42fa48c99a1cf494178b7b3d-0.parquet, 1673893828595815>\n",
            "<Blob: coexp-epoc, normalizada/combustivel_preco/produto=OLEO DIESEL/2348148f42fa48c99a1cf494178b7b3d-0.parquet, 1673893828690950>\n",
            "<Blob: coexp-epoc, normalizada/combustivel_quantidade/produto=ETANOL HIDRATADO/cc3b4669ebf9474ea8d56b2c52452869-0.parquet, 1673894321421354>\n",
            "<Blob: coexp-epoc, normalizada/combustivel_quantidade/produto=GASOLINA COMUM/cc3b4669ebf9474ea8d56b2c52452869-0.parquet, 1673894321414178>\n",
            "<Blob: coexp-epoc, normalizada/combustivel_quantidade/produto=GLP/cc3b4669ebf9474ea8d56b2c52452869-0.parquet, 1673894321388209>\n",
            "<Blob: coexp-epoc, normalizada/combustivel_quantidade/produto=OLEO DIESEL S10/cc3b4669ebf9474ea8d56b2c52452869-0.parquet, 1673894321419076>\n",
            "<Blob: coexp-epoc, normalizada/combustivel_quantidade/produto=OLEO DIESEL/cc3b4669ebf9474ea8d56b2c52452869-0.parquet, 1673894321444465>\n",
            "<Blob: coexp-epoc, normalizada/exportacao_municipio/ano=2013/fd2f211839a04f3ea27c1dd446c30e21-0.parquet, 1673892780704937>\n",
            "<Blob: coexp-epoc, normalizada/exportacao_municipio/ano=2014/fd2f211839a04f3ea27c1dd446c30e21-0.parquet, 1673892780604538>\n",
            "<Blob: coexp-epoc, normalizada/exportacao_municipio/ano=2015/fd2f211839a04f3ea27c1dd446c30e21-0.parquet, 1673892780844792>\n",
            "<Blob: coexp-epoc, normalizada/exportacao_municipio/ano=2016/fd2f211839a04f3ea27c1dd446c30e21-0.parquet, 1673892781224351>\n",
            "<Blob: coexp-epoc, normalizada/exportacao_municipio/ano=2017/fd2f211839a04f3ea27c1dd446c30e21-0.parquet, 1673892781453538>\n",
            "<Blob: coexp-epoc, normalizada/exportacao_municipio/ano=2018/fd2f211839a04f3ea27c1dd446c30e21-0.parquet, 1673892781603529>\n",
            "<Blob: coexp-epoc, normalizada/exportacao_municipio/ano=2019/fd2f211839a04f3ea27c1dd446c30e21-0.parquet, 1673892781893570>\n",
            "<Blob: coexp-epoc, normalizada/exportacao_municipio/ano=2020/fd2f211839a04f3ea27c1dd446c30e21-0.parquet, 1673892781895571>\n",
            "<Blob: coexp-epoc, normalizada/exportacao_municipio/ano=2021/fd2f211839a04f3ea27c1dd446c30e21-0.parquet, 1673892782171212>\n",
            "<Blob: coexp-epoc, normalizada/exportacao_municipio/ano=2022/fd2f211839a04f3ea27c1dd446c30e21-0.parquet, 1673892782171079>\n",
            "<Blob: coexp-epoc, normalizada/exportacao_produto/ano=2013/199f6f3ea6db4f90b0e7482dbc4d6270-0.parquet, 1673892990843288>\n",
            "<Blob: coexp-epoc, normalizada/exportacao_produto/ano=2014/199f6f3ea6db4f90b0e7482dbc4d6270-0.parquet, 1673892991199263>\n",
            "<Blob: coexp-epoc, normalizada/exportacao_produto/ano=2015/199f6f3ea6db4f90b0e7482dbc4d6270-0.parquet, 1673892991724070>\n",
            "<Blob: coexp-epoc, normalizada/exportacao_produto/ano=2016/199f6f3ea6db4f90b0e7482dbc4d6270-0.parquet, 1673892992151554>\n",
            "<Blob: coexp-epoc, normalizada/exportacao_produto/ano=2017/199f6f3ea6db4f90b0e7482dbc4d6270-0.parquet, 1673892992583549>\n",
            "<Blob: coexp-epoc, normalizada/exportacao_produto/ano=2018/199f6f3ea6db4f90b0e7482dbc4d6270-0.parquet, 1673892993080693>\n",
            "<Blob: coexp-epoc, normalizada/exportacao_produto/ano=2019/199f6f3ea6db4f90b0e7482dbc4d6270-0.parquet, 1673892993815778>\n",
            "<Blob: coexp-epoc, normalizada/exportacao_produto/ano=2020/199f6f3ea6db4f90b0e7482dbc4d6270-0.parquet, 1673892993933596>\n",
            "<Blob: coexp-epoc, normalizada/exportacao_produto/ano=2021/199f6f3ea6db4f90b0e7482dbc4d6270-0.parquet, 1673892994271551>\n",
            "<Blob: coexp-epoc, normalizada/exportacao_produto/ano=2022/199f6f3ea6db4f90b0e7482dbc4d6270-0.parquet, 1673892994301112>\n",
            "<Blob: coexp-epoc, normalizada/importacao_municipio/ano=2012/be43f2afd1cb41bfb89e3b544cdad5de-0.parquet, 1673893424690378>\n",
            "<Blob: coexp-epoc, normalizada/importacao_municipio/ano=2013/be43f2afd1cb41bfb89e3b544cdad5de-0.parquet, 1673893424701772>\n",
            "<Blob: coexp-epoc, normalizada/importacao_municipio/ano=2014/be43f2afd1cb41bfb89e3b544cdad5de-0.parquet, 1673893424824192>\n",
            "<Blob: coexp-epoc, normalizada/importacao_municipio/ano=2015/be43f2afd1cb41bfb89e3b544cdad5de-0.parquet, 1673893425015143>\n",
            "<Blob: coexp-epoc, normalizada/importacao_municipio/ano=2016/be43f2afd1cb41bfb89e3b544cdad5de-0.parquet, 1673893425613430>\n",
            "<Blob: coexp-epoc, normalizada/importacao_municipio/ano=2017/be43f2afd1cb41bfb89e3b544cdad5de-0.parquet, 1673893426520604>\n",
            "<Blob: coexp-epoc, normalizada/importacao_municipio/ano=2018/be43f2afd1cb41bfb89e3b544cdad5de-0.parquet, 1673893426842301>\n",
            "<Blob: coexp-epoc, normalizada/importacao_municipio/ano=2019/be43f2afd1cb41bfb89e3b544cdad5de-0.parquet, 1673893427441013>\n",
            "<Blob: coexp-epoc, normalizada/importacao_municipio/ano=2020/be43f2afd1cb41bfb89e3b544cdad5de-0.parquet, 1673893427300809>\n",
            "<Blob: coexp-epoc, normalizada/importacao_municipio/ano=2021/be43f2afd1cb41bfb89e3b544cdad5de-0.parquet, 1673893428103450>\n",
            "<Blob: coexp-epoc, normalizada/importacao_municipio/ano=2022/be43f2afd1cb41bfb89e3b544cdad5de-0.parquet, 1673893428114484>\n",
            "<Blob: coexp-epoc, normalizada/importacao_produto/ano=2012/8d36057016c74fe2a6621207283f5b8f-0.parquet, 1673893658028615>\n",
            "<Blob: coexp-epoc, normalizada/importacao_produto/ano=2013/8d36057016c74fe2a6621207283f5b8f-0.parquet, 1673893658409562>\n",
            "<Blob: coexp-epoc, normalizada/importacao_produto/ano=2014/8d36057016c74fe2a6621207283f5b8f-0.parquet, 1673893659182233>\n",
            "<Blob: coexp-epoc, normalizada/importacao_produto/ano=2015/8d36057016c74fe2a6621207283f5b8f-0.parquet, 1673893659570148>\n",
            "<Blob: coexp-epoc, normalizada/importacao_produto/ano=2016/8d36057016c74fe2a6621207283f5b8f-0.parquet, 1673893660098748>\n",
            "<Blob: coexp-epoc, normalizada/importacao_produto/ano=2017/8d36057016c74fe2a6621207283f5b8f-0.parquet, 1673893660810134>\n",
            "<Blob: coexp-epoc, normalizada/importacao_produto/ano=2018/8d36057016c74fe2a6621207283f5b8f-0.parquet, 1673893661712698>\n",
            "<Blob: coexp-epoc, normalizada/importacao_produto/ano=2019/8d36057016c74fe2a6621207283f5b8f-0.parquet, 1673893662091492>\n",
            "<Blob: coexp-epoc, normalizada/importacao_produto/ano=2020/8d36057016c74fe2a6621207283f5b8f-0.parquet, 1673893662187941>\n",
            "<Blob: coexp-epoc, normalizada/importacao_produto/ano=2021/8d36057016c74fe2a6621207283f5b8f-0.parquet, 1673893662680762>\n",
            "<Blob: coexp-epoc, normalizada/importacao_produto/ano=2022/8d36057016c74fe2a6621207283f5b8f-0.parquet, 1673893662648353>\n",
            "<Blob: coexp-epoc, normalizada/nome_paises, 1673891306429795>\n",
            "<Blob: coexp-epoc, original/exportacao_municipio/CO_ANO=2012/45f4ab2ba86a420497ce5e0d6af02f5a-0.parquet, 1673895142877742>\n",
            "<Blob: coexp-epoc, original/exportacao_municipio/CO_ANO=2013/45f4ab2ba86a420497ce5e0d6af02f5a-0.parquet, 1673895143120083>\n",
            "<Blob: coexp-epoc, original/exportacao_municipio/CO_ANO=2014/45f4ab2ba86a420497ce5e0d6af02f5a-0.parquet, 1673895143170705>\n",
            "<Blob: coexp-epoc, original/exportacao_municipio/CO_ANO=2015/45f4ab2ba86a420497ce5e0d6af02f5a-0.parquet, 1673895143248269>\n",
            "<Blob: coexp-epoc, original/exportacao_municipio/CO_ANO=2016/45f4ab2ba86a420497ce5e0d6af02f5a-0.parquet, 1673895143466629>\n",
            "<Blob: coexp-epoc, original/exportacao_municipio/CO_ANO=2017/45f4ab2ba86a420497ce5e0d6af02f5a-0.parquet, 1673895143867208>\n",
            "<Blob: coexp-epoc, original/exportacao_municipio/CO_ANO=2018/45f4ab2ba86a420497ce5e0d6af02f5a-0.parquet, 1673895143572229>\n",
            "<Blob: coexp-epoc, original/exportacao_municipio/CO_ANO=2019/45f4ab2ba86a420497ce5e0d6af02f5a-0.parquet, 1673895144037741>\n",
            "<Blob: coexp-epoc, original/exportacao_municipio/CO_ANO=2020/45f4ab2ba86a420497ce5e0d6af02f5a-0.parquet, 1673895143932066>\n",
            "<Blob: coexp-epoc, original/exportacao_municipio/CO_ANO=2021/45f4ab2ba86a420497ce5e0d6af02f5a-0.parquet, 1673895144623111>\n",
            "<Blob: coexp-epoc, original/exportacao_municipio/CO_ANO=2022/45f4ab2ba86a420497ce5e0d6af02f5a-0.parquet, 1673895144086104>\n",
            "<Blob: coexp-epoc, original/exportacao_produto/CO_ANO=2012/f61ab9164be04da7b3d4b7181765eaba-0.parquet, 1673895327057139>\n",
            "<Blob: coexp-epoc, original/exportacao_produto/CO_ANO=2013/f61ab9164be04da7b3d4b7181765eaba-0.parquet, 1673895326910134>\n",
            "<Blob: coexp-epoc, original/exportacao_produto/CO_ANO=2014/f61ab9164be04da7b3d4b7181765eaba-0.parquet, 1673895327139792>\n",
            "<Blob: coexp-epoc, original/exportacao_produto/CO_ANO=2015/f61ab9164be04da7b3d4b7181765eaba-0.parquet, 1673895327012394>\n",
            "<Blob: coexp-epoc, original/exportacao_produto/CO_ANO=2016/f61ab9164be04da7b3d4b7181765eaba-0.parquet, 1673895327914525>\n",
            "<Blob: coexp-epoc, original/exportacao_produto/CO_ANO=2017/f61ab9164be04da7b3d4b7181765eaba-0.parquet, 1673895327940081>\n",
            "<Blob: coexp-epoc, original/exportacao_produto/CO_ANO=2018/f61ab9164be04da7b3d4b7181765eaba-0.parquet, 1673895328804499>\n",
            "<Blob: coexp-epoc, original/exportacao_produto/CO_ANO=2019/f61ab9164be04da7b3d4b7181765eaba-0.parquet, 1673895328843728>\n",
            "<Blob: coexp-epoc, original/exportacao_produto/CO_ANO=2020/f61ab9164be04da7b3d4b7181765eaba-0.parquet, 1673895328793492>\n",
            "<Blob: coexp-epoc, original/exportacao_produto/CO_ANO=2021/f61ab9164be04da7b3d4b7181765eaba-0.parquet, 1673895329057708>\n",
            "<Blob: coexp-epoc, original/exportacao_produto/CO_ANO=2022/f61ab9164be04da7b3d4b7181765eaba-0.parquet, 1673895329244231>\n"
          ]
        }
      ]
    },
    {
      "cell_type": "markdown",
      "source": [
        "#Pegar um arquivo de uma bucket e enviar para outra"
      ],
      "metadata": {
        "id": "fZu6TlTXxXOb"
      }
    },
    {
      "cell_type": "markdown",
      "source": [
        "envio dos dataset original no escopo de 10 anos"
      ],
      "metadata": {
        "id": "JuGwgDGHlTjl"
      }
    },
    {
      "cell_type": "code",
      "source": [
        "#listas do path das bases originais - dentro da bucket de trabalho, com apenas 10 anos nos formatos cvs ou parquet\n",
        "path_originais = []\n",
        "path = \"sim\"\n",
        "while path !='fim':\n",
        "  print('Digite fim para terminar')\n",
        "  path = input(\"Digite o gsutil da base: \").lower()\n",
        "  path_originais.append(path)\n",
        "  "
      ],
      "metadata": {
        "id": "tvqrojHgoRg4"
      },
      "execution_count": null,
      "outputs": []
    },
    {
      "cell_type": "code",
      "source": [
        "len(path_originais)"
      ],
      "metadata": {
        "colab": {
          "base_uri": "https://localhost:8080/"
        },
        "id": "wR1nx0Yv3NKQ",
        "outputId": "4c76fb2f-0613-4b2f-8468-96f23709485a"
      },
      "execution_count": null,
      "outputs": [
        {
          "output_type": "execute_result",
          "data": {
            "text/plain": [
              "5"
            ]
          },
          "metadata": {},
          "execution_count": 45
        }
      ]
    },
    {
      "cell_type": "code",
      "source": [
        "for i in range(len(path_originais)):\n",
        "  if path_originais[i][-3:] == 'csv':\n",
        "    print(path_originais[i])\n"
      ],
      "metadata": {
        "id": "wvoNzCtIj3Oa",
        "colab": {
          "base_uri": "https://localhost:8080/"
        },
        "outputId": "821b9675-0e95-4e64-ca13-4bcae500e497"
      },
      "execution_count": null,
      "outputs": [
        {
          "output_type": "stream",
          "name": "stdout",
          "text": [
            "vida.csv\n",
            "sera.csv\n"
          ]
        }
      ]
    },
    {
      "cell_type": "code",
      "source": [
        "for i in range(len(path_originais)):\n",
        "  print(path_originais[i], path_originais[i][-3:])  "
      ],
      "metadata": {
        "colab": {
          "base_uri": "https://localhost:8080/"
        },
        "id": "s-_mhHD52s-f",
        "outputId": "8752d770-0e21-4ca5-d968-dfac54ca998e"
      },
      "execution_count": null,
      "outputs": [
        {
          "output_type": "stream",
          "name": "stdout",
          "text": [
            "amor mor\n",
            "vida.csv csv\n",
            "nada ada\n",
            "sera.csv csv\n",
            "fim fim\n"
          ]
        }
      ]
    },
    {
      "cell_type": "markdown",
      "source": [
        "Storage Client"
      ],
      "metadata": {
        "id": "VlIKJ4pynanw"
      }
    },
    {
      "cell_type": "code",
      "source": [
        "#listas do path das bases tratadas - dentro da bucket de trabalho, com apenas 10 anos nos formatos cvs ou parquet\n",
        "path_tratado = []\n",
        "path = \"sim\"\n",
        "while path !='fim':\n",
        "  print('Digite fim para terminar')\n",
        "  path = input(\"Digite o gsutil da base: \")\n",
        "  path_originais.append(path)\n"
      ],
      "metadata": {
        "id": "rZN94dEL1Exh"
      },
      "execution_count": null,
      "outputs": []
    },
    {
      "cell_type": "code",
      "source": [],
      "metadata": {
        "id": "Ab3g0mqjxlct"
      },
      "execution_count": null,
      "outputs": []
    },
    {
      "cell_type": "code",
      "source": [
        "# ACESSO DA BUCKET\n",
        "client = storage.Client()\n",
        "\n",
        "# VARIÁVEL PARA RECEBER O NOME DA BUCKET \n",
        "bucket = client.get_bucket('bc26-datasets-comex')\n",
        "\n",
        "# SELEÇÃO DO ARQUIVO NA BUCKET\n",
        "bucket.blob('IMP_COMPLETA (NCM).csv')\n",
        "\n",
        "# VARIÁVEL PARA RECEBER O CAMINHO DO ARQUIVO\n",
        "path = 'gs://bc26-datasets-comex/IMP_COMPLETA (NCM).csv'"
      ],
      "metadata": {
        "id": "cLS1gUbw-R11"
      },
      "execution_count": null,
      "outputs": []
    },
    {
      "cell_type": "code",
      "source": [
        "#CRIAÇÃO DO DF A PARTIR DO CSV (BASE DE DADOS DE IMPORTAÇÃO, BASEADA NOS PRODUTOS)\n",
        "df1 = pd.read_csv(path, sep=\";\", encoding='ISO-8859-1')"
      ],
      "metadata": {
        "id": "c4gs6u1S-R11"
      },
      "execution_count": null,
      "outputs": []
    },
    {
      "cell_type": "code",
      "source": [
        "# criação do caminho dentro da bucket (que ja está acessada) para salvar o parquet\n",
        "path = 'gs://bc26-datasets-comex/IMP_2012-2022 (NCM).parquet'"
      ],
      "metadata": {
        "id": "Wc0y0CUDEDZx"
      },
      "execution_count": null,
      "outputs": []
    },
    {
      "cell_type": "code",
      "source": [
        "# SALVAMENTO DO ARQUIVO NO FORMATO PARQUET DENTRO DA BUCKET\n",
        "df1.to_parquet(path, index=False, partition_cols=[\"CO_ANO\"])"
      ],
      "metadata": {
        "id": "vx7suQK2EDZx"
      },
      "execution_count": null,
      "outputs": []
    },
    {
      "cell_type": "code",
      "source": [
        "\n",
        "bucket.blob('bc26-datasets-comex/EXP_COMPLETA (NCM).csv')\n",
        "\n",
        "path = 'gs://bc26-datasets-comex/EXP_COMPLETA (NCM).csv'\n",
        "df1 = pd.read_csv(path, sep=\";\")"
      ],
      "metadata": {
        "id": "0hZY8aMTUyLM"
      },
      "execution_count": null,
      "outputs": []
    },
    {
      "cell_type": "code",
      "source": [],
      "metadata": {
        "id": "ognKoCWio7Q3"
      },
      "execution_count": null,
      "outputs": []
    },
    {
      "cell_type": "markdown",
      "source": [
        "#Enviar os dataset para o bucket do clinte EPOC"
      ],
      "metadata": {
        "id": "14nBXbdJthaK"
      }
    },
    {
      "cell_type": "markdown",
      "source": [
        "Links/caminhos para os dataset originais e normalizados"
      ],
      "metadata": {
        "id": "Z0zdD1P1nclR"
      }
    },
    {
      "cell_type": "code",
      "source": [
        "#datasets originais\n",
        "\n",
        "#em parquet - ok\n",
        "exp_mun_orig_parquet = 'gs://bc26-datasets-comex/comex-original-parquet/EXP_COMPLETA_(MUN).parquet'\n",
        "exp_ncm_orig_parquet = 'gs://bc26-datasets-comex/comex-original-parquet/EXP_COMPLETA_(NCM).parquet'\n",
        "imp_mun_orig_parquet = 'gs://bc26-datasets-comex/IMP_2012-2022 (MUN).parquet'\n",
        "imp_ncm_orig_parquet = 'gs://bc26-datasets-comex/IMP_2012-2022 (NCM).parquet'\n",
        "\n",
        "#base com várias sheet\n",
        "#aux_orig_excel ='gs://bc26-datasets-comex/TABELAS_AUXILIARES.xlsx'\n",
        "\n",
        "#em xlsx - ok, salvo em csv\n",
        "comb_preco_orig_2013_17 = 'gs://bc26-datasets-comex/combustível_semanal_xlsx/semanal-municipios-2013-a-2017.xlsx'\n",
        "comb_preco_orig_2018_21 = 'gs://bc26-datasets-comex/combustível_semanal_xlsx/semanal-municipios-2018-a-2021.xlsx'\n",
        "comb_preco_orig_2022 = 'gs://bc26-datasets-comex/combustível_semanal_xlsx/semanal-municipios-2022.xlsx'\n",
        "\n",
        "#em csv\n",
        "comb_qtd_orig_1 = 'gs://bc26-datasets-comex/comex-original-link/vendas-combustiveis-segmento-m3-2012-2022'\n",
        "comb_qtd_orig_2 = 'gs://bc26-datasets-comex/comex-original-link/vendas-glp-tipo-vasilhame-m3-2007-2022'\n",
        "comb_qtd_orig_3 = 'gs://bc26-datasets-comex/comex-original-link/vendas-oleo-diesel-tipo-m3-2013-2022'\n",
        "\n",
        "\n",
        "#datasets normalizados\n",
        "#em parquet ok\n",
        "exp_mun_norm_parquet = 'gs://bc26-datasets-comex/comex-tratado/EXP_2013-2022_tratado(MUN).parquet'\n",
        "exp_ncm_norm_parquet = 'gs://bc26-datasets-comex/comex-tratado/EXP_2013-2022_tratado(NCM).parquet'\n",
        "imp_mun_norm_parquet = 'gs://bc26-datasets-comex/comex-tratado/IMP_2012-2022_tratada (MUN).parquet'\n",
        "imp_ncm_norm_parquet = 'gs://bc26-datasets-comex/comex-tratado/IMP_2012-2022_tratada (NCM).parquet'\n",
        "comb_preco_norm_parquet = 'gs://bc26-datasets-comex/preco-combustiveis-2013-2022-TRATAMENTO-OK'\n",
        "comb_qdt_norm_parquet = 'gs://bc26-datasets-comex/combustivel-tratado/volume_preco_combustiveis_mensal_2013_2022'\n",
        "\n",
        "#auxiliar em csv - ok\n",
        "pais = 'gs://bc26-datasets-comex/comex-tratado/nome-pais'\n",
        "classes = 'gs://bc26-datasets-comex/comex-tratado/imp-exp-classificacoes'\n",
        "\n"
      ],
      "metadata": {
        "id": "VVKmXHK5nyg3"
      },
      "execution_count": null,
      "outputs": []
    },
    {
      "cell_type": "markdown",
      "source": [
        "Enviando os dataset em csv - dataset auxiliares"
      ],
      "metadata": {
        "id": "QnrKz1husx-L"
      }
    },
    {
      "cell_type": "code",
      "source": [
        "#criar um nome para um nome e caminho para o dataset\n",
        "#bucket_epoc.blob('/pasta/nome que quero')\n",
        "bucket_epoc.blob('normalizada/classificacao_produtos')"
      ],
      "metadata": {
        "colab": {
          "base_uri": "https://localhost:8080/"
        },
        "id": "DHsdr2dAp2GB",
        "outputId": "3fb7f0b7-5d06-4aea-85dc-b698311f3b47"
      },
      "execution_count": null,
      "outputs": [
        {
          "output_type": "execute_result",
          "data": {
            "text/plain": [
              "<Blob: coexp-epoc, normalizada/classificacao_produtos, None>"
            ]
          },
          "metadata": {},
          "execution_count": 20
        }
      ]
    },
    {
      "cell_type": "code",
      "source": [
        "#ler o data set no bucket de trabalho\n",
        "df_csv = pd.read_csv(classes)\n",
        "#classes é o caminho do arquivo na buskbet de trabalho"
      ],
      "metadata": {
        "id": "rpT9PR9Mr0Uv"
      },
      "execution_count": null,
      "outputs": []
    },
    {
      "cell_type": "code",
      "source": [
        "#conferir o dataset\n",
        "df_csv.head(3)"
      ],
      "metadata": {
        "colab": {
          "base_uri": "https://localhost:8080/",
          "height": 445
        },
        "id": "1nefVV5jrtud",
        "outputId": "22d805c8-be47-4d61-ff09-3bf7befbcdcb"
      },
      "execution_count": null,
      "outputs": [
        {
          "output_type": "execute_result",
          "data": {
            "text/plain": [
              "       ncm                                            produto    sh6  \\\n",
              "0  1011010                  Cavalos reprodutores de raça pura  10110   \n",
              "1  1011090  Animais da espécie asinina/muar, reprodutores,...  10110   \n",
              "2  1011100                 Cavalos reprodutores, de raça pura  10111   \n",
              "\n",
              "                                      sh6_mercadoria  \\\n",
              "0  Animais vivos das espécies cavalar, asinina e ...   \n",
              "1  Animais vivos das espécies cavalar, asinina e ...   \n",
              "2                 Cavalos reprodutores, de raça pura   \n",
              "\n",
              "                         sh6_posicao   sh6_capitulo  \\\n",
              "0  Cavalos, asininos e muares, vivos  Animais vivos   \n",
              "1  Cavalos, asininos e muares, vivos  Animais vivos   \n",
              "2  Cavalos, asininos e muares, vivos  Animais vivos   \n",
              "\n",
              "                                  sh6_secao  cuci  \\\n",
              "0  Animais vivos e produtos do reino animal  0015   \n",
              "1  Animais vivos e produtos do reino animal  0015   \n",
              "2  Animais vivos e produtos do reino animal  0015   \n",
              "\n",
              "                              cuci_item                         cuci_subgrupo  \\\n",
              "0  Cavalos, asnos, mulas e burros vivos  Cavalos, asnos, mulas e burros vivos   \n",
              "1  Cavalos, asnos, mulas e burros vivos  Cavalos, asnos, mulas e burros vivos   \n",
              "2  Cavalos, asnos, mulas e burros vivos  Cavalos, asnos, mulas e burros vivos   \n",
              "\n",
              "   ... cgce                                  cgce_economica_n3  \\\n",
              "0  ...  110  Bens de capital (exceto equipamentos de transp...   \n",
              "1  ...  110  Bens de capital (exceto equipamentos de transp...   \n",
              "2  ...  110  Bens de capital (exceto equipamentos de transp...   \n",
              "\n",
              "                                             cgce_n2               cgce_n1  \\\n",
              "0  Bens de capital, exceto equipamentos de transp...  BENS DE CAPITAL (BK)   \n",
              "1  Bens de capital, exceto equipamentos de transp...  BENS DE CAPITAL (BK)   \n",
              "2  Bens de capital, exceto equipamentos de transp...  BENS DE CAPITAL (BK)   \n",
              "\n",
              "  isic                isic_class_industrial       isic_grupo  \\\n",
              "0  142  Criação de cavalos e outros equinos  Produção animal   \n",
              "1  142  Criação de cavalos e outros equinos  Produção animal   \n",
              "2  142  Criação de cavalos e outros equinos  Produção animal   \n",
              "\n",
              "                      isic_divisao    isic_secao siit_setor_industrial  \n",
              "0  Produção vegetal, animal e caça  Agropecuária      PRODUTOS N.C.I.T  \n",
              "1  Produção vegetal, animal e caça  Agropecuária      PRODUTOS N.C.I.T  \n",
              "2  Produção vegetal, animal e caça  Agropecuária      PRODUTOS N.C.I.T  \n",
              "\n",
              "[3 rows x 23 columns]"
            ],
            "text/html": [
              "\n",
              "  <div id=\"df-28e9c5b9-da52-40d4-bbad-807660ba7de3\">\n",
              "    <div class=\"colab-df-container\">\n",
              "      <div>\n",
              "<style scoped>\n",
              "    .dataframe tbody tr th:only-of-type {\n",
              "        vertical-align: middle;\n",
              "    }\n",
              "\n",
              "    .dataframe tbody tr th {\n",
              "        vertical-align: top;\n",
              "    }\n",
              "\n",
              "    .dataframe thead th {\n",
              "        text-align: right;\n",
              "    }\n",
              "</style>\n",
              "<table border=\"1\" class=\"dataframe\">\n",
              "  <thead>\n",
              "    <tr style=\"text-align: right;\">\n",
              "      <th></th>\n",
              "      <th>ncm</th>\n",
              "      <th>produto</th>\n",
              "      <th>sh6</th>\n",
              "      <th>sh6_mercadoria</th>\n",
              "      <th>sh6_posicao</th>\n",
              "      <th>sh6_capitulo</th>\n",
              "      <th>sh6_secao</th>\n",
              "      <th>cuci</th>\n",
              "      <th>cuci_item</th>\n",
              "      <th>cuci_subgrupo</th>\n",
              "      <th>...</th>\n",
              "      <th>cgce</th>\n",
              "      <th>cgce_economica_n3</th>\n",
              "      <th>cgce_n2</th>\n",
              "      <th>cgce_n1</th>\n",
              "      <th>isic</th>\n",
              "      <th>isic_class_industrial</th>\n",
              "      <th>isic_grupo</th>\n",
              "      <th>isic_divisao</th>\n",
              "      <th>isic_secao</th>\n",
              "      <th>siit_setor_industrial</th>\n",
              "    </tr>\n",
              "  </thead>\n",
              "  <tbody>\n",
              "    <tr>\n",
              "      <th>0</th>\n",
              "      <td>1011010</td>\n",
              "      <td>Cavalos reprodutores de raça pura</td>\n",
              "      <td>10110</td>\n",
              "      <td>Animais vivos das espécies cavalar, asinina e ...</td>\n",
              "      <td>Cavalos, asininos e muares, vivos</td>\n",
              "      <td>Animais vivos</td>\n",
              "      <td>Animais vivos e produtos do reino animal</td>\n",
              "      <td>0015</td>\n",
              "      <td>Cavalos, asnos, mulas e burros vivos</td>\n",
              "      <td>Cavalos, asnos, mulas e burros vivos</td>\n",
              "      <td>...</td>\n",
              "      <td>110</td>\n",
              "      <td>Bens de capital (exceto equipamentos de transp...</td>\n",
              "      <td>Bens de capital, exceto equipamentos de transp...</td>\n",
              "      <td>BENS DE CAPITAL (BK)</td>\n",
              "      <td>142</td>\n",
              "      <td>Criação de cavalos e outros equinos</td>\n",
              "      <td>Produção animal</td>\n",
              "      <td>Produção vegetal, animal e caça</td>\n",
              "      <td>Agropecuária</td>\n",
              "      <td>PRODUTOS N.C.I.T</td>\n",
              "    </tr>\n",
              "    <tr>\n",
              "      <th>1</th>\n",
              "      <td>1011090</td>\n",
              "      <td>Animais da espécie asinina/muar, reprodutores,...</td>\n",
              "      <td>10110</td>\n",
              "      <td>Animais vivos das espécies cavalar, asinina e ...</td>\n",
              "      <td>Cavalos, asininos e muares, vivos</td>\n",
              "      <td>Animais vivos</td>\n",
              "      <td>Animais vivos e produtos do reino animal</td>\n",
              "      <td>0015</td>\n",
              "      <td>Cavalos, asnos, mulas e burros vivos</td>\n",
              "      <td>Cavalos, asnos, mulas e burros vivos</td>\n",
              "      <td>...</td>\n",
              "      <td>110</td>\n",
              "      <td>Bens de capital (exceto equipamentos de transp...</td>\n",
              "      <td>Bens de capital, exceto equipamentos de transp...</td>\n",
              "      <td>BENS DE CAPITAL (BK)</td>\n",
              "      <td>142</td>\n",
              "      <td>Criação de cavalos e outros equinos</td>\n",
              "      <td>Produção animal</td>\n",
              "      <td>Produção vegetal, animal e caça</td>\n",
              "      <td>Agropecuária</td>\n",
              "      <td>PRODUTOS N.C.I.T</td>\n",
              "    </tr>\n",
              "    <tr>\n",
              "      <th>2</th>\n",
              "      <td>1011100</td>\n",
              "      <td>Cavalos reprodutores, de raça pura</td>\n",
              "      <td>10111</td>\n",
              "      <td>Cavalos reprodutores, de raça pura</td>\n",
              "      <td>Cavalos, asininos e muares, vivos</td>\n",
              "      <td>Animais vivos</td>\n",
              "      <td>Animais vivos e produtos do reino animal</td>\n",
              "      <td>0015</td>\n",
              "      <td>Cavalos, asnos, mulas e burros vivos</td>\n",
              "      <td>Cavalos, asnos, mulas e burros vivos</td>\n",
              "      <td>...</td>\n",
              "      <td>110</td>\n",
              "      <td>Bens de capital (exceto equipamentos de transp...</td>\n",
              "      <td>Bens de capital, exceto equipamentos de transp...</td>\n",
              "      <td>BENS DE CAPITAL (BK)</td>\n",
              "      <td>142</td>\n",
              "      <td>Criação de cavalos e outros equinos</td>\n",
              "      <td>Produção animal</td>\n",
              "      <td>Produção vegetal, animal e caça</td>\n",
              "      <td>Agropecuária</td>\n",
              "      <td>PRODUTOS N.C.I.T</td>\n",
              "    </tr>\n",
              "  </tbody>\n",
              "</table>\n",
              "<p>3 rows × 23 columns</p>\n",
              "</div>\n",
              "      <button class=\"colab-df-convert\" onclick=\"convertToInteractive('df-28e9c5b9-da52-40d4-bbad-807660ba7de3')\"\n",
              "              title=\"Convert this dataframe to an interactive table.\"\n",
              "              style=\"display:none;\">\n",
              "        \n",
              "  <svg xmlns=\"http://www.w3.org/2000/svg\" height=\"24px\"viewBox=\"0 0 24 24\"\n",
              "       width=\"24px\">\n",
              "    <path d=\"M0 0h24v24H0V0z\" fill=\"none\"/>\n",
              "    <path d=\"M18.56 5.44l.94 2.06.94-2.06 2.06-.94-2.06-.94-.94-2.06-.94 2.06-2.06.94zm-11 1L8.5 8.5l.94-2.06 2.06-.94-2.06-.94L8.5 2.5l-.94 2.06-2.06.94zm10 10l.94 2.06.94-2.06 2.06-.94-2.06-.94-.94-2.06-.94 2.06-2.06.94z\"/><path d=\"M17.41 7.96l-1.37-1.37c-.4-.4-.92-.59-1.43-.59-.52 0-1.04.2-1.43.59L10.3 9.45l-7.72 7.72c-.78.78-.78 2.05 0 2.83L4 21.41c.39.39.9.59 1.41.59.51 0 1.02-.2 1.41-.59l7.78-7.78 2.81-2.81c.8-.78.8-2.07 0-2.86zM5.41 20L4 18.59l7.72-7.72 1.47 1.35L5.41 20z\"/>\n",
              "  </svg>\n",
              "      </button>\n",
              "      \n",
              "  <style>\n",
              "    .colab-df-container {\n",
              "      display:flex;\n",
              "      flex-wrap:wrap;\n",
              "      gap: 12px;\n",
              "    }\n",
              "\n",
              "    .colab-df-convert {\n",
              "      background-color: #E8F0FE;\n",
              "      border: none;\n",
              "      border-radius: 50%;\n",
              "      cursor: pointer;\n",
              "      display: none;\n",
              "      fill: #1967D2;\n",
              "      height: 32px;\n",
              "      padding: 0 0 0 0;\n",
              "      width: 32px;\n",
              "    }\n",
              "\n",
              "    .colab-df-convert:hover {\n",
              "      background-color: #E2EBFA;\n",
              "      box-shadow: 0px 1px 2px rgba(60, 64, 67, 0.3), 0px 1px 3px 1px rgba(60, 64, 67, 0.15);\n",
              "      fill: #174EA6;\n",
              "    }\n",
              "\n",
              "    [theme=dark] .colab-df-convert {\n",
              "      background-color: #3B4455;\n",
              "      fill: #D2E3FC;\n",
              "    }\n",
              "\n",
              "    [theme=dark] .colab-df-convert:hover {\n",
              "      background-color: #434B5C;\n",
              "      box-shadow: 0px 1px 3px 1px rgba(0, 0, 0, 0.15);\n",
              "      filter: drop-shadow(0px 1px 2px rgba(0, 0, 0, 0.3));\n",
              "      fill: #FFFFFF;\n",
              "    }\n",
              "  </style>\n",
              "\n",
              "      <script>\n",
              "        const buttonEl =\n",
              "          document.querySelector('#df-28e9c5b9-da52-40d4-bbad-807660ba7de3 button.colab-df-convert');\n",
              "        buttonEl.style.display =\n",
              "          google.colab.kernel.accessAllowed ? 'block' : 'none';\n",
              "\n",
              "        async function convertToInteractive(key) {\n",
              "          const element = document.querySelector('#df-28e9c5b9-da52-40d4-bbad-807660ba7de3');\n",
              "          const dataTable =\n",
              "            await google.colab.kernel.invokeFunction('convertToInteractive',\n",
              "                                                     [key], {});\n",
              "          if (!dataTable) return;\n",
              "\n",
              "          const docLinkHtml = 'Like what you see? Visit the ' +\n",
              "            '<a target=\"_blank\" href=https://colab.research.google.com/notebooks/data_table.ipynb>data table notebook</a>'\n",
              "            + ' to learn more about interactive tables.';\n",
              "          element.innerHTML = '';\n",
              "          dataTable['output_type'] = 'display_data';\n",
              "          await google.colab.output.renderOutput(dataTable, element);\n",
              "          const docLink = document.createElement('div');\n",
              "          docLink.innerHTML = docLinkHtml;\n",
              "          element.appendChild(docLink);\n",
              "        }\n",
              "      </script>\n",
              "    </div>\n",
              "  </div>\n",
              "  "
            ]
          },
          "metadata": {},
          "execution_count": 22
        }
      ]
    },
    {
      "cell_type": "code",
      "source": [
        "#criar um caminho para esse novo arquivo\n",
        "path = 'gs://coexp-epoc/normalizada/classificacao_produtos'\n",
        "#salvar o arquivo na bucket do cliente EPOC\n",
        "df_csv.to_csv(path, index=False)\n"
      ],
      "metadata": {
        "id": "tiXSNhgJnq-P"
      },
      "execution_count": null,
      "outputs": []
    },
    {
      "cell_type": "code",
      "source": [
        "#criar um nome para um nome e caminho para o dataset\n",
        "bucket_epoc.blob('normalizada/nome_pais')"
      ],
      "metadata": {
        "colab": {
          "base_uri": "https://localhost:8080/"
        },
        "outputId": "86bb66e9-2d95-4735-d7d4-70dbc36d7a0c",
        "id": "elqWx035s7cS"
      },
      "execution_count": null,
      "outputs": [
        {
          "output_type": "execute_result",
          "data": {
            "text/plain": [
              "<Blob: coexp-epoc, normalizada/nome_pais, None>"
            ]
          },
          "metadata": {},
          "execution_count": 16
        }
      ]
    },
    {
      "cell_type": "code",
      "source": [
        "#ler o data set no bucket de trabalho\n",
        "df_csv = pd.read_csv(pais)\n",
        "#pais é o caminho do arquivo na buskbet de trabalho"
      ],
      "metadata": {
        "id": "CA4kOVbys7cU"
      },
      "execution_count": null,
      "outputs": []
    },
    {
      "cell_type": "code",
      "source": [
        "#conferir o dataset\n",
        "df_csv.head(3)"
      ],
      "metadata": {
        "colab": {
          "base_uri": "https://localhost:8080/",
          "height": 143
        },
        "outputId": "40f89a8c-ea19-40db-cfc8-a7d56c424e69",
        "id": "070OM84Ls7cV"
      },
      "execution_count": null,
      "outputs": [
        {
          "output_type": "execute_result",
          "data": {
            "text/plain": [
              "   cod_pais          pais\n",
              "0         0  Não Definido\n",
              "1        13   Afeganistão\n",
              "2        15  Aland, Ilhas"
            ],
            "text/html": [
              "\n",
              "  <div id=\"df-6fbb633f-834f-4d5b-a00a-13380b631f93\">\n",
              "    <div class=\"colab-df-container\">\n",
              "      <div>\n",
              "<style scoped>\n",
              "    .dataframe tbody tr th:only-of-type {\n",
              "        vertical-align: middle;\n",
              "    }\n",
              "\n",
              "    .dataframe tbody tr th {\n",
              "        vertical-align: top;\n",
              "    }\n",
              "\n",
              "    .dataframe thead th {\n",
              "        text-align: right;\n",
              "    }\n",
              "</style>\n",
              "<table border=\"1\" class=\"dataframe\">\n",
              "  <thead>\n",
              "    <tr style=\"text-align: right;\">\n",
              "      <th></th>\n",
              "      <th>cod_pais</th>\n",
              "      <th>pais</th>\n",
              "    </tr>\n",
              "  </thead>\n",
              "  <tbody>\n",
              "    <tr>\n",
              "      <th>0</th>\n",
              "      <td>0</td>\n",
              "      <td>Não Definido</td>\n",
              "    </tr>\n",
              "    <tr>\n",
              "      <th>1</th>\n",
              "      <td>13</td>\n",
              "      <td>Afeganistão</td>\n",
              "    </tr>\n",
              "    <tr>\n",
              "      <th>2</th>\n",
              "      <td>15</td>\n",
              "      <td>Aland, Ilhas</td>\n",
              "    </tr>\n",
              "  </tbody>\n",
              "</table>\n",
              "</div>\n",
              "      <button class=\"colab-df-convert\" onclick=\"convertToInteractive('df-6fbb633f-834f-4d5b-a00a-13380b631f93')\"\n",
              "              title=\"Convert this dataframe to an interactive table.\"\n",
              "              style=\"display:none;\">\n",
              "        \n",
              "  <svg xmlns=\"http://www.w3.org/2000/svg\" height=\"24px\"viewBox=\"0 0 24 24\"\n",
              "       width=\"24px\">\n",
              "    <path d=\"M0 0h24v24H0V0z\" fill=\"none\"/>\n",
              "    <path d=\"M18.56 5.44l.94 2.06.94-2.06 2.06-.94-2.06-.94-.94-2.06-.94 2.06-2.06.94zm-11 1L8.5 8.5l.94-2.06 2.06-.94-2.06-.94L8.5 2.5l-.94 2.06-2.06.94zm10 10l.94 2.06.94-2.06 2.06-.94-2.06-.94-.94-2.06-.94 2.06-2.06.94z\"/><path d=\"M17.41 7.96l-1.37-1.37c-.4-.4-.92-.59-1.43-.59-.52 0-1.04.2-1.43.59L10.3 9.45l-7.72 7.72c-.78.78-.78 2.05 0 2.83L4 21.41c.39.39.9.59 1.41.59.51 0 1.02-.2 1.41-.59l7.78-7.78 2.81-2.81c.8-.78.8-2.07 0-2.86zM5.41 20L4 18.59l7.72-7.72 1.47 1.35L5.41 20z\"/>\n",
              "  </svg>\n",
              "      </button>\n",
              "      \n",
              "  <style>\n",
              "    .colab-df-container {\n",
              "      display:flex;\n",
              "      flex-wrap:wrap;\n",
              "      gap: 12px;\n",
              "    }\n",
              "\n",
              "    .colab-df-convert {\n",
              "      background-color: #E8F0FE;\n",
              "      border: none;\n",
              "      border-radius: 50%;\n",
              "      cursor: pointer;\n",
              "      display: none;\n",
              "      fill: #1967D2;\n",
              "      height: 32px;\n",
              "      padding: 0 0 0 0;\n",
              "      width: 32px;\n",
              "    }\n",
              "\n",
              "    .colab-df-convert:hover {\n",
              "      background-color: #E2EBFA;\n",
              "      box-shadow: 0px 1px 2px rgba(60, 64, 67, 0.3), 0px 1px 3px 1px rgba(60, 64, 67, 0.15);\n",
              "      fill: #174EA6;\n",
              "    }\n",
              "\n",
              "    [theme=dark] .colab-df-convert {\n",
              "      background-color: #3B4455;\n",
              "      fill: #D2E3FC;\n",
              "    }\n",
              "\n",
              "    [theme=dark] .colab-df-convert:hover {\n",
              "      background-color: #434B5C;\n",
              "      box-shadow: 0px 1px 3px 1px rgba(0, 0, 0, 0.15);\n",
              "      filter: drop-shadow(0px 1px 2px rgba(0, 0, 0, 0.3));\n",
              "      fill: #FFFFFF;\n",
              "    }\n",
              "  </style>\n",
              "\n",
              "      <script>\n",
              "        const buttonEl =\n",
              "          document.querySelector('#df-6fbb633f-834f-4d5b-a00a-13380b631f93 button.colab-df-convert');\n",
              "        buttonEl.style.display =\n",
              "          google.colab.kernel.accessAllowed ? 'block' : 'none';\n",
              "\n",
              "        async function convertToInteractive(key) {\n",
              "          const element = document.querySelector('#df-6fbb633f-834f-4d5b-a00a-13380b631f93');\n",
              "          const dataTable =\n",
              "            await google.colab.kernel.invokeFunction('convertToInteractive',\n",
              "                                                     [key], {});\n",
              "          if (!dataTable) return;\n",
              "\n",
              "          const docLinkHtml = 'Like what you see? Visit the ' +\n",
              "            '<a target=\"_blank\" href=https://colab.research.google.com/notebooks/data_table.ipynb>data table notebook</a>'\n",
              "            + ' to learn more about interactive tables.';\n",
              "          element.innerHTML = '';\n",
              "          dataTable['output_type'] = 'display_data';\n",
              "          await google.colab.output.renderOutput(dataTable, element);\n",
              "          const docLink = document.createElement('div');\n",
              "          docLink.innerHTML = docLinkHtml;\n",
              "          element.appendChild(docLink);\n",
              "        }\n",
              "      </script>\n",
              "    </div>\n",
              "  </div>\n",
              "  "
            ]
          },
          "metadata": {},
          "execution_count": 18
        }
      ]
    },
    {
      "cell_type": "code",
      "source": [
        "#criar um caminho para esse novo arquivo\n",
        "path = 'gs://coexp-epoc/normalizada/nome_paises'\n",
        "#salvar o arquivo na bucket do cliente EPOC\n",
        "df_csv.to_csv(path, index=False)"
      ],
      "metadata": {
        "id": "en51YTfEs7cW"
      },
      "execution_count": null,
      "outputs": []
    },
    {
      "cell_type": "markdown",
      "source": [
        "Enviar os dataset em parquet - dataset normalizados"
      ],
      "metadata": {
        "id": "cosei1kbtRyz"
      }
    },
    {
      "cell_type": "code",
      "source": [
        "#criar um nome para um nome e caminho para o dataset\n",
        "bucket_epoc.blob('normalizada/exportacao_municipio')\n",
        "#ler o data set no bucket de trabalho\n",
        "df = pd.read_parquet(exp_mun_norm_parquet)\n",
        "#conferir o dataset\n",
        "df.head(3)"
      ],
      "metadata": {
        "colab": {
          "base_uri": "https://localhost:8080/",
          "height": 143
        },
        "id": "QzeXTPYOtRgz",
        "outputId": "36df39d3-bf80-4cf9-ae81-4c970d1a602f"
      },
      "execution_count": null,
      "outputs": [
        {
          "output_type": "execute_result",
          "data": {
            "text/plain": [
              "     mes   SH4  cod_pais estado  peso_liquido  valor_dolar municipio   ano\n",
              "0  Junho  8501        63     PR           780        76547  Curitiba  2013\n",
              "1  Junho  8448       361     PR             1          110  Curitiba  2013\n",
              "2  Março  8543       589     PR            19         3690  Curitiba  2013"
            ],
            "text/html": [
              "\n",
              "  <div id=\"df-951cff1a-328b-4dc7-b90d-967c3d507dbc\">\n",
              "    <div class=\"colab-df-container\">\n",
              "      <div>\n",
              "<style scoped>\n",
              "    .dataframe tbody tr th:only-of-type {\n",
              "        vertical-align: middle;\n",
              "    }\n",
              "\n",
              "    .dataframe tbody tr th {\n",
              "        vertical-align: top;\n",
              "    }\n",
              "\n",
              "    .dataframe thead th {\n",
              "        text-align: right;\n",
              "    }\n",
              "</style>\n",
              "<table border=\"1\" class=\"dataframe\">\n",
              "  <thead>\n",
              "    <tr style=\"text-align: right;\">\n",
              "      <th></th>\n",
              "      <th>mes</th>\n",
              "      <th>SH4</th>\n",
              "      <th>cod_pais</th>\n",
              "      <th>estado</th>\n",
              "      <th>peso_liquido</th>\n",
              "      <th>valor_dolar</th>\n",
              "      <th>municipio</th>\n",
              "      <th>ano</th>\n",
              "    </tr>\n",
              "  </thead>\n",
              "  <tbody>\n",
              "    <tr>\n",
              "      <th>0</th>\n",
              "      <td>Junho</td>\n",
              "      <td>8501</td>\n",
              "      <td>63</td>\n",
              "      <td>PR</td>\n",
              "      <td>780</td>\n",
              "      <td>76547</td>\n",
              "      <td>Curitiba</td>\n",
              "      <td>2013</td>\n",
              "    </tr>\n",
              "    <tr>\n",
              "      <th>1</th>\n",
              "      <td>Junho</td>\n",
              "      <td>8448</td>\n",
              "      <td>361</td>\n",
              "      <td>PR</td>\n",
              "      <td>1</td>\n",
              "      <td>110</td>\n",
              "      <td>Curitiba</td>\n",
              "      <td>2013</td>\n",
              "    </tr>\n",
              "    <tr>\n",
              "      <th>2</th>\n",
              "      <td>Março</td>\n",
              "      <td>8543</td>\n",
              "      <td>589</td>\n",
              "      <td>PR</td>\n",
              "      <td>19</td>\n",
              "      <td>3690</td>\n",
              "      <td>Curitiba</td>\n",
              "      <td>2013</td>\n",
              "    </tr>\n",
              "  </tbody>\n",
              "</table>\n",
              "</div>\n",
              "      <button class=\"colab-df-convert\" onclick=\"convertToInteractive('df-951cff1a-328b-4dc7-b90d-967c3d507dbc')\"\n",
              "              title=\"Convert this dataframe to an interactive table.\"\n",
              "              style=\"display:none;\">\n",
              "        \n",
              "  <svg xmlns=\"http://www.w3.org/2000/svg\" height=\"24px\"viewBox=\"0 0 24 24\"\n",
              "       width=\"24px\">\n",
              "    <path d=\"M0 0h24v24H0V0z\" fill=\"none\"/>\n",
              "    <path d=\"M18.56 5.44l.94 2.06.94-2.06 2.06-.94-2.06-.94-.94-2.06-.94 2.06-2.06.94zm-11 1L8.5 8.5l.94-2.06 2.06-.94-2.06-.94L8.5 2.5l-.94 2.06-2.06.94zm10 10l.94 2.06.94-2.06 2.06-.94-2.06-.94-.94-2.06-.94 2.06-2.06.94z\"/><path d=\"M17.41 7.96l-1.37-1.37c-.4-.4-.92-.59-1.43-.59-.52 0-1.04.2-1.43.59L10.3 9.45l-7.72 7.72c-.78.78-.78 2.05 0 2.83L4 21.41c.39.39.9.59 1.41.59.51 0 1.02-.2 1.41-.59l7.78-7.78 2.81-2.81c.8-.78.8-2.07 0-2.86zM5.41 20L4 18.59l7.72-7.72 1.47 1.35L5.41 20z\"/>\n",
              "  </svg>\n",
              "      </button>\n",
              "      \n",
              "  <style>\n",
              "    .colab-df-container {\n",
              "      display:flex;\n",
              "      flex-wrap:wrap;\n",
              "      gap: 12px;\n",
              "    }\n",
              "\n",
              "    .colab-df-convert {\n",
              "      background-color: #E8F0FE;\n",
              "      border: none;\n",
              "      border-radius: 50%;\n",
              "      cursor: pointer;\n",
              "      display: none;\n",
              "      fill: #1967D2;\n",
              "      height: 32px;\n",
              "      padding: 0 0 0 0;\n",
              "      width: 32px;\n",
              "    }\n",
              "\n",
              "    .colab-df-convert:hover {\n",
              "      background-color: #E2EBFA;\n",
              "      box-shadow: 0px 1px 2px rgba(60, 64, 67, 0.3), 0px 1px 3px 1px rgba(60, 64, 67, 0.15);\n",
              "      fill: #174EA6;\n",
              "    }\n",
              "\n",
              "    [theme=dark] .colab-df-convert {\n",
              "      background-color: #3B4455;\n",
              "      fill: #D2E3FC;\n",
              "    }\n",
              "\n",
              "    [theme=dark] .colab-df-convert:hover {\n",
              "      background-color: #434B5C;\n",
              "      box-shadow: 0px 1px 3px 1px rgba(0, 0, 0, 0.15);\n",
              "      filter: drop-shadow(0px 1px 2px rgba(0, 0, 0, 0.3));\n",
              "      fill: #FFFFFF;\n",
              "    }\n",
              "  </style>\n",
              "\n",
              "      <script>\n",
              "        const buttonEl =\n",
              "          document.querySelector('#df-951cff1a-328b-4dc7-b90d-967c3d507dbc button.colab-df-convert');\n",
              "        buttonEl.style.display =\n",
              "          google.colab.kernel.accessAllowed ? 'block' : 'none';\n",
              "\n",
              "        async function convertToInteractive(key) {\n",
              "          const element = document.querySelector('#df-951cff1a-328b-4dc7-b90d-967c3d507dbc');\n",
              "          const dataTable =\n",
              "            await google.colab.kernel.invokeFunction('convertToInteractive',\n",
              "                                                     [key], {});\n",
              "          if (!dataTable) return;\n",
              "\n",
              "          const docLinkHtml = 'Like what you see? Visit the ' +\n",
              "            '<a target=\"_blank\" href=https://colab.research.google.com/notebooks/data_table.ipynb>data table notebook</a>'\n",
              "            + ' to learn more about interactive tables.';\n",
              "          element.innerHTML = '';\n",
              "          dataTable['output_type'] = 'display_data';\n",
              "          await google.colab.output.renderOutput(dataTable, element);\n",
              "          const docLink = document.createElement('div');\n",
              "          docLink.innerHTML = docLinkHtml;\n",
              "          element.appendChild(docLink);\n",
              "        }\n",
              "      </script>\n",
              "    </div>\n",
              "  </div>\n",
              "  "
            ]
          },
          "metadata": {},
          "execution_count": 24
        }
      ]
    },
    {
      "cell_type": "code",
      "source": [
        "#criar um caminho para esse novo arquivo\n",
        "path = 'gs://coexp-epoc/normalizada/exportacao_municipio'\n",
        "#salvar o arquivo na bucket do cliente EPOC\n",
        "df.to_parquet(path, index=False, partition_cols=['ano'])"
      ],
      "metadata": {
        "id": "XeLB68kVt5W4"
      },
      "execution_count": null,
      "outputs": []
    },
    {
      "cell_type": "code",
      "source": [
        "#criar um nome para um nome e caminho para o dataset\n",
        "bucket_epoc.blob('normalizada/exportacao_produto')\n",
        "#ler o data set no bucket de trabalho\n",
        "df = pd.read_parquet(exp_ncm_norm_parquet )\n",
        "#conferir o dataset\n",
        "df.head(3)"
      ],
      "metadata": {
        "colab": {
          "base_uri": "https://localhost:8080/",
          "height": 239
        },
        "id": "zgEcrYkLvyv3",
        "outputId": "4f747ec7-a3de-4d06-cdf5-b15703eb96b7"
      },
      "execution_count": null,
      "outputs": [
        {
          "output_type": "execute_result",
          "data": {
            "text/plain": [
              "         mes  cod_mercadoria         unidade  cod_pais estado meio_transporte  \\\n",
              "0      Abril        84833029  Número unidade       676     RS           Aérea   \n",
              "1      Abril        84833029  Número unidade       845     RS           Aérea   \n",
              "2  Fevereiro        84833029  Número unidade       196     RS           Aérea   \n",
              "\n",
              "   cod_urf  qnt_estatistica  peso_liquido  valor_dolar  \\\n",
              "0  1017600               10             2          123   \n",
              "1  1017600                1            10           43   \n",
              "2  1017600                1             0           19   \n",
              "\n",
              "                           urf_localizacao      mercadoria   ano  \n",
              "0    AEROPORTO SALGADO FILHO  PORTO ALEGRE  Outros bronzes  2013  \n",
              "1    AEROPORTO SALGADO FILHO  PORTO ALEGRE  Outros bronzes  2013  \n",
              "2    AEROPORTO SALGADO FILHO  PORTO ALEGRE  Outros bronzes  2013  "
            ],
            "text/html": [
              "\n",
              "  <div id=\"df-e213e233-af53-4d4e-900a-0ca8e0b6431f\">\n",
              "    <div class=\"colab-df-container\">\n",
              "      <div>\n",
              "<style scoped>\n",
              "    .dataframe tbody tr th:only-of-type {\n",
              "        vertical-align: middle;\n",
              "    }\n",
              "\n",
              "    .dataframe tbody tr th {\n",
              "        vertical-align: top;\n",
              "    }\n",
              "\n",
              "    .dataframe thead th {\n",
              "        text-align: right;\n",
              "    }\n",
              "</style>\n",
              "<table border=\"1\" class=\"dataframe\">\n",
              "  <thead>\n",
              "    <tr style=\"text-align: right;\">\n",
              "      <th></th>\n",
              "      <th>mes</th>\n",
              "      <th>cod_mercadoria</th>\n",
              "      <th>unidade</th>\n",
              "      <th>cod_pais</th>\n",
              "      <th>estado</th>\n",
              "      <th>meio_transporte</th>\n",
              "      <th>cod_urf</th>\n",
              "      <th>qnt_estatistica</th>\n",
              "      <th>peso_liquido</th>\n",
              "      <th>valor_dolar</th>\n",
              "      <th>urf_localizacao</th>\n",
              "      <th>mercadoria</th>\n",
              "      <th>ano</th>\n",
              "    </tr>\n",
              "  </thead>\n",
              "  <tbody>\n",
              "    <tr>\n",
              "      <th>0</th>\n",
              "      <td>Abril</td>\n",
              "      <td>84833029</td>\n",
              "      <td>Número unidade</td>\n",
              "      <td>676</td>\n",
              "      <td>RS</td>\n",
              "      <td>Aérea</td>\n",
              "      <td>1017600</td>\n",
              "      <td>10</td>\n",
              "      <td>2</td>\n",
              "      <td>123</td>\n",
              "      <td>AEROPORTO SALGADO FILHO  PORTO ALEGRE</td>\n",
              "      <td>Outros bronzes</td>\n",
              "      <td>2013</td>\n",
              "    </tr>\n",
              "    <tr>\n",
              "      <th>1</th>\n",
              "      <td>Abril</td>\n",
              "      <td>84833029</td>\n",
              "      <td>Número unidade</td>\n",
              "      <td>845</td>\n",
              "      <td>RS</td>\n",
              "      <td>Aérea</td>\n",
              "      <td>1017600</td>\n",
              "      <td>1</td>\n",
              "      <td>10</td>\n",
              "      <td>43</td>\n",
              "      <td>AEROPORTO SALGADO FILHO  PORTO ALEGRE</td>\n",
              "      <td>Outros bronzes</td>\n",
              "      <td>2013</td>\n",
              "    </tr>\n",
              "    <tr>\n",
              "      <th>2</th>\n",
              "      <td>Fevereiro</td>\n",
              "      <td>84833029</td>\n",
              "      <td>Número unidade</td>\n",
              "      <td>196</td>\n",
              "      <td>RS</td>\n",
              "      <td>Aérea</td>\n",
              "      <td>1017600</td>\n",
              "      <td>1</td>\n",
              "      <td>0</td>\n",
              "      <td>19</td>\n",
              "      <td>AEROPORTO SALGADO FILHO  PORTO ALEGRE</td>\n",
              "      <td>Outros bronzes</td>\n",
              "      <td>2013</td>\n",
              "    </tr>\n",
              "  </tbody>\n",
              "</table>\n",
              "</div>\n",
              "      <button class=\"colab-df-convert\" onclick=\"convertToInteractive('df-e213e233-af53-4d4e-900a-0ca8e0b6431f')\"\n",
              "              title=\"Convert this dataframe to an interactive table.\"\n",
              "              style=\"display:none;\">\n",
              "        \n",
              "  <svg xmlns=\"http://www.w3.org/2000/svg\" height=\"24px\"viewBox=\"0 0 24 24\"\n",
              "       width=\"24px\">\n",
              "    <path d=\"M0 0h24v24H0V0z\" fill=\"none\"/>\n",
              "    <path d=\"M18.56 5.44l.94 2.06.94-2.06 2.06-.94-2.06-.94-.94-2.06-.94 2.06-2.06.94zm-11 1L8.5 8.5l.94-2.06 2.06-.94-2.06-.94L8.5 2.5l-.94 2.06-2.06.94zm10 10l.94 2.06.94-2.06 2.06-.94-2.06-.94-.94-2.06-.94 2.06-2.06.94z\"/><path d=\"M17.41 7.96l-1.37-1.37c-.4-.4-.92-.59-1.43-.59-.52 0-1.04.2-1.43.59L10.3 9.45l-7.72 7.72c-.78.78-.78 2.05 0 2.83L4 21.41c.39.39.9.59 1.41.59.51 0 1.02-.2 1.41-.59l7.78-7.78 2.81-2.81c.8-.78.8-2.07 0-2.86zM5.41 20L4 18.59l7.72-7.72 1.47 1.35L5.41 20z\"/>\n",
              "  </svg>\n",
              "      </button>\n",
              "      \n",
              "  <style>\n",
              "    .colab-df-container {\n",
              "      display:flex;\n",
              "      flex-wrap:wrap;\n",
              "      gap: 12px;\n",
              "    }\n",
              "\n",
              "    .colab-df-convert {\n",
              "      background-color: #E8F0FE;\n",
              "      border: none;\n",
              "      border-radius: 50%;\n",
              "      cursor: pointer;\n",
              "      display: none;\n",
              "      fill: #1967D2;\n",
              "      height: 32px;\n",
              "      padding: 0 0 0 0;\n",
              "      width: 32px;\n",
              "    }\n",
              "\n",
              "    .colab-df-convert:hover {\n",
              "      background-color: #E2EBFA;\n",
              "      box-shadow: 0px 1px 2px rgba(60, 64, 67, 0.3), 0px 1px 3px 1px rgba(60, 64, 67, 0.15);\n",
              "      fill: #174EA6;\n",
              "    }\n",
              "\n",
              "    [theme=dark] .colab-df-convert {\n",
              "      background-color: #3B4455;\n",
              "      fill: #D2E3FC;\n",
              "    }\n",
              "\n",
              "    [theme=dark] .colab-df-convert:hover {\n",
              "      background-color: #434B5C;\n",
              "      box-shadow: 0px 1px 3px 1px rgba(0, 0, 0, 0.15);\n",
              "      filter: drop-shadow(0px 1px 2px rgba(0, 0, 0, 0.3));\n",
              "      fill: #FFFFFF;\n",
              "    }\n",
              "  </style>\n",
              "\n",
              "      <script>\n",
              "        const buttonEl =\n",
              "          document.querySelector('#df-e213e233-af53-4d4e-900a-0ca8e0b6431f button.colab-df-convert');\n",
              "        buttonEl.style.display =\n",
              "          google.colab.kernel.accessAllowed ? 'block' : 'none';\n",
              "\n",
              "        async function convertToInteractive(key) {\n",
              "          const element = document.querySelector('#df-e213e233-af53-4d4e-900a-0ca8e0b6431f');\n",
              "          const dataTable =\n",
              "            await google.colab.kernel.invokeFunction('convertToInteractive',\n",
              "                                                     [key], {});\n",
              "          if (!dataTable) return;\n",
              "\n",
              "          const docLinkHtml = 'Like what you see? Visit the ' +\n",
              "            '<a target=\"_blank\" href=https://colab.research.google.com/notebooks/data_table.ipynb>data table notebook</a>'\n",
              "            + ' to learn more about interactive tables.';\n",
              "          element.innerHTML = '';\n",
              "          dataTable['output_type'] = 'display_data';\n",
              "          await google.colab.output.renderOutput(dataTable, element);\n",
              "          const docLink = document.createElement('div');\n",
              "          docLink.innerHTML = docLinkHtml;\n",
              "          element.appendChild(docLink);\n",
              "        }\n",
              "      </script>\n",
              "    </div>\n",
              "  </div>\n",
              "  "
            ]
          },
          "metadata": {},
          "execution_count": 26
        }
      ]
    },
    {
      "cell_type": "code",
      "source": [
        "#criar um caminho para esse novo arquivo\n",
        "path = 'gs://coexp-epoc/normalizada/exportacao_produto'\n",
        "#salvar o arquivo na bucket do cliente EPOC\n",
        "df.to_parquet(path, index=False, partition_cols=['ano'])"
      ],
      "metadata": {
        "id": "UDIBiY66vyv4"
      },
      "execution_count": null,
      "outputs": []
    },
    {
      "cell_type": "code",
      "source": [
        "#criar um nome para um nome e caminho para o dataset\n",
        "bucket_epoc.blob('normalizada/importacao_municipio')\n",
        "#ler o data set no bucket de trabalho\n",
        "df = pd.read_parquet(imp_mun_norm_parquet)\n",
        "#conferir o dataset\n",
        "df.head(3)"
      ],
      "metadata": {
        "colab": {
          "base_uri": "https://localhost:8080/",
          "height": 143
        },
        "id": "bexQeCtpvy8j",
        "outputId": "024deccb-2e43-49c5-b2c1-094ec5a22635"
      },
      "execution_count": null,
      "outputs": [
        {
          "output_type": "execute_result",
          "data": {
            "text/plain": [
              "         mes   SH4  cod_pais estado  cod_municipio  peso_liquido  valor_dolar  \\\n",
              "0    janeiro  6115       160     RS        4314902          2512        37327   \n",
              "1  fevereiro  8481        23     RS        4314902            80         8444   \n",
              "2   dezembro  7009       160     RS        4314902         23700        20412   \n",
              "\n",
              "                     descricoes__sistema_harmonizado     municipio   ano  \n",
              "0          Polímeros de etileno, em formas primárias  Porto Alegre  2012  \n",
              "1  Fatos de saia-casaco, conjuntos, casacos, vest...  Porto Alegre  2012  \n",
              "2  Obras de carpintaria para construções, incluíd...  Porto Alegre  2012  "
            ],
            "text/html": [
              "\n",
              "  <div id=\"df-bcbb01b7-ba7b-4203-ad6d-24aff514fcbe\">\n",
              "    <div class=\"colab-df-container\">\n",
              "      <div>\n",
              "<style scoped>\n",
              "    .dataframe tbody tr th:only-of-type {\n",
              "        vertical-align: middle;\n",
              "    }\n",
              "\n",
              "    .dataframe tbody tr th {\n",
              "        vertical-align: top;\n",
              "    }\n",
              "\n",
              "    .dataframe thead th {\n",
              "        text-align: right;\n",
              "    }\n",
              "</style>\n",
              "<table border=\"1\" class=\"dataframe\">\n",
              "  <thead>\n",
              "    <tr style=\"text-align: right;\">\n",
              "      <th></th>\n",
              "      <th>mes</th>\n",
              "      <th>SH4</th>\n",
              "      <th>cod_pais</th>\n",
              "      <th>estado</th>\n",
              "      <th>cod_municipio</th>\n",
              "      <th>peso_liquido</th>\n",
              "      <th>valor_dolar</th>\n",
              "      <th>descricoes__sistema_harmonizado</th>\n",
              "      <th>municipio</th>\n",
              "      <th>ano</th>\n",
              "    </tr>\n",
              "  </thead>\n",
              "  <tbody>\n",
              "    <tr>\n",
              "      <th>0</th>\n",
              "      <td>janeiro</td>\n",
              "      <td>6115</td>\n",
              "      <td>160</td>\n",
              "      <td>RS</td>\n",
              "      <td>4314902</td>\n",
              "      <td>2512</td>\n",
              "      <td>37327</td>\n",
              "      <td>Polímeros de etileno, em formas primárias</td>\n",
              "      <td>Porto Alegre</td>\n",
              "      <td>2012</td>\n",
              "    </tr>\n",
              "    <tr>\n",
              "      <th>1</th>\n",
              "      <td>fevereiro</td>\n",
              "      <td>8481</td>\n",
              "      <td>23</td>\n",
              "      <td>RS</td>\n",
              "      <td>4314902</td>\n",
              "      <td>80</td>\n",
              "      <td>8444</td>\n",
              "      <td>Fatos de saia-casaco, conjuntos, casacos, vest...</td>\n",
              "      <td>Porto Alegre</td>\n",
              "      <td>2012</td>\n",
              "    </tr>\n",
              "    <tr>\n",
              "      <th>2</th>\n",
              "      <td>dezembro</td>\n",
              "      <td>7009</td>\n",
              "      <td>160</td>\n",
              "      <td>RS</td>\n",
              "      <td>4314902</td>\n",
              "      <td>23700</td>\n",
              "      <td>20412</td>\n",
              "      <td>Obras de carpintaria para construções, incluíd...</td>\n",
              "      <td>Porto Alegre</td>\n",
              "      <td>2012</td>\n",
              "    </tr>\n",
              "  </tbody>\n",
              "</table>\n",
              "</div>\n",
              "      <button class=\"colab-df-convert\" onclick=\"convertToInteractive('df-bcbb01b7-ba7b-4203-ad6d-24aff514fcbe')\"\n",
              "              title=\"Convert this dataframe to an interactive table.\"\n",
              "              style=\"display:none;\">\n",
              "        \n",
              "  <svg xmlns=\"http://www.w3.org/2000/svg\" height=\"24px\"viewBox=\"0 0 24 24\"\n",
              "       width=\"24px\">\n",
              "    <path d=\"M0 0h24v24H0V0z\" fill=\"none\"/>\n",
              "    <path d=\"M18.56 5.44l.94 2.06.94-2.06 2.06-.94-2.06-.94-.94-2.06-.94 2.06-2.06.94zm-11 1L8.5 8.5l.94-2.06 2.06-.94-2.06-.94L8.5 2.5l-.94 2.06-2.06.94zm10 10l.94 2.06.94-2.06 2.06-.94-2.06-.94-.94-2.06-.94 2.06-2.06.94z\"/><path d=\"M17.41 7.96l-1.37-1.37c-.4-.4-.92-.59-1.43-.59-.52 0-1.04.2-1.43.59L10.3 9.45l-7.72 7.72c-.78.78-.78 2.05 0 2.83L4 21.41c.39.39.9.59 1.41.59.51 0 1.02-.2 1.41-.59l7.78-7.78 2.81-2.81c.8-.78.8-2.07 0-2.86zM5.41 20L4 18.59l7.72-7.72 1.47 1.35L5.41 20z\"/>\n",
              "  </svg>\n",
              "      </button>\n",
              "      \n",
              "  <style>\n",
              "    .colab-df-container {\n",
              "      display:flex;\n",
              "      flex-wrap:wrap;\n",
              "      gap: 12px;\n",
              "    }\n",
              "\n",
              "    .colab-df-convert {\n",
              "      background-color: #E8F0FE;\n",
              "      border: none;\n",
              "      border-radius: 50%;\n",
              "      cursor: pointer;\n",
              "      display: none;\n",
              "      fill: #1967D2;\n",
              "      height: 32px;\n",
              "      padding: 0 0 0 0;\n",
              "      width: 32px;\n",
              "    }\n",
              "\n",
              "    .colab-df-convert:hover {\n",
              "      background-color: #E2EBFA;\n",
              "      box-shadow: 0px 1px 2px rgba(60, 64, 67, 0.3), 0px 1px 3px 1px rgba(60, 64, 67, 0.15);\n",
              "      fill: #174EA6;\n",
              "    }\n",
              "\n",
              "    [theme=dark] .colab-df-convert {\n",
              "      background-color: #3B4455;\n",
              "      fill: #D2E3FC;\n",
              "    }\n",
              "\n",
              "    [theme=dark] .colab-df-convert:hover {\n",
              "      background-color: #434B5C;\n",
              "      box-shadow: 0px 1px 3px 1px rgba(0, 0, 0, 0.15);\n",
              "      filter: drop-shadow(0px 1px 2px rgba(0, 0, 0, 0.3));\n",
              "      fill: #FFFFFF;\n",
              "    }\n",
              "  </style>\n",
              "\n",
              "      <script>\n",
              "        const buttonEl =\n",
              "          document.querySelector('#df-bcbb01b7-ba7b-4203-ad6d-24aff514fcbe button.colab-df-convert');\n",
              "        buttonEl.style.display =\n",
              "          google.colab.kernel.accessAllowed ? 'block' : 'none';\n",
              "\n",
              "        async function convertToInteractive(key) {\n",
              "          const element = document.querySelector('#df-bcbb01b7-ba7b-4203-ad6d-24aff514fcbe');\n",
              "          const dataTable =\n",
              "            await google.colab.kernel.invokeFunction('convertToInteractive',\n",
              "                                                     [key], {});\n",
              "          if (!dataTable) return;\n",
              "\n",
              "          const docLinkHtml = 'Like what you see? Visit the ' +\n",
              "            '<a target=\"_blank\" href=https://colab.research.google.com/notebooks/data_table.ipynb>data table notebook</a>'\n",
              "            + ' to learn more about interactive tables.';\n",
              "          element.innerHTML = '';\n",
              "          dataTable['output_type'] = 'display_data';\n",
              "          await google.colab.output.renderOutput(dataTable, element);\n",
              "          const docLink = document.createElement('div');\n",
              "          docLink.innerHTML = docLinkHtml;\n",
              "          element.appendChild(docLink);\n",
              "        }\n",
              "      </script>\n",
              "    </div>\n",
              "  </div>\n",
              "  "
            ]
          },
          "metadata": {},
          "execution_count": 28
        }
      ]
    },
    {
      "cell_type": "code",
      "source": [
        "#criar um caminho para esse novo arquivo\n",
        "path = 'gs://coexp-epoc/normalizada/importacao_municipio'\n",
        "#salvar o arquivo na bucket do cliente EPOC\n",
        "df.to_parquet(path, index=False, partition_cols=['ano'])"
      ],
      "metadata": {
        "id": "1I0k86qxvy8k"
      },
      "execution_count": null,
      "outputs": []
    },
    {
      "cell_type": "code",
      "source": [
        "#criar um nome para um nome e caminho para o dataset\n",
        "bucket_epoc.blob('normalizada/importacao_produto')\n",
        "#ler o data set no bucket de trabalho\n",
        "df = pd.read_parquet(imp_ncm_norm_parquet)\n",
        "#conferir o dataset\n",
        "df.head(3)"
      ],
      "metadata": {
        "colab": {
          "base_uri": "https://localhost:8080/",
          "height": 239
        },
        "id": "8_sXmQR5yqLz",
        "outputId": "6a57f27c-5d06-43fe-d667-c56b8a78ff3e"
      },
      "execution_count": null,
      "outputs": [
        {
          "output_type": "execute_result",
          "data": {
            "text/plain": [
              "     mes  mercadoria  cod_unidade  cod_pais estado  cod_urf  qnt_estatistica  \\\n",
              "0  março    39095021           10       190     CE   317700              211   \n",
              "1  junho    39095021           10       245     RS  1017600               50   \n",
              "2  março    39095021           10        23     RS  1017600             1600   \n",
              "\n",
              "   peso_liquido  valor_dolar  \\\n",
              "0           211         3600   \n",
              "1            50          459   \n",
              "2          1600        21300   \n",
              "\n",
              "                                             produto    unidade_medida  \\\n",
              "0  Poliuretanos hidroxilados, com propriedades ad...  NUMERO (UNIDADE)   \n",
              "1  Poliuretanos hidroxilados, com propriedades ad...  NUMERO (UNIDADE)   \n",
              "2  Poliuretanos hidroxilados, com propriedades ad...  NUMERO (UNIDADE)   \n",
              "\n",
              "  meio_transporte   ano  \n",
              "0           AEREA  2012  \n",
              "1           AEREA  2012  \n",
              "2           AEREA  2012  "
            ],
            "text/html": [
              "\n",
              "  <div id=\"df-353a5f06-2713-4840-8a23-40fe4edba1a0\">\n",
              "    <div class=\"colab-df-container\">\n",
              "      <div>\n",
              "<style scoped>\n",
              "    .dataframe tbody tr th:only-of-type {\n",
              "        vertical-align: middle;\n",
              "    }\n",
              "\n",
              "    .dataframe tbody tr th {\n",
              "        vertical-align: top;\n",
              "    }\n",
              "\n",
              "    .dataframe thead th {\n",
              "        text-align: right;\n",
              "    }\n",
              "</style>\n",
              "<table border=\"1\" class=\"dataframe\">\n",
              "  <thead>\n",
              "    <tr style=\"text-align: right;\">\n",
              "      <th></th>\n",
              "      <th>mes</th>\n",
              "      <th>mercadoria</th>\n",
              "      <th>cod_unidade</th>\n",
              "      <th>cod_pais</th>\n",
              "      <th>estado</th>\n",
              "      <th>cod_urf</th>\n",
              "      <th>qnt_estatistica</th>\n",
              "      <th>peso_liquido</th>\n",
              "      <th>valor_dolar</th>\n",
              "      <th>produto</th>\n",
              "      <th>unidade_medida</th>\n",
              "      <th>meio_transporte</th>\n",
              "      <th>ano</th>\n",
              "    </tr>\n",
              "  </thead>\n",
              "  <tbody>\n",
              "    <tr>\n",
              "      <th>0</th>\n",
              "      <td>março</td>\n",
              "      <td>39095021</td>\n",
              "      <td>10</td>\n",
              "      <td>190</td>\n",
              "      <td>CE</td>\n",
              "      <td>317700</td>\n",
              "      <td>211</td>\n",
              "      <td>211</td>\n",
              "      <td>3600</td>\n",
              "      <td>Poliuretanos hidroxilados, com propriedades ad...</td>\n",
              "      <td>NUMERO (UNIDADE)</td>\n",
              "      <td>AEREA</td>\n",
              "      <td>2012</td>\n",
              "    </tr>\n",
              "    <tr>\n",
              "      <th>1</th>\n",
              "      <td>junho</td>\n",
              "      <td>39095021</td>\n",
              "      <td>10</td>\n",
              "      <td>245</td>\n",
              "      <td>RS</td>\n",
              "      <td>1017600</td>\n",
              "      <td>50</td>\n",
              "      <td>50</td>\n",
              "      <td>459</td>\n",
              "      <td>Poliuretanos hidroxilados, com propriedades ad...</td>\n",
              "      <td>NUMERO (UNIDADE)</td>\n",
              "      <td>AEREA</td>\n",
              "      <td>2012</td>\n",
              "    </tr>\n",
              "    <tr>\n",
              "      <th>2</th>\n",
              "      <td>março</td>\n",
              "      <td>39095021</td>\n",
              "      <td>10</td>\n",
              "      <td>23</td>\n",
              "      <td>RS</td>\n",
              "      <td>1017600</td>\n",
              "      <td>1600</td>\n",
              "      <td>1600</td>\n",
              "      <td>21300</td>\n",
              "      <td>Poliuretanos hidroxilados, com propriedades ad...</td>\n",
              "      <td>NUMERO (UNIDADE)</td>\n",
              "      <td>AEREA</td>\n",
              "      <td>2012</td>\n",
              "    </tr>\n",
              "  </tbody>\n",
              "</table>\n",
              "</div>\n",
              "      <button class=\"colab-df-convert\" onclick=\"convertToInteractive('df-353a5f06-2713-4840-8a23-40fe4edba1a0')\"\n",
              "              title=\"Convert this dataframe to an interactive table.\"\n",
              "              style=\"display:none;\">\n",
              "        \n",
              "  <svg xmlns=\"http://www.w3.org/2000/svg\" height=\"24px\"viewBox=\"0 0 24 24\"\n",
              "       width=\"24px\">\n",
              "    <path d=\"M0 0h24v24H0V0z\" fill=\"none\"/>\n",
              "    <path d=\"M18.56 5.44l.94 2.06.94-2.06 2.06-.94-2.06-.94-.94-2.06-.94 2.06-2.06.94zm-11 1L8.5 8.5l.94-2.06 2.06-.94-2.06-.94L8.5 2.5l-.94 2.06-2.06.94zm10 10l.94 2.06.94-2.06 2.06-.94-2.06-.94-.94-2.06-.94 2.06-2.06.94z\"/><path d=\"M17.41 7.96l-1.37-1.37c-.4-.4-.92-.59-1.43-.59-.52 0-1.04.2-1.43.59L10.3 9.45l-7.72 7.72c-.78.78-.78 2.05 0 2.83L4 21.41c.39.39.9.59 1.41.59.51 0 1.02-.2 1.41-.59l7.78-7.78 2.81-2.81c.8-.78.8-2.07 0-2.86zM5.41 20L4 18.59l7.72-7.72 1.47 1.35L5.41 20z\"/>\n",
              "  </svg>\n",
              "      </button>\n",
              "      \n",
              "  <style>\n",
              "    .colab-df-container {\n",
              "      display:flex;\n",
              "      flex-wrap:wrap;\n",
              "      gap: 12px;\n",
              "    }\n",
              "\n",
              "    .colab-df-convert {\n",
              "      background-color: #E8F0FE;\n",
              "      border: none;\n",
              "      border-radius: 50%;\n",
              "      cursor: pointer;\n",
              "      display: none;\n",
              "      fill: #1967D2;\n",
              "      height: 32px;\n",
              "      padding: 0 0 0 0;\n",
              "      width: 32px;\n",
              "    }\n",
              "\n",
              "    .colab-df-convert:hover {\n",
              "      background-color: #E2EBFA;\n",
              "      box-shadow: 0px 1px 2px rgba(60, 64, 67, 0.3), 0px 1px 3px 1px rgba(60, 64, 67, 0.15);\n",
              "      fill: #174EA6;\n",
              "    }\n",
              "\n",
              "    [theme=dark] .colab-df-convert {\n",
              "      background-color: #3B4455;\n",
              "      fill: #D2E3FC;\n",
              "    }\n",
              "\n",
              "    [theme=dark] .colab-df-convert:hover {\n",
              "      background-color: #434B5C;\n",
              "      box-shadow: 0px 1px 3px 1px rgba(0, 0, 0, 0.15);\n",
              "      filter: drop-shadow(0px 1px 2px rgba(0, 0, 0, 0.3));\n",
              "      fill: #FFFFFF;\n",
              "    }\n",
              "  </style>\n",
              "\n",
              "      <script>\n",
              "        const buttonEl =\n",
              "          document.querySelector('#df-353a5f06-2713-4840-8a23-40fe4edba1a0 button.colab-df-convert');\n",
              "        buttonEl.style.display =\n",
              "          google.colab.kernel.accessAllowed ? 'block' : 'none';\n",
              "\n",
              "        async function convertToInteractive(key) {\n",
              "          const element = document.querySelector('#df-353a5f06-2713-4840-8a23-40fe4edba1a0');\n",
              "          const dataTable =\n",
              "            await google.colab.kernel.invokeFunction('convertToInteractive',\n",
              "                                                     [key], {});\n",
              "          if (!dataTable) return;\n",
              "\n",
              "          const docLinkHtml = 'Like what you see? Visit the ' +\n",
              "            '<a target=\"_blank\" href=https://colab.research.google.com/notebooks/data_table.ipynb>data table notebook</a>'\n",
              "            + ' to learn more about interactive tables.';\n",
              "          element.innerHTML = '';\n",
              "          dataTable['output_type'] = 'display_data';\n",
              "          await google.colab.output.renderOutput(dataTable, element);\n",
              "          const docLink = document.createElement('div');\n",
              "          docLink.innerHTML = docLinkHtml;\n",
              "          element.appendChild(docLink);\n",
              "        }\n",
              "      </script>\n",
              "    </div>\n",
              "  </div>\n",
              "  "
            ]
          },
          "metadata": {},
          "execution_count": 30
        }
      ]
    },
    {
      "cell_type": "code",
      "source": [
        "#criar um caminho para esse novo arquivo\n",
        "path = 'gs://coexp-epoc/normalizada/importacao_produto'\n",
        "#salvar o arquivo na bucket do cliente EPOC\n",
        "df.to_parquet(path, index=False, partition_cols=['ano'])"
      ],
      "metadata": {
        "id": "xEwZDsu7yqL9"
      },
      "execution_count": null,
      "outputs": []
    },
    {
      "cell_type": "code",
      "source": [
        "#criar um nome para um nome e caminho para o dataset\n",
        "bucket_epoc.blob('normalizada/combustivel_preco')\n",
        "#ler o data set no bucket de trabalho\n",
        "df = pd.read_parquet(comb_preco_norm_parquet)\n",
        "#conferir o dataset\n",
        "df.head(3)"
      ],
      "metadata": {
        "colab": {
          "base_uri": "https://localhost:8080/",
          "height": 277
        },
        "id": "ja0i3V4R0smx",
        "outputId": "805d8293-24eb-47dc-e36b-cb6a6656b31f"
      },
      "execution_count": null,
      "outputs": [
        {
          "output_type": "execute_result",
          "data": {
            "text/plain": [
              "  data_inicial  data_final        regiao            estado  \\\n",
              "0   2012-12-30  2013-01-05  CENTRO OESTE  DISTRITO FEDERAL   \n",
              "1   2012-12-30  2013-01-05  CENTRO OESTE             GOIAS   \n",
              "2   2012-12-30  2013-01-05  CENTRO OESTE             GOIAS   \n",
              "\n",
              "               municipio           produto  num_postos_pesquisados  \\\n",
              "0               BRASILIA  ETANOL HIDRATADO                      80   \n",
              "1  AGUAS LINDAS DE GOIAS  ETANOL HIDRATADO                       5   \n",
              "2               ANAPOLIS  ETANOL HIDRATADO                      16   \n",
              "\n",
              "  unidade_medida  preco_medio_revenda  desvio_padrao_revenda  \\\n",
              "0           R$/l                2.273                  0.023   \n",
              "1           R$/l                2.134                  0.043   \n",
              "2           R$/l                1.865                  0.055   \n",
              "\n",
              "   preco_min_revenda  preco_max_revenda  margem_media_revenda  \\\n",
              "0               2.19              2.299                 0.405   \n",
              "1               2.09              2.190                 0.268   \n",
              "2               1.69              1.899                 0.360   \n",
              "\n",
              "   coef_variacao_revenda  \n",
              "0                  0.010  \n",
              "1                  0.020  \n",
              "2                  0.029  "
            ],
            "text/html": [
              "\n",
              "  <div id=\"df-46e8427d-1ace-43c4-93df-8d5ab3fecdcd\">\n",
              "    <div class=\"colab-df-container\">\n",
              "      <div>\n",
              "<style scoped>\n",
              "    .dataframe tbody tr th:only-of-type {\n",
              "        vertical-align: middle;\n",
              "    }\n",
              "\n",
              "    .dataframe tbody tr th {\n",
              "        vertical-align: top;\n",
              "    }\n",
              "\n",
              "    .dataframe thead th {\n",
              "        text-align: right;\n",
              "    }\n",
              "</style>\n",
              "<table border=\"1\" class=\"dataframe\">\n",
              "  <thead>\n",
              "    <tr style=\"text-align: right;\">\n",
              "      <th></th>\n",
              "      <th>data_inicial</th>\n",
              "      <th>data_final</th>\n",
              "      <th>regiao</th>\n",
              "      <th>estado</th>\n",
              "      <th>municipio</th>\n",
              "      <th>produto</th>\n",
              "      <th>num_postos_pesquisados</th>\n",
              "      <th>unidade_medida</th>\n",
              "      <th>preco_medio_revenda</th>\n",
              "      <th>desvio_padrao_revenda</th>\n",
              "      <th>preco_min_revenda</th>\n",
              "      <th>preco_max_revenda</th>\n",
              "      <th>margem_media_revenda</th>\n",
              "      <th>coef_variacao_revenda</th>\n",
              "    </tr>\n",
              "  </thead>\n",
              "  <tbody>\n",
              "    <tr>\n",
              "      <th>0</th>\n",
              "      <td>2012-12-30</td>\n",
              "      <td>2013-01-05</td>\n",
              "      <td>CENTRO OESTE</td>\n",
              "      <td>DISTRITO FEDERAL</td>\n",
              "      <td>BRASILIA</td>\n",
              "      <td>ETANOL HIDRATADO</td>\n",
              "      <td>80</td>\n",
              "      <td>R$/l</td>\n",
              "      <td>2.273</td>\n",
              "      <td>0.023</td>\n",
              "      <td>2.19</td>\n",
              "      <td>2.299</td>\n",
              "      <td>0.405</td>\n",
              "      <td>0.010</td>\n",
              "    </tr>\n",
              "    <tr>\n",
              "      <th>1</th>\n",
              "      <td>2012-12-30</td>\n",
              "      <td>2013-01-05</td>\n",
              "      <td>CENTRO OESTE</td>\n",
              "      <td>GOIAS</td>\n",
              "      <td>AGUAS LINDAS DE GOIAS</td>\n",
              "      <td>ETANOL HIDRATADO</td>\n",
              "      <td>5</td>\n",
              "      <td>R$/l</td>\n",
              "      <td>2.134</td>\n",
              "      <td>0.043</td>\n",
              "      <td>2.09</td>\n",
              "      <td>2.190</td>\n",
              "      <td>0.268</td>\n",
              "      <td>0.020</td>\n",
              "    </tr>\n",
              "    <tr>\n",
              "      <th>2</th>\n",
              "      <td>2012-12-30</td>\n",
              "      <td>2013-01-05</td>\n",
              "      <td>CENTRO OESTE</td>\n",
              "      <td>GOIAS</td>\n",
              "      <td>ANAPOLIS</td>\n",
              "      <td>ETANOL HIDRATADO</td>\n",
              "      <td>16</td>\n",
              "      <td>R$/l</td>\n",
              "      <td>1.865</td>\n",
              "      <td>0.055</td>\n",
              "      <td>1.69</td>\n",
              "      <td>1.899</td>\n",
              "      <td>0.360</td>\n",
              "      <td>0.029</td>\n",
              "    </tr>\n",
              "  </tbody>\n",
              "</table>\n",
              "</div>\n",
              "      <button class=\"colab-df-convert\" onclick=\"convertToInteractive('df-46e8427d-1ace-43c4-93df-8d5ab3fecdcd')\"\n",
              "              title=\"Convert this dataframe to an interactive table.\"\n",
              "              style=\"display:none;\">\n",
              "        \n",
              "  <svg xmlns=\"http://www.w3.org/2000/svg\" height=\"24px\"viewBox=\"0 0 24 24\"\n",
              "       width=\"24px\">\n",
              "    <path d=\"M0 0h24v24H0V0z\" fill=\"none\"/>\n",
              "    <path d=\"M18.56 5.44l.94 2.06.94-2.06 2.06-.94-2.06-.94-.94-2.06-.94 2.06-2.06.94zm-11 1L8.5 8.5l.94-2.06 2.06-.94-2.06-.94L8.5 2.5l-.94 2.06-2.06.94zm10 10l.94 2.06.94-2.06 2.06-.94-2.06-.94-.94-2.06-.94 2.06-2.06.94z\"/><path d=\"M17.41 7.96l-1.37-1.37c-.4-.4-.92-.59-1.43-.59-.52 0-1.04.2-1.43.59L10.3 9.45l-7.72 7.72c-.78.78-.78 2.05 0 2.83L4 21.41c.39.39.9.59 1.41.59.51 0 1.02-.2 1.41-.59l7.78-7.78 2.81-2.81c.8-.78.8-2.07 0-2.86zM5.41 20L4 18.59l7.72-7.72 1.47 1.35L5.41 20z\"/>\n",
              "  </svg>\n",
              "      </button>\n",
              "      \n",
              "  <style>\n",
              "    .colab-df-container {\n",
              "      display:flex;\n",
              "      flex-wrap:wrap;\n",
              "      gap: 12px;\n",
              "    }\n",
              "\n",
              "    .colab-df-convert {\n",
              "      background-color: #E8F0FE;\n",
              "      border: none;\n",
              "      border-radius: 50%;\n",
              "      cursor: pointer;\n",
              "      display: none;\n",
              "      fill: #1967D2;\n",
              "      height: 32px;\n",
              "      padding: 0 0 0 0;\n",
              "      width: 32px;\n",
              "    }\n",
              "\n",
              "    .colab-df-convert:hover {\n",
              "      background-color: #E2EBFA;\n",
              "      box-shadow: 0px 1px 2px rgba(60, 64, 67, 0.3), 0px 1px 3px 1px rgba(60, 64, 67, 0.15);\n",
              "      fill: #174EA6;\n",
              "    }\n",
              "\n",
              "    [theme=dark] .colab-df-convert {\n",
              "      background-color: #3B4455;\n",
              "      fill: #D2E3FC;\n",
              "    }\n",
              "\n",
              "    [theme=dark] .colab-df-convert:hover {\n",
              "      background-color: #434B5C;\n",
              "      box-shadow: 0px 1px 3px 1px rgba(0, 0, 0, 0.15);\n",
              "      filter: drop-shadow(0px 1px 2px rgba(0, 0, 0, 0.3));\n",
              "      fill: #FFFFFF;\n",
              "    }\n",
              "  </style>\n",
              "\n",
              "      <script>\n",
              "        const buttonEl =\n",
              "          document.querySelector('#df-46e8427d-1ace-43c4-93df-8d5ab3fecdcd button.colab-df-convert');\n",
              "        buttonEl.style.display =\n",
              "          google.colab.kernel.accessAllowed ? 'block' : 'none';\n",
              "\n",
              "        async function convertToInteractive(key) {\n",
              "          const element = document.querySelector('#df-46e8427d-1ace-43c4-93df-8d5ab3fecdcd');\n",
              "          const dataTable =\n",
              "            await google.colab.kernel.invokeFunction('convertToInteractive',\n",
              "                                                     [key], {});\n",
              "          if (!dataTable) return;\n",
              "\n",
              "          const docLinkHtml = 'Like what you see? Visit the ' +\n",
              "            '<a target=\"_blank\" href=https://colab.research.google.com/notebooks/data_table.ipynb>data table notebook</a>'\n",
              "            + ' to learn more about interactive tables.';\n",
              "          element.innerHTML = '';\n",
              "          dataTable['output_type'] = 'display_data';\n",
              "          await google.colab.output.renderOutput(dataTable, element);\n",
              "          const docLink = document.createElement('div');\n",
              "          docLink.innerHTML = docLinkHtml;\n",
              "          element.appendChild(docLink);\n",
              "        }\n",
              "      </script>\n",
              "    </div>\n",
              "  </div>\n",
              "  "
            ]
          },
          "metadata": {},
          "execution_count": 32
        }
      ]
    },
    {
      "cell_type": "code",
      "source": [
        "#criar um caminho para esse novo arquivo\n",
        "path = 'gs://coexp-epoc/normalizada/combustivel_preco'\n",
        "#salvar o arquivo na bucket do cliente EPOC\n",
        "df.to_parquet(path, index=False, partition_cols=['produto'])"
      ],
      "metadata": {
        "id": "qJqGcQSc0sm1"
      },
      "execution_count": null,
      "outputs": []
    },
    {
      "cell_type": "code",
      "source": [
        "#criar um nome para um nome e caminho para o dataset\n",
        "bucket_epoc.blob('normalizada/combustivel_quantidade')\n",
        "#ler o data set no bucket de trabalho\n",
        "df = pd.read_parquet(comb_qdt_norm_parquet)\n",
        "#conferir o dataset\n",
        "df.head(3)"
      ],
      "metadata": {
        "colab": {
          "base_uri": "https://localhost:8080/",
          "height": 242
        },
        "id": "oGATvOi60s8k",
        "outputId": "3454a276-cf32-464a-b939-da4261fcd479"
      },
      "execution_count": null,
      "outputs": [
        {
          "output_type": "execute_result",
          "data": {
            "text/plain": [
              "         mes    estado           produto  qtde_vendas  num_postos_pesquisados  \\\n",
              "0   SETEMBRO  AMAZONAS               GLP      1999.79                    30.0   \n",
              "1      MARÇO  AMAZONAS   OLEO DIESEL S10   3391000.00                     5.0   \n",
              "2  FEVEREIRO     BAHIA  ETANOL HIDRATADO  22144450.00                    12.0   \n",
              "\n",
              "   preco_medio_revenda  desvio_padrao_revenda  preco_min_revenda  \\\n",
              "0                45.27                  0.658              44.08   \n",
              "1                 2.58                  0.013               2.56   \n",
              "2                 2.23                  0.081               2.11   \n",
              "\n",
              "   preco_max_revenda  margem_media_revenda  coef_variacao_revenda   ano  \n",
              "0              46.33                 9.239                  0.015  2013  \n",
              "1               2.60                 0.394                  0.005  2013  \n",
              "2               2.35                 0.308                  0.036  2013  "
            ],
            "text/html": [
              "\n",
              "  <div id=\"df-984bd0df-b85d-49a5-9772-96ea91387d69\">\n",
              "    <div class=\"colab-df-container\">\n",
              "      <div>\n",
              "<style scoped>\n",
              "    .dataframe tbody tr th:only-of-type {\n",
              "        vertical-align: middle;\n",
              "    }\n",
              "\n",
              "    .dataframe tbody tr th {\n",
              "        vertical-align: top;\n",
              "    }\n",
              "\n",
              "    .dataframe thead th {\n",
              "        text-align: right;\n",
              "    }\n",
              "</style>\n",
              "<table border=\"1\" class=\"dataframe\">\n",
              "  <thead>\n",
              "    <tr style=\"text-align: right;\">\n",
              "      <th></th>\n",
              "      <th>mes</th>\n",
              "      <th>estado</th>\n",
              "      <th>produto</th>\n",
              "      <th>qtde_vendas</th>\n",
              "      <th>num_postos_pesquisados</th>\n",
              "      <th>preco_medio_revenda</th>\n",
              "      <th>desvio_padrao_revenda</th>\n",
              "      <th>preco_min_revenda</th>\n",
              "      <th>preco_max_revenda</th>\n",
              "      <th>margem_media_revenda</th>\n",
              "      <th>coef_variacao_revenda</th>\n",
              "      <th>ano</th>\n",
              "    </tr>\n",
              "  </thead>\n",
              "  <tbody>\n",
              "    <tr>\n",
              "      <th>0</th>\n",
              "      <td>SETEMBRO</td>\n",
              "      <td>AMAZONAS</td>\n",
              "      <td>GLP</td>\n",
              "      <td>1999.79</td>\n",
              "      <td>30.0</td>\n",
              "      <td>45.27</td>\n",
              "      <td>0.658</td>\n",
              "      <td>44.08</td>\n",
              "      <td>46.33</td>\n",
              "      <td>9.239</td>\n",
              "      <td>0.015</td>\n",
              "      <td>2013</td>\n",
              "    </tr>\n",
              "    <tr>\n",
              "      <th>1</th>\n",
              "      <td>MARÇO</td>\n",
              "      <td>AMAZONAS</td>\n",
              "      <td>OLEO DIESEL S10</td>\n",
              "      <td>3391000.00</td>\n",
              "      <td>5.0</td>\n",
              "      <td>2.58</td>\n",
              "      <td>0.013</td>\n",
              "      <td>2.56</td>\n",
              "      <td>2.60</td>\n",
              "      <td>0.394</td>\n",
              "      <td>0.005</td>\n",
              "      <td>2013</td>\n",
              "    </tr>\n",
              "    <tr>\n",
              "      <th>2</th>\n",
              "      <td>FEVEREIRO</td>\n",
              "      <td>BAHIA</td>\n",
              "      <td>ETANOL HIDRATADO</td>\n",
              "      <td>22144450.00</td>\n",
              "      <td>12.0</td>\n",
              "      <td>2.23</td>\n",
              "      <td>0.081</td>\n",
              "      <td>2.11</td>\n",
              "      <td>2.35</td>\n",
              "      <td>0.308</td>\n",
              "      <td>0.036</td>\n",
              "      <td>2013</td>\n",
              "    </tr>\n",
              "  </tbody>\n",
              "</table>\n",
              "</div>\n",
              "      <button class=\"colab-df-convert\" onclick=\"convertToInteractive('df-984bd0df-b85d-49a5-9772-96ea91387d69')\"\n",
              "              title=\"Convert this dataframe to an interactive table.\"\n",
              "              style=\"display:none;\">\n",
              "        \n",
              "  <svg xmlns=\"http://www.w3.org/2000/svg\" height=\"24px\"viewBox=\"0 0 24 24\"\n",
              "       width=\"24px\">\n",
              "    <path d=\"M0 0h24v24H0V0z\" fill=\"none\"/>\n",
              "    <path d=\"M18.56 5.44l.94 2.06.94-2.06 2.06-.94-2.06-.94-.94-2.06-.94 2.06-2.06.94zm-11 1L8.5 8.5l.94-2.06 2.06-.94-2.06-.94L8.5 2.5l-.94 2.06-2.06.94zm10 10l.94 2.06.94-2.06 2.06-.94-2.06-.94-.94-2.06-.94 2.06-2.06.94z\"/><path d=\"M17.41 7.96l-1.37-1.37c-.4-.4-.92-.59-1.43-.59-.52 0-1.04.2-1.43.59L10.3 9.45l-7.72 7.72c-.78.78-.78 2.05 0 2.83L4 21.41c.39.39.9.59 1.41.59.51 0 1.02-.2 1.41-.59l7.78-7.78 2.81-2.81c.8-.78.8-2.07 0-2.86zM5.41 20L4 18.59l7.72-7.72 1.47 1.35L5.41 20z\"/>\n",
              "  </svg>\n",
              "      </button>\n",
              "      \n",
              "  <style>\n",
              "    .colab-df-container {\n",
              "      display:flex;\n",
              "      flex-wrap:wrap;\n",
              "      gap: 12px;\n",
              "    }\n",
              "\n",
              "    .colab-df-convert {\n",
              "      background-color: #E8F0FE;\n",
              "      border: none;\n",
              "      border-radius: 50%;\n",
              "      cursor: pointer;\n",
              "      display: none;\n",
              "      fill: #1967D2;\n",
              "      height: 32px;\n",
              "      padding: 0 0 0 0;\n",
              "      width: 32px;\n",
              "    }\n",
              "\n",
              "    .colab-df-convert:hover {\n",
              "      background-color: #E2EBFA;\n",
              "      box-shadow: 0px 1px 2px rgba(60, 64, 67, 0.3), 0px 1px 3px 1px rgba(60, 64, 67, 0.15);\n",
              "      fill: #174EA6;\n",
              "    }\n",
              "\n",
              "    [theme=dark] .colab-df-convert {\n",
              "      background-color: #3B4455;\n",
              "      fill: #D2E3FC;\n",
              "    }\n",
              "\n",
              "    [theme=dark] .colab-df-convert:hover {\n",
              "      background-color: #434B5C;\n",
              "      box-shadow: 0px 1px 3px 1px rgba(0, 0, 0, 0.15);\n",
              "      filter: drop-shadow(0px 1px 2px rgba(0, 0, 0, 0.3));\n",
              "      fill: #FFFFFF;\n",
              "    }\n",
              "  </style>\n",
              "\n",
              "      <script>\n",
              "        const buttonEl =\n",
              "          document.querySelector('#df-984bd0df-b85d-49a5-9772-96ea91387d69 button.colab-df-convert');\n",
              "        buttonEl.style.display =\n",
              "          google.colab.kernel.accessAllowed ? 'block' : 'none';\n",
              "\n",
              "        async function convertToInteractive(key) {\n",
              "          const element = document.querySelector('#df-984bd0df-b85d-49a5-9772-96ea91387d69');\n",
              "          const dataTable =\n",
              "            await google.colab.kernel.invokeFunction('convertToInteractive',\n",
              "                                                     [key], {});\n",
              "          if (!dataTable) return;\n",
              "\n",
              "          const docLinkHtml = 'Like what you see? Visit the ' +\n",
              "            '<a target=\"_blank\" href=https://colab.research.google.com/notebooks/data_table.ipynb>data table notebook</a>'\n",
              "            + ' to learn more about interactive tables.';\n",
              "          element.innerHTML = '';\n",
              "          dataTable['output_type'] = 'display_data';\n",
              "          await google.colab.output.renderOutput(dataTable, element);\n",
              "          const docLink = document.createElement('div');\n",
              "          docLink.innerHTML = docLinkHtml;\n",
              "          element.appendChild(docLink);\n",
              "        }\n",
              "      </script>\n",
              "    </div>\n",
              "  </div>\n",
              "  "
            ]
          },
          "metadata": {},
          "execution_count": 39
        }
      ]
    },
    {
      "cell_type": "code",
      "source": [
        "#criar um caminho para esse novo arquivo\n",
        "path = 'gs://coexp-epoc/normalizada/combustivel_quantidade'\n",
        "#salvar o arquivo na bucket do cliente EPOC\n",
        "df.to_parquet(path, index=False, partition_cols=['produto'])"
      ],
      "metadata": {
        "id": "69PZWGP20s8m"
      },
      "execution_count": null,
      "outputs": []
    },
    {
      "cell_type": "markdown",
      "source": [
        "Enviar os dataset em parquet - dataset original"
      ],
      "metadata": {
        "id": "kt6eaxRo0bfz"
      }
    },
    {
      "cell_type": "code",
      "source": [
        "#criar um nome para um nome e caminho para o dataset\n",
        "bucket_epoc.blob('original/exportacao_municipio')\n",
        "#ler o data set no bucket de trabalho\n",
        "df = pd.read_parquet(exp_mun_orig_parquet)\n",
        "#conferir o dataset\n",
        "df.head(3)"
      ],
      "metadata": {
        "colab": {
          "base_uri": "https://localhost:8080/",
          "height": 143
        },
        "id": "EZWyrmN50tMH",
        "outputId": "01ccf219-5f46-4724-af19-68ffab7b55f0"
      },
      "execution_count": null,
      "outputs": [
        {
          "output_type": "execute_result",
          "data": {
            "text/plain": [
              "   CO_MES   SH4  CO_PAIS SG_UF_MUN   CO_MUN  KG_LIQUIDO  VL_FOB CO_ANO\n",
              "0       4  4409      249        PA  1501808       39579   47495   2012\n",
              "1       4  7415       63        SP  3452205           3      53   2012\n",
              "2       3  8504      239        SP  3454102        4760   88750   2012"
            ],
            "text/html": [
              "\n",
              "  <div id=\"df-dbe599f0-8409-4391-8dd3-d26ed82ea53d\">\n",
              "    <div class=\"colab-df-container\">\n",
              "      <div>\n",
              "<style scoped>\n",
              "    .dataframe tbody tr th:only-of-type {\n",
              "        vertical-align: middle;\n",
              "    }\n",
              "\n",
              "    .dataframe tbody tr th {\n",
              "        vertical-align: top;\n",
              "    }\n",
              "\n",
              "    .dataframe thead th {\n",
              "        text-align: right;\n",
              "    }\n",
              "</style>\n",
              "<table border=\"1\" class=\"dataframe\">\n",
              "  <thead>\n",
              "    <tr style=\"text-align: right;\">\n",
              "      <th></th>\n",
              "      <th>CO_MES</th>\n",
              "      <th>SH4</th>\n",
              "      <th>CO_PAIS</th>\n",
              "      <th>SG_UF_MUN</th>\n",
              "      <th>CO_MUN</th>\n",
              "      <th>KG_LIQUIDO</th>\n",
              "      <th>VL_FOB</th>\n",
              "      <th>CO_ANO</th>\n",
              "    </tr>\n",
              "  </thead>\n",
              "  <tbody>\n",
              "    <tr>\n",
              "      <th>0</th>\n",
              "      <td>4</td>\n",
              "      <td>4409</td>\n",
              "      <td>249</td>\n",
              "      <td>PA</td>\n",
              "      <td>1501808</td>\n",
              "      <td>39579</td>\n",
              "      <td>47495</td>\n",
              "      <td>2012</td>\n",
              "    </tr>\n",
              "    <tr>\n",
              "      <th>1</th>\n",
              "      <td>4</td>\n",
              "      <td>7415</td>\n",
              "      <td>63</td>\n",
              "      <td>SP</td>\n",
              "      <td>3452205</td>\n",
              "      <td>3</td>\n",
              "      <td>53</td>\n",
              "      <td>2012</td>\n",
              "    </tr>\n",
              "    <tr>\n",
              "      <th>2</th>\n",
              "      <td>3</td>\n",
              "      <td>8504</td>\n",
              "      <td>239</td>\n",
              "      <td>SP</td>\n",
              "      <td>3454102</td>\n",
              "      <td>4760</td>\n",
              "      <td>88750</td>\n",
              "      <td>2012</td>\n",
              "    </tr>\n",
              "  </tbody>\n",
              "</table>\n",
              "</div>\n",
              "      <button class=\"colab-df-convert\" onclick=\"convertToInteractive('df-dbe599f0-8409-4391-8dd3-d26ed82ea53d')\"\n",
              "              title=\"Convert this dataframe to an interactive table.\"\n",
              "              style=\"display:none;\">\n",
              "        \n",
              "  <svg xmlns=\"http://www.w3.org/2000/svg\" height=\"24px\"viewBox=\"0 0 24 24\"\n",
              "       width=\"24px\">\n",
              "    <path d=\"M0 0h24v24H0V0z\" fill=\"none\"/>\n",
              "    <path d=\"M18.56 5.44l.94 2.06.94-2.06 2.06-.94-2.06-.94-.94-2.06-.94 2.06-2.06.94zm-11 1L8.5 8.5l.94-2.06 2.06-.94-2.06-.94L8.5 2.5l-.94 2.06-2.06.94zm10 10l.94 2.06.94-2.06 2.06-.94-2.06-.94-.94-2.06-.94 2.06-2.06.94z\"/><path d=\"M17.41 7.96l-1.37-1.37c-.4-.4-.92-.59-1.43-.59-.52 0-1.04.2-1.43.59L10.3 9.45l-7.72 7.72c-.78.78-.78 2.05 0 2.83L4 21.41c.39.39.9.59 1.41.59.51 0 1.02-.2 1.41-.59l7.78-7.78 2.81-2.81c.8-.78.8-2.07 0-2.86zM5.41 20L4 18.59l7.72-7.72 1.47 1.35L5.41 20z\"/>\n",
              "  </svg>\n",
              "      </button>\n",
              "      \n",
              "  <style>\n",
              "    .colab-df-container {\n",
              "      display:flex;\n",
              "      flex-wrap:wrap;\n",
              "      gap: 12px;\n",
              "    }\n",
              "\n",
              "    .colab-df-convert {\n",
              "      background-color: #E8F0FE;\n",
              "      border: none;\n",
              "      border-radius: 50%;\n",
              "      cursor: pointer;\n",
              "      display: none;\n",
              "      fill: #1967D2;\n",
              "      height: 32px;\n",
              "      padding: 0 0 0 0;\n",
              "      width: 32px;\n",
              "    }\n",
              "\n",
              "    .colab-df-convert:hover {\n",
              "      background-color: #E2EBFA;\n",
              "      box-shadow: 0px 1px 2px rgba(60, 64, 67, 0.3), 0px 1px 3px 1px rgba(60, 64, 67, 0.15);\n",
              "      fill: #174EA6;\n",
              "    }\n",
              "\n",
              "    [theme=dark] .colab-df-convert {\n",
              "      background-color: #3B4455;\n",
              "      fill: #D2E3FC;\n",
              "    }\n",
              "\n",
              "    [theme=dark] .colab-df-convert:hover {\n",
              "      background-color: #434B5C;\n",
              "      box-shadow: 0px 1px 3px 1px rgba(0, 0, 0, 0.15);\n",
              "      filter: drop-shadow(0px 1px 2px rgba(0, 0, 0, 0.3));\n",
              "      fill: #FFFFFF;\n",
              "    }\n",
              "  </style>\n",
              "\n",
              "      <script>\n",
              "        const buttonEl =\n",
              "          document.querySelector('#df-dbe599f0-8409-4391-8dd3-d26ed82ea53d button.colab-df-convert');\n",
              "        buttonEl.style.display =\n",
              "          google.colab.kernel.accessAllowed ? 'block' : 'none';\n",
              "\n",
              "        async function convertToInteractive(key) {\n",
              "          const element = document.querySelector('#df-dbe599f0-8409-4391-8dd3-d26ed82ea53d');\n",
              "          const dataTable =\n",
              "            await google.colab.kernel.invokeFunction('convertToInteractive',\n",
              "                                                     [key], {});\n",
              "          if (!dataTable) return;\n",
              "\n",
              "          const docLinkHtml = 'Like what you see? Visit the ' +\n",
              "            '<a target=\"_blank\" href=https://colab.research.google.com/notebooks/data_table.ipynb>data table notebook</a>'\n",
              "            + ' to learn more about interactive tables.';\n",
              "          element.innerHTML = '';\n",
              "          dataTable['output_type'] = 'display_data';\n",
              "          await google.colab.output.renderOutput(dataTable, element);\n",
              "          const docLink = document.createElement('div');\n",
              "          docLink.innerHTML = docLinkHtml;\n",
              "          element.appendChild(docLink);\n",
              "        }\n",
              "      </script>\n",
              "    </div>\n",
              "  </div>\n",
              "  "
            ]
          },
          "metadata": {},
          "execution_count": 44
        }
      ]
    },
    {
      "cell_type": "code",
      "source": [
        "#criar um caminho para esse novo arquivo\n",
        "path = 'gs://coexp-epoc/original/exportacao_municipio'\n",
        "#salvar o arquivo na bucket do cliente EPOC\n",
        "df.to_parquet(path, index=False, partition_cols=['CO_ANO'])"
      ],
      "metadata": {
        "id": "5NsLSADQ0tMI"
      },
      "execution_count": null,
      "outputs": []
    },
    {
      "cell_type": "code",
      "source": [
        "#criar um nome para um nome e caminho para o dataset\n",
        "bucket_epoc.blob('original/exportacao_produto')\n",
        "#ler o data set no bucket de trabalho\n",
        "df = pd.read_parquet(exp_ncm_orig_parquet)\n",
        "#conferir o dataset\n",
        "df.head(3)"
      ],
      "metadata": {
        "colab": {
          "base_uri": "https://localhost:8080/",
          "height": 143
        },
        "id": "RooaB1Nz6S4g",
        "outputId": "122ef565-22a5-4803-cb31-b09446dbd4cd"
      },
      "execution_count": null,
      "outputs": [
        {
          "output_type": "execute_result",
          "data": {
            "text/plain": [
              "   CO_MES    CO_NCM  CO_UNID  CO_PAIS SG_UF_NCM  CO_VIA   CO_URF  QT_ESTAT  \\\n",
              "0       6  87089100       11       97        PR       7   145200        90   \n",
              "1       6  33051000       10      249        SP       1   817800      3763   \n",
              "2       6  94035000       11      628        RS       1  1017700     19576   \n",
              "\n",
              "   KG_LIQUIDO   VL_FOB CO_ANO  \n",
              "0        1194    21925   2012  \n",
              "1        3763    17164   2012  \n",
              "2      561623  1490086   2012  "
            ],
            "text/html": [
              "\n",
              "  <div id=\"df-b843191f-b2b0-4a1f-9c07-16fcd37dacae\">\n",
              "    <div class=\"colab-df-container\">\n",
              "      <div>\n",
              "<style scoped>\n",
              "    .dataframe tbody tr th:only-of-type {\n",
              "        vertical-align: middle;\n",
              "    }\n",
              "\n",
              "    .dataframe tbody tr th {\n",
              "        vertical-align: top;\n",
              "    }\n",
              "\n",
              "    .dataframe thead th {\n",
              "        text-align: right;\n",
              "    }\n",
              "</style>\n",
              "<table border=\"1\" class=\"dataframe\">\n",
              "  <thead>\n",
              "    <tr style=\"text-align: right;\">\n",
              "      <th></th>\n",
              "      <th>CO_MES</th>\n",
              "      <th>CO_NCM</th>\n",
              "      <th>CO_UNID</th>\n",
              "      <th>CO_PAIS</th>\n",
              "      <th>SG_UF_NCM</th>\n",
              "      <th>CO_VIA</th>\n",
              "      <th>CO_URF</th>\n",
              "      <th>QT_ESTAT</th>\n",
              "      <th>KG_LIQUIDO</th>\n",
              "      <th>VL_FOB</th>\n",
              "      <th>CO_ANO</th>\n",
              "    </tr>\n",
              "  </thead>\n",
              "  <tbody>\n",
              "    <tr>\n",
              "      <th>0</th>\n",
              "      <td>6</td>\n",
              "      <td>87089100</td>\n",
              "      <td>11</td>\n",
              "      <td>97</td>\n",
              "      <td>PR</td>\n",
              "      <td>7</td>\n",
              "      <td>145200</td>\n",
              "      <td>90</td>\n",
              "      <td>1194</td>\n",
              "      <td>21925</td>\n",
              "      <td>2012</td>\n",
              "    </tr>\n",
              "    <tr>\n",
              "      <th>1</th>\n",
              "      <td>6</td>\n",
              "      <td>33051000</td>\n",
              "      <td>10</td>\n",
              "      <td>249</td>\n",
              "      <td>SP</td>\n",
              "      <td>1</td>\n",
              "      <td>817800</td>\n",
              "      <td>3763</td>\n",
              "      <td>3763</td>\n",
              "      <td>17164</td>\n",
              "      <td>2012</td>\n",
              "    </tr>\n",
              "    <tr>\n",
              "      <th>2</th>\n",
              "      <td>6</td>\n",
              "      <td>94035000</td>\n",
              "      <td>11</td>\n",
              "      <td>628</td>\n",
              "      <td>RS</td>\n",
              "      <td>1</td>\n",
              "      <td>1017700</td>\n",
              "      <td>19576</td>\n",
              "      <td>561623</td>\n",
              "      <td>1490086</td>\n",
              "      <td>2012</td>\n",
              "    </tr>\n",
              "  </tbody>\n",
              "</table>\n",
              "</div>\n",
              "      <button class=\"colab-df-convert\" onclick=\"convertToInteractive('df-b843191f-b2b0-4a1f-9c07-16fcd37dacae')\"\n",
              "              title=\"Convert this dataframe to an interactive table.\"\n",
              "              style=\"display:none;\">\n",
              "        \n",
              "  <svg xmlns=\"http://www.w3.org/2000/svg\" height=\"24px\"viewBox=\"0 0 24 24\"\n",
              "       width=\"24px\">\n",
              "    <path d=\"M0 0h24v24H0V0z\" fill=\"none\"/>\n",
              "    <path d=\"M18.56 5.44l.94 2.06.94-2.06 2.06-.94-2.06-.94-.94-2.06-.94 2.06-2.06.94zm-11 1L8.5 8.5l.94-2.06 2.06-.94-2.06-.94L8.5 2.5l-.94 2.06-2.06.94zm10 10l.94 2.06.94-2.06 2.06-.94-2.06-.94-.94-2.06-.94 2.06-2.06.94z\"/><path d=\"M17.41 7.96l-1.37-1.37c-.4-.4-.92-.59-1.43-.59-.52 0-1.04.2-1.43.59L10.3 9.45l-7.72 7.72c-.78.78-.78 2.05 0 2.83L4 21.41c.39.39.9.59 1.41.59.51 0 1.02-.2 1.41-.59l7.78-7.78 2.81-2.81c.8-.78.8-2.07 0-2.86zM5.41 20L4 18.59l7.72-7.72 1.47 1.35L5.41 20z\"/>\n",
              "  </svg>\n",
              "      </button>\n",
              "      \n",
              "  <style>\n",
              "    .colab-df-container {\n",
              "      display:flex;\n",
              "      flex-wrap:wrap;\n",
              "      gap: 12px;\n",
              "    }\n",
              "\n",
              "    .colab-df-convert {\n",
              "      background-color: #E8F0FE;\n",
              "      border: none;\n",
              "      border-radius: 50%;\n",
              "      cursor: pointer;\n",
              "      display: none;\n",
              "      fill: #1967D2;\n",
              "      height: 32px;\n",
              "      padding: 0 0 0 0;\n",
              "      width: 32px;\n",
              "    }\n",
              "\n",
              "    .colab-df-convert:hover {\n",
              "      background-color: #E2EBFA;\n",
              "      box-shadow: 0px 1px 2px rgba(60, 64, 67, 0.3), 0px 1px 3px 1px rgba(60, 64, 67, 0.15);\n",
              "      fill: #174EA6;\n",
              "    }\n",
              "\n",
              "    [theme=dark] .colab-df-convert {\n",
              "      background-color: #3B4455;\n",
              "      fill: #D2E3FC;\n",
              "    }\n",
              "\n",
              "    [theme=dark] .colab-df-convert:hover {\n",
              "      background-color: #434B5C;\n",
              "      box-shadow: 0px 1px 3px 1px rgba(0, 0, 0, 0.15);\n",
              "      filter: drop-shadow(0px 1px 2px rgba(0, 0, 0, 0.3));\n",
              "      fill: #FFFFFF;\n",
              "    }\n",
              "  </style>\n",
              "\n",
              "      <script>\n",
              "        const buttonEl =\n",
              "          document.querySelector('#df-b843191f-b2b0-4a1f-9c07-16fcd37dacae button.colab-df-convert');\n",
              "        buttonEl.style.display =\n",
              "          google.colab.kernel.accessAllowed ? 'block' : 'none';\n",
              "\n",
              "        async function convertToInteractive(key) {\n",
              "          const element = document.querySelector('#df-b843191f-b2b0-4a1f-9c07-16fcd37dacae');\n",
              "          const dataTable =\n",
              "            await google.colab.kernel.invokeFunction('convertToInteractive',\n",
              "                                                     [key], {});\n",
              "          if (!dataTable) return;\n",
              "\n",
              "          const docLinkHtml = 'Like what you see? Visit the ' +\n",
              "            '<a target=\"_blank\" href=https://colab.research.google.com/notebooks/data_table.ipynb>data table notebook</a>'\n",
              "            + ' to learn more about interactive tables.';\n",
              "          element.innerHTML = '';\n",
              "          dataTable['output_type'] = 'display_data';\n",
              "          await google.colab.output.renderOutput(dataTable, element);\n",
              "          const docLink = document.createElement('div');\n",
              "          docLink.innerHTML = docLinkHtml;\n",
              "          element.appendChild(docLink);\n",
              "        }\n",
              "      </script>\n",
              "    </div>\n",
              "  </div>\n",
              "  "
            ]
          },
          "metadata": {},
          "execution_count": 46
        }
      ]
    },
    {
      "cell_type": "code",
      "source": [
        "#criar um caminho para esse novo arquivo\n",
        "path = 'gs://coexp-epoc/original/exportacao_produto'\n",
        "#salvar o arquivo na bucket do cliente EPOC\n",
        "df.to_parquet(path, index=False, partition_cols=['CO_ANO'])"
      ],
      "metadata": {
        "id": "BXKinPIw6S4u"
      },
      "execution_count": null,
      "outputs": []
    },
    {
      "cell_type": "code",
      "source": [
        "#criar um nome para um nome e caminho para o dataset\n",
        "bucket_epoc.blob('original/importacao_municipio')\n",
        "#ler o data set no bucket de trabalho\n",
        "df = pd.read_parquet(imp_mun_orig_parquet)\n",
        "#conferir o dataset\n",
        "df.head(3)"
      ],
      "metadata": {
        "colab": {
          "base_uri": "https://localhost:8080/",
          "height": 143
        },
        "id": "WHHfyqjv6TPB",
        "outputId": "eb6d1dbe-f6c5-441c-ef4c-fe8b58d4b2f7"
      },
      "execution_count": null,
      "outputs": [
        {
          "output_type": "execute_result",
          "data": {
            "text/plain": [
              "   CO_MES   SH4  CO_PAIS SG_UF_MUN   CO_MUN  KG_LIQUIDO  VL_FOB CO_ANO\n",
              "0      12  8414      361        SP  3448906         129   14934   2012\n",
              "1      11  3819      249        SP  3425904           5     211   2012\n",
              "2       8  6201      160        MG  3136702           6     107   2012"
            ],
            "text/html": [
              "\n",
              "  <div id=\"df-6216c202-1f5d-45fe-864f-e940d4f60667\">\n",
              "    <div class=\"colab-df-container\">\n",
              "      <div>\n",
              "<style scoped>\n",
              "    .dataframe tbody tr th:only-of-type {\n",
              "        vertical-align: middle;\n",
              "    }\n",
              "\n",
              "    .dataframe tbody tr th {\n",
              "        vertical-align: top;\n",
              "    }\n",
              "\n",
              "    .dataframe thead th {\n",
              "        text-align: right;\n",
              "    }\n",
              "</style>\n",
              "<table border=\"1\" class=\"dataframe\">\n",
              "  <thead>\n",
              "    <tr style=\"text-align: right;\">\n",
              "      <th></th>\n",
              "      <th>CO_MES</th>\n",
              "      <th>SH4</th>\n",
              "      <th>CO_PAIS</th>\n",
              "      <th>SG_UF_MUN</th>\n",
              "      <th>CO_MUN</th>\n",
              "      <th>KG_LIQUIDO</th>\n",
              "      <th>VL_FOB</th>\n",
              "      <th>CO_ANO</th>\n",
              "    </tr>\n",
              "  </thead>\n",
              "  <tbody>\n",
              "    <tr>\n",
              "      <th>0</th>\n",
              "      <td>12</td>\n",
              "      <td>8414</td>\n",
              "      <td>361</td>\n",
              "      <td>SP</td>\n",
              "      <td>3448906</td>\n",
              "      <td>129</td>\n",
              "      <td>14934</td>\n",
              "      <td>2012</td>\n",
              "    </tr>\n",
              "    <tr>\n",
              "      <th>1</th>\n",
              "      <td>11</td>\n",
              "      <td>3819</td>\n",
              "      <td>249</td>\n",
              "      <td>SP</td>\n",
              "      <td>3425904</td>\n",
              "      <td>5</td>\n",
              "      <td>211</td>\n",
              "      <td>2012</td>\n",
              "    </tr>\n",
              "    <tr>\n",
              "      <th>2</th>\n",
              "      <td>8</td>\n",
              "      <td>6201</td>\n",
              "      <td>160</td>\n",
              "      <td>MG</td>\n",
              "      <td>3136702</td>\n",
              "      <td>6</td>\n",
              "      <td>107</td>\n",
              "      <td>2012</td>\n",
              "    </tr>\n",
              "  </tbody>\n",
              "</table>\n",
              "</div>\n",
              "      <button class=\"colab-df-convert\" onclick=\"convertToInteractive('df-6216c202-1f5d-45fe-864f-e940d4f60667')\"\n",
              "              title=\"Convert this dataframe to an interactive table.\"\n",
              "              style=\"display:none;\">\n",
              "        \n",
              "  <svg xmlns=\"http://www.w3.org/2000/svg\" height=\"24px\"viewBox=\"0 0 24 24\"\n",
              "       width=\"24px\">\n",
              "    <path d=\"M0 0h24v24H0V0z\" fill=\"none\"/>\n",
              "    <path d=\"M18.56 5.44l.94 2.06.94-2.06 2.06-.94-2.06-.94-.94-2.06-.94 2.06-2.06.94zm-11 1L8.5 8.5l.94-2.06 2.06-.94-2.06-.94L8.5 2.5l-.94 2.06-2.06.94zm10 10l.94 2.06.94-2.06 2.06-.94-2.06-.94-.94-2.06-.94 2.06-2.06.94z\"/><path d=\"M17.41 7.96l-1.37-1.37c-.4-.4-.92-.59-1.43-.59-.52 0-1.04.2-1.43.59L10.3 9.45l-7.72 7.72c-.78.78-.78 2.05 0 2.83L4 21.41c.39.39.9.59 1.41.59.51 0 1.02-.2 1.41-.59l7.78-7.78 2.81-2.81c.8-.78.8-2.07 0-2.86zM5.41 20L4 18.59l7.72-7.72 1.47 1.35L5.41 20z\"/>\n",
              "  </svg>\n",
              "      </button>\n",
              "      \n",
              "  <style>\n",
              "    .colab-df-container {\n",
              "      display:flex;\n",
              "      flex-wrap:wrap;\n",
              "      gap: 12px;\n",
              "    }\n",
              "\n",
              "    .colab-df-convert {\n",
              "      background-color: #E8F0FE;\n",
              "      border: none;\n",
              "      border-radius: 50%;\n",
              "      cursor: pointer;\n",
              "      display: none;\n",
              "      fill: #1967D2;\n",
              "      height: 32px;\n",
              "      padding: 0 0 0 0;\n",
              "      width: 32px;\n",
              "    }\n",
              "\n",
              "    .colab-df-convert:hover {\n",
              "      background-color: #E2EBFA;\n",
              "      box-shadow: 0px 1px 2px rgba(60, 64, 67, 0.3), 0px 1px 3px 1px rgba(60, 64, 67, 0.15);\n",
              "      fill: #174EA6;\n",
              "    }\n",
              "\n",
              "    [theme=dark] .colab-df-convert {\n",
              "      background-color: #3B4455;\n",
              "      fill: #D2E3FC;\n",
              "    }\n",
              "\n",
              "    [theme=dark] .colab-df-convert:hover {\n",
              "      background-color: #434B5C;\n",
              "      box-shadow: 0px 1px 3px 1px rgba(0, 0, 0, 0.15);\n",
              "      filter: drop-shadow(0px 1px 2px rgba(0, 0, 0, 0.3));\n",
              "      fill: #FFFFFF;\n",
              "    }\n",
              "  </style>\n",
              "\n",
              "      <script>\n",
              "        const buttonEl =\n",
              "          document.querySelector('#df-6216c202-1f5d-45fe-864f-e940d4f60667 button.colab-df-convert');\n",
              "        buttonEl.style.display =\n",
              "          google.colab.kernel.accessAllowed ? 'block' : 'none';\n",
              "\n",
              "        async function convertToInteractive(key) {\n",
              "          const element = document.querySelector('#df-6216c202-1f5d-45fe-864f-e940d4f60667');\n",
              "          const dataTable =\n",
              "            await google.colab.kernel.invokeFunction('convertToInteractive',\n",
              "                                                     [key], {});\n",
              "          if (!dataTable) return;\n",
              "\n",
              "          const docLinkHtml = 'Like what you see? Visit the ' +\n",
              "            '<a target=\"_blank\" href=https://colab.research.google.com/notebooks/data_table.ipynb>data table notebook</a>'\n",
              "            + ' to learn more about interactive tables.';\n",
              "          element.innerHTML = '';\n",
              "          dataTable['output_type'] = 'display_data';\n",
              "          await google.colab.output.renderOutput(dataTable, element);\n",
              "          const docLink = document.createElement('div');\n",
              "          docLink.innerHTML = docLinkHtml;\n",
              "          element.appendChild(docLink);\n",
              "        }\n",
              "      </script>\n",
              "    </div>\n",
              "  </div>\n",
              "  "
            ]
          },
          "metadata": {},
          "execution_count": 14
        }
      ]
    },
    {
      "cell_type": "code",
      "source": [
        "#criar um caminho para esse novo arquivo\n",
        "path = 'gs://coexp-epoc/original/importacao_municipio'\n",
        "#salvar o arquivo na bucket do cliente EPOC\n",
        "df.to_parquet(path, index=False, partition_cols=['CO_ANO'])"
      ],
      "metadata": {
        "id": "_eJGc3xW6TPB"
      },
      "execution_count": null,
      "outputs": []
    },
    {
      "cell_type": "code",
      "source": [
        "#criar um nome para um nome e caminho para o dataset\n",
        "bucket_epoc.blob('original/importacao_produto')\n",
        "#ler o data set no bucket de trabalho\n",
        "df = pd.read_parquet(imp_ncm_orig_parquet)\n",
        "#conferir o dataset\n",
        "df.head(3)"
      ],
      "metadata": {
        "colab": {
          "base_uri": "https://localhost:8080/",
          "height": 143
        },
        "id": "VzSd1H346TdY",
        "outputId": "4cd0a2ba-ddad-4354-b9b5-1e58c18923b1"
      },
      "execution_count": null,
      "outputs": [
        {
          "output_type": "execute_result",
          "data": {
            "text/plain": [
              "   CO_MES    CO_NCM  CO_UNID  CO_PAIS SG_UF_NCM  CO_VIA  CO_URF  QT_ESTAT  \\\n",
              "0      10  85441990       10      399        SP       4  817700         0   \n",
              "1      10  85115010       11      149        SP       4  817600         1   \n",
              "2       3  90013000       11      365        SP       4  817600      6950   \n",
              "\n",
              "   KG_LIQUIDO  VL_FOB  VL_FRETE  VL_SEGURO CO_ANO  \n",
              "0           0     134        24          0   2012  \n",
              "1           1   36833        21         11   2012  \n",
              "2         153   20755       992          8   2012  "
            ],
            "text/html": [
              "\n",
              "  <div id=\"df-e074321c-5f17-4376-9407-55297ba1f2f9\">\n",
              "    <div class=\"colab-df-container\">\n",
              "      <div>\n",
              "<style scoped>\n",
              "    .dataframe tbody tr th:only-of-type {\n",
              "        vertical-align: middle;\n",
              "    }\n",
              "\n",
              "    .dataframe tbody tr th {\n",
              "        vertical-align: top;\n",
              "    }\n",
              "\n",
              "    .dataframe thead th {\n",
              "        text-align: right;\n",
              "    }\n",
              "</style>\n",
              "<table border=\"1\" class=\"dataframe\">\n",
              "  <thead>\n",
              "    <tr style=\"text-align: right;\">\n",
              "      <th></th>\n",
              "      <th>CO_MES</th>\n",
              "      <th>CO_NCM</th>\n",
              "      <th>CO_UNID</th>\n",
              "      <th>CO_PAIS</th>\n",
              "      <th>SG_UF_NCM</th>\n",
              "      <th>CO_VIA</th>\n",
              "      <th>CO_URF</th>\n",
              "      <th>QT_ESTAT</th>\n",
              "      <th>KG_LIQUIDO</th>\n",
              "      <th>VL_FOB</th>\n",
              "      <th>VL_FRETE</th>\n",
              "      <th>VL_SEGURO</th>\n",
              "      <th>CO_ANO</th>\n",
              "    </tr>\n",
              "  </thead>\n",
              "  <tbody>\n",
              "    <tr>\n",
              "      <th>0</th>\n",
              "      <td>10</td>\n",
              "      <td>85441990</td>\n",
              "      <td>10</td>\n",
              "      <td>399</td>\n",
              "      <td>SP</td>\n",
              "      <td>4</td>\n",
              "      <td>817700</td>\n",
              "      <td>0</td>\n",
              "      <td>0</td>\n",
              "      <td>134</td>\n",
              "      <td>24</td>\n",
              "      <td>0</td>\n",
              "      <td>2012</td>\n",
              "    </tr>\n",
              "    <tr>\n",
              "      <th>1</th>\n",
              "      <td>10</td>\n",
              "      <td>85115010</td>\n",
              "      <td>11</td>\n",
              "      <td>149</td>\n",
              "      <td>SP</td>\n",
              "      <td>4</td>\n",
              "      <td>817600</td>\n",
              "      <td>1</td>\n",
              "      <td>1</td>\n",
              "      <td>36833</td>\n",
              "      <td>21</td>\n",
              "      <td>11</td>\n",
              "      <td>2012</td>\n",
              "    </tr>\n",
              "    <tr>\n",
              "      <th>2</th>\n",
              "      <td>3</td>\n",
              "      <td>90013000</td>\n",
              "      <td>11</td>\n",
              "      <td>365</td>\n",
              "      <td>SP</td>\n",
              "      <td>4</td>\n",
              "      <td>817600</td>\n",
              "      <td>6950</td>\n",
              "      <td>153</td>\n",
              "      <td>20755</td>\n",
              "      <td>992</td>\n",
              "      <td>8</td>\n",
              "      <td>2012</td>\n",
              "    </tr>\n",
              "  </tbody>\n",
              "</table>\n",
              "</div>\n",
              "      <button class=\"colab-df-convert\" onclick=\"convertToInteractive('df-e074321c-5f17-4376-9407-55297ba1f2f9')\"\n",
              "              title=\"Convert this dataframe to an interactive table.\"\n",
              "              style=\"display:none;\">\n",
              "        \n",
              "  <svg xmlns=\"http://www.w3.org/2000/svg\" height=\"24px\"viewBox=\"0 0 24 24\"\n",
              "       width=\"24px\">\n",
              "    <path d=\"M0 0h24v24H0V0z\" fill=\"none\"/>\n",
              "    <path d=\"M18.56 5.44l.94 2.06.94-2.06 2.06-.94-2.06-.94-.94-2.06-.94 2.06-2.06.94zm-11 1L8.5 8.5l.94-2.06 2.06-.94-2.06-.94L8.5 2.5l-.94 2.06-2.06.94zm10 10l.94 2.06.94-2.06 2.06-.94-2.06-.94-.94-2.06-.94 2.06-2.06.94z\"/><path d=\"M17.41 7.96l-1.37-1.37c-.4-.4-.92-.59-1.43-.59-.52 0-1.04.2-1.43.59L10.3 9.45l-7.72 7.72c-.78.78-.78 2.05 0 2.83L4 21.41c.39.39.9.59 1.41.59.51 0 1.02-.2 1.41-.59l7.78-7.78 2.81-2.81c.8-.78.8-2.07 0-2.86zM5.41 20L4 18.59l7.72-7.72 1.47 1.35L5.41 20z\"/>\n",
              "  </svg>\n",
              "      </button>\n",
              "      \n",
              "  <style>\n",
              "    .colab-df-container {\n",
              "      display:flex;\n",
              "      flex-wrap:wrap;\n",
              "      gap: 12px;\n",
              "    }\n",
              "\n",
              "    .colab-df-convert {\n",
              "      background-color: #E8F0FE;\n",
              "      border: none;\n",
              "      border-radius: 50%;\n",
              "      cursor: pointer;\n",
              "      display: none;\n",
              "      fill: #1967D2;\n",
              "      height: 32px;\n",
              "      padding: 0 0 0 0;\n",
              "      width: 32px;\n",
              "    }\n",
              "\n",
              "    .colab-df-convert:hover {\n",
              "      background-color: #E2EBFA;\n",
              "      box-shadow: 0px 1px 2px rgba(60, 64, 67, 0.3), 0px 1px 3px 1px rgba(60, 64, 67, 0.15);\n",
              "      fill: #174EA6;\n",
              "    }\n",
              "\n",
              "    [theme=dark] .colab-df-convert {\n",
              "      background-color: #3B4455;\n",
              "      fill: #D2E3FC;\n",
              "    }\n",
              "\n",
              "    [theme=dark] .colab-df-convert:hover {\n",
              "      background-color: #434B5C;\n",
              "      box-shadow: 0px 1px 3px 1px rgba(0, 0, 0, 0.15);\n",
              "      filter: drop-shadow(0px 1px 2px rgba(0, 0, 0, 0.3));\n",
              "      fill: #FFFFFF;\n",
              "    }\n",
              "  </style>\n",
              "\n",
              "      <script>\n",
              "        const buttonEl =\n",
              "          document.querySelector('#df-e074321c-5f17-4376-9407-55297ba1f2f9 button.colab-df-convert');\n",
              "        buttonEl.style.display =\n",
              "          google.colab.kernel.accessAllowed ? 'block' : 'none';\n",
              "\n",
              "        async function convertToInteractive(key) {\n",
              "          const element = document.querySelector('#df-e074321c-5f17-4376-9407-55297ba1f2f9');\n",
              "          const dataTable =\n",
              "            await google.colab.kernel.invokeFunction('convertToInteractive',\n",
              "                                                     [key], {});\n",
              "          if (!dataTable) return;\n",
              "\n",
              "          const docLinkHtml = 'Like what you see? Visit the ' +\n",
              "            '<a target=\"_blank\" href=https://colab.research.google.com/notebooks/data_table.ipynb>data table notebook</a>'\n",
              "            + ' to learn more about interactive tables.';\n",
              "          element.innerHTML = '';\n",
              "          dataTable['output_type'] = 'display_data';\n",
              "          await google.colab.output.renderOutput(dataTable, element);\n",
              "          const docLink = document.createElement('div');\n",
              "          docLink.innerHTML = docLinkHtml;\n",
              "          element.appendChild(docLink);\n",
              "        }\n",
              "      </script>\n",
              "    </div>\n",
              "  </div>\n",
              "  "
            ]
          },
          "metadata": {},
          "execution_count": 17
        }
      ]
    },
    {
      "cell_type": "code",
      "source": [
        "#criar um caminho para esse novo arquivo\n",
        "path = 'gs://coexp-epoc/original/importacao_produto'\n",
        "#salvar o arquivo na bucket do cliente EPOC\n",
        "df.to_parquet(path, index=False, partition_cols=['CO_ANO'])"
      ],
      "metadata": {
        "id": "gJS2Owib6Tda"
      },
      "execution_count": null,
      "outputs": []
    },
    {
      "cell_type": "markdown",
      "source": [
        "Enviar os dataset em xlsx - dataset original"
      ],
      "metadata": {
        "id": "qdYp1p5G4dsS"
      }
    },
    {
      "cell_type": "code",
      "source": [
        "#criar um nome para um nome e caminho para o dataset\n",
        "bucket_epoc.blob('original/combustivel_preco/combusitvel_municipios_2013_2017')\n",
        "#ler o data set no bucket de trabalho\n",
        "df = pd.read_excel(comb_preco_orig_2013_17, skiprows=14)\n",
        "#conferir o dataset\n",
        "df.head(3)"
      ],
      "metadata": {
        "colab": {
          "base_uri": "https://localhost:8080/",
          "height": 312
        },
        "id": "aC7ptS1W6Twr",
        "outputId": "3233dd93-4589-4be9-de4c-e0ec352dfe86"
      },
      "execution_count": null,
      "outputs": [
        {
          "output_type": "execute_result",
          "data": {
            "text/plain": [
              "  DATA INICIAL DATA FINAL        REGIÃO            ESTADO  \\\n",
              "0   2012-12-30 2013-01-05  CENTRO OESTE  DISTRITO FEDERAL   \n",
              "1   2012-12-30 2013-01-05  CENTRO OESTE             GOIAS   \n",
              "2   2012-12-30 2013-01-05  CENTRO OESTE             GOIAS   \n",
              "\n",
              "               MUNICÍPIO           PRODUTO  NÚMERO DE POSTOS PESQUISADOS  \\\n",
              "0               BRASILIA  ETANOL HIDRATADO                            80   \n",
              "1  AGUAS LINDAS DE GOIAS  ETANOL HIDRATADO                             5   \n",
              "2               ANAPOLIS  ETANOL HIDRATADO                            16   \n",
              "\n",
              "  UNIDADE DE MEDIDA  PREÇO MÉDIO REVENDA  DESVIO PADRÃO REVENDA  \\\n",
              "0              R$/l                2.273               0.022864   \n",
              "1              R$/l                2.134               0.043359   \n",
              "2              R$/l                1.865               0.054575   \n",
              "\n",
              "   PREÇO MÍNIMO REVENDA  PREÇO MÁXIMO REVENDA MARGEM MÉDIA REVENDA  \\\n",
              "0                  2.19                 2.299                0.405   \n",
              "1                  2.09                 2.190                0.268   \n",
              "2                  1.69                 1.899                 0.36   \n",
              "\n",
              "   COEF DE VARIAÇÃO REVENDA PREÇO MÉDIO DISTRIBUIÇÃO  \\\n",
              "0                     0.010                    1.868   \n",
              "1                     0.020                    1.866   \n",
              "2                     0.029                    1.505   \n",
              "\n",
              "  DESVIO PADRÃO DISTRIBUIÇÃO PREÇO MÍNIMO DISTRIBUIÇÃO  \\\n",
              "0                   0.016954                    1.8429   \n",
              "1                   0.020789                    1.8512   \n",
              "2                   0.044552                    1.4599   \n",
              "\n",
              "  PREÇO MÁXIMO DISTRIBUIÇÃO COEF DE VARIAÇÃO DISTRIBUIÇÃO  \n",
              "0                    1.8873                         0.009  \n",
              "1                    1.8806                         0.011  \n",
              "2                    1.5527                          0.03  "
            ],
            "text/html": [
              "\n",
              "  <div id=\"df-40030269-0a4e-410d-a512-f41bb5caf69c\">\n",
              "    <div class=\"colab-df-container\">\n",
              "      <div>\n",
              "<style scoped>\n",
              "    .dataframe tbody tr th:only-of-type {\n",
              "        vertical-align: middle;\n",
              "    }\n",
              "\n",
              "    .dataframe tbody tr th {\n",
              "        vertical-align: top;\n",
              "    }\n",
              "\n",
              "    .dataframe thead th {\n",
              "        text-align: right;\n",
              "    }\n",
              "</style>\n",
              "<table border=\"1\" class=\"dataframe\">\n",
              "  <thead>\n",
              "    <tr style=\"text-align: right;\">\n",
              "      <th></th>\n",
              "      <th>DATA INICIAL</th>\n",
              "      <th>DATA FINAL</th>\n",
              "      <th>REGIÃO</th>\n",
              "      <th>ESTADO</th>\n",
              "      <th>MUNICÍPIO</th>\n",
              "      <th>PRODUTO</th>\n",
              "      <th>NÚMERO DE POSTOS PESQUISADOS</th>\n",
              "      <th>UNIDADE DE MEDIDA</th>\n",
              "      <th>PREÇO MÉDIO REVENDA</th>\n",
              "      <th>DESVIO PADRÃO REVENDA</th>\n",
              "      <th>PREÇO MÍNIMO REVENDA</th>\n",
              "      <th>PREÇO MÁXIMO REVENDA</th>\n",
              "      <th>MARGEM MÉDIA REVENDA</th>\n",
              "      <th>COEF DE VARIAÇÃO REVENDA</th>\n",
              "      <th>PREÇO MÉDIO DISTRIBUIÇÃO</th>\n",
              "      <th>DESVIO PADRÃO DISTRIBUIÇÃO</th>\n",
              "      <th>PREÇO MÍNIMO DISTRIBUIÇÃO</th>\n",
              "      <th>PREÇO MÁXIMO DISTRIBUIÇÃO</th>\n",
              "      <th>COEF DE VARIAÇÃO DISTRIBUIÇÃO</th>\n",
              "    </tr>\n",
              "  </thead>\n",
              "  <tbody>\n",
              "    <tr>\n",
              "      <th>0</th>\n",
              "      <td>2012-12-30</td>\n",
              "      <td>2013-01-05</td>\n",
              "      <td>CENTRO OESTE</td>\n",
              "      <td>DISTRITO FEDERAL</td>\n",
              "      <td>BRASILIA</td>\n",
              "      <td>ETANOL HIDRATADO</td>\n",
              "      <td>80</td>\n",
              "      <td>R$/l</td>\n",
              "      <td>2.273</td>\n",
              "      <td>0.022864</td>\n",
              "      <td>2.19</td>\n",
              "      <td>2.299</td>\n",
              "      <td>0.405</td>\n",
              "      <td>0.010</td>\n",
              "      <td>1.868</td>\n",
              "      <td>0.016954</td>\n",
              "      <td>1.8429</td>\n",
              "      <td>1.8873</td>\n",
              "      <td>0.009</td>\n",
              "    </tr>\n",
              "    <tr>\n",
              "      <th>1</th>\n",
              "      <td>2012-12-30</td>\n",
              "      <td>2013-01-05</td>\n",
              "      <td>CENTRO OESTE</td>\n",
              "      <td>GOIAS</td>\n",
              "      <td>AGUAS LINDAS DE GOIAS</td>\n",
              "      <td>ETANOL HIDRATADO</td>\n",
              "      <td>5</td>\n",
              "      <td>R$/l</td>\n",
              "      <td>2.134</td>\n",
              "      <td>0.043359</td>\n",
              "      <td>2.09</td>\n",
              "      <td>2.190</td>\n",
              "      <td>0.268</td>\n",
              "      <td>0.020</td>\n",
              "      <td>1.866</td>\n",
              "      <td>0.020789</td>\n",
              "      <td>1.8512</td>\n",
              "      <td>1.8806</td>\n",
              "      <td>0.011</td>\n",
              "    </tr>\n",
              "    <tr>\n",
              "      <th>2</th>\n",
              "      <td>2012-12-30</td>\n",
              "      <td>2013-01-05</td>\n",
              "      <td>CENTRO OESTE</td>\n",
              "      <td>GOIAS</td>\n",
              "      <td>ANAPOLIS</td>\n",
              "      <td>ETANOL HIDRATADO</td>\n",
              "      <td>16</td>\n",
              "      <td>R$/l</td>\n",
              "      <td>1.865</td>\n",
              "      <td>0.054575</td>\n",
              "      <td>1.69</td>\n",
              "      <td>1.899</td>\n",
              "      <td>0.36</td>\n",
              "      <td>0.029</td>\n",
              "      <td>1.505</td>\n",
              "      <td>0.044552</td>\n",
              "      <td>1.4599</td>\n",
              "      <td>1.5527</td>\n",
              "      <td>0.03</td>\n",
              "    </tr>\n",
              "  </tbody>\n",
              "</table>\n",
              "</div>\n",
              "      <button class=\"colab-df-convert\" onclick=\"convertToInteractive('df-40030269-0a4e-410d-a512-f41bb5caf69c')\"\n",
              "              title=\"Convert this dataframe to an interactive table.\"\n",
              "              style=\"display:none;\">\n",
              "        \n",
              "  <svg xmlns=\"http://www.w3.org/2000/svg\" height=\"24px\"viewBox=\"0 0 24 24\"\n",
              "       width=\"24px\">\n",
              "    <path d=\"M0 0h24v24H0V0z\" fill=\"none\"/>\n",
              "    <path d=\"M18.56 5.44l.94 2.06.94-2.06 2.06-.94-2.06-.94-.94-2.06-.94 2.06-2.06.94zm-11 1L8.5 8.5l.94-2.06 2.06-.94-2.06-.94L8.5 2.5l-.94 2.06-2.06.94zm10 10l.94 2.06.94-2.06 2.06-.94-2.06-.94-.94-2.06-.94 2.06-2.06.94z\"/><path d=\"M17.41 7.96l-1.37-1.37c-.4-.4-.92-.59-1.43-.59-.52 0-1.04.2-1.43.59L10.3 9.45l-7.72 7.72c-.78.78-.78 2.05 0 2.83L4 21.41c.39.39.9.59 1.41.59.51 0 1.02-.2 1.41-.59l7.78-7.78 2.81-2.81c.8-.78.8-2.07 0-2.86zM5.41 20L4 18.59l7.72-7.72 1.47 1.35L5.41 20z\"/>\n",
              "  </svg>\n",
              "      </button>\n",
              "      \n",
              "  <style>\n",
              "    .colab-df-container {\n",
              "      display:flex;\n",
              "      flex-wrap:wrap;\n",
              "      gap: 12px;\n",
              "    }\n",
              "\n",
              "    .colab-df-convert {\n",
              "      background-color: #E8F0FE;\n",
              "      border: none;\n",
              "      border-radius: 50%;\n",
              "      cursor: pointer;\n",
              "      display: none;\n",
              "      fill: #1967D2;\n",
              "      height: 32px;\n",
              "      padding: 0 0 0 0;\n",
              "      width: 32px;\n",
              "    }\n",
              "\n",
              "    .colab-df-convert:hover {\n",
              "      background-color: #E2EBFA;\n",
              "      box-shadow: 0px 1px 2px rgba(60, 64, 67, 0.3), 0px 1px 3px 1px rgba(60, 64, 67, 0.15);\n",
              "      fill: #174EA6;\n",
              "    }\n",
              "\n",
              "    [theme=dark] .colab-df-convert {\n",
              "      background-color: #3B4455;\n",
              "      fill: #D2E3FC;\n",
              "    }\n",
              "\n",
              "    [theme=dark] .colab-df-convert:hover {\n",
              "      background-color: #434B5C;\n",
              "      box-shadow: 0px 1px 3px 1px rgba(0, 0, 0, 0.15);\n",
              "      filter: drop-shadow(0px 1px 2px rgba(0, 0, 0, 0.3));\n",
              "      fill: #FFFFFF;\n",
              "    }\n",
              "  </style>\n",
              "\n",
              "      <script>\n",
              "        const buttonEl =\n",
              "          document.querySelector('#df-40030269-0a4e-410d-a512-f41bb5caf69c button.colab-df-convert');\n",
              "        buttonEl.style.display =\n",
              "          google.colab.kernel.accessAllowed ? 'block' : 'none';\n",
              "\n",
              "        async function convertToInteractive(key) {\n",
              "          const element = document.querySelector('#df-40030269-0a4e-410d-a512-f41bb5caf69c');\n",
              "          const dataTable =\n",
              "            await google.colab.kernel.invokeFunction('convertToInteractive',\n",
              "                                                     [key], {});\n",
              "          if (!dataTable) return;\n",
              "\n",
              "          const docLinkHtml = 'Like what you see? Visit the ' +\n",
              "            '<a target=\"_blank\" href=https://colab.research.google.com/notebooks/data_table.ipynb>data table notebook</a>'\n",
              "            + ' to learn more about interactive tables.';\n",
              "          element.innerHTML = '';\n",
              "          dataTable['output_type'] = 'display_data';\n",
              "          await google.colab.output.renderOutput(dataTable, element);\n",
              "          const docLink = document.createElement('div');\n",
              "          docLink.innerHTML = docLinkHtml;\n",
              "          element.appendChild(docLink);\n",
              "        }\n",
              "      </script>\n",
              "    </div>\n",
              "  </div>\n",
              "  "
            ]
          },
          "metadata": {},
          "execution_count": 22
        }
      ]
    },
    {
      "cell_type": "code",
      "source": [
        "#criar um caminho para esse novo arquivo\n",
        "path = 'gs://coexp-epoc/original/combustivel_preco/combusitvel_municipios_2013_2017'\n",
        "#salvar o arquivo na bucket do cliente EPOC\n",
        "df.to_csv(path, index=False)"
      ],
      "metadata": {
        "id": "NpblLGvj6Tws"
      },
      "execution_count": null,
      "outputs": []
    },
    {
      "cell_type": "code",
      "source": [
        "#criar um nome para um nome e caminho para o dataset\n",
        "bucket_epoc.blob('original/combustivel_preco/combusitvel_municipios_2018_2021')\n",
        "#ler o data set no bucket de trabalho\n",
        "df = pd.read_excel(comb_preco_orig_2018_21, skiprows=13)\n",
        "#conferir o dataset\n",
        "df.head(3)"
      ],
      "metadata": {
        "colab": {
          "base_uri": "https://localhost:8080/",
          "height": 294
        },
        "id": "rHKTCGP_BvAH",
        "outputId": "49dec015-0669-465f-bdaa-dbc27351b3a6"
      },
      "execution_count": null,
      "outputs": [
        {
          "output_type": "execute_result",
          "data": {
            "text/plain": [
              "  DATA INICIAL DATA FINAL    REGIÃO     ESTADO   MUNICÍPIO           PRODUTO  \\\n",
              "0   2017-12-31 2018-01-06     NORTE       PARA  ABAETETUBA  ETANOL HIDRATADO   \n",
              "1   2017-12-31 2018-01-06  NORDESTE   MARANHAO  ACAILANDIA  ETANOL HIDRATADO   \n",
              "2   2017-12-31 2018-01-06   SUDESTE  SAO PAULO  ADAMANTINA  ETANOL HIDRATADO   \n",
              "\n",
              "   NÚMERO DE POSTOS PESQUISADOS UNIDADE DE MEDIDA  PREÇO MÉDIO REVENDA  \\\n",
              "0                             2              R$/l                3.920   \n",
              "1                             2              R$/l                3.560   \n",
              "2                             8              R$/l                2.526   \n",
              "\n",
              "   DESVIO PADRÃO REVENDA  PREÇO MÍNIMO REVENDA  PREÇO MÁXIMO REVENDA  \\\n",
              "0               0.254558                 3.740                 4.100   \n",
              "1               0.027577                 3.540                 3.579   \n",
              "2               0.047730                 2.449                 2.590   \n",
              "\n",
              "  MARGEM MÉDIA REVENDA  COEF DE VARIAÇÃO REVENDA PREÇO MÉDIO DISTRIBUIÇÃO  \\\n",
              "0                    -                     0.065                        -   \n",
              "1                    -                     0.008                        -   \n",
              "2                0.172                     0.019                    2.354   \n",
              "\n",
              "  DESVIO PADRÃO DISTRIBUIÇÃO PREÇO MÍNIMO DISTRIBUIÇÃO  \\\n",
              "0                          -                         -   \n",
              "1                          -                         -   \n",
              "2                   0.014126                    2.3413   \n",
              "\n",
              "  PREÇO MÁXIMO DISTRIBUIÇÃO COEF DE VARIAÇÃO DISTRIBUIÇÃO  \n",
              "0                         -                             -  \n",
              "1                         -                             -  \n",
              "2                    2.3692                         0.006  "
            ],
            "text/html": [
              "\n",
              "  <div id=\"df-626c1acd-97c5-47d4-bf23-54e250a8bbe7\">\n",
              "    <div class=\"colab-df-container\">\n",
              "      <div>\n",
              "<style scoped>\n",
              "    .dataframe tbody tr th:only-of-type {\n",
              "        vertical-align: middle;\n",
              "    }\n",
              "\n",
              "    .dataframe tbody tr th {\n",
              "        vertical-align: top;\n",
              "    }\n",
              "\n",
              "    .dataframe thead th {\n",
              "        text-align: right;\n",
              "    }\n",
              "</style>\n",
              "<table border=\"1\" class=\"dataframe\">\n",
              "  <thead>\n",
              "    <tr style=\"text-align: right;\">\n",
              "      <th></th>\n",
              "      <th>DATA INICIAL</th>\n",
              "      <th>DATA FINAL</th>\n",
              "      <th>REGIÃO</th>\n",
              "      <th>ESTADO</th>\n",
              "      <th>MUNICÍPIO</th>\n",
              "      <th>PRODUTO</th>\n",
              "      <th>NÚMERO DE POSTOS PESQUISADOS</th>\n",
              "      <th>UNIDADE DE MEDIDA</th>\n",
              "      <th>PREÇO MÉDIO REVENDA</th>\n",
              "      <th>DESVIO PADRÃO REVENDA</th>\n",
              "      <th>PREÇO MÍNIMO REVENDA</th>\n",
              "      <th>PREÇO MÁXIMO REVENDA</th>\n",
              "      <th>MARGEM MÉDIA REVENDA</th>\n",
              "      <th>COEF DE VARIAÇÃO REVENDA</th>\n",
              "      <th>PREÇO MÉDIO DISTRIBUIÇÃO</th>\n",
              "      <th>DESVIO PADRÃO DISTRIBUIÇÃO</th>\n",
              "      <th>PREÇO MÍNIMO DISTRIBUIÇÃO</th>\n",
              "      <th>PREÇO MÁXIMO DISTRIBUIÇÃO</th>\n",
              "      <th>COEF DE VARIAÇÃO DISTRIBUIÇÃO</th>\n",
              "    </tr>\n",
              "  </thead>\n",
              "  <tbody>\n",
              "    <tr>\n",
              "      <th>0</th>\n",
              "      <td>2017-12-31</td>\n",
              "      <td>2018-01-06</td>\n",
              "      <td>NORTE</td>\n",
              "      <td>PARA</td>\n",
              "      <td>ABAETETUBA</td>\n",
              "      <td>ETANOL HIDRATADO</td>\n",
              "      <td>2</td>\n",
              "      <td>R$/l</td>\n",
              "      <td>3.920</td>\n",
              "      <td>0.254558</td>\n",
              "      <td>3.740</td>\n",
              "      <td>4.100</td>\n",
              "      <td>-</td>\n",
              "      <td>0.065</td>\n",
              "      <td>-</td>\n",
              "      <td>-</td>\n",
              "      <td>-</td>\n",
              "      <td>-</td>\n",
              "      <td>-</td>\n",
              "    </tr>\n",
              "    <tr>\n",
              "      <th>1</th>\n",
              "      <td>2017-12-31</td>\n",
              "      <td>2018-01-06</td>\n",
              "      <td>NORDESTE</td>\n",
              "      <td>MARANHAO</td>\n",
              "      <td>ACAILANDIA</td>\n",
              "      <td>ETANOL HIDRATADO</td>\n",
              "      <td>2</td>\n",
              "      <td>R$/l</td>\n",
              "      <td>3.560</td>\n",
              "      <td>0.027577</td>\n",
              "      <td>3.540</td>\n",
              "      <td>3.579</td>\n",
              "      <td>-</td>\n",
              "      <td>0.008</td>\n",
              "      <td>-</td>\n",
              "      <td>-</td>\n",
              "      <td>-</td>\n",
              "      <td>-</td>\n",
              "      <td>-</td>\n",
              "    </tr>\n",
              "    <tr>\n",
              "      <th>2</th>\n",
              "      <td>2017-12-31</td>\n",
              "      <td>2018-01-06</td>\n",
              "      <td>SUDESTE</td>\n",
              "      <td>SAO PAULO</td>\n",
              "      <td>ADAMANTINA</td>\n",
              "      <td>ETANOL HIDRATADO</td>\n",
              "      <td>8</td>\n",
              "      <td>R$/l</td>\n",
              "      <td>2.526</td>\n",
              "      <td>0.047730</td>\n",
              "      <td>2.449</td>\n",
              "      <td>2.590</td>\n",
              "      <td>0.172</td>\n",
              "      <td>0.019</td>\n",
              "      <td>2.354</td>\n",
              "      <td>0.014126</td>\n",
              "      <td>2.3413</td>\n",
              "      <td>2.3692</td>\n",
              "      <td>0.006</td>\n",
              "    </tr>\n",
              "  </tbody>\n",
              "</table>\n",
              "</div>\n",
              "      <button class=\"colab-df-convert\" onclick=\"convertToInteractive('df-626c1acd-97c5-47d4-bf23-54e250a8bbe7')\"\n",
              "              title=\"Convert this dataframe to an interactive table.\"\n",
              "              style=\"display:none;\">\n",
              "        \n",
              "  <svg xmlns=\"http://www.w3.org/2000/svg\" height=\"24px\"viewBox=\"0 0 24 24\"\n",
              "       width=\"24px\">\n",
              "    <path d=\"M0 0h24v24H0V0z\" fill=\"none\"/>\n",
              "    <path d=\"M18.56 5.44l.94 2.06.94-2.06 2.06-.94-2.06-.94-.94-2.06-.94 2.06-2.06.94zm-11 1L8.5 8.5l.94-2.06 2.06-.94-2.06-.94L8.5 2.5l-.94 2.06-2.06.94zm10 10l.94 2.06.94-2.06 2.06-.94-2.06-.94-.94-2.06-.94 2.06-2.06.94z\"/><path d=\"M17.41 7.96l-1.37-1.37c-.4-.4-.92-.59-1.43-.59-.52 0-1.04.2-1.43.59L10.3 9.45l-7.72 7.72c-.78.78-.78 2.05 0 2.83L4 21.41c.39.39.9.59 1.41.59.51 0 1.02-.2 1.41-.59l7.78-7.78 2.81-2.81c.8-.78.8-2.07 0-2.86zM5.41 20L4 18.59l7.72-7.72 1.47 1.35L5.41 20z\"/>\n",
              "  </svg>\n",
              "      </button>\n",
              "      \n",
              "  <style>\n",
              "    .colab-df-container {\n",
              "      display:flex;\n",
              "      flex-wrap:wrap;\n",
              "      gap: 12px;\n",
              "    }\n",
              "\n",
              "    .colab-df-convert {\n",
              "      background-color: #E8F0FE;\n",
              "      border: none;\n",
              "      border-radius: 50%;\n",
              "      cursor: pointer;\n",
              "      display: none;\n",
              "      fill: #1967D2;\n",
              "      height: 32px;\n",
              "      padding: 0 0 0 0;\n",
              "      width: 32px;\n",
              "    }\n",
              "\n",
              "    .colab-df-convert:hover {\n",
              "      background-color: #E2EBFA;\n",
              "      box-shadow: 0px 1px 2px rgba(60, 64, 67, 0.3), 0px 1px 3px 1px rgba(60, 64, 67, 0.15);\n",
              "      fill: #174EA6;\n",
              "    }\n",
              "\n",
              "    [theme=dark] .colab-df-convert {\n",
              "      background-color: #3B4455;\n",
              "      fill: #D2E3FC;\n",
              "    }\n",
              "\n",
              "    [theme=dark] .colab-df-convert:hover {\n",
              "      background-color: #434B5C;\n",
              "      box-shadow: 0px 1px 3px 1px rgba(0, 0, 0, 0.15);\n",
              "      filter: drop-shadow(0px 1px 2px rgba(0, 0, 0, 0.3));\n",
              "      fill: #FFFFFF;\n",
              "    }\n",
              "  </style>\n",
              "\n",
              "      <script>\n",
              "        const buttonEl =\n",
              "          document.querySelector('#df-626c1acd-97c5-47d4-bf23-54e250a8bbe7 button.colab-df-convert');\n",
              "        buttonEl.style.display =\n",
              "          google.colab.kernel.accessAllowed ? 'block' : 'none';\n",
              "\n",
              "        async function convertToInteractive(key) {\n",
              "          const element = document.querySelector('#df-626c1acd-97c5-47d4-bf23-54e250a8bbe7');\n",
              "          const dataTable =\n",
              "            await google.colab.kernel.invokeFunction('convertToInteractive',\n",
              "                                                     [key], {});\n",
              "          if (!dataTable) return;\n",
              "\n",
              "          const docLinkHtml = 'Like what you see? Visit the ' +\n",
              "            '<a target=\"_blank\" href=https://colab.research.google.com/notebooks/data_table.ipynb>data table notebook</a>'\n",
              "            + ' to learn more about interactive tables.';\n",
              "          element.innerHTML = '';\n",
              "          dataTable['output_type'] = 'display_data';\n",
              "          await google.colab.output.renderOutput(dataTable, element);\n",
              "          const docLink = document.createElement('div');\n",
              "          docLink.innerHTML = docLinkHtml;\n",
              "          element.appendChild(docLink);\n",
              "        }\n",
              "      </script>\n",
              "    </div>\n",
              "  </div>\n",
              "  "
            ]
          },
          "metadata": {},
          "execution_count": 25
        }
      ]
    },
    {
      "cell_type": "code",
      "source": [
        "#criar um caminho para esse novo arquivo\n",
        "path = 'gs://coexp-epoc/original/combustivel_preco/combusitvel_municipios_2018_2021'\n",
        "#salvar o arquivo na bucket do cliente EPOC\n",
        "df.to_csv(path, index=False)"
      ],
      "metadata": {
        "id": "hsKr4r_ZBvAL"
      },
      "execution_count": null,
      "outputs": []
    },
    {
      "cell_type": "code",
      "source": [
        "#criar um nome para um nome e caminho para o dataset\n",
        "bucket_epoc.blob('original/combustivel_preco/combusitvel_municipios_2022')\n",
        "#ler o data set no bucket de trabalho\n",
        "df = pd.read_excel(comb_preco_orig_2022, skiprows=11)\n",
        "#conferir o dataset\n",
        "df.head(3)"
      ],
      "metadata": {
        "colab": {
          "base_uri": "https://localhost:8080/",
          "height": 292
        },
        "id": "U9pSp9acBvKr",
        "outputId": "17f6e209-5b03-46ad-e36f-4178a77cd43e"
      },
      "execution_count": null,
      "outputs": [
        {
          "output_type": "execute_result",
          "data": {
            "text/plain": [
              "  DATA INICIAL DATA FINAL        REGIÃO             ESTADO  \\\n",
              "0   2022-01-02 2022-01-08       SUDESTE          SAO PAULO   \n",
              "1   2022-01-02 2022-01-08  CENTRO OESTE              GOIAS   \n",
              "2   2022-01-02 2022-01-08           SUL  RIO GRANDE DO SUL   \n",
              "\n",
              "               MUNICÍPIO           PRODUTO  NÚMERO DE POSTOS PESQUISADOS  \\\n",
              "0             ADAMANTINA  ETANOL HIDRATADO                             7   \n",
              "1  AGUAS LINDAS DE GOIAS  ETANOL HIDRATADO                             4   \n",
              "2               ALEGRETE  ETANOL HIDRATADO                             2   \n",
              "\n",
              "  UNIDADE DE MEDIDA  PREÇO MÉDIO REVENDA  DESVIO PADRÃO REVENDA  \\\n",
              "0              R$/l                4.656               0.077786   \n",
              "1              R$/l                5.199               0.000500   \n",
              "2              R$/l                6.845               0.642760   \n",
              "\n",
              "   PREÇO MÍNIMO REVENDA  PREÇO MÁXIMO REVENDA MARGEM MÉDIA REVENDA  \\\n",
              "0                 4.580                 4.790                    -   \n",
              "1                 5.198                 5.199                    -   \n",
              "2                 6.390                 7.299                    -   \n",
              "\n",
              "   COEF DE VARIAÇÃO REVENDA  \n",
              "0                     0.017  \n",
              "1                     0.000  \n",
              "2                     0.094  "
            ],
            "text/html": [
              "\n",
              "  <div id=\"df-66cf62dd-73af-43b6-a7b0-b077fb122d1c\">\n",
              "    <div class=\"colab-df-container\">\n",
              "      <div>\n",
              "<style scoped>\n",
              "    .dataframe tbody tr th:only-of-type {\n",
              "        vertical-align: middle;\n",
              "    }\n",
              "\n",
              "    .dataframe tbody tr th {\n",
              "        vertical-align: top;\n",
              "    }\n",
              "\n",
              "    .dataframe thead th {\n",
              "        text-align: right;\n",
              "    }\n",
              "</style>\n",
              "<table border=\"1\" class=\"dataframe\">\n",
              "  <thead>\n",
              "    <tr style=\"text-align: right;\">\n",
              "      <th></th>\n",
              "      <th>DATA INICIAL</th>\n",
              "      <th>DATA FINAL</th>\n",
              "      <th>REGIÃO</th>\n",
              "      <th>ESTADO</th>\n",
              "      <th>MUNICÍPIO</th>\n",
              "      <th>PRODUTO</th>\n",
              "      <th>NÚMERO DE POSTOS PESQUISADOS</th>\n",
              "      <th>UNIDADE DE MEDIDA</th>\n",
              "      <th>PREÇO MÉDIO REVENDA</th>\n",
              "      <th>DESVIO PADRÃO REVENDA</th>\n",
              "      <th>PREÇO MÍNIMO REVENDA</th>\n",
              "      <th>PREÇO MÁXIMO REVENDA</th>\n",
              "      <th>MARGEM MÉDIA REVENDA</th>\n",
              "      <th>COEF DE VARIAÇÃO REVENDA</th>\n",
              "    </tr>\n",
              "  </thead>\n",
              "  <tbody>\n",
              "    <tr>\n",
              "      <th>0</th>\n",
              "      <td>2022-01-02</td>\n",
              "      <td>2022-01-08</td>\n",
              "      <td>SUDESTE</td>\n",
              "      <td>SAO PAULO</td>\n",
              "      <td>ADAMANTINA</td>\n",
              "      <td>ETANOL HIDRATADO</td>\n",
              "      <td>7</td>\n",
              "      <td>R$/l</td>\n",
              "      <td>4.656</td>\n",
              "      <td>0.077786</td>\n",
              "      <td>4.580</td>\n",
              "      <td>4.790</td>\n",
              "      <td>-</td>\n",
              "      <td>0.017</td>\n",
              "    </tr>\n",
              "    <tr>\n",
              "      <th>1</th>\n",
              "      <td>2022-01-02</td>\n",
              "      <td>2022-01-08</td>\n",
              "      <td>CENTRO OESTE</td>\n",
              "      <td>GOIAS</td>\n",
              "      <td>AGUAS LINDAS DE GOIAS</td>\n",
              "      <td>ETANOL HIDRATADO</td>\n",
              "      <td>4</td>\n",
              "      <td>R$/l</td>\n",
              "      <td>5.199</td>\n",
              "      <td>0.000500</td>\n",
              "      <td>5.198</td>\n",
              "      <td>5.199</td>\n",
              "      <td>-</td>\n",
              "      <td>0.000</td>\n",
              "    </tr>\n",
              "    <tr>\n",
              "      <th>2</th>\n",
              "      <td>2022-01-02</td>\n",
              "      <td>2022-01-08</td>\n",
              "      <td>SUL</td>\n",
              "      <td>RIO GRANDE DO SUL</td>\n",
              "      <td>ALEGRETE</td>\n",
              "      <td>ETANOL HIDRATADO</td>\n",
              "      <td>2</td>\n",
              "      <td>R$/l</td>\n",
              "      <td>6.845</td>\n",
              "      <td>0.642760</td>\n",
              "      <td>6.390</td>\n",
              "      <td>7.299</td>\n",
              "      <td>-</td>\n",
              "      <td>0.094</td>\n",
              "    </tr>\n",
              "  </tbody>\n",
              "</table>\n",
              "</div>\n",
              "      <button class=\"colab-df-convert\" onclick=\"convertToInteractive('df-66cf62dd-73af-43b6-a7b0-b077fb122d1c')\"\n",
              "              title=\"Convert this dataframe to an interactive table.\"\n",
              "              style=\"display:none;\">\n",
              "        \n",
              "  <svg xmlns=\"http://www.w3.org/2000/svg\" height=\"24px\"viewBox=\"0 0 24 24\"\n",
              "       width=\"24px\">\n",
              "    <path d=\"M0 0h24v24H0V0z\" fill=\"none\"/>\n",
              "    <path d=\"M18.56 5.44l.94 2.06.94-2.06 2.06-.94-2.06-.94-.94-2.06-.94 2.06-2.06.94zm-11 1L8.5 8.5l.94-2.06 2.06-.94-2.06-.94L8.5 2.5l-.94 2.06-2.06.94zm10 10l.94 2.06.94-2.06 2.06-.94-2.06-.94-.94-2.06-.94 2.06-2.06.94z\"/><path d=\"M17.41 7.96l-1.37-1.37c-.4-.4-.92-.59-1.43-.59-.52 0-1.04.2-1.43.59L10.3 9.45l-7.72 7.72c-.78.78-.78 2.05 0 2.83L4 21.41c.39.39.9.59 1.41.59.51 0 1.02-.2 1.41-.59l7.78-7.78 2.81-2.81c.8-.78.8-2.07 0-2.86zM5.41 20L4 18.59l7.72-7.72 1.47 1.35L5.41 20z\"/>\n",
              "  </svg>\n",
              "      </button>\n",
              "      \n",
              "  <style>\n",
              "    .colab-df-container {\n",
              "      display:flex;\n",
              "      flex-wrap:wrap;\n",
              "      gap: 12px;\n",
              "    }\n",
              "\n",
              "    .colab-df-convert {\n",
              "      background-color: #E8F0FE;\n",
              "      border: none;\n",
              "      border-radius: 50%;\n",
              "      cursor: pointer;\n",
              "      display: none;\n",
              "      fill: #1967D2;\n",
              "      height: 32px;\n",
              "      padding: 0 0 0 0;\n",
              "      width: 32px;\n",
              "    }\n",
              "\n",
              "    .colab-df-convert:hover {\n",
              "      background-color: #E2EBFA;\n",
              "      box-shadow: 0px 1px 2px rgba(60, 64, 67, 0.3), 0px 1px 3px 1px rgba(60, 64, 67, 0.15);\n",
              "      fill: #174EA6;\n",
              "    }\n",
              "\n",
              "    [theme=dark] .colab-df-convert {\n",
              "      background-color: #3B4455;\n",
              "      fill: #D2E3FC;\n",
              "    }\n",
              "\n",
              "    [theme=dark] .colab-df-convert:hover {\n",
              "      background-color: #434B5C;\n",
              "      box-shadow: 0px 1px 3px 1px rgba(0, 0, 0, 0.15);\n",
              "      filter: drop-shadow(0px 1px 2px rgba(0, 0, 0, 0.3));\n",
              "      fill: #FFFFFF;\n",
              "    }\n",
              "  </style>\n",
              "\n",
              "      <script>\n",
              "        const buttonEl =\n",
              "          document.querySelector('#df-66cf62dd-73af-43b6-a7b0-b077fb122d1c button.colab-df-convert');\n",
              "        buttonEl.style.display =\n",
              "          google.colab.kernel.accessAllowed ? 'block' : 'none';\n",
              "\n",
              "        async function convertToInteractive(key) {\n",
              "          const element = document.querySelector('#df-66cf62dd-73af-43b6-a7b0-b077fb122d1c');\n",
              "          const dataTable =\n",
              "            await google.colab.kernel.invokeFunction('convertToInteractive',\n",
              "                                                     [key], {});\n",
              "          if (!dataTable) return;\n",
              "\n",
              "          const docLinkHtml = 'Like what you see? Visit the ' +\n",
              "            '<a target=\"_blank\" href=https://colab.research.google.com/notebooks/data_table.ipynb>data table notebook</a>'\n",
              "            + ' to learn more about interactive tables.';\n",
              "          element.innerHTML = '';\n",
              "          dataTable['output_type'] = 'display_data';\n",
              "          await google.colab.output.renderOutput(dataTable, element);\n",
              "          const docLink = document.createElement('div');\n",
              "          docLink.innerHTML = docLinkHtml;\n",
              "          element.appendChild(docLink);\n",
              "        }\n",
              "      </script>\n",
              "    </div>\n",
              "  </div>\n",
              "  "
            ]
          },
          "metadata": {},
          "execution_count": 28
        }
      ]
    },
    {
      "cell_type": "code",
      "source": [
        "#criar um caminho para esse novo arquivo\n",
        "path = 'gs://coexp-epoc/original/combustivel_preco/combusitvel_municipios_2022'\n",
        "#salvar o arquivo na bucket do cliente EPOC\n",
        "df.to_csv(path, index=False)"
      ],
      "metadata": {
        "id": "RAiynoTiBvKr"
      },
      "execution_count": null,
      "outputs": []
    },
    {
      "cell_type": "markdown",
      "source": [
        "Enviar os dataset em csv - dataset original"
      ],
      "metadata": {
        "id": "rb3iyz75IFkm"
      }
    },
    {
      "cell_type": "code",
      "source": [
        "#criar um nome para um nome e caminho para o dataset\n",
        "bucket_epoc.blob('original/combustivel_quantidade/combusitvel_vendas_segmento_m3_2012_2022')\n",
        "#ler o data set no bucket de trabalho\n",
        "df = pd.read_csv(comb_qtd_orig_1, sep=';')\n",
        "#conferir o dataset\n",
        "df.head(3)"
      ],
      "metadata": {
        "colab": {
          "base_uri": "https://localhost:8080/",
          "height": 143
        },
        "id": "4iN7M1B2BvVS",
        "outputId": "88fcb2de-c88e-49c7-95da-26a2088e1327"
      },
      "execution_count": null,
      "outputs": [
        {
          "output_type": "execute_result",
          "data": {
            "text/plain": [
              "    ANO  MÊS UNIDADE DA FEDERAÇÃO           PRODUTO          SEGMENTO VENDAS\n",
              "0  2012  JAN             RONDÔNIA  ETANOL HIDRATADO               TRR      0\n",
              "1  2012  DEZ     DISTRITO FEDERAL  ETANOL HIDRATADO  CONSUMIDOR FINAL     35\n",
              "2  2012  NOV     DISTRITO FEDERAL  ETANOL HIDRATADO  CONSUMIDOR FINAL     28"
            ],
            "text/html": [
              "\n",
              "  <div id=\"df-087be702-9c55-4b0e-8216-003c8d90c772\">\n",
              "    <div class=\"colab-df-container\">\n",
              "      <div>\n",
              "<style scoped>\n",
              "    .dataframe tbody tr th:only-of-type {\n",
              "        vertical-align: middle;\n",
              "    }\n",
              "\n",
              "    .dataframe tbody tr th {\n",
              "        vertical-align: top;\n",
              "    }\n",
              "\n",
              "    .dataframe thead th {\n",
              "        text-align: right;\n",
              "    }\n",
              "</style>\n",
              "<table border=\"1\" class=\"dataframe\">\n",
              "  <thead>\n",
              "    <tr style=\"text-align: right;\">\n",
              "      <th></th>\n",
              "      <th>ANO</th>\n",
              "      <th>MÊS</th>\n",
              "      <th>UNIDADE DA FEDERAÇÃO</th>\n",
              "      <th>PRODUTO</th>\n",
              "      <th>SEGMENTO</th>\n",
              "      <th>VENDAS</th>\n",
              "    </tr>\n",
              "  </thead>\n",
              "  <tbody>\n",
              "    <tr>\n",
              "      <th>0</th>\n",
              "      <td>2012</td>\n",
              "      <td>JAN</td>\n",
              "      <td>RONDÔNIA</td>\n",
              "      <td>ETANOL HIDRATADO</td>\n",
              "      <td>TRR</td>\n",
              "      <td>0</td>\n",
              "    </tr>\n",
              "    <tr>\n",
              "      <th>1</th>\n",
              "      <td>2012</td>\n",
              "      <td>DEZ</td>\n",
              "      <td>DISTRITO FEDERAL</td>\n",
              "      <td>ETANOL HIDRATADO</td>\n",
              "      <td>CONSUMIDOR FINAL</td>\n",
              "      <td>35</td>\n",
              "    </tr>\n",
              "    <tr>\n",
              "      <th>2</th>\n",
              "      <td>2012</td>\n",
              "      <td>NOV</td>\n",
              "      <td>DISTRITO FEDERAL</td>\n",
              "      <td>ETANOL HIDRATADO</td>\n",
              "      <td>CONSUMIDOR FINAL</td>\n",
              "      <td>28</td>\n",
              "    </tr>\n",
              "  </tbody>\n",
              "</table>\n",
              "</div>\n",
              "      <button class=\"colab-df-convert\" onclick=\"convertToInteractive('df-087be702-9c55-4b0e-8216-003c8d90c772')\"\n",
              "              title=\"Convert this dataframe to an interactive table.\"\n",
              "              style=\"display:none;\">\n",
              "        \n",
              "  <svg xmlns=\"http://www.w3.org/2000/svg\" height=\"24px\"viewBox=\"0 0 24 24\"\n",
              "       width=\"24px\">\n",
              "    <path d=\"M0 0h24v24H0V0z\" fill=\"none\"/>\n",
              "    <path d=\"M18.56 5.44l.94 2.06.94-2.06 2.06-.94-2.06-.94-.94-2.06-.94 2.06-2.06.94zm-11 1L8.5 8.5l.94-2.06 2.06-.94-2.06-.94L8.5 2.5l-.94 2.06-2.06.94zm10 10l.94 2.06.94-2.06 2.06-.94-2.06-.94-.94-2.06-.94 2.06-2.06.94z\"/><path d=\"M17.41 7.96l-1.37-1.37c-.4-.4-.92-.59-1.43-.59-.52 0-1.04.2-1.43.59L10.3 9.45l-7.72 7.72c-.78.78-.78 2.05 0 2.83L4 21.41c.39.39.9.59 1.41.59.51 0 1.02-.2 1.41-.59l7.78-7.78 2.81-2.81c.8-.78.8-2.07 0-2.86zM5.41 20L4 18.59l7.72-7.72 1.47 1.35L5.41 20z\"/>\n",
              "  </svg>\n",
              "      </button>\n",
              "      \n",
              "  <style>\n",
              "    .colab-df-container {\n",
              "      display:flex;\n",
              "      flex-wrap:wrap;\n",
              "      gap: 12px;\n",
              "    }\n",
              "\n",
              "    .colab-df-convert {\n",
              "      background-color: #E8F0FE;\n",
              "      border: none;\n",
              "      border-radius: 50%;\n",
              "      cursor: pointer;\n",
              "      display: none;\n",
              "      fill: #1967D2;\n",
              "      height: 32px;\n",
              "      padding: 0 0 0 0;\n",
              "      width: 32px;\n",
              "    }\n",
              "\n",
              "    .colab-df-convert:hover {\n",
              "      background-color: #E2EBFA;\n",
              "      box-shadow: 0px 1px 2px rgba(60, 64, 67, 0.3), 0px 1px 3px 1px rgba(60, 64, 67, 0.15);\n",
              "      fill: #174EA6;\n",
              "    }\n",
              "\n",
              "    [theme=dark] .colab-df-convert {\n",
              "      background-color: #3B4455;\n",
              "      fill: #D2E3FC;\n",
              "    }\n",
              "\n",
              "    [theme=dark] .colab-df-convert:hover {\n",
              "      background-color: #434B5C;\n",
              "      box-shadow: 0px 1px 3px 1px rgba(0, 0, 0, 0.15);\n",
              "      filter: drop-shadow(0px 1px 2px rgba(0, 0, 0, 0.3));\n",
              "      fill: #FFFFFF;\n",
              "    }\n",
              "  </style>\n",
              "\n",
              "      <script>\n",
              "        const buttonEl =\n",
              "          document.querySelector('#df-087be702-9c55-4b0e-8216-003c8d90c772 button.colab-df-convert');\n",
              "        buttonEl.style.display =\n",
              "          google.colab.kernel.accessAllowed ? 'block' : 'none';\n",
              "\n",
              "        async function convertToInteractive(key) {\n",
              "          const element = document.querySelector('#df-087be702-9c55-4b0e-8216-003c8d90c772');\n",
              "          const dataTable =\n",
              "            await google.colab.kernel.invokeFunction('convertToInteractive',\n",
              "                                                     [key], {});\n",
              "          if (!dataTable) return;\n",
              "\n",
              "          const docLinkHtml = 'Like what you see? Visit the ' +\n",
              "            '<a target=\"_blank\" href=https://colab.research.google.com/notebooks/data_table.ipynb>data table notebook</a>'\n",
              "            + ' to learn more about interactive tables.';\n",
              "          element.innerHTML = '';\n",
              "          dataTable['output_type'] = 'display_data';\n",
              "          await google.colab.output.renderOutput(dataTable, element);\n",
              "          const docLink = document.createElement('div');\n",
              "          docLink.innerHTML = docLinkHtml;\n",
              "          element.appendChild(docLink);\n",
              "        }\n",
              "      </script>\n",
              "    </div>\n",
              "  </div>\n",
              "  "
            ]
          },
          "metadata": {},
          "execution_count": 37
        }
      ]
    },
    {
      "cell_type": "code",
      "source": [
        "#criar um caminho para esse novo arquivo\n",
        "path = 'gs://coexp-epoc/original/combustivel_quantidade/combusitvel_vendas_segmento_m3_2012_2022'\n",
        "#salvar o arquivo na bucket do cliente EPOC\n",
        "df.to_csv(path, index=False)"
      ],
      "metadata": {
        "id": "cAwcl8iABvVT"
      },
      "execution_count": null,
      "outputs": []
    },
    {
      "cell_type": "code",
      "source": [
        "#criar um nome para um nome e caminho para o dataset\n",
        "bucket_epoc.blob('original/combustivel_quantidade/combusitvel_vendas_glp_m3_2007_2022')\n",
        "#ler o data set no bucket de trabalho\n",
        "df = pd.read_csv(comb_qtd_orig_2, sep=';')\n",
        "#conferir o dataset\n",
        "df.head(3)"
      ],
      "metadata": {
        "colab": {
          "base_uri": "https://localhost:8080/",
          "height": 143
        },
        "id": "5hocofq7BvjZ",
        "outputId": "b292af94-16eb-4a8e-c306-530bb386771c"
      },
      "execution_count": null,
      "outputs": [
        {
          "output_type": "execute_result",
          "data": {
            "text/plain": [
              "    ANO  MÊS GRANDE REGIÃO UNIDADE DA FEDERAÇÃO      VASILHAME       VENDAS\n",
              "0  2007  JAN  REGIÃO NORTE             RONDÔNIA  GLP - Até P13  5296,306159\n",
              "1  2007  FEV  REGIÃO NORTE             RONDÔNIA  GLP - Até P13  5208,173913\n",
              "2  2007  MAR  REGIÃO NORTE             RONDÔNIA  GLP - Até P13  5716,313406"
            ],
            "text/html": [
              "\n",
              "  <div id=\"df-9bfca19f-bec9-46dd-aee5-0b8592ad672b\">\n",
              "    <div class=\"colab-df-container\">\n",
              "      <div>\n",
              "<style scoped>\n",
              "    .dataframe tbody tr th:only-of-type {\n",
              "        vertical-align: middle;\n",
              "    }\n",
              "\n",
              "    .dataframe tbody tr th {\n",
              "        vertical-align: top;\n",
              "    }\n",
              "\n",
              "    .dataframe thead th {\n",
              "        text-align: right;\n",
              "    }\n",
              "</style>\n",
              "<table border=\"1\" class=\"dataframe\">\n",
              "  <thead>\n",
              "    <tr style=\"text-align: right;\">\n",
              "      <th></th>\n",
              "      <th>ANO</th>\n",
              "      <th>MÊS</th>\n",
              "      <th>GRANDE REGIÃO</th>\n",
              "      <th>UNIDADE DA FEDERAÇÃO</th>\n",
              "      <th>VASILHAME</th>\n",
              "      <th>VENDAS</th>\n",
              "    </tr>\n",
              "  </thead>\n",
              "  <tbody>\n",
              "    <tr>\n",
              "      <th>0</th>\n",
              "      <td>2007</td>\n",
              "      <td>JAN</td>\n",
              "      <td>REGIÃO NORTE</td>\n",
              "      <td>RONDÔNIA</td>\n",
              "      <td>GLP - Até P13</td>\n",
              "      <td>5296,306159</td>\n",
              "    </tr>\n",
              "    <tr>\n",
              "      <th>1</th>\n",
              "      <td>2007</td>\n",
              "      <td>FEV</td>\n",
              "      <td>REGIÃO NORTE</td>\n",
              "      <td>RONDÔNIA</td>\n",
              "      <td>GLP - Até P13</td>\n",
              "      <td>5208,173913</td>\n",
              "    </tr>\n",
              "    <tr>\n",
              "      <th>2</th>\n",
              "      <td>2007</td>\n",
              "      <td>MAR</td>\n",
              "      <td>REGIÃO NORTE</td>\n",
              "      <td>RONDÔNIA</td>\n",
              "      <td>GLP - Até P13</td>\n",
              "      <td>5716,313406</td>\n",
              "    </tr>\n",
              "  </tbody>\n",
              "</table>\n",
              "</div>\n",
              "      <button class=\"colab-df-convert\" onclick=\"convertToInteractive('df-9bfca19f-bec9-46dd-aee5-0b8592ad672b')\"\n",
              "              title=\"Convert this dataframe to an interactive table.\"\n",
              "              style=\"display:none;\">\n",
              "        \n",
              "  <svg xmlns=\"http://www.w3.org/2000/svg\" height=\"24px\"viewBox=\"0 0 24 24\"\n",
              "       width=\"24px\">\n",
              "    <path d=\"M0 0h24v24H0V0z\" fill=\"none\"/>\n",
              "    <path d=\"M18.56 5.44l.94 2.06.94-2.06 2.06-.94-2.06-.94-.94-2.06-.94 2.06-2.06.94zm-11 1L8.5 8.5l.94-2.06 2.06-.94-2.06-.94L8.5 2.5l-.94 2.06-2.06.94zm10 10l.94 2.06.94-2.06 2.06-.94-2.06-.94-.94-2.06-.94 2.06-2.06.94z\"/><path d=\"M17.41 7.96l-1.37-1.37c-.4-.4-.92-.59-1.43-.59-.52 0-1.04.2-1.43.59L10.3 9.45l-7.72 7.72c-.78.78-.78 2.05 0 2.83L4 21.41c.39.39.9.59 1.41.59.51 0 1.02-.2 1.41-.59l7.78-7.78 2.81-2.81c.8-.78.8-2.07 0-2.86zM5.41 20L4 18.59l7.72-7.72 1.47 1.35L5.41 20z\"/>\n",
              "  </svg>\n",
              "      </button>\n",
              "      \n",
              "  <style>\n",
              "    .colab-df-container {\n",
              "      display:flex;\n",
              "      flex-wrap:wrap;\n",
              "      gap: 12px;\n",
              "    }\n",
              "\n",
              "    .colab-df-convert {\n",
              "      background-color: #E8F0FE;\n",
              "      border: none;\n",
              "      border-radius: 50%;\n",
              "      cursor: pointer;\n",
              "      display: none;\n",
              "      fill: #1967D2;\n",
              "      height: 32px;\n",
              "      padding: 0 0 0 0;\n",
              "      width: 32px;\n",
              "    }\n",
              "\n",
              "    .colab-df-convert:hover {\n",
              "      background-color: #E2EBFA;\n",
              "      box-shadow: 0px 1px 2px rgba(60, 64, 67, 0.3), 0px 1px 3px 1px rgba(60, 64, 67, 0.15);\n",
              "      fill: #174EA6;\n",
              "    }\n",
              "\n",
              "    [theme=dark] .colab-df-convert {\n",
              "      background-color: #3B4455;\n",
              "      fill: #D2E3FC;\n",
              "    }\n",
              "\n",
              "    [theme=dark] .colab-df-convert:hover {\n",
              "      background-color: #434B5C;\n",
              "      box-shadow: 0px 1px 3px 1px rgba(0, 0, 0, 0.15);\n",
              "      filter: drop-shadow(0px 1px 2px rgba(0, 0, 0, 0.3));\n",
              "      fill: #FFFFFF;\n",
              "    }\n",
              "  </style>\n",
              "\n",
              "      <script>\n",
              "        const buttonEl =\n",
              "          document.querySelector('#df-9bfca19f-bec9-46dd-aee5-0b8592ad672b button.colab-df-convert');\n",
              "        buttonEl.style.display =\n",
              "          google.colab.kernel.accessAllowed ? 'block' : 'none';\n",
              "\n",
              "        async function convertToInteractive(key) {\n",
              "          const element = document.querySelector('#df-9bfca19f-bec9-46dd-aee5-0b8592ad672b');\n",
              "          const dataTable =\n",
              "            await google.colab.kernel.invokeFunction('convertToInteractive',\n",
              "                                                     [key], {});\n",
              "          if (!dataTable) return;\n",
              "\n",
              "          const docLinkHtml = 'Like what you see? Visit the ' +\n",
              "            '<a target=\"_blank\" href=https://colab.research.google.com/notebooks/data_table.ipynb>data table notebook</a>'\n",
              "            + ' to learn more about interactive tables.';\n",
              "          element.innerHTML = '';\n",
              "          dataTable['output_type'] = 'display_data';\n",
              "          await google.colab.output.renderOutput(dataTable, element);\n",
              "          const docLink = document.createElement('div');\n",
              "          docLink.innerHTML = docLinkHtml;\n",
              "          element.appendChild(docLink);\n",
              "        }\n",
              "      </script>\n",
              "    </div>\n",
              "  </div>\n",
              "  "
            ]
          },
          "metadata": {},
          "execution_count": 39
        }
      ]
    },
    {
      "cell_type": "code",
      "source": [
        "#criar um caminho para esse novo arquivo\n",
        "path = 'gs://coexp-epoc/original/combustivel_quantidade/combusitvel_vendas_glp_m3_2007_2022'\n",
        "#salvar o arquivo na bucket do cliente EPOC\n",
        "df.to_csv(path, index=False)"
      ],
      "metadata": {
        "id": "3rLzCUGfBvja"
      },
      "execution_count": null,
      "outputs": []
    },
    {
      "cell_type": "code",
      "source": [
        "#criar um nome para um nome e caminho para o dataset\n",
        "bucket_epoc.blob('original/combustivel_quantidade/combusitvel_vendas_oleo_diesel_m3_2013_2022')\n",
        "#ler o data set no bucket de trabalho\n",
        "df = pd.read_csv(comb_qtd_orig_3, sep=';')\n",
        "#conferir o dataset\n",
        "df.head(3)"
      ],
      "metadata": {
        "colab": {
          "base_uri": "https://localhost:8080/",
          "height": 143
        },
        "id": "InTTBaELBvtk",
        "outputId": "bedb1864-e8e7-4731-8b0c-b149b890797c"
      },
      "execution_count": null,
      "outputs": [
        {
          "output_type": "execute_result",
          "data": {
            "text/plain": [
              "    ANO  MÊS GRANDE REGIÃO UNIDADE DA FEDERAÇÃO           PRODUTO   VENDAS\n",
              "0  2013  JAN  REGIÃO NORTE             RONDÔNIA  ÓLEO DIESEL S-10   3517,6\n",
              "1  2013  FEV  REGIÃO NORTE             RONDÔNIA  ÓLEO DIESEL S-10   3681,7\n",
              "2  2013  MAR  REGIÃO NORTE             RONDÔNIA  ÓLEO DIESEL S-10  4700,67"
            ],
            "text/html": [
              "\n",
              "  <div id=\"df-a13b9439-db82-4109-a6db-0f00b223b4e4\">\n",
              "    <div class=\"colab-df-container\">\n",
              "      <div>\n",
              "<style scoped>\n",
              "    .dataframe tbody tr th:only-of-type {\n",
              "        vertical-align: middle;\n",
              "    }\n",
              "\n",
              "    .dataframe tbody tr th {\n",
              "        vertical-align: top;\n",
              "    }\n",
              "\n",
              "    .dataframe thead th {\n",
              "        text-align: right;\n",
              "    }\n",
              "</style>\n",
              "<table border=\"1\" class=\"dataframe\">\n",
              "  <thead>\n",
              "    <tr style=\"text-align: right;\">\n",
              "      <th></th>\n",
              "      <th>ANO</th>\n",
              "      <th>MÊS</th>\n",
              "      <th>GRANDE REGIÃO</th>\n",
              "      <th>UNIDADE DA FEDERAÇÃO</th>\n",
              "      <th>PRODUTO</th>\n",
              "      <th>VENDAS</th>\n",
              "    </tr>\n",
              "  </thead>\n",
              "  <tbody>\n",
              "    <tr>\n",
              "      <th>0</th>\n",
              "      <td>2013</td>\n",
              "      <td>JAN</td>\n",
              "      <td>REGIÃO NORTE</td>\n",
              "      <td>RONDÔNIA</td>\n",
              "      <td>ÓLEO DIESEL S-10</td>\n",
              "      <td>3517,6</td>\n",
              "    </tr>\n",
              "    <tr>\n",
              "      <th>1</th>\n",
              "      <td>2013</td>\n",
              "      <td>FEV</td>\n",
              "      <td>REGIÃO NORTE</td>\n",
              "      <td>RONDÔNIA</td>\n",
              "      <td>ÓLEO DIESEL S-10</td>\n",
              "      <td>3681,7</td>\n",
              "    </tr>\n",
              "    <tr>\n",
              "      <th>2</th>\n",
              "      <td>2013</td>\n",
              "      <td>MAR</td>\n",
              "      <td>REGIÃO NORTE</td>\n",
              "      <td>RONDÔNIA</td>\n",
              "      <td>ÓLEO DIESEL S-10</td>\n",
              "      <td>4700,67</td>\n",
              "    </tr>\n",
              "  </tbody>\n",
              "</table>\n",
              "</div>\n",
              "      <button class=\"colab-df-convert\" onclick=\"convertToInteractive('df-a13b9439-db82-4109-a6db-0f00b223b4e4')\"\n",
              "              title=\"Convert this dataframe to an interactive table.\"\n",
              "              style=\"display:none;\">\n",
              "        \n",
              "  <svg xmlns=\"http://www.w3.org/2000/svg\" height=\"24px\"viewBox=\"0 0 24 24\"\n",
              "       width=\"24px\">\n",
              "    <path d=\"M0 0h24v24H0V0z\" fill=\"none\"/>\n",
              "    <path d=\"M18.56 5.44l.94 2.06.94-2.06 2.06-.94-2.06-.94-.94-2.06-.94 2.06-2.06.94zm-11 1L8.5 8.5l.94-2.06 2.06-.94-2.06-.94L8.5 2.5l-.94 2.06-2.06.94zm10 10l.94 2.06.94-2.06 2.06-.94-2.06-.94-.94-2.06-.94 2.06-2.06.94z\"/><path d=\"M17.41 7.96l-1.37-1.37c-.4-.4-.92-.59-1.43-.59-.52 0-1.04.2-1.43.59L10.3 9.45l-7.72 7.72c-.78.78-.78 2.05 0 2.83L4 21.41c.39.39.9.59 1.41.59.51 0 1.02-.2 1.41-.59l7.78-7.78 2.81-2.81c.8-.78.8-2.07 0-2.86zM5.41 20L4 18.59l7.72-7.72 1.47 1.35L5.41 20z\"/>\n",
              "  </svg>\n",
              "      </button>\n",
              "      \n",
              "  <style>\n",
              "    .colab-df-container {\n",
              "      display:flex;\n",
              "      flex-wrap:wrap;\n",
              "      gap: 12px;\n",
              "    }\n",
              "\n",
              "    .colab-df-convert {\n",
              "      background-color: #E8F0FE;\n",
              "      border: none;\n",
              "      border-radius: 50%;\n",
              "      cursor: pointer;\n",
              "      display: none;\n",
              "      fill: #1967D2;\n",
              "      height: 32px;\n",
              "      padding: 0 0 0 0;\n",
              "      width: 32px;\n",
              "    }\n",
              "\n",
              "    .colab-df-convert:hover {\n",
              "      background-color: #E2EBFA;\n",
              "      box-shadow: 0px 1px 2px rgba(60, 64, 67, 0.3), 0px 1px 3px 1px rgba(60, 64, 67, 0.15);\n",
              "      fill: #174EA6;\n",
              "    }\n",
              "\n",
              "    [theme=dark] .colab-df-convert {\n",
              "      background-color: #3B4455;\n",
              "      fill: #D2E3FC;\n",
              "    }\n",
              "\n",
              "    [theme=dark] .colab-df-convert:hover {\n",
              "      background-color: #434B5C;\n",
              "      box-shadow: 0px 1px 3px 1px rgba(0, 0, 0, 0.15);\n",
              "      filter: drop-shadow(0px 1px 2px rgba(0, 0, 0, 0.3));\n",
              "      fill: #FFFFFF;\n",
              "    }\n",
              "  </style>\n",
              "\n",
              "      <script>\n",
              "        const buttonEl =\n",
              "          document.querySelector('#df-a13b9439-db82-4109-a6db-0f00b223b4e4 button.colab-df-convert');\n",
              "        buttonEl.style.display =\n",
              "          google.colab.kernel.accessAllowed ? 'block' : 'none';\n",
              "\n",
              "        async function convertToInteractive(key) {\n",
              "          const element = document.querySelector('#df-a13b9439-db82-4109-a6db-0f00b223b4e4');\n",
              "          const dataTable =\n",
              "            await google.colab.kernel.invokeFunction('convertToInteractive',\n",
              "                                                     [key], {});\n",
              "          if (!dataTable) return;\n",
              "\n",
              "          const docLinkHtml = 'Like what you see? Visit the ' +\n",
              "            '<a target=\"_blank\" href=https://colab.research.google.com/notebooks/data_table.ipynb>data table notebook</a>'\n",
              "            + ' to learn more about interactive tables.';\n",
              "          element.innerHTML = '';\n",
              "          dataTable['output_type'] = 'display_data';\n",
              "          await google.colab.output.renderOutput(dataTable, element);\n",
              "          const docLink = document.createElement('div');\n",
              "          docLink.innerHTML = docLinkHtml;\n",
              "          element.appendChild(docLink);\n",
              "        }\n",
              "      </script>\n",
              "    </div>\n",
              "  </div>\n",
              "  "
            ]
          },
          "metadata": {},
          "execution_count": 41
        }
      ]
    },
    {
      "cell_type": "code",
      "source": [
        "#criar um caminho para esse novo arquivo\n",
        "path = 'gs://coexp-epoc/original/combustivel_quantidade/combusitvel_vendas_oleo_diesel_m3_2013_2022'\n",
        "#salvar o arquivo na bucket do cliente EPOC\n",
        "df.to_csv(path, index=False)"
      ],
      "metadata": {
        "id": "cd8Dgo5DBvtl"
      },
      "execution_count": null,
      "outputs": []
    }
  ],
  "metadata": {
    "colab": {
      "collapsed_sections": [
        "aBCDkQYXfeqm",
        "nystEv4Jbxa0",
        "MQoQJ15DPso2",
        "0UkJZErveGHx",
        "v1PXNJXFAzfV",
        "GYHYdi0IA5hH",
        "hQZpCCi5Bkkb",
        "0HOp2De9BpM6",
        "PtJD-9j7HcCg",
        "hM-w4jWABuxk"
      ],
      "provenance": [],
      "include_colab_link": true
    },
    "kernelspec": {
      "display_name": "Python 3",
      "name": "python3"
    },
    "language_info": {
      "name": "python"
    }
  },
  "nbformat": 4,
  "nbformat_minor": 0
}