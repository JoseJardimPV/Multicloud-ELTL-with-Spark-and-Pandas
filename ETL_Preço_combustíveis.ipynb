{
  "cells": [
    {
      "cell_type": "markdown",
      "metadata": {
        "colab_type": "text",
        "id": "view-in-github"
      },
      "source": [
        "<a href=\"https://colab.research.google.com/github/MarcosVCS/Projeto-Final---Engenharia-de-Dados---SoulCode/blob/main/ETL_Pre%C3%A7o_combust%C3%ADveis.ipynb\" target=\"_parent\"><img src=\"https://colab.research.google.com/assets/colab-badge.svg\" alt=\"Open In Colab\"/></a>"
      ]
    },
    {
      "cell_type": "markdown",
      "metadata": {
        "id": "QX_QA5b9VpB3"
      },
      "source": [
        "# SETUP"
      ]
    },
    {
      "cell_type": "code",
      "execution_count": null,
      "metadata": {
        "id": "i0F4PEE5qeA0"
      },
      "outputs": [],
      "source": [
        "#instalar biblioteca da google cloud storage file system\n",
        "!pip install gcsfs\n",
        "!pip install pyspark"
      ]
    },
    {
      "cell_type": "code",
      "execution_count": null,
      "metadata": {
        "id": "GwLgLC8dqlIn"
      },
      "outputs": [],
      "source": [
        "import pandas as pd\n",
        "import numpy as np\n",
        "\n",
        "from google.cloud import storage\n",
        "from google.oauth2 import service_account \n",
        "import os\n",
        "import pandas_gbq \n",
        "\n",
        "from pyspark.sql import SparkSession\n",
        "from pyspark.sql.types import *\n",
        "import pyspark.sql.functions as F\n",
        "\n",
        "from IPython.display import clear_output"
      ]
    },
    {
      "cell_type": "code",
      "execution_count": null,
      "metadata": {
        "id": "ojB0NnQ9qbV6"
      },
      "outputs": [],
      "source": [
        "# ACESSO À BUCKET COM DATASETS BRUTOS\n",
        "\n",
        "# FAZER O ACESSO A BUCKET\n",
        "serviceAccount = '/content/chave_bucket_JSON.json' # Chave de acesso à Bucket no Cloud Storage\n",
        "os.environ['GOOGLE_APPLICATION_CREDENTIALS'] = serviceAccount\n",
        "client = storage.Client()             \n",
        "\n",
        "# CRIAR UMA VARIÁVEL PARA RECEBER O NOME DA BUCKET \n",
        "bucket = client.get_bucket('bc26-datasets-comex')"
      ]
    },
    {
      "cell_type": "code",
      "execution_count": null,
      "metadata": {
        "id": "JHBd6mu2Ckdt"
      },
      "outputs": [],
      "source": [
        "# SETUP DISPLAY PANDAS\n",
        "pd.set_option('display.max_columns', 100)"
      ]
    },
    {
      "cell_type": "markdown",
      "metadata": {
        "id": "lRmLma7MVuIY"
      },
      "source": [
        "#Leitura dos dataframes originais"
      ]
    },
    {
      "cell_type": "code",
      "execution_count": null,
      "metadata": {
        "id": "CTncMwsRQ9Ao"
      },
      "outputs": [],
      "source": [
        "# Ler o arquivo vindo da Bucket (Pandas)\n",
        "\n",
        "# Observação: optou-se por importar o arquivo utilizando Pandas\n",
        "# Dados, após agrupamento, serão tratados com PySpark.\n",
        "\n",
        "# Dados de 2013 a 2017\n",
        "df1 = pd.read_excel('gs://bc26-datasets-comex/combustível_semanal_xlsx/semanal-municipios-2013-a-2017.xlsx', skiprows=14)\n",
        "\n",
        "# Dados de 2018 a 2021\n",
        "df2 = pd.read_excel('gs://bc26-datasets-comex/combustível_semanal_xlsx/semanal-municipios-2018-a-2021.xlsx', skiprows=13)\n",
        "\n",
        "# Dados de 2022\n",
        "df3 = pd.read_excel('gs://bc26-datasets-comex/combustível_semanal_xlsx/semanal-municipios-2022.xlsx', skiprows=11)"
      ]
    },
    {
      "cell_type": "markdown",
      "metadata": {
        "id": "FS9yd1VwBAPI"
      },
      "source": [
        "Análise prévia da estrutura dos dataframes originais\n",
        "> Objetivo: juntá-los em um único dataframe\n",
        "\n",
        "\n"
      ]
    },
    {
      "cell_type": "code",
      "execution_count": null,
      "metadata": {
        "colab": {
          "base_uri": "https://localhost:8080/"
        },
        "id": "YOcmZ86pAkvH",
        "outputId": "ee1f1842-206d-4887-bf8d-3113c64d84a2"
      },
      "outputs": [
        {
          "name": "stdout",
          "output_type": "stream",
          "text": [
            "Nº registros df1: 657872\n",
            "Nº registros df2: 420481\n",
            "Nº registros df3: 112567\n",
            "Total de registros nos três df: 1190920\n"
          ]
        }
      ],
      "source": [
        "# Verificar número de registros em cada dataframe\n",
        "\n",
        "print(f'Nº registros df1: {df1.shape[0]}')\n",
        "print(f'Nº registros df2: {df2.shape[0]}')\n",
        "print(f'Nº registros df3: {df3.shape[0]}')\n",
        "print(f'Total de registros nos três df: {df1.shape[0] + df2.shape[0]+ df3.shape[0]}')"
      ]
    },
    {
      "cell_type": "code",
      "execution_count": null,
      "metadata": {
        "id": "Iibp9MgTBYo5"
      },
      "outputs": [],
      "source": [
        "# Visualizando se tabelas são compatíveis\n",
        "\n",
        "# df1.info()\n",
        "# df2.info()\n",
        "df3.info()\n",
        "\n",
        "# DF's 1 e 2 NÃO são compatíveis com DF3 (último dataframe apresenta menos colunas) \n",
        "# Necessário remover colunas dos dataframes 1 e 2"
      ]
    },
    {
      "cell_type": "code",
      "execution_count": null,
      "metadata": {
        "id": "xuLT3wlUFHWy"
      },
      "outputs": [],
      "source": [
        "# Drop de colunas para compatibilização\n",
        "\n",
        "df1.drop(['PREÇO MÉDIO DISTRIBUIÇÃO', 'DESVIO PADRÃO DISTRIBUIÇÃO', 'PREÇO MÍNIMO DISTRIBUIÇÃO', 'PREÇO MÁXIMO DISTRIBUIÇÃO', 'COEF DE VARIAÇÃO DISTRIBUIÇÃO'], axis = 1, inplace = True)\n",
        "df2.drop(['PREÇO MÉDIO DISTRIBUIÇÃO', 'DESVIO PADRÃO DISTRIBUIÇÃO', 'PREÇO MÍNIMO DISTRIBUIÇÃO', 'PREÇO MÁXIMO DISTRIBUIÇÃO', 'COEF DE VARIAÇÃO DISTRIBUIÇÃO'], axis = 1, inplace = True)"
      ]
    },
    {
      "cell_type": "code",
      "execution_count": null,
      "metadata": {
        "colab": {
          "base_uri": "https://localhost:8080/"
        },
        "id": "0koh5KXgBiqd",
        "outputId": "ee100556-dd91-47bb-c562-f54036de872d"
      },
      "outputs": [
        {
          "name": "stdout",
          "output_type": "stream",
          "text": [
            "Nº registros df consolidado: 1190920\n"
          ]
        }
      ],
      "source": [
        "# Consolidando três dataframes em um único\n",
        "\n",
        "df = pd.concat([df1, df2, df3])\n",
        "print(f'Nº registros df consolidado: {df.shape[0]}')"
      ]
    },
    {
      "cell_type": "code",
      "execution_count": null,
      "metadata": {
        "id": "Nf4p83H5jswe"
      },
      "outputs": [],
      "source": [
        "# Fazer backup do dataframe\n",
        "\n",
        "df_backup = df.copy()"
      ]
    },
    {
      "cell_type": "code",
      "execution_count": null,
      "metadata": {
        "id": "Gm3jcykajwcO"
      },
      "outputs": [],
      "source": [
        "# Dropar duplicatas\n",
        "\n",
        "df = df.drop_duplicates()\n",
        "print(f'Foram removidas {df_backup.shape[0] - df.shape[0]} duplicatas')\n",
        "\n",
        "# OBSERVAÇÃO: Não havia registros duplicados"
      ]
    },
    {
      "cell_type": "code",
      "execution_count": null,
      "metadata": {
        "id": "iob3CGzyI6zn"
      },
      "outputs": [],
      "source": [
        "# Transformação das strings \"-\" em NaN (necessário para otimização da tabela)\n",
        "\n",
        "df.replace(['-'], np.NaN, inplace = True)"
      ]
    },
    {
      "cell_type": "code",
      "execution_count": null,
      "metadata": {
        "id": "kJD4Fi_hBnif"
      },
      "outputs": [],
      "source": [
        "# Conversão do dataframe para parquet (ganho de eficiência)\n",
        "\n",
        "df.to_parquet('preco-combustiveis-2013-2022', index = False)"
      ]
    },
    {
      "cell_type": "markdown",
      "metadata": {
        "id": "bIxkS2YhLYcQ"
      },
      "source": [
        "Envio do dataframe único para Cloud Storage"
      ]
    },
    {
      "cell_type": "code",
      "execution_count": null,
      "metadata": {
        "id": "Kh2zdkfkKke1"
      },
      "outputs": [],
      "source": [
        "# Envio do arquivo em parquet para Cloud Storage\n",
        "\n",
        "serviceAccount = '/content/chave_bucket_JSON.json' # Chave de acesso à Bucket no Cloud Storage\n",
        "os.environ['GOOGLE_APPLICATION_CREDENTIALS'] = serviceAccount\n",
        "\n",
        "client = storage.Client()             \n",
        "bucket = client.get_bucket('bc26-datasets-comex')\n",
        "\n",
        "blob = bucket.blob('preco-combustiveis-2013-2022')\n",
        "blob.upload_from_filename('/content/preco-combustiveis-2013-2022')"
      ]
    },
    {
      "cell_type": "markdown",
      "metadata": {
        "id": "1fhcGmSeLc0T"
      },
      "source": [
        "# Análise e tratamento dos dados com PySpark"
      ]
    },
    {
      "cell_type": "markdown",
      "metadata": {
        "id": "_Rfj3uHSSfJ1"
      },
      "source": [
        "Conversão do dataframe de Pandas para PySpark"
      ]
    },
    {
      "cell_type": "code",
      "execution_count": null,
      "metadata": {
        "id": "7h2IaIMaNZrd"
      },
      "outputs": [],
      "source": [
        "# Configurar a variável do ambiente Spark\n",
        "\n",
        "spark = (\n",
        "    SparkSession.builder\n",
        "    .master('local')\n",
        "    .appName('tratamento_combustiveis')\n",
        "    .config('spark.ui.port', '4050')\n",
        "    .config('spark.jars', 'https://storage.googleapis.com/hadoop-lib/gcs/gcs-connector-hadoop2-latest.jar')\n",
        "    .getOrCreate()\n",
        ")"
      ]
    },
    {
      "cell_type": "code",
      "execution_count": null,
      "metadata": {
        "id": "bt9a1OHAM4AG"
      },
      "outputs": [],
      "source": [
        "# Preparar schema para importar dataframe (StructTypes)\n",
        "\n",
        "esquema = (\n",
        "    StructType([\n",
        "        StructField('data_inicial', DateType()),\n",
        "        StructField('data_final', DateType()),\n",
        "        StructField('regiao', StringType()),\n",
        "        StructField('estado', StringType()),\n",
        "        StructField('municipio', StringType()),\n",
        "        StructField('produto', StringType()),\n",
        "        StructField('num_postos_pesquisados', IntegerType()),\n",
        "        StructField('unidade_medida', StringType()),\n",
        "        StructField('preco_medio_revenda', FloatType()),\n",
        "        StructField('desvio_padrao_revenda', FloatType()),\n",
        "        StructField('preco_min_revenda', FloatType()),\n",
        "        StructField('preco_max_revenda', FloatType()),\n",
        "        StructField('margem_media_revenda', FloatType()),\n",
        "        StructField('coef_variacao_revenda', FloatType())\n",
        "    ])\n",
        ")"
      ]
    },
    {
      "cell_type": "code",
      "execution_count": null,
      "metadata": {
        "id": "k4FIftqJTGBh"
      },
      "outputs": [],
      "source": [
        "# Conversão para PySpark (utilizando schema definido - o que renomeará as colunas)\n",
        "\n",
        "dfs = spark.createDataFrame(df, schema = esquema)"
      ]
    },
    {
      "cell_type": "code",
      "execution_count": null,
      "metadata": {
        "colab": {
          "base_uri": "https://localhost:8080/"
        },
        "id": "6ZC3FLtLTsgw",
        "outputId": "e7b2f6fe-2b0a-4523-c0fe-ef5a5cdd59f3"
      },
      "outputs": [
        {
          "name": "stdout",
          "output_type": "stream",
          "text": [
            "+------------+----------+------------+----------------+--------------------+----------------+----------------------+--------------+-------------------+---------------------+-----------------+-----------------+--------------------+---------------------+\n",
            "|data_inicial|data_final|      regiao|          estado|           municipio|         produto|num_postos_pesquisados|unidade_medida|preco_medio_revenda|desvio_padrao_revenda|preco_min_revenda|preco_max_revenda|margem_media_revenda|coef_variacao_revenda|\n",
            "+------------+----------+------------+----------------+--------------------+----------------+----------------------+--------------+-------------------+---------------------+-----------------+-----------------+--------------------+---------------------+\n",
            "|  2012-12-30|2013-01-05|CENTRO OESTE|DISTRITO FEDERAL|            BRASILIA|ETANOL HIDRATADO|                    80|          R$/l|              2.273|          0.022864401|             2.19|            2.299|               0.405|                 0.01|\n",
            "|  2012-12-30|2013-01-05|CENTRO OESTE|           GOIAS|AGUAS LINDAS DE G...|ETANOL HIDRATADO|                     5|          R$/l|              2.134|          0.043358967|             2.09|             2.19|               0.268|                 0.02|\n",
            "|  2012-12-30|2013-01-05|CENTRO OESTE|           GOIAS|            ANAPOLIS|ETANOL HIDRATADO|                    16|          R$/l|              1.865|          0.054574985|             1.69|            1.899|                0.36|                0.029|\n",
            "|  2012-12-30|2013-01-05|CENTRO OESTE|           GOIAS|APARECIDA DE GOIANIA|ETANOL HIDRATADO|                    13|          R$/l|              1.771|           0.02253203|             1.73|             1.79|               0.206|                0.013|\n",
            "|  2012-12-30|2013-01-05|CENTRO OESTE|           GOIAS|        CALDAS NOVAS|ETANOL HIDRATADO|                    12|          R$/l|              1.918|           0.10539576|             1.65|            1.999|               0.376|                0.055|\n",
            "|  2012-12-30|2013-01-05|CENTRO OESTE|           GOIAS|             CATALAO|ETANOL HIDRATADO|                    10|          R$/l|              1.955|          0.044013128|             1.89|            1.999|               0.401|                0.023|\n",
            "|  2012-12-30|2013-01-05|CENTRO OESTE|           GOIAS|             FORMOSA|ETANOL HIDRATADO|                    12|          R$/l|              1.939|           0.08711017|             1.85|            2.089|               0.411|                0.045|\n",
            "|  2012-12-30|2013-01-05|CENTRO OESTE|           GOIAS|             GOIANIA|ETANOL HIDRATADO|                    65|          R$/l|              1.847|          0.070510305|             1.67|             1.99|               0.201|                0.038|\n",
            "|  2012-12-30|2013-01-05|CENTRO OESTE|           GOIAS|            GOIATUBA|ETANOL HIDRATADO|                    10|          R$/l|               1.81|          0.069522895|             1.75|             1.99|                 NaN|                0.038|\n",
            "|  2012-12-30|2013-01-05|CENTRO OESTE|           GOIAS|           ITUMBIARA|ETANOL HIDRATADO|                    18|          R$/l|              1.988|           0.02932336|             1.94|             2.03|               0.357|                0.015|\n",
            "|  2012-12-30|2013-01-05|CENTRO OESTE|           GOIAS|               JATAI|ETANOL HIDRATADO|                    16|          R$/l|              2.013|          0.083914615|             1.88|             2.22|                 NaN|                0.042|\n",
            "|  2012-12-30|2013-01-05|CENTRO OESTE|           GOIAS|            LUZIANIA|ETANOL HIDRATADO|                    13|          R$/l|               2.05|           0.11225018|            1.949|             2.25|                 NaN|                0.055|\n",
            "|  2012-12-30|2013-01-05|CENTRO OESTE|           GOIAS|            MINEIROS|ETANOL HIDRATADO|                     7|          R$/l|              2.071|           0.02035401|             2.05|             2.09|               0.431|                 0.01|\n",
            "|  2012-12-30|2013-01-05|CENTRO OESTE|           GOIAS|           MORRINHOS|ETANOL HIDRATADO|                    11|          R$/l|               1.69|                  0.0|             1.69|             1.69|                 NaN|                  0.0|\n",
            "|  2012-12-30|2013-01-05|CENTRO OESTE|           GOIAS| PLANALTINA DE GOIAS|ETANOL HIDRATADO|                     5|          R$/l|              1.996|            0.0304959|             1.98|             2.05|               0.241|                0.015|\n",
            "|  2012-12-30|2013-01-05|CENTRO OESTE|           GOIAS|           PORANGATU|ETANOL HIDRATADO|                     7|          R$/l|              1.963|            0.0466716|             1.89|             1.99|               0.241|                0.024|\n",
            "|  2012-12-30|2013-01-05|CENTRO OESTE|           GOIAS|           RIO VERDE|ETANOL HIDRATADO|                    18|          R$/l|              1.928|            0.0449255|             1.89|             1.99|                 NaN|                0.023|\n",
            "|  2012-12-30|2013-01-05|CENTRO OESTE|           GOIAS|            TRINDADE|ETANOL HIDRATADO|                     7|          R$/l|              1.851|          0.088774726|             1.73|             1.99|               0.203|                0.048|\n",
            "|  2012-12-30|2013-01-05|CENTRO OESTE|           GOIAS| VALPARAISO DE GOIAS|ETANOL HIDRATADO|                    10|          R$/l|              2.248|         0.0063245553|             2.23|             2.25|               0.191|                0.003|\n",
            "|  2012-12-30|2013-01-05|CENTRO OESTE|     MATO GROSSO|       ALTA FLORESTA|ETANOL HIDRATADO|                    10|          R$/l|              1.986|          0.014298407|             1.96|              2.0|                 NaN|                0.007|\n",
            "+------------+----------+------------+----------------+--------------------+----------------+----------------------+--------------+-------------------+---------------------+-----------------+-----------------+--------------------+---------------------+\n",
            "only showing top 20 rows\n",
            "\n"
          ]
        }
      ],
      "source": [
        "dfs.show()"
      ]
    },
    {
      "cell_type": "code",
      "execution_count": null,
      "metadata": {
        "colab": {
          "base_uri": "https://localhost:8080/"
        },
        "id": "VpZCDTJ8Sg70",
        "outputId": "93cd89a8-7d73-4a09-fe99-2a699a2f322f"
      },
      "outputs": [
        {
          "name": "stdout",
          "output_type": "stream",
          "text": [
            "root\n",
            " |-- data_inicial: date (nullable = true)\n",
            " |-- data_final: date (nullable = true)\n",
            " |-- regiao: string (nullable = true)\n",
            " |-- estado: string (nullable = true)\n",
            " |-- municipio: string (nullable = true)\n",
            " |-- produto: string (nullable = true)\n",
            " |-- num_postos_pesquisados: integer (nullable = true)\n",
            " |-- unidade_medida: string (nullable = true)\n",
            " |-- preco_medio_revenda: float (nullable = true)\n",
            " |-- desvio_padrao_revenda: float (nullable = true)\n",
            " |-- preco_min_revenda: float (nullable = true)\n",
            " |-- preco_max_revenda: float (nullable = true)\n",
            " |-- margem_media_revenda: float (nullable = true)\n",
            " |-- coef_variacao_revenda: float (nullable = true)\n",
            "\n"
          ]
        }
      ],
      "source": [
        "dfs.printSchema()"
      ]
    },
    {
      "cell_type": "code",
      "execution_count": null,
      "metadata": {
        "colab": {
          "base_uri": "https://localhost:8080/"
        },
        "id": "H3RuljYKS3L_",
        "outputId": "b65f06ee-eae0-4cd1-8157-113e0f148433"
      },
      "outputs": [
        {
          "data": {
            "text/plain": [
              "1190920"
            ]
          },
          "execution_count": 38,
          "metadata": {},
          "output_type": "execute_result"
        }
      ],
      "source": [
        "dfs.count()"
      ]
    },
    {
      "cell_type": "code",
      "execution_count": null,
      "metadata": {
        "id": "xbALSzIaZlX1"
      },
      "outputs": [],
      "source": [
        "# Criar backup no PySpark\n",
        "\n",
        "dfs_back = dfs"
      ]
    },
    {
      "cell_type": "markdown",
      "metadata": {
        "id": "WfTQ61kJmCOx"
      },
      "source": [
        "## Análise dos dados contidos nas colunas e correções pontuais"
      ]
    },
    {
      "cell_type": "code",
      "execution_count": null,
      "metadata": {
        "colab": {
          "base_uri": "https://localhost:8080/"
        },
        "id": "aBJLfJvXmJ_t",
        "outputId": "604d97c1-865a-4331-d10f-727eaf5e29d9"
      },
      "outputs": [
        {
          "name": "stdout",
          "output_type": "stream",
          "text": [
            "+------------+------+\n",
            "|      regiao| count|\n",
            "+------------+------+\n",
            "|CENTRO OESTE| 78213|\n",
            "|       NORTE| 93435|\n",
            "|         SUL|222533|\n",
            "|    NORDESTE|253619|\n",
            "|     SUDESTE|543120|\n",
            "+------------+------+\n",
            "\n"
          ]
        }
      ],
      "source": [
        "dfs.groupBy('regiao').count().orderBy('count').show()\n",
        "\n",
        "# OK"
      ]
    },
    {
      "cell_type": "code",
      "execution_count": null,
      "metadata": {
        "colab": {
          "base_uri": "https://localhost:8080/"
        },
        "id": "q4VZLdG5mqgd",
        "outputId": "4a7fc0d5-fa24-46cb-87ce-64566ba9dc66"
      },
      "outputs": [
        {
          "name": "stdout",
          "output_type": "stream",
          "text": [
            "+-------------------+------+\n",
            "|             estado| count|\n",
            "+-------------------+------+\n",
            "|   DISTRITO FEDERAL|  2707|\n",
            "|            RORAIMA|  4964|\n",
            "|              AMAPA|  5935|\n",
            "|               ACRE|  7247|\n",
            "|              PIAUI| 11731|\n",
            "|           AMAZONAS| 12056|\n",
            "|          TOCANTINS| 12283|\n",
            "|            SERGIPE| 12326|\n",
            "|RIO GRANDE DO NORTE| 13147|\n",
            "|            ALAGOAS| 14757|\n",
            "|           RONDONIA| 15610|\n",
            "| MATO GROSSO DO SUL| 17878|\n",
            "|        MATO GROSSO| 17956|\n",
            "|            PARAIBA| 18696|\n",
            "|           MARANHAO| 28865|\n",
            "|     ESPIRITO SANTO| 30270|\n",
            "|              CEARA| 33951|\n",
            "|               PARA| 35340|\n",
            "|              GOIAS| 39672|\n",
            "|         PERNAMBUCO| 47535|\n",
            "|     SANTA CATARINA| 56043|\n",
            "|             PARANA| 70125|\n",
            "|              BAHIA| 72611|\n",
            "|     RIO DE JANEIRO| 89430|\n",
            "|  RIO GRANDE DO SUL| 96365|\n",
            "|       MINAS GERAIS|142213|\n",
            "|          SAO PAULO|281207|\n",
            "+-------------------+------+\n",
            "\n"
          ]
        }
      ],
      "source": [
        "dfs.groupBy('estado').count().orderBy('count').show(30)\n",
        "\n",
        "# OK"
      ]
    },
    {
      "cell_type": "code",
      "execution_count": null,
      "metadata": {
        "id": "i0-cTFTEm3mm"
      },
      "outputs": [],
      "source": [
        "# Análise dos municípios (filtrados por estado)\n",
        "\n",
        "ordem = 'asc'\n",
        "\n",
        "lista_UF = ['RIO DE JANEIRO','RIO GRANDE DO SUL','RONDONIA','MATO GROSSO','ESPIRITO SANTO','SERGIPE','AMAZONAS','RIO GRANDE DO NORTE','SANTA CATARINA','PARAIBA','GOIAS','MINAS GERAIS','SAO PAULO','PARANA','ALAGOAS',\n",
        "'MARANHAO','DISTRITO FEDERAL','PIAUI','ACRE','PARA','MATO GROSSO DO SUL','BAHIA','PERNAMBUCO','CEARA','AMAPA','TOCANTINS','RORAIMA']\n",
        "\n",
        "for UF in lista_UF:\n",
        "  df_uf = dfs.filter(F.col('estado') == UF)\n",
        "\n",
        "  if ordem == 'desc':\n",
        "    df_uf.groupBy('municipio').count().orderBy(F.col('count').desc()).show(30, truncate = False)\n",
        "    print(f'UF: {UF}')\n",
        "    controle = input('aperte enter')\n",
        "    clear_output(wait = True)\n",
        "  elif ordem == 'asc':\n",
        "    df_uf.groupBy('municipio').count().orderBy(F.col('count').asc()).show(30, truncate = False)\n",
        "    print(f'UF: {UF}')\n",
        "    controle = input('aperte enter')\n",
        "    clear_output(wait = True)\n",
        "  else:\n",
        "    print('erro ao designar ordem')\n",
        "    break\n",
        "  \n",
        "  # OK\n",
        "  # OBSERVAÇÃO: Constatou-se que não são todos os municípios do país que estão representados pela pesquisa"
      ]
    },
    {
      "cell_type": "code",
      "execution_count": null,
      "metadata": {
        "colab": {
          "base_uri": "https://localhost:8080/"
        },
        "id": "Qt02qMehv3WY",
        "outputId": "a5892121-91ae-41aa-cb3a-5018bac74394"
      },
      "outputs": [
        {
          "name": "stdout",
          "output_type": "stream",
          "text": [
            "+------------------+\n",
            "|produto           |\n",
            "+------------------+\n",
            "|ÓLEO DIESEL       |\n",
            "|ETANOL HIDRATADO  |\n",
            "|OLEO DIESEL S10   |\n",
            "|ÓLEO DIESEL S10   |\n",
            "|GASOLINA ADITIVADA|\n",
            "|GASOLINA COMUM    |\n",
            "|GLP               |\n",
            "|OLEO DIESEL       |\n",
            "|GNV               |\n",
            "+------------------+\n",
            "\n"
          ]
        }
      ],
      "source": [
        "dfs.select('produto').distinct().show(truncate = False)\n",
        "\n",
        "# INCONSISTÊNCIA: 'OLEO DIESEL S10' | 'ÓLEO DIESEL S10'\n",
        "# INCONSISTÊNCIA: 'OLEO DIESEL' | 'ÓLEO DIESEL'"
      ]
    },
    {
      "cell_type": "code",
      "execution_count": null,
      "metadata": {
        "id": "jpcOo-ZFxT3E"
      },
      "outputs": [],
      "source": [
        "# Alterar dado 'ÓLEO DIESEL S10' para 'OLEO DIESEL S10'\n",
        "dfs = dfs.withColumn('produto', F.regexp_replace(F.col('produto'), 'ÓLEO DIESEL S10', 'OLEO DIESEL S10'))\n",
        "\n",
        "# Alterar dado 'ÓLEO DIESEL' para 'OLEO DIESEL'\n",
        "dfs = dfs.withColumn('produto', F.regexp_replace(F.col('produto'), 'ÓLEO DIESEL', 'OLEO DIESEL'))"
      ]
    },
    {
      "cell_type": "code",
      "execution_count": null,
      "metadata": {
        "colab": {
          "base_uri": "https://localhost:8080/"
        },
        "id": "OQPGbt7vybqB",
        "outputId": "64c885b8-31c6-4c9d-8d86-d2f2b6e98128"
      },
      "outputs": [
        {
          "name": "stdout",
          "output_type": "stream",
          "text": [
            "+------------+----------+------+------+---------+-------+----------------------+--------------+-------------------+---------------------+-----------------+-----------------+--------------------+---------------------+\n",
            "|data_inicial|data_final|regiao|estado|municipio|produto|num_postos_pesquisados|unidade_medida|preco_medio_revenda|desvio_padrao_revenda|preco_min_revenda|preco_max_revenda|margem_media_revenda|coef_variacao_revenda|\n",
            "+------------+----------+------+------+---------+-------+----------------------+--------------+-------------------+---------------------+-----------------+-----------------+--------------------+---------------------+\n",
            "+------------+----------+------+------+---------+-------+----------------------+--------------+-------------------+---------------------+-----------------+-----------------+--------------------+---------------------+\n",
            "\n"
          ]
        }
      ],
      "source": [
        "# Verificar se existe dado 'num_postos_pesquisados' igual a zero\n",
        "\n",
        "dfs.filter(F.col('num_postos_pesquisados') == 0).show(truncate = False)\n",
        "\n",
        "# OK (não há)"
      ]
    },
    {
      "cell_type": "code",
      "execution_count": null,
      "metadata": {
        "colab": {
          "base_uri": "https://localhost:8080/"
        },
        "id": "K5t1-aF4y_dg",
        "outputId": "a5717c45-237a-49c9-fbbf-538495a85ca4"
      },
      "outputs": [
        {
          "name": "stdout",
          "output_type": "stream",
          "text": [
            "+--------------+\n",
            "|unidade_medida|\n",
            "+--------------+\n",
            "|          R$/l|\n",
            "|       R$/13kg|\n",
            "|         R$/m3|\n",
            "|       R$/13Kg|\n",
            "|         R$/m³|\n",
            "+--------------+\n",
            "\n"
          ]
        }
      ],
      "source": [
        "dfs.select('unidade_medida').distinct().show()\n",
        "\n",
        "# INCONSISTÊNCIA: 'R$/13kg' | 'R$/13Kg'\n",
        "# INCONSISTÊNCIA: 'R$/m3' | 'R$/m³'"
      ]
    },
    {
      "cell_type": "code",
      "execution_count": null,
      "metadata": {
        "id": "bm6Lyts3z3qi"
      },
      "outputs": [],
      "source": [
        "# Alterar dado 'R$/13Kg' para 'R$/13kg'\n",
        "dfs = dfs.withColumn('unidade_medida', F.regexp_replace(F.col('unidade_medida'), 'R$/13Kg', 'R$/13kg'))\n",
        "\n",
        "# Alterar dado 'R$/m³' para 'R$/m3'\n",
        "dfs = dfs.withColumn('unidade_medida', F.regexp_replace(F.col('unidade_medida'), 'R$/m³', 'R$/m3'))"
      ]
    },
    {
      "cell_type": "code",
      "execution_count": null,
      "metadata": {
        "colab": {
          "base_uri": "https://localhost:8080/"
        },
        "id": "riqFm0nS0dcM",
        "outputId": "92d5b0d5-4170-4183-f4c0-281f35ca8aae"
      },
      "outputs": [
        {
          "name": "stdout",
          "output_type": "stream",
          "text": [
            "+-------------------+---------------------+-----------------+-----------------+--------------------+---------------------+\n",
            "|preco_medio_revenda|desvio_padrao_revenda|preco_min_revenda|preco_max_revenda|margem_media_revenda|coef_variacao_revenda|\n",
            "+-------------------+---------------------+-----------------+-----------------+--------------------+---------------------+\n",
            "|              2.273|          0.022864401|             2.19|            2.299|               0.405|                 0.01|\n",
            "|              2.134|          0.043358967|             2.09|             2.19|               0.268|                 0.02|\n",
            "|              1.865|          0.054574985|             1.69|            1.899|                0.36|                0.029|\n",
            "|              1.771|           0.02253203|             1.73|             1.79|               0.206|                0.013|\n",
            "|              1.918|           0.10539576|             1.65|            1.999|               0.376|                0.055|\n",
            "|              1.955|          0.044013128|             1.89|            1.999|               0.401|                0.023|\n",
            "|              1.939|           0.08711017|             1.85|            2.089|               0.411|                0.045|\n",
            "|              1.847|          0.070510305|             1.67|             1.99|               0.201|                0.038|\n",
            "|               1.81|          0.069522895|             1.75|             1.99|                 NaN|                0.038|\n",
            "|              1.988|           0.02932336|             1.94|             2.03|               0.357|                0.015|\n",
            "|              2.013|          0.083914615|             1.88|             2.22|                 NaN|                0.042|\n",
            "|               2.05|           0.11225018|            1.949|             2.25|                 NaN|                0.055|\n",
            "|              2.071|           0.02035401|             2.05|             2.09|               0.431|                 0.01|\n",
            "|               1.69|                  0.0|             1.69|             1.69|                 NaN|                  0.0|\n",
            "|              1.996|            0.0304959|             1.98|             2.05|               0.241|                0.015|\n",
            "|              1.963|            0.0466716|             1.89|             1.99|               0.241|                0.024|\n",
            "|              1.928|            0.0449255|             1.89|             1.99|                 NaN|                0.023|\n",
            "|              1.851|          0.088774726|             1.73|             1.99|               0.203|                0.048|\n",
            "|              2.248|         0.0063245553|             2.23|             2.25|               0.191|                0.003|\n",
            "|              1.986|          0.014298407|             1.96|              2.0|                 NaN|                0.007|\n",
            "+-------------------+---------------------+-----------------+-----------------+--------------------+---------------------+\n",
            "only showing top 20 rows\n",
            "\n"
          ]
        }
      ],
      "source": [
        "# Análise das tabelas contendo números tipo float\n",
        "\n",
        "df_numeros = dfs.select('preco_medio_revenda', 'desvio_padrao_revenda','preco_min_revenda','preco_max_revenda','margem_media_revenda','coef_variacao_revenda')\n",
        "\n",
        "df_numeros.show()"
      ]
    },
    {
      "cell_type": "code",
      "execution_count": null,
      "metadata": {
        "id": "_pJI3Z-Ptp0B"
      },
      "outputs": [],
      "source": [
        "# OK\n",
        "\n",
        "# OBSERVAÇÃO: Decidiu-se arredondar os valores apresentados na coluna 'desvio_padrao_revenda'"
      ]
    },
    {
      "cell_type": "code",
      "execution_count": null,
      "metadata": {
        "colab": {
          "base_uri": "https://localhost:8080/"
        },
        "id": "5KVWnsiTfds-",
        "outputId": "b324272d-621e-41f9-9d41-5430317d8f3f"
      },
      "outputs": [
        {
          "name": "stdout",
          "output_type": "stream",
          "text": [
            "+-------+-------------------+---------------------+------------------+------------------+--------------------+---------------------+\n",
            "|summary|preco_medio_revenda|desvio_padrao_revenda| preco_min_revenda| preco_max_revenda|margem_media_revenda|coef_variacao_revenda|\n",
            "+-------+-------------------+---------------------+------------------+------------------+--------------------+---------------------+\n",
            "|  count|            1190920|              1190920|           1190920|           1190920|             1190920|              1190920|\n",
            "|   mean| 14.571959974782555|   0.5582072164907649|13.800714245278417|15.378508961214727|                 NaN| 0.028934099771588267|\n",
            "| stddev| 24.770948063313433|   1.2672395288321712|23.412371843201896|26.256804794294503|                 NaN|  0.02125809904018538|\n",
            "|    min|              1.349|                  0.0|             1.259|             1.349|               0.002|                  0.0|\n",
            "|    25%|              2.881|          0.049849063|              2.77|              2.99|               0.281|                0.015|\n",
            "|    50%|              3.549|           0.09196769|             3.399|             3.699|               0.441|                0.026|\n",
            "|    75%|              5.914|           0.17538054|             5.749|             6.099|              13.511|                0.039|\n",
            "|    max|             150.83|            32.145504|             150.0|             160.0|                 NaN|                0.491|\n",
            "+-------+-------------------+---------------------+------------------+------------------+--------------------+---------------------+\n",
            "\n"
          ]
        }
      ],
      "source": [
        "#Análise de agregados numéricos\n",
        "\n",
        "df_numeros.summary().show()"
      ]
    },
    {
      "cell_type": "code",
      "execution_count": null,
      "metadata": {
        "id": "LZlnoTWhm3I3"
      },
      "outputs": [],
      "source": [
        "# Arredondar valores apresentados na coluna 'desvio_padrao_revenda' (três casas decimais)\n",
        "\n",
        "dfs = dfs.withColumn('desvio_padrao_revenda', F.round(F.col('desvio_padrao_revenda'), 3))"
      ]
    },
    {
      "cell_type": "code",
      "execution_count": null,
      "metadata": {
        "colab": {
          "base_uri": "https://localhost:8080/"
        },
        "id": "sa5dqXSq1yiJ",
        "outputId": "91910467-4a00-4234-913c-5c01a1dd09f2"
      },
      "outputs": [
        {
          "name": "stdout",
          "output_type": "stream",
          "text": [
            "+------------+----------+------------+-----------+-------------+-------+----------------------+--------------+-------------------+---------------------+-----------------+-----------------+--------------------+---------------------+\n",
            "|data_inicial|data_final|      regiao|     estado|    municipio|produto|num_postos_pesquisados|unidade_medida|preco_medio_revenda|desvio_padrao_revenda|preco_min_revenda|preco_max_revenda|margem_media_revenda|coef_variacao_revenda|\n",
            "+------------+----------+------------+-----------+-------------+-------+----------------------+--------------+-------------------+---------------------+-----------------+-----------------+--------------------+---------------------+\n",
            "|  2017-11-19|2017-11-25|CENTRO OESTE|MATO GROSSO|ALTA FLORESTA|    GLP|                     5|       R$/13kg|              109.2|                3.701|            105.0|            115.0|                 NaN|                0.034|\n",
            "|  2017-12-03|2017-12-09|CENTRO OESTE|MATO GROSSO|ALTA FLORESTA|    GLP|                     5|       R$/13kg|              109.2|                3.701|            105.0|            115.0|                 NaN|                0.034|\n",
            "|  2017-12-31|2018-01-06|CENTRO OESTE|MATO GROSSO|ALTA FLORESTA|    GLP|                     6|       R$/13kg|            110.333|                2.422|            108.0|            115.0|              24.333|                0.022|\n",
            "|  2018-01-07|2018-01-13|CENTRO OESTE|MATO GROSSO|ALTA FLORESTA|    GLP|                     6|       R$/13kg|            110.333|                2.422|            108.0|            115.0|              24.333|                0.022|\n",
            "|  2018-01-14|2018-01-20|CENTRO OESTE|MATO GROSSO|ALTA FLORESTA|    GLP|                     6|       R$/13kg|            111.333|                2.944|            108.0|            115.0|              28.333|                0.026|\n",
            "|  2018-01-21|2018-01-27|CENTRO OESTE|MATO GROSSO|ALTA FLORESTA|    GLP|                     6|       R$/13kg|              110.5|                2.345|            108.0|            115.0|                27.5|                0.021|\n",
            "|  2018-03-11|2018-03-17|CENTRO OESTE|MATO GROSSO|ALTA FLORESTA|    GLP|                     6|       R$/13kg|            108.667|                1.966|            105.0|            110.0|              25.667|                0.018|\n",
            "|  2018-03-18|2018-03-24|CENTRO OESTE|MATO GROSSO|ALTA FLORESTA|    GLP|                     6|       R$/13kg|            108.667|                1.966|            105.0|            110.0|              25.667|                0.018|\n",
            "|  2018-04-22|2018-04-28|CENTRO OESTE|MATO GROSSO|ALTA FLORESTA|    GLP|                     6|       R$/13kg|            109.167|                0.983|            108.0|            110.0|              26.167|                0.009|\n",
            "|  2018-04-29|2018-05-05|CENTRO OESTE|MATO GROSSO|ALTA FLORESTA|    GLP|                     6|       R$/13kg|            108.667|                1.966|            105.0|            110.0|              25.667|                0.018|\n",
            "|  2018-05-06|2018-05-12|CENTRO OESTE|MATO GROSSO|ALTA FLORESTA|    GLP|                     6|       R$/13kg|            108.667|                1.966|            105.0|            110.0|              25.667|                0.018|\n",
            "|  2018-05-13|2018-05-19|CENTRO OESTE|MATO GROSSO|ALTA FLORESTA|    GLP|                     6|       R$/13kg|            108.667|                1.966|            105.0|            110.0|              25.667|                0.018|\n",
            "|  2018-05-20|2018-05-26|CENTRO OESTE|MATO GROSSO|ALTA FLORESTA|    GLP|                     6|       R$/13kg|            108.667|                1.966|            105.0|            110.0|              25.667|                0.018|\n",
            "|  2018-06-10|2018-06-16|CENTRO OESTE|MATO GROSSO|ALTA FLORESTA|    GLP|                     4|       R$/13kg|              107.5|                1.732|            105.0|            109.0|                24.5|                0.016|\n",
            "|  2018-06-17|2018-06-23|CENTRO OESTE|MATO GROSSO|ALTA FLORESTA|    GLP|                     6|       R$/13kg|            107.333|                1.966|            105.0|            110.0|              24.333|                0.018|\n",
            "|  2018-06-24|2018-06-30|CENTRO OESTE|MATO GROSSO|ALTA FLORESTA|    GLP|                     6|       R$/13kg|            107.333|                1.966|            105.0|            110.0|              24.333|                0.018|\n",
            "|  2018-07-01|2018-07-07|CENTRO OESTE|MATO GROSSO|ALTA FLORESTA|    GLP|                     6|       R$/13kg|              108.5|                2.345|            105.0|            112.0|                25.5|                0.022|\n",
            "|  2018-07-08|2018-07-14|CENTRO OESTE|MATO GROSSO|ALTA FLORESTA|    GLP|                     6|       R$/13kg|              108.5|                2.345|            105.0|            112.0|                25.5|                0.022|\n",
            "|  2018-07-15|2018-07-21|CENTRO OESTE|MATO GROSSO|ALTA FLORESTA|    GLP|                     6|       R$/13kg|              109.0|                2.366|            105.0|            112.0|                26.0|                0.022|\n",
            "|  2018-07-15|2018-07-21|CENTRO OESTE|MATO GROSSO|      SORRISO|    GLP|                     8|       R$/13kg|              107.5|                4.629|            105.0|            115.0|                28.5|                0.043|\n",
            "+------------+----------+------------+-----------+-------------+-------+----------------------+--------------+-------------------+---------------------+-----------------+-----------------+--------------------+---------------------+\n",
            "only showing top 20 rows\n",
            "\n"
          ]
        }
      ],
      "source": [
        "# Verifacação de linhas numéricas\n",
        "\n",
        "coluna = 'preco_min_revenda'\n",
        "numero = 100\n",
        "\n",
        "dfs.where(F.col(coluna) > numero).show()\n",
        "\n",
        "# OK"
      ]
    },
    {
      "cell_type": "markdown",
      "metadata": {
        "id": "QGsbeIRV4d_Y"
      },
      "source": [
        "# Salvar dataframe tratado e enviar para Cloud Storage"
      ]
    },
    {
      "cell_type": "code",
      "execution_count": null,
      "metadata": {
        "id": "aonm1D95314y"
      },
      "outputs": [],
      "source": [
        "dfs.write.format('parquet').option('header', 'true').save('/content/precos-combustiveis-2013-2022-TRATADO')"
      ]
    },
    {
      "cell_type": "code",
      "execution_count": null,
      "metadata": {
        "id": "VdwOabix41Jm"
      },
      "outputs": [],
      "source": [
        "# Envio do arquivo em parquet para Cloud Storage\n",
        "\n",
        "serviceAccount = '/content/chave_bucket_JSON.json' # Chave de acesso à Bucket no Cloud Storage\n",
        "os.environ['GOOGLE_APPLICATION_CREDENTIALS'] = serviceAccount\n",
        "\n",
        "client = storage.Client()             \n",
        "bucket = client.get_bucket('bc26-datasets-comex')\n",
        "\n",
        "blob = bucket.blob('preco-combustiveis-2013-2022-TRATAMENTO-OK')\n",
        "blob.upload_from_filename('/content/precos-combustiveis-2013-2022-TRATADO/part-00000-b83e3172-27f6-43d3-b9c3-9700e95517cc-c000.snappy.parquet')"
      ]
    },
    {
      "cell_type": "markdown",
      "metadata": {
        "id": "tJpAjl2qJh7b"
      },
      "source": [
        "# Envio do dataframe tratado para BigQuerry (utilizando Pandas)\n",
        "\n"
      ]
    },
    {
      "cell_type": "code",
      "execution_count": null,
      "metadata": {
        "id": "d3J6vYDfg_ZX"
      },
      "outputs": [],
      "source": [
        "df_bq = pd.read_parquet('gs://bc26-datasets-comex/preco-combustiveis-2013-2022-TRATAMENTO-OK')"
      ]
    },
    {
      "cell_type": "code",
      "execution_count": null,
      "metadata": {
        "colab": {
          "base_uri": "https://localhost:8080/"
        },
        "id": "Lyrni4pXLra3",
        "outputId": "d9de33ef-c773-4c45-9cc2-8d5defb6bb0f"
      },
      "outputs": [
        {
          "data": {
            "text/plain": [
              "data_inicial               object\n",
              "data_final                 object\n",
              "regiao                     object\n",
              "estado                     object\n",
              "municipio                  object\n",
              "produto                    object\n",
              "num_postos_pesquisados      int32\n",
              "unidade_medida             object\n",
              "preco_medio_revenda       float32\n",
              "desvio_padrao_revenda     float32\n",
              "preco_min_revenda         float32\n",
              "preco_max_revenda         float32\n",
              "margem_media_revenda      float32\n",
              "coef_variacao_revenda     float32\n",
              "dtype: object"
            ]
          },
          "execution_count": 81,
          "metadata": {},
          "output_type": "execute_result"
        }
      ],
      "source": [
        "# Visualizar tipos das colunas (após conversão)\n",
        "\n",
        "df_bq.dtypes"
      ]
    },
    {
      "cell_type": "code",
      "execution_count": null,
      "metadata": {
        "id": "r-krtsA1Lr6K"
      },
      "outputs": [],
      "source": [
        "# Convertendo colunas para tipo datetime\n",
        "\n",
        "df_bq['data_inicial'] = pd.to_datetime(df_bq['data_inicial'])\n",
        "\n",
        "df_bq['data_final'] = pd.to_datetime(df_bq['data_final'])"
      ]
    },
    {
      "cell_type": "code",
      "execution_count": null,
      "metadata": {
        "colab": {
          "base_uri": "https://localhost:8080/",
          "height": 391
        },
        "id": "fPRn9Jm_hPRl",
        "outputId": "0ae3f722-128a-4093-c25b-776f91735fd0"
      },
      "outputs": [
        {
          "data": {
            "text/html": [
              "\n",
              "  <div id=\"df-c40fb55a-b163-40b3-99c7-58c12edc979c\">\n",
              "    <div class=\"colab-df-container\">\n",
              "      <div>\n",
              "<style scoped>\n",
              "    .dataframe tbody tr th:only-of-type {\n",
              "        vertical-align: middle;\n",
              "    }\n",
              "\n",
              "    .dataframe tbody tr th {\n",
              "        vertical-align: top;\n",
              "    }\n",
              "\n",
              "    .dataframe thead th {\n",
              "        text-align: right;\n",
              "    }\n",
              "</style>\n",
              "<table border=\"1\" class=\"dataframe\">\n",
              "  <thead>\n",
              "    <tr style=\"text-align: right;\">\n",
              "      <th></th>\n",
              "      <th>data_inicial</th>\n",
              "      <th>data_final</th>\n",
              "      <th>regiao</th>\n",
              "      <th>estado</th>\n",
              "      <th>municipio</th>\n",
              "      <th>produto</th>\n",
              "      <th>num_postos_pesquisados</th>\n",
              "      <th>unidade_medida</th>\n",
              "      <th>preco_medio_revenda</th>\n",
              "      <th>desvio_padrao_revenda</th>\n",
              "      <th>preco_min_revenda</th>\n",
              "      <th>preco_max_revenda</th>\n",
              "      <th>margem_media_revenda</th>\n",
              "      <th>coef_variacao_revenda</th>\n",
              "    </tr>\n",
              "  </thead>\n",
              "  <tbody>\n",
              "    <tr>\n",
              "      <th>0</th>\n",
              "      <td>2012-12-30</td>\n",
              "      <td>2013-01-05</td>\n",
              "      <td>CENTRO OESTE</td>\n",
              "      <td>DISTRITO FEDERAL</td>\n",
              "      <td>BRASILIA</td>\n",
              "      <td>ETANOL HIDRATADO</td>\n",
              "      <td>80</td>\n",
              "      <td>R$/l</td>\n",
              "      <td>2.273</td>\n",
              "      <td>0.023</td>\n",
              "      <td>2.19</td>\n",
              "      <td>2.299</td>\n",
              "      <td>0.405</td>\n",
              "      <td>0.010</td>\n",
              "    </tr>\n",
              "    <tr>\n",
              "      <th>1</th>\n",
              "      <td>2012-12-30</td>\n",
              "      <td>2013-01-05</td>\n",
              "      <td>CENTRO OESTE</td>\n",
              "      <td>GOIAS</td>\n",
              "      <td>AGUAS LINDAS DE GOIAS</td>\n",
              "      <td>ETANOL HIDRATADO</td>\n",
              "      <td>5</td>\n",
              "      <td>R$/l</td>\n",
              "      <td>2.134</td>\n",
              "      <td>0.043</td>\n",
              "      <td>2.09</td>\n",
              "      <td>2.190</td>\n",
              "      <td>0.268</td>\n",
              "      <td>0.020</td>\n",
              "    </tr>\n",
              "    <tr>\n",
              "      <th>2</th>\n",
              "      <td>2012-12-30</td>\n",
              "      <td>2013-01-05</td>\n",
              "      <td>CENTRO OESTE</td>\n",
              "      <td>GOIAS</td>\n",
              "      <td>ANAPOLIS</td>\n",
              "      <td>ETANOL HIDRATADO</td>\n",
              "      <td>16</td>\n",
              "      <td>R$/l</td>\n",
              "      <td>1.865</td>\n",
              "      <td>0.055</td>\n",
              "      <td>1.69</td>\n",
              "      <td>1.899</td>\n",
              "      <td>0.360</td>\n",
              "      <td>0.029</td>\n",
              "    </tr>\n",
              "    <tr>\n",
              "      <th>3</th>\n",
              "      <td>2012-12-30</td>\n",
              "      <td>2013-01-05</td>\n",
              "      <td>CENTRO OESTE</td>\n",
              "      <td>GOIAS</td>\n",
              "      <td>APARECIDA DE GOIANIA</td>\n",
              "      <td>ETANOL HIDRATADO</td>\n",
              "      <td>13</td>\n",
              "      <td>R$/l</td>\n",
              "      <td>1.771</td>\n",
              "      <td>0.023</td>\n",
              "      <td>1.73</td>\n",
              "      <td>1.790</td>\n",
              "      <td>0.206</td>\n",
              "      <td>0.013</td>\n",
              "    </tr>\n",
              "    <tr>\n",
              "      <th>4</th>\n",
              "      <td>2012-12-30</td>\n",
              "      <td>2013-01-05</td>\n",
              "      <td>CENTRO OESTE</td>\n",
              "      <td>GOIAS</td>\n",
              "      <td>CALDAS NOVAS</td>\n",
              "      <td>ETANOL HIDRATADO</td>\n",
              "      <td>12</td>\n",
              "      <td>R$/l</td>\n",
              "      <td>1.918</td>\n",
              "      <td>0.105</td>\n",
              "      <td>1.65</td>\n",
              "      <td>1.999</td>\n",
              "      <td>0.376</td>\n",
              "      <td>0.055</td>\n",
              "    </tr>\n",
              "  </tbody>\n",
              "</table>\n",
              "</div>\n",
              "      <button class=\"colab-df-convert\" onclick=\"convertToInteractive('df-c40fb55a-b163-40b3-99c7-58c12edc979c')\"\n",
              "              title=\"Convert this dataframe to an interactive table.\"\n",
              "              style=\"display:none;\">\n",
              "        \n",
              "  <svg xmlns=\"http://www.w3.org/2000/svg\" height=\"24px\"viewBox=\"0 0 24 24\"\n",
              "       width=\"24px\">\n",
              "    <path d=\"M0 0h24v24H0V0z\" fill=\"none\"/>\n",
              "    <path d=\"M18.56 5.44l.94 2.06.94-2.06 2.06-.94-2.06-.94-.94-2.06-.94 2.06-2.06.94zm-11 1L8.5 8.5l.94-2.06 2.06-.94-2.06-.94L8.5 2.5l-.94 2.06-2.06.94zm10 10l.94 2.06.94-2.06 2.06-.94-2.06-.94-.94-2.06-.94 2.06-2.06.94z\"/><path d=\"M17.41 7.96l-1.37-1.37c-.4-.4-.92-.59-1.43-.59-.52 0-1.04.2-1.43.59L10.3 9.45l-7.72 7.72c-.78.78-.78 2.05 0 2.83L4 21.41c.39.39.9.59 1.41.59.51 0 1.02-.2 1.41-.59l7.78-7.78 2.81-2.81c.8-.78.8-2.07 0-2.86zM5.41 20L4 18.59l7.72-7.72 1.47 1.35L5.41 20z\"/>\n",
              "  </svg>\n",
              "      </button>\n",
              "      \n",
              "  <style>\n",
              "    .colab-df-container {\n",
              "      display:flex;\n",
              "      flex-wrap:wrap;\n",
              "      gap: 12px;\n",
              "    }\n",
              "\n",
              "    .colab-df-convert {\n",
              "      background-color: #E8F0FE;\n",
              "      border: none;\n",
              "      border-radius: 50%;\n",
              "      cursor: pointer;\n",
              "      display: none;\n",
              "      fill: #1967D2;\n",
              "      height: 32px;\n",
              "      padding: 0 0 0 0;\n",
              "      width: 32px;\n",
              "    }\n",
              "\n",
              "    .colab-df-convert:hover {\n",
              "      background-color: #E2EBFA;\n",
              "      box-shadow: 0px 1px 2px rgba(60, 64, 67, 0.3), 0px 1px 3px 1px rgba(60, 64, 67, 0.15);\n",
              "      fill: #174EA6;\n",
              "    }\n",
              "\n",
              "    [theme=dark] .colab-df-convert {\n",
              "      background-color: #3B4455;\n",
              "      fill: #D2E3FC;\n",
              "    }\n",
              "\n",
              "    [theme=dark] .colab-df-convert:hover {\n",
              "      background-color: #434B5C;\n",
              "      box-shadow: 0px 1px 3px 1px rgba(0, 0, 0, 0.15);\n",
              "      filter: drop-shadow(0px 1px 2px rgba(0, 0, 0, 0.3));\n",
              "      fill: #FFFFFF;\n",
              "    }\n",
              "  </style>\n",
              "\n",
              "      <script>\n",
              "        const buttonEl =\n",
              "          document.querySelector('#df-c40fb55a-b163-40b3-99c7-58c12edc979c button.colab-df-convert');\n",
              "        buttonEl.style.display =\n",
              "          google.colab.kernel.accessAllowed ? 'block' : 'none';\n",
              "\n",
              "        async function convertToInteractive(key) {\n",
              "          const element = document.querySelector('#df-c40fb55a-b163-40b3-99c7-58c12edc979c');\n",
              "          const dataTable =\n",
              "            await google.colab.kernel.invokeFunction('convertToInteractive',\n",
              "                                                     [key], {});\n",
              "          if (!dataTable) return;\n",
              "\n",
              "          const docLinkHtml = 'Like what you see? Visit the ' +\n",
              "            '<a target=\"_blank\" href=https://colab.research.google.com/notebooks/data_table.ipynb>data table notebook</a>'\n",
              "            + ' to learn more about interactive tables.';\n",
              "          element.innerHTML = '';\n",
              "          dataTable['output_type'] = 'display_data';\n",
              "          await google.colab.output.renderOutput(dataTable, element);\n",
              "          const docLink = document.createElement('div');\n",
              "          docLink.innerHTML = docLinkHtml;\n",
              "          element.appendChild(docLink);\n",
              "        }\n",
              "      </script>\n",
              "    </div>\n",
              "  </div>\n",
              "  "
            ],
            "text/plain": [
              "  data_inicial data_final        regiao            estado  \\\n",
              "0   2012-12-30 2013-01-05  CENTRO OESTE  DISTRITO FEDERAL   \n",
              "1   2012-12-30 2013-01-05  CENTRO OESTE             GOIAS   \n",
              "2   2012-12-30 2013-01-05  CENTRO OESTE             GOIAS   \n",
              "3   2012-12-30 2013-01-05  CENTRO OESTE             GOIAS   \n",
              "4   2012-12-30 2013-01-05  CENTRO OESTE             GOIAS   \n",
              "\n",
              "               municipio           produto  num_postos_pesquisados  \\\n",
              "0               BRASILIA  ETANOL HIDRATADO                      80   \n",
              "1  AGUAS LINDAS DE GOIAS  ETANOL HIDRATADO                       5   \n",
              "2               ANAPOLIS  ETANOL HIDRATADO                      16   \n",
              "3   APARECIDA DE GOIANIA  ETANOL HIDRATADO                      13   \n",
              "4           CALDAS NOVAS  ETANOL HIDRATADO                      12   \n",
              "\n",
              "  unidade_medida  preco_medio_revenda  desvio_padrao_revenda  \\\n",
              "0           R$/l                2.273                  0.023   \n",
              "1           R$/l                2.134                  0.043   \n",
              "2           R$/l                1.865                  0.055   \n",
              "3           R$/l                1.771                  0.023   \n",
              "4           R$/l                1.918                  0.105   \n",
              "\n",
              "   preco_min_revenda  preco_max_revenda  margem_media_revenda  \\\n",
              "0               2.19              2.299                 0.405   \n",
              "1               2.09              2.190                 0.268   \n",
              "2               1.69              1.899                 0.360   \n",
              "3               1.73              1.790                 0.206   \n",
              "4               1.65              1.999                 0.376   \n",
              "\n",
              "   coef_variacao_revenda  \n",
              "0                  0.010  \n",
              "1                  0.020  \n",
              "2                  0.029  \n",
              "3                  0.013  \n",
              "4                  0.055  "
            ]
          },
          "execution_count": 84,
          "metadata": {},
          "output_type": "execute_result"
        }
      ],
      "source": [
        "df_bq.head()"
      ]
    },
    {
      "cell_type": "code",
      "execution_count": null,
      "metadata": {
        "id": "wypfuwh9MCI8"
      },
      "outputs": [],
      "source": [
        "# Chave de acesso ao BigQuery com as seguintes roles: Big Query User e Big Query Data Editor\n",
        "key_path= \"/content/chave_bigquery_JSON.json\"\n",
        "\n",
        "# Variável credentials\n",
        "credentials = service_account.Credentials.from_service_account_file(\n",
        "        key_path, scopes=[\"https://www.googleapis.com/auth/cloud-platform\"])\n",
        "\n",
        "pandas_gbq.context.credentials = credentials\n",
        "pandas_gbq.context.project = \"bc26-ed7-projeto-final\""
      ]
    },
    {
      "cell_type": "code",
      "execution_count": null,
      "metadata": {
        "colab": {
          "base_uri": "https://localhost:8080/"
        },
        "id": "RYsBbZLFMRaq",
        "outputId": "67cfaf11-fb81-4b7d-d614-af810644724a"
      },
      "outputs": [
        {
          "name": "stderr",
          "output_type": "stream",
          "text": [
            "100%|██████████| 1/1 [00:00<00:00, 1059.97it/s]\n"
          ]
        }
      ],
      "source": [
        "# Envio para BigQuerry (dataset = 'comercio-brasil / tabela = 'preco-combustiveis-2013-2022')\n",
        "\n",
        "pandas_gbq.to_gbq(df_bq, 'comercio_brasil.preco_combustiveis_2013_2022', project_id='bc26-ed7-projeto-final', if_exists='replace')\n",
        "\n",
        "# OK"
      ]
    },
    {
      "cell_type": "markdown",
      "metadata": {
        "id": "GAKCIzMo98c4"
      },
      "source": [
        "# Plotagens rápidas com Pandas"
      ]
    },
    {
      "cell_type": "markdown",
      "metadata": {
        "id": "HTalCALhBpn4"
      },
      "source": [
        "##Conversão do dataframe tratado para Pandas"
      ]
    },
    {
      "cell_type": "code",
      "execution_count": null,
      "metadata": {
        "id": "wB6_ArDk-CEv"
      },
      "outputs": [],
      "source": [
        "# Conversão do dataframe tratado para Pandas\n",
        "\n",
        "df_plot = dfs.toPandas()"
      ]
    },
    {
      "cell_type": "code",
      "execution_count": null,
      "metadata": {
        "id": "ud44IvnuAWFA"
      },
      "outputs": [],
      "source": [
        "# Visualizar tipos das colunas (após conversão)\n",
        "\n",
        "df_plot.dtypes"
      ]
    },
    {
      "cell_type": "code",
      "execution_count": null,
      "metadata": {
        "id": "tXjGelSY_aQf"
      },
      "outputs": [],
      "source": [
        "# Convertendo colunas para tipo datetime\n",
        "\n",
        "df_plot['data_inicial'] = pd.to_datetime(df_plot['data_inicial'])\n",
        "\n",
        "df_plot['data_final'] = pd.to_datetime(df_plot['data_final'])"
      ]
    },
    {
      "cell_type": "markdown",
      "metadata": {
        "id": "t15R7XxZBtSb"
      },
      "source": [
        "##Visualização dos dados"
      ]
    },
    {
      "cell_type": "code",
      "execution_count": null,
      "metadata": {
        "colab": {
          "base_uri": "https://localhost:8080/",
          "height": 406
        },
        "id": "uRUuxkIkBb9o",
        "outputId": "bce80c3f-f0b9-4741-b6b3-fc905108696f"
      },
      "outputs": [
        {
          "data": {
            "text/plain": [
              "<matplotlib.axes._subplots.AxesSubplot at 0x7f3cecf29b80>"
            ]
          },
          "execution_count": 54,
          "metadata": {},
          "output_type": "execute_result"
        },
        {
          "data": {
            "image/png": "[encoded data removed]",
            "text/plain": [
              "<Figure size 1008x432 with 1 Axes>"
            ]
          },
          "metadata": {
            "needs_background": "light"
          },
          "output_type": "display_data"
        }
      ],
      "source": [
        "#Tendência na variação do preço médio da gasolina comum no Brasil\n",
        "#Dados serão melhor explorados no Looker Studio\n",
        "\n",
        "filtro_gasolina = df_plot.produto == 'GASOLINA COMUM'\n",
        "df_gasol = df_plot.loc[filtro_gasolina]\n",
        "\n",
        "df_gasol.plot.scatter(x ='data_final', y = 'preco_medio_revenda', c = 'DarkBlue', xlabel = 'Ano', ylabel = 'Preço médio', figsize = (14,6))"
      ]
    },
    {
      "cell_type": "code",
      "execution_count": null,
      "metadata": {
        "colab": {
          "base_uri": "https://localhost:8080/",
          "height": 406
        },
        "id": "10eDAzs9IL5c",
        "outputId": "c4256604-f187-4546-975c-efd9aa712f76"
      },
      "outputs": [
        {
          "data": {
            "text/plain": [
              "<matplotlib.axes._subplots.AxesSubplot at 0x7f3cecdcfee0>"
            ]
          },
          "execution_count": 57,
          "metadata": {},
          "output_type": "execute_result"
        },
        {
          "data": {
            "image/png": "[encoded data removed]",
            "text/plain": [
              "<Figure size 1008x432 with 1 Axes>"
            ]
          },
          "metadata": {
            "needs_background": "light"
          },
          "output_type": "display_data"
        }
      ],
      "source": [
        "# Percebeu-se um gap de dados no dataframe no terceiro semestre de 2020\n",
        "\n",
        "filtro_ano = df_plot.data_final.dt.year == 2020\n",
        "\n",
        "df_gasol_ano = df_plot.loc[filtro_ano & filtro_gasolina]\n",
        "\n",
        "df_gasol_ano.plot.scatter(x ='data_final', y = 'preco_medio_revenda', c = 'DarkBlue', xlabel = 'Mês', ylabel = 'Preço médio', figsize = (14,6))"
      ]
    },
    {
      "cell_type": "code",
      "execution_count": null,
      "metadata": {
        "colab": {
          "base_uri": "https://localhost:8080/",
          "height": 406
        },
        "id": "k8xQA08fEc3G",
        "outputId": "f0f0125c-f377-4613-c615-c806b03bfdb2"
      },
      "outputs": [
        {
          "data": {
            "text/plain": [
              "<matplotlib.axes._subplots.AxesSubplot at 0x7f3d59c639a0>"
            ]
          },
          "execution_count": 17,
          "metadata": {},
          "output_type": "execute_result"
        },
        {
          "data": {
            "image/png": "[encoded data removed]",
            "text/plain": [
              "<Figure size 648x432 with 1 Axes>"
            ]
          },
          "metadata": {
            "needs_background": "light"
          },
          "output_type": "display_data"
        }
      ],
      "source": [
        "# Preço médio da gasolina comum no Brasil no ano de 2022\n",
        "\n",
        "filtro_2022 = df_plot.data_final.dt.year == 2022\n",
        "\n",
        "df_gasol_2022 = df_plot.loc[filtro_2022 & filtro_gasolina]\n",
        "\n",
        "df_gasol_2022.groupby(df_gasol_2022.data_final.dt.month)['preco_medio_revenda'].mean().plot.line(xlabel = 'Mês', ylabel = 'Preço médio',figsize = (9,6))"
      ]
    },
    {
      "cell_type": "code",
      "execution_count": null,
      "metadata": {
        "colab": {
          "base_uri": "https://localhost:8080/",
          "height": 623
        },
        "id": "krL2PlwgE7X2",
        "outputId": "10a180e5-87cb-46e2-f9be-6917a097ab2e"
      },
      "outputs": [
        {
          "data": {
            "text/plain": [
              "<matplotlib.axes._subplots.AxesSubplot at 0x7f3d42694be0>"
            ]
          },
          "execution_count": 18,
          "metadata": {},
          "output_type": "execute_result"
        },
        {
          "data": {
            "image/png": "[encoded data removed]",
            "text/plain": [
              "<Figure size 1008x576 with 1 Axes>"
            ]
          },
          "metadata": {
            "needs_background": "light"
          },
          "output_type": "display_data"
        }
      ],
      "source": [
        "# Quantidade de municípios consultados por estado (de 2013 a 2022)\n",
        "\n",
        "df_plot.groupby(['estado']).size().sort_values(ascending = False).plot.bar(xlabel = 'Estado', ylabel = 'Consultas', figsize = (14,8))"
      ]
    }
  ],
  "metadata": {
    "colab": {
      "include_colab_link": true,
      "provenance": [],
      "toc_visible": true
    },
    "kernelspec": {
      "display_name": "Python 3",
      "language": "python",
      "name": "python3"
    },
    "language_info": {
      "name": "python",
      "version": "3.11.0 (main, Oct 24 2022, 18:26:48) [MSC v.1933 64 bit (AMD64)]"
    },
    "vscode": {
      "interpreter": {
        "hash": "e0460f6db6993a86a65738508dba0aca00af9523ba4143ef22f5162384401bb1"
      }
    }
  },
  "nbformat": 4,
  "nbformat_minor": 0
}
